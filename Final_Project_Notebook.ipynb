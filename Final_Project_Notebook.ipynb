{
 "cells": [
  {
   "cell_type": "markdown",
   "metadata": {},
   "source": [
    "**Exploratory Text Analytics**\n",
    "\n",
    "**Final Project**\n",
    "\n",
    "**Marin Lolic (ejz2sg)**"
   ]
  },
  {
   "cell_type": "code",
   "execution_count": 174,
   "metadata": {},
   "outputs": [
    {
     "name": "stderr",
     "output_type": "stream",
     "text": [
      "[nltk_data] Downloading package stopwords to /home/ejz2sg/nltk_data...\n",
      "[nltk_data]   Package stopwords is already up-to-date!\n",
      "[nltk_data] Downloading package averaged_perceptron_tagger to\n",
      "[nltk_data]     /home/ejz2sg/nltk_data...\n",
      "[nltk_data]   Package averaged_perceptron_tagger is already up-to-\n",
      "[nltk_data]       date!\n"
     ]
    }
   ],
   "source": [
    "import os\n",
    "import numpy as np\n",
    "import pandas as pd\n",
    "import nltk\n",
    "nltk.download('stopwords')\n",
    "nltk.download('averaged_perceptron_tagger')\n",
    "from nltk.stem.porter import PorterStemmer\n",
    "\n",
    "from numpy.linalg import norm\n",
    "from scipy.spatial.distance import pdist\n",
    "\n",
    "import scipy.cluster.hierarchy as sch\n",
    "import matplotlib.pyplot as plt\n",
    "from sklearn.cluster import KMeans\n",
    "\n",
    "import seaborn as sns\n",
    "sns.set(style=\"ticks\")\n",
    "\n",
    "import plotly_express as px\n",
    "\n",
    "from scipy.linalg import eigh as eig\n",
    "\n",
    "from tqdm import tqdm\n",
    "import re\n",
    "\n",
    "from gensim.models import word2vec\n",
    "from sklearn.manifold import TSNE\n",
    "\n",
    "import warnings\n",
    "warnings.filterwarnings(\"ignore\")"
   ]
  },
  {
   "cell_type": "markdown",
   "metadata": {},
   "source": [
    "------------------------------------------------------------------------------------------------------\n",
    "*Importing Files*\n",
    "\n",
    "------------------------------------------------------------------------------------------------------"
   ]
  },
  {
   "cell_type": "code",
   "execution_count": 4,
   "metadata": {},
   "outputs": [],
   "source": [
    "os.chdir('/sfs/qumulo/qhome/ejz2sg/ds5110/ETA/Project')\n",
    "epub_file = \"Shakespeare.txt\"\n",
    "epub = open(epub_file, 'r', encoding='utf-8-sig').readlines()\n",
    "shakespeare = pd.DataFrame(epub, columns=['line_str'])"
   ]
  },
  {
   "cell_type": "code",
   "execution_count": 5,
   "metadata": {},
   "outputs": [],
   "source": [
    "sonnets = shakespeare[84:2852]\n",
    "sonnets.columns = ['line_str']\n",
    "sonnets.index.name = 'line_num'"
   ]
  },
  {
   "cell_type": "code",
   "execution_count": 6,
   "metadata": {},
   "outputs": [
    {
     "data": {
      "text/html": [
       "<div>\n",
       "<style scoped>\n",
       "    .dataframe tbody tr th:only-of-type {\n",
       "        vertical-align: middle;\n",
       "    }\n",
       "\n",
       "    .dataframe tbody tr th {\n",
       "        vertical-align: top;\n",
       "    }\n",
       "\n",
       "    .dataframe thead th {\n",
       "        text-align: right;\n",
       "    }\n",
       "</style>\n",
       "<table border=\"1\" class=\"dataframe\">\n",
       "  <thead>\n",
       "    <tr style=\"text-align: right;\">\n",
       "      <th></th>\n",
       "      <th>line_str</th>\n",
       "    </tr>\n",
       "    <tr>\n",
       "      <th>line_num</th>\n",
       "      <th></th>\n",
       "    </tr>\n",
       "  </thead>\n",
       "  <tbody>\n",
       "    <tr>\n",
       "      <th>84</th>\n",
       "      <td>1\\n</td>\n",
       "    </tr>\n",
       "    <tr>\n",
       "      <th>85</th>\n",
       "      <td>\\n</td>\n",
       "    </tr>\n",
       "    <tr>\n",
       "      <th>86</th>\n",
       "      <td>From fairest creatures we desire increase,\\n</td>\n",
       "    </tr>\n",
       "    <tr>\n",
       "      <th>87</th>\n",
       "      <td>That thereby beauty’s rose might never die,\\n</td>\n",
       "    </tr>\n",
       "    <tr>\n",
       "      <th>88</th>\n",
       "      <td>But as the riper should by time decease,\\n</td>\n",
       "    </tr>\n",
       "    <tr>\n",
       "      <th>89</th>\n",
       "      <td>His tender heir might bear his memory:\\n</td>\n",
       "    </tr>\n",
       "    <tr>\n",
       "      <th>90</th>\n",
       "      <td>But thou contracted to thine own bright eyes,\\n</td>\n",
       "    </tr>\n",
       "    <tr>\n",
       "      <th>91</th>\n",
       "      <td>Feed’st thy light’s flame with self-substantia...</td>\n",
       "    </tr>\n",
       "    <tr>\n",
       "      <th>92</th>\n",
       "      <td>Making a famine where abundance lies,\\n</td>\n",
       "    </tr>\n",
       "    <tr>\n",
       "      <th>93</th>\n",
       "      <td>Thyself thy foe, to thy sweet self too cruel:\\n</td>\n",
       "    </tr>\n",
       "  </tbody>\n",
       "</table>\n",
       "</div>"
      ],
      "text/plain": [
       "                                                   line_str\n",
       "line_num                                                   \n",
       "84                                                      1\\n\n",
       "85                                                       \\n\n",
       "86             From fairest creatures we desire increase,\\n\n",
       "87            That thereby beauty’s rose might never die,\\n\n",
       "88               But as the riper should by time decease,\\n\n",
       "89                 His tender heir might bear his memory:\\n\n",
       "90          But thou contracted to thine own bright eyes,\\n\n",
       "91        Feed’st thy light’s flame with self-substantia...\n",
       "92                  Making a famine where abundance lies,\\n\n",
       "93          Thyself thy foe, to thy sweet self too cruel:\\n"
      ]
     },
     "execution_count": 6,
     "metadata": {},
     "output_type": "execute_result"
    }
   ],
   "source": [
    "sonnets.head(10)"
   ]
  },
  {
   "cell_type": "code",
   "execution_count": 7,
   "metadata": {},
   "outputs": [],
   "source": [
    "libdata = {'book_id': [1],\n",
    "        'book_title': ['The Sonnets'],\n",
    "       'book_file': ['Shakespeare.txt'],\n",
    "       'author': ['Shakespeare'],\n",
    "       'title': ['Sonnets']}\n",
    "\n",
    "LIB = pd.DataFrame(libdata)"
   ]
  },
  {
   "cell_type": "code",
   "execution_count": 8,
   "metadata": {},
   "outputs": [
    {
     "data": {
      "text/html": [
       "<div>\n",
       "<style scoped>\n",
       "    .dataframe tbody tr th:only-of-type {\n",
       "        vertical-align: middle;\n",
       "    }\n",
       "\n",
       "    .dataframe tbody tr th {\n",
       "        vertical-align: top;\n",
       "    }\n",
       "\n",
       "    .dataframe thead th {\n",
       "        text-align: right;\n",
       "    }\n",
       "</style>\n",
       "<table border=\"1\" class=\"dataframe\">\n",
       "  <thead>\n",
       "    <tr style=\"text-align: right;\">\n",
       "      <th></th>\n",
       "      <th>book_id</th>\n",
       "      <th>book_title</th>\n",
       "      <th>book_file</th>\n",
       "      <th>author</th>\n",
       "      <th>title</th>\n",
       "    </tr>\n",
       "  </thead>\n",
       "  <tbody>\n",
       "    <tr>\n",
       "      <th>0</th>\n",
       "      <td>1</td>\n",
       "      <td>The Sonnets</td>\n",
       "      <td>Shakespeare.txt</td>\n",
       "      <td>Shakespeare</td>\n",
       "      <td>Sonnets</td>\n",
       "    </tr>\n",
       "  </tbody>\n",
       "</table>\n",
       "</div>"
      ],
      "text/plain": [
       "   book_id   book_title        book_file       author    title\n",
       "0        1  The Sonnets  Shakespeare.txt  Shakespeare  Sonnets"
      ]
     },
     "execution_count": 8,
     "metadata": {},
     "output_type": "execute_result"
    }
   ],
   "source": [
    "LIB"
   ]
  },
  {
   "cell_type": "markdown",
   "metadata": {},
   "source": [
    "------------------------------------------------------------------------------------------------------\n",
    "*Cleaning and Preprocessing Data*\n",
    "\n",
    "------------------------------------------------------------------------------------------------------"
   ]
  },
  {
   "cell_type": "code",
   "execution_count": 9,
   "metadata": {},
   "outputs": [],
   "source": [
    "OHCO = ['poem_num', 'line_num', 'token_num']"
   ]
  },
  {
   "cell_type": "code",
   "execution_count": 10,
   "metadata": {},
   "outputs": [],
   "source": [
    "sonnets['title'] = LIB.book_title[0]"
   ]
  },
  {
   "cell_type": "code",
   "execution_count": 11,
   "metadata": {},
   "outputs": [],
   "source": [
    "sonnets['line_str'] = sonnets['line_str'].str.rstrip('\\n')"
   ]
  },
  {
   "cell_type": "code",
   "execution_count": 12,
   "metadata": {},
   "outputs": [],
   "source": [
    "sonnets['line_str'] = sonnets['line_str'].str.strip()"
   ]
  },
  {
   "cell_type": "code",
   "execution_count": 13,
   "metadata": {},
   "outputs": [],
   "source": [
    "breaks = list(range(1, 155))\n",
    "breaks_str = list(map(str, breaks))"
   ]
  },
  {
   "cell_type": "code",
   "execution_count": 14,
   "metadata": {},
   "outputs": [],
   "source": [
    "line_start = []\n",
    "\n",
    "for i in range(0, 154):\n",
    "    a = sonnets[sonnets['line_str'] == breaks_str[i]].index[0]\n",
    "    line_start.append(a)"
   ]
  },
  {
   "cell_type": "code",
   "execution_count": 15,
   "metadata": {},
   "outputs": [],
   "source": [
    "line_end = line_start.copy()\n",
    "del line_end[0]\n",
    "line_end = [x - 1 for x in line_end]\n",
    "line_end.append(sonnets.last_valid_index())"
   ]
  },
  {
   "cell_type": "code",
   "execution_count": 16,
   "metadata": {},
   "outputs": [],
   "source": [
    "sonnets_p = sonnets.drop('title', axis=1)"
   ]
  },
  {
   "cell_type": "code",
   "execution_count": 17,
   "metadata": {},
   "outputs": [],
   "source": [
    "sonnets_p['line_str'] = sonnets_p['line_str'].str.replace(',', '')\n",
    "sonnets_p['line_str'] = sonnets_p['line_str'].str.replace(':', '')\n",
    "sonnets_p['line_str'] = sonnets_p['line_str'].str.replace(';', '')\n",
    "sonnets_p['line_str'] = sonnets_p['line_str'].str.replace('.', '')"
   ]
  },
  {
   "cell_type": "code",
   "execution_count": 18,
   "metadata": {},
   "outputs": [],
   "source": [
    "lookup = pd.DataFrame({'start': line_start, 'end': line_end, 'poem': breaks})"
   ]
  },
  {
   "cell_type": "code",
   "execution_count": 19,
   "metadata": {},
   "outputs": [],
   "source": [
    "poems_l = []\n",
    "\n",
    "for i in range(0, len(sonnets_p)):\n",
    "    target = sonnets_p.index[i]\n",
    "    answ = lookup[lookup['end'].ge(target)].index[0]+1\n",
    "    poems_l.append(answ)"
   ]
  },
  {
   "cell_type": "code",
   "execution_count": 20,
   "metadata": {},
   "outputs": [],
   "source": [
    "sonnets_p = pd.DataFrame({OHCO[0]: poems_l, OHCO[1]: list(sonnets_p.index),\n",
    "                          'line_str': sonnets_p['line_str']})\n",
    "\n",
    "sonnets_p = sonnets_p.set_index(['poem_num', 'line_num'])"
   ]
  },
  {
   "cell_type": "code",
   "execution_count": 21,
   "metadata": {},
   "outputs": [],
   "source": [
    "sonnets_p['line_str'].replace('', np.nan, inplace=True)\n",
    "sonnets_p.dropna(subset=['line_str'], inplace=True)"
   ]
  },
  {
   "cell_type": "code",
   "execution_count": 22,
   "metadata": {},
   "outputs": [],
   "source": [
    "sonnets_t = sonnets_p['line_str'].str.split(r\"[\\s',-]+\", expand=True).stack()\\\n",
    "    .to_frame().rename(columns={0:'token_str'})"
   ]
  },
  {
   "cell_type": "code",
   "execution_count": 23,
   "metadata": {},
   "outputs": [],
   "source": [
    "sonnets_t.index.names = OHCO[0:3]\n",
    "sonnets_t.reset_index(inplace = True, level = 'token_num')\n",
    "sonnets_t['token_num'] = list(range(0, len(sonnets_t)))\n",
    "sonnets_t.reset_index(inplace = True)\n",
    "sonnets_t = sonnets_t.set_index(OHCO[0:3])"
   ]
  },
  {
   "cell_type": "code",
   "execution_count": 24,
   "metadata": {},
   "outputs": [],
   "source": [
    "sonnets_t['pos_tup'] = nltk.pos_tag(sonnets_t['token_str'])\n",
    "sonnets_t['pos'] = sonnets_t.pos_tup.apply(lambda x: x[1])"
   ]
  },
  {
   "cell_type": "code",
   "execution_count": 25,
   "metadata": {},
   "outputs": [],
   "source": [
    "TOKEN = sonnets_t.copy()"
   ]
  },
  {
   "cell_type": "code",
   "execution_count": 26,
   "metadata": {},
   "outputs": [],
   "source": [
    "TOKEN['term_str'] = TOKEN['token_str'].str.lower().str.replace('[\\W_]', '')"
   ]
  },
  {
   "cell_type": "code",
   "execution_count": 27,
   "metadata": {},
   "outputs": [],
   "source": [
    "VOCAB = TOKEN.term_str.value_counts().to_frame().rename(columns={'index':'term_str', 'term_str':'n'})\\\n",
    "    .sort_index().reset_index().rename(columns={'index':'term_str'})\n",
    "VOCAB.index.name = 'term_id'\n",
    "VOCAB['num'] = VOCAB.term_str.str.match(\"\\d+\").astype('int')"
   ]
  },
  {
   "cell_type": "code",
   "execution_count": 28,
   "metadata": {},
   "outputs": [],
   "source": [
    "TOKEN['term_id'] = TOKEN.term_str.map(VOCAB.reset_index().set_index('term_str').term_id)"
   ]
  },
  {
   "cell_type": "code",
   "execution_count": 29,
   "metadata": {},
   "outputs": [
    {
     "data": {
      "text/html": [
       "<div>\n",
       "<style scoped>\n",
       "    .dataframe tbody tr th:only-of-type {\n",
       "        vertical-align: middle;\n",
       "    }\n",
       "\n",
       "    .dataframe tbody tr th {\n",
       "        vertical-align: top;\n",
       "    }\n",
       "\n",
       "    .dataframe thead th {\n",
       "        text-align: right;\n",
       "    }\n",
       "</style>\n",
       "<table border=\"1\" class=\"dataframe\">\n",
       "  <thead>\n",
       "    <tr style=\"text-align: right;\">\n",
       "      <th></th>\n",
       "      <th></th>\n",
       "      <th></th>\n",
       "      <th>token_str</th>\n",
       "      <th>pos_tup</th>\n",
       "      <th>pos</th>\n",
       "      <th>term_str</th>\n",
       "      <th>term_id</th>\n",
       "    </tr>\n",
       "    <tr>\n",
       "      <th>poem_num</th>\n",
       "      <th>line_num</th>\n",
       "      <th>token_num</th>\n",
       "      <th></th>\n",
       "      <th></th>\n",
       "      <th></th>\n",
       "      <th></th>\n",
       "      <th></th>\n",
       "    </tr>\n",
       "  </thead>\n",
       "  <tbody>\n",
       "    <tr>\n",
       "      <th rowspan=\"5\" valign=\"top\">1</th>\n",
       "      <th>84</th>\n",
       "      <th>0</th>\n",
       "      <td>1</td>\n",
       "      <td>(1, CD)</td>\n",
       "      <td>CD</td>\n",
       "      <td>1</td>\n",
       "      <td>0</td>\n",
       "    </tr>\n",
       "    <tr>\n",
       "      <th rowspan=\"4\" valign=\"top\">86</th>\n",
       "      <th>1</th>\n",
       "      <td>From</td>\n",
       "      <td>(From, IN)</td>\n",
       "      <td>IN</td>\n",
       "      <td>from</td>\n",
       "      <td>1244</td>\n",
       "    </tr>\n",
       "    <tr>\n",
       "      <th>2</th>\n",
       "      <td>fairest</td>\n",
       "      <td>(fairest, JJ)</td>\n",
       "      <td>JJ</td>\n",
       "      <td>fairest</td>\n",
       "      <td>1071</td>\n",
       "    </tr>\n",
       "    <tr>\n",
       "      <th>3</th>\n",
       "      <td>creatures</td>\n",
       "      <td>(creatures, NNS)</td>\n",
       "      <td>NNS</td>\n",
       "      <td>creatures</td>\n",
       "      <td>716</td>\n",
       "    </tr>\n",
       "    <tr>\n",
       "      <th>4</th>\n",
       "      <td>we</td>\n",
       "      <td>(we, PRP)</td>\n",
       "      <td>PRP</td>\n",
       "      <td>we</td>\n",
       "      <td>3116</td>\n",
       "    </tr>\n",
       "    <tr>\n",
       "      <th>...</th>\n",
       "      <th>...</th>\n",
       "      <th>...</th>\n",
       "      <td>...</td>\n",
       "      <td>...</td>\n",
       "      <td>...</td>\n",
       "      <td>...</td>\n",
       "      <td>...</td>\n",
       "    </tr>\n",
       "    <tr>\n",
       "      <th rowspan=\"5\" valign=\"top\">154</th>\n",
       "      <th rowspan=\"5\" valign=\"top\">2851</th>\n",
       "      <th>17770</th>\n",
       "      <td>this</td>\n",
       "      <td>(this, DT)</td>\n",
       "      <td>DT</td>\n",
       "      <td>this</td>\n",
       "      <td>2848</td>\n",
       "    </tr>\n",
       "    <tr>\n",
       "      <th>17771</th>\n",
       "      <td>by</td>\n",
       "      <td>(by, IN)</td>\n",
       "      <td>IN</td>\n",
       "      <td>by</td>\n",
       "      <td>535</td>\n",
       "    </tr>\n",
       "    <tr>\n",
       "      <th>17772</th>\n",
       "      <td>that</td>\n",
       "      <td>(that, DT)</td>\n",
       "      <td>DT</td>\n",
       "      <td>that</td>\n",
       "      <td>2818</td>\n",
       "    </tr>\n",
       "    <tr>\n",
       "      <th>17773</th>\n",
       "      <td>I</td>\n",
       "      <td>(I, PRP)</td>\n",
       "      <td>PRP</td>\n",
       "      <td>i</td>\n",
       "      <td>1499</td>\n",
       "    </tr>\n",
       "    <tr>\n",
       "      <th>17774</th>\n",
       "      <td>prove</td>\n",
       "      <td>(prove, VBP)</td>\n",
       "      <td>VBP</td>\n",
       "      <td>prove</td>\n",
       "      <td>2199</td>\n",
       "    </tr>\n",
       "  </tbody>\n",
       "</table>\n",
       "<p>17775 rows × 5 columns</p>\n",
       "</div>"
      ],
      "text/plain": [
       "                             token_str           pos_tup  pos   term_str  \\\n",
       "poem_num line_num token_num                                                \n",
       "1        84       0                  1           (1, CD)   CD          1   \n",
       "         86       1               From        (From, IN)   IN       from   \n",
       "                  2            fairest     (fairest, JJ)   JJ    fairest   \n",
       "                  3          creatures  (creatures, NNS)  NNS  creatures   \n",
       "                  4                 we         (we, PRP)  PRP         we   \n",
       "...                                ...               ...  ...        ...   \n",
       "154      2851     17770           this        (this, DT)   DT       this   \n",
       "                  17771             by          (by, IN)   IN         by   \n",
       "                  17772           that        (that, DT)   DT       that   \n",
       "                  17773              I          (I, PRP)  PRP          i   \n",
       "                  17774          prove      (prove, VBP)  VBP      prove   \n",
       "\n",
       "                             term_id  \n",
       "poem_num line_num token_num           \n",
       "1        84       0                0  \n",
       "         86       1             1244  \n",
       "                  2             1071  \n",
       "                  3              716  \n",
       "                  4             3116  \n",
       "...                              ...  \n",
       "154      2851     17770         2848  \n",
       "                  17771          535  \n",
       "                  17772         2818  \n",
       "                  17773         1499  \n",
       "                  17774         2199  \n",
       "\n",
       "[17775 rows x 5 columns]"
      ]
     },
     "execution_count": 29,
     "metadata": {},
     "output_type": "execute_result"
    }
   ],
   "source": [
    "TOKEN"
   ]
  },
  {
   "cell_type": "code",
   "execution_count": 30,
   "metadata": {},
   "outputs": [],
   "source": [
    "sw = pd.DataFrame(nltk.corpus.stopwords.words('english'), columns=['term_str'])\n",
    "sw = sw.reset_index().set_index('term_str')\n",
    "sw.columns = ['dummy']\n",
    "sw.dummy = 1"
   ]
  },
  {
   "cell_type": "code",
   "execution_count": 31,
   "metadata": {},
   "outputs": [],
   "source": [
    "VOCAB['stop'] = VOCAB.term_str.map(sw.dummy)\n",
    "VOCAB['stop'] = VOCAB['stop'].fillna(0).astype('int')"
   ]
  },
  {
   "cell_type": "code",
   "execution_count": 32,
   "metadata": {},
   "outputs": [],
   "source": [
    "stemmer = PorterStemmer()\n",
    "VOCAB['p_stem'] = VOCAB.term_str.apply(stemmer.stem)"
   ]
  },
  {
   "cell_type": "code",
   "execution_count": 33,
   "metadata": {},
   "outputs": [],
   "source": [
    "if 'term_rank' not in VOCAB.columns:\n",
    "    VOCAB = VOCAB.sort_values('n', ascending=False).reset_index()\n",
    "    VOCAB.index.name = 'term_rank'\n",
    "    VOCAB = VOCAB.reset_index()\n",
    "    VOCAB = VOCAB.set_index('term_id')\n",
    "    VOCAB['term_rank'] = VOCAB['term_rank'] + 1"
   ]
  },
  {
   "cell_type": "code",
   "execution_count": 34,
   "metadata": {},
   "outputs": [],
   "source": [
    "bag = OHCO[:1]"
   ]
  },
  {
   "cell_type": "code",
   "execution_count": 35,
   "metadata": {},
   "outputs": [],
   "source": [
    "BOW = TOKEN.groupby(bag+['term_id']).term_id.count()\\\n",
    "    .to_frame().rename(columns={'term_id':'n'})\n",
    "\n",
    "BOW['c'] = BOW.n.astype('bool').astype('int')"
   ]
  },
  {
   "cell_type": "code",
   "execution_count": 36,
   "metadata": {},
   "outputs": [],
   "source": [
    "count_method = 'n'"
   ]
  },
  {
   "cell_type": "code",
   "execution_count": 37,
   "metadata": {},
   "outputs": [],
   "source": [
    "DTCM = BOW[count_method].unstack().fillna(0).astype('int')"
   ]
  },
  {
   "cell_type": "code",
   "execution_count": 38,
   "metadata": {},
   "outputs": [],
   "source": [
    "tf_method = 'sum' \n",
    "tf_norm_k = .5 \n",
    "\n",
    "if tf_method == 'sum':\n",
    "    TF = DTCM.T / DTCM.T.sum()\n",
    "elif tf_method == 'max':\n",
    "    TF = DTCM.T / DTCM.T.max()\n",
    "elif tf_method == 'log':\n",
    "    TF = np.log10(1 + DTCM.T)\n",
    "elif tf_method == 'raw':\n",
    "    TF = DTCM.T\n",
    "elif tf_method == 'double_norm':\n",
    "    TF = DTCM.T / DTCM.T.max()\n",
    "    TF = tf_norm_k + (1 - tf_norm_k) * TF[TF > 0]\n",
    "elif tf_method == 'binary':\n",
    "    TF = DTCM.T.astype('bool').astype('int')\n",
    "TF = TF.T"
   ]
  },
  {
   "cell_type": "code",
   "execution_count": 39,
   "metadata": {},
   "outputs": [],
   "source": [
    "DF = DTCM[DTCM > 0].count()"
   ]
  },
  {
   "cell_type": "code",
   "execution_count": 40,
   "metadata": {},
   "outputs": [],
   "source": [
    "N = DTCM.shape[0]\n",
    "\n",
    "idf_method = 'standard'\n",
    "\n",
    "if idf_method == 'standard':\n",
    "    IDF = np.log10(N / DF)\n",
    "elif idf_method == 'max':\n",
    "    IDF = np.log10(DF.max() / DF)\n",
    "elif idf_method == 'smooth':\n",
    "    IDF = np.log10((1 + N) / (1 + DF)) + 1"
   ]
  },
  {
   "cell_type": "code",
   "execution_count": 41,
   "metadata": {},
   "outputs": [],
   "source": [
    "TFIDF = TF * IDF"
   ]
  },
  {
   "cell_type": "code",
   "execution_count": 42,
   "metadata": {},
   "outputs": [
    {
     "data": {
      "text/html": [
       "<div>\n",
       "<style scoped>\n",
       "    .dataframe tbody tr th:only-of-type {\n",
       "        vertical-align: middle;\n",
       "    }\n",
       "\n",
       "    .dataframe tbody tr th {\n",
       "        vertical-align: top;\n",
       "    }\n",
       "\n",
       "    .dataframe thead th {\n",
       "        text-align: right;\n",
       "    }\n",
       "</style>\n",
       "<table border=\"1\" class=\"dataframe\">\n",
       "  <thead>\n",
       "    <tr style=\"text-align: right;\">\n",
       "      <th>term_id</th>\n",
       "      <th>0</th>\n",
       "      <th>1</th>\n",
       "      <th>2</th>\n",
       "      <th>3</th>\n",
       "      <th>4</th>\n",
       "      <th>5</th>\n",
       "      <th>6</th>\n",
       "      <th>7</th>\n",
       "      <th>8</th>\n",
       "      <th>9</th>\n",
       "      <th>...</th>\n",
       "      <th>3281</th>\n",
       "      <th>3282</th>\n",
       "      <th>3283</th>\n",
       "      <th>3284</th>\n",
       "      <th>3285</th>\n",
       "      <th>3286</th>\n",
       "      <th>3287</th>\n",
       "      <th>3288</th>\n",
       "      <th>3289</th>\n",
       "      <th>3290</th>\n",
       "    </tr>\n",
       "    <tr>\n",
       "      <th>poem_num</th>\n",
       "      <th></th>\n",
       "      <th></th>\n",
       "      <th></th>\n",
       "      <th></th>\n",
       "      <th></th>\n",
       "      <th></th>\n",
       "      <th></th>\n",
       "      <th></th>\n",
       "      <th></th>\n",
       "      <th></th>\n",
       "      <th></th>\n",
       "      <th></th>\n",
       "      <th></th>\n",
       "      <th></th>\n",
       "      <th></th>\n",
       "      <th></th>\n",
       "      <th></th>\n",
       "      <th></th>\n",
       "      <th></th>\n",
       "      <th></th>\n",
       "      <th></th>\n",
       "    </tr>\n",
       "  </thead>\n",
       "  <tbody>\n",
       "    <tr>\n",
       "      <th>1</th>\n",
       "      <td>0.020444</td>\n",
       "      <td>0.0</td>\n",
       "      <td>0.0</td>\n",
       "      <td>0.0</td>\n",
       "      <td>0.0</td>\n",
       "      <td>0.0</td>\n",
       "      <td>0.0</td>\n",
       "      <td>0.0</td>\n",
       "      <td>0.0</td>\n",
       "      <td>0.0</td>\n",
       "      <td>...</td>\n",
       "      <td>0.0</td>\n",
       "      <td>0.0</td>\n",
       "      <td>0.0</td>\n",
       "      <td>0.0</td>\n",
       "      <td>0.0</td>\n",
       "      <td>0.0</td>\n",
       "      <td>0.0</td>\n",
       "      <td>0.0</td>\n",
       "      <td>0.000000</td>\n",
       "      <td>0.0</td>\n",
       "    </tr>\n",
       "    <tr>\n",
       "      <th>2</th>\n",
       "      <td>0.000000</td>\n",
       "      <td>0.0</td>\n",
       "      <td>0.0</td>\n",
       "      <td>0.0</td>\n",
       "      <td>0.0</td>\n",
       "      <td>0.0</td>\n",
       "      <td>0.0</td>\n",
       "      <td>0.0</td>\n",
       "      <td>0.0</td>\n",
       "      <td>0.0</td>\n",
       "      <td>...</td>\n",
       "      <td>0.0</td>\n",
       "      <td>0.0</td>\n",
       "      <td>0.0</td>\n",
       "      <td>0.0</td>\n",
       "      <td>0.0</td>\n",
       "      <td>0.0</td>\n",
       "      <td>0.0</td>\n",
       "      <td>0.0</td>\n",
       "      <td>0.018697</td>\n",
       "      <td>0.0</td>\n",
       "    </tr>\n",
       "    <tr>\n",
       "      <th>3</th>\n",
       "      <td>0.000000</td>\n",
       "      <td>0.0</td>\n",
       "      <td>0.0</td>\n",
       "      <td>0.0</td>\n",
       "      <td>0.0</td>\n",
       "      <td>0.0</td>\n",
       "      <td>0.0</td>\n",
       "      <td>0.0</td>\n",
       "      <td>0.0</td>\n",
       "      <td>0.0</td>\n",
       "      <td>...</td>\n",
       "      <td>0.0</td>\n",
       "      <td>0.0</td>\n",
       "      <td>0.0</td>\n",
       "      <td>0.0</td>\n",
       "      <td>0.0</td>\n",
       "      <td>0.0</td>\n",
       "      <td>0.0</td>\n",
       "      <td>0.0</td>\n",
       "      <td>0.000000</td>\n",
       "      <td>0.0</td>\n",
       "    </tr>\n",
       "    <tr>\n",
       "      <th>4</th>\n",
       "      <td>0.000000</td>\n",
       "      <td>0.0</td>\n",
       "      <td>0.0</td>\n",
       "      <td>0.0</td>\n",
       "      <td>0.0</td>\n",
       "      <td>0.0</td>\n",
       "      <td>0.0</td>\n",
       "      <td>0.0</td>\n",
       "      <td>0.0</td>\n",
       "      <td>0.0</td>\n",
       "      <td>...</td>\n",
       "      <td>0.0</td>\n",
       "      <td>0.0</td>\n",
       "      <td>0.0</td>\n",
       "      <td>0.0</td>\n",
       "      <td>0.0</td>\n",
       "      <td>0.0</td>\n",
       "      <td>0.0</td>\n",
       "      <td>0.0</td>\n",
       "      <td>0.000000</td>\n",
       "      <td>0.0</td>\n",
       "    </tr>\n",
       "    <tr>\n",
       "      <th>5</th>\n",
       "      <td>0.000000</td>\n",
       "      <td>0.0</td>\n",
       "      <td>0.0</td>\n",
       "      <td>0.0</td>\n",
       "      <td>0.0</td>\n",
       "      <td>0.0</td>\n",
       "      <td>0.0</td>\n",
       "      <td>0.0</td>\n",
       "      <td>0.0</td>\n",
       "      <td>0.0</td>\n",
       "      <td>...</td>\n",
       "      <td>0.0</td>\n",
       "      <td>0.0</td>\n",
       "      <td>0.0</td>\n",
       "      <td>0.0</td>\n",
       "      <td>0.0</td>\n",
       "      <td>0.0</td>\n",
       "      <td>0.0</td>\n",
       "      <td>0.0</td>\n",
       "      <td>0.000000</td>\n",
       "      <td>0.0</td>\n",
       "    </tr>\n",
       "  </tbody>\n",
       "</table>\n",
       "<p>5 rows × 3291 columns</p>\n",
       "</div>"
      ],
      "text/plain": [
       "term_id       0     1     2     3     4     5     6     7     8     9     ...  \\\n",
       "poem_num                                                                  ...   \n",
       "1         0.020444   0.0   0.0   0.0   0.0   0.0   0.0   0.0   0.0   0.0  ...   \n",
       "2         0.000000   0.0   0.0   0.0   0.0   0.0   0.0   0.0   0.0   0.0  ...   \n",
       "3         0.000000   0.0   0.0   0.0   0.0   0.0   0.0   0.0   0.0   0.0  ...   \n",
       "4         0.000000   0.0   0.0   0.0   0.0   0.0   0.0   0.0   0.0   0.0  ...   \n",
       "5         0.000000   0.0   0.0   0.0   0.0   0.0   0.0   0.0   0.0   0.0  ...   \n",
       "\n",
       "term_id   3281  3282  3283  3284  3285  3286  3287  3288      3289  3290  \n",
       "poem_num                                                                  \n",
       "1          0.0   0.0   0.0   0.0   0.0   0.0   0.0   0.0  0.000000   0.0  \n",
       "2          0.0   0.0   0.0   0.0   0.0   0.0   0.0   0.0  0.018697   0.0  \n",
       "3          0.0   0.0   0.0   0.0   0.0   0.0   0.0   0.0  0.000000   0.0  \n",
       "4          0.0   0.0   0.0   0.0   0.0   0.0   0.0   0.0  0.000000   0.0  \n",
       "5          0.0   0.0   0.0   0.0   0.0   0.0   0.0   0.0  0.000000   0.0  \n",
       "\n",
       "[5 rows x 3291 columns]"
      ]
     },
     "execution_count": 42,
     "metadata": {},
     "output_type": "execute_result"
    }
   ],
   "source": [
    "TFIDF.head()"
   ]
  },
  {
   "cell_type": "code",
   "execution_count": 43,
   "metadata": {},
   "outputs": [],
   "source": [
    "VOCAB['tfidf_mean'] = TFIDF[TFIDF > 0].mean().fillna(0) \n",
    "VOCAB['tfidf_sum'] = TFIDF.sum()\n",
    "VOCAB['tfidf_median'] = TFIDF[TFIDF > 0].median().fillna(0)\n",
    "VOCAB['tfidf_max'] = TFIDF.max()"
   ]
  },
  {
   "cell_type": "code",
   "execution_count": 44,
   "metadata": {},
   "outputs": [
    {
     "data": {
      "text/html": [
       "<div>\n",
       "<style scoped>\n",
       "    .dataframe tbody tr th:only-of-type {\n",
       "        vertical-align: middle;\n",
       "    }\n",
       "\n",
       "    .dataframe tbody tr th {\n",
       "        vertical-align: top;\n",
       "    }\n",
       "\n",
       "    .dataframe thead th {\n",
       "        text-align: right;\n",
       "    }\n",
       "</style>\n",
       "<table border=\"1\" class=\"dataframe\">\n",
       "  <thead>\n",
       "    <tr style=\"text-align: right;\">\n",
       "      <th></th>\n",
       "      <th>term_rank</th>\n",
       "      <th>term_str</th>\n",
       "      <th>n</th>\n",
       "      <th>num</th>\n",
       "      <th>stop</th>\n",
       "      <th>p_stem</th>\n",
       "      <th>tfidf_mean</th>\n",
       "      <th>tfidf_sum</th>\n",
       "      <th>tfidf_median</th>\n",
       "      <th>tfidf_max</th>\n",
       "    </tr>\n",
       "    <tr>\n",
       "      <th>term_id</th>\n",
       "      <th></th>\n",
       "      <th></th>\n",
       "      <th></th>\n",
       "      <th></th>\n",
       "      <th></th>\n",
       "      <th></th>\n",
       "      <th></th>\n",
       "      <th></th>\n",
       "      <th></th>\n",
       "      <th></th>\n",
       "    </tr>\n",
       "  </thead>\n",
       "  <tbody>\n",
       "    <tr>\n",
       "      <th>255</th>\n",
       "      <td>1</td>\n",
       "      <td>and</td>\n",
       "      <td>490</td>\n",
       "      <td>0</td>\n",
       "      <td>1</td>\n",
       "      <td>and</td>\n",
       "      <td>0.000498</td>\n",
       "      <td>0.073724</td>\n",
       "      <td>0.000456</td>\n",
       "      <td>0.001876</td>\n",
       "    </tr>\n",
       "    <tr>\n",
       "      <th>2820</th>\n",
       "      <td>2</td>\n",
       "      <td>the</td>\n",
       "      <td>430</td>\n",
       "      <td>0</td>\n",
       "      <td>1</td>\n",
       "      <td>the</td>\n",
       "      <td>0.001680</td>\n",
       "      <td>0.225142</td>\n",
       "      <td>0.001569</td>\n",
       "      <td>0.004096</td>\n",
       "    </tr>\n",
       "    <tr>\n",
       "      <th>2889</th>\n",
       "      <td>3</td>\n",
       "      <td>to</td>\n",
       "      <td>414</td>\n",
       "      <td>0</td>\n",
       "      <td>1</td>\n",
       "      <td>to</td>\n",
       "      <td>0.000570</td>\n",
       "      <td>0.083260</td>\n",
       "      <td>0.000587</td>\n",
       "      <td>0.001967</td>\n",
       "    </tr>\n",
       "    <tr>\n",
       "      <th>1889</th>\n",
       "      <td>4</td>\n",
       "      <td>my</td>\n",
       "      <td>392</td>\n",
       "      <td>0</td>\n",
       "      <td>1</td>\n",
       "      <td>my</td>\n",
       "      <td>0.003277</td>\n",
       "      <td>0.386731</td>\n",
       "      <td>0.002915</td>\n",
       "      <td>0.010234</td>\n",
       "    </tr>\n",
       "    <tr>\n",
       "      <th>1963</th>\n",
       "      <td>5</td>\n",
       "      <td>of</td>\n",
       "      <td>370</td>\n",
       "      <td>0</td>\n",
       "      <td>1</td>\n",
       "      <td>of</td>\n",
       "      <td>0.001446</td>\n",
       "      <td>0.193792</td>\n",
       "      <td>0.001312</td>\n",
       "      <td>0.005443</td>\n",
       "    </tr>\n",
       "    <tr>\n",
       "      <th>...</th>\n",
       "      <td>...</td>\n",
       "      <td>...</td>\n",
       "      <td>...</td>\n",
       "      <td>...</td>\n",
       "      <td>...</td>\n",
       "      <td>...</td>\n",
       "      <td>...</td>\n",
       "      <td>...</td>\n",
       "      <td>...</td>\n",
       "      <td>...</td>\n",
       "    </tr>\n",
       "    <tr>\n",
       "      <th>1282</th>\n",
       "      <td>3287</td>\n",
       "      <td>gently</td>\n",
       "      <td>1</td>\n",
       "      <td>0</td>\n",
       "      <td>0</td>\n",
       "      <td>gentli</td>\n",
       "      <td>0.019531</td>\n",
       "      <td>0.019531</td>\n",
       "      <td>0.019531</td>\n",
       "      <td>0.019531</td>\n",
       "    </tr>\n",
       "    <tr>\n",
       "      <th>1283</th>\n",
       "      <td>3288</td>\n",
       "      <td>get</td>\n",
       "      <td>1</td>\n",
       "      <td>0</td>\n",
       "      <td>0</td>\n",
       "      <td>get</td>\n",
       "      <td>0.021034</td>\n",
       "      <td>0.021034</td>\n",
       "      <td>0.021034</td>\n",
       "      <td>0.021034</td>\n",
       "    </tr>\n",
       "    <tr>\n",
       "      <th>1284</th>\n",
       "      <td>3289</td>\n",
       "      <td>ghastly</td>\n",
       "      <td>1</td>\n",
       "      <td>0</td>\n",
       "      <td>0</td>\n",
       "      <td>ghastli</td>\n",
       "      <td>0.019359</td>\n",
       "      <td>0.019359</td>\n",
       "      <td>0.019359</td>\n",
       "      <td>0.019359</td>\n",
       "    </tr>\n",
       "    <tr>\n",
       "      <th>1285</th>\n",
       "      <td>3290</td>\n",
       "      <td>ghost</td>\n",
       "      <td>1</td>\n",
       "      <td>0</td>\n",
       "      <td>0</td>\n",
       "      <td>ghost</td>\n",
       "      <td>0.019707</td>\n",
       "      <td>0.019707</td>\n",
       "      <td>0.019707</td>\n",
       "      <td>0.019707</td>\n",
       "    </tr>\n",
       "    <tr>\n",
       "      <th>3290</th>\n",
       "      <td>3291</td>\n",
       "      <td>zealous</td>\n",
       "      <td>1</td>\n",
       "      <td>0</td>\n",
       "      <td>0</td>\n",
       "      <td>zealou</td>\n",
       "      <td>0.019359</td>\n",
       "      <td>0.019359</td>\n",
       "      <td>0.019359</td>\n",
       "      <td>0.019359</td>\n",
       "    </tr>\n",
       "  </tbody>\n",
       "</table>\n",
       "<p>3291 rows × 10 columns</p>\n",
       "</div>"
      ],
      "text/plain": [
       "         term_rank term_str    n  num  stop   p_stem  tfidf_mean  tfidf_sum  \\\n",
       "term_id                                                                       \n",
       "255              1      and  490    0     1      and    0.000498   0.073724   \n",
       "2820             2      the  430    0     1      the    0.001680   0.225142   \n",
       "2889             3       to  414    0     1       to    0.000570   0.083260   \n",
       "1889             4       my  392    0     1       my    0.003277   0.386731   \n",
       "1963             5       of  370    0     1       of    0.001446   0.193792   \n",
       "...            ...      ...  ...  ...   ...      ...         ...        ...   \n",
       "1282          3287   gently    1    0     0   gentli    0.019531   0.019531   \n",
       "1283          3288      get    1    0     0      get    0.021034   0.021034   \n",
       "1284          3289  ghastly    1    0     0  ghastli    0.019359   0.019359   \n",
       "1285          3290    ghost    1    0     0    ghost    0.019707   0.019707   \n",
       "3290          3291  zealous    1    0     0   zealou    0.019359   0.019359   \n",
       "\n",
       "         tfidf_median  tfidf_max  \n",
       "term_id                           \n",
       "255          0.000456   0.001876  \n",
       "2820         0.001569   0.004096  \n",
       "2889         0.000587   0.001967  \n",
       "1889         0.002915   0.010234  \n",
       "1963         0.001312   0.005443  \n",
       "...               ...        ...  \n",
       "1282         0.019531   0.019531  \n",
       "1283         0.021034   0.021034  \n",
       "1284         0.019359   0.019359  \n",
       "1285         0.019707   0.019707  \n",
       "3290         0.019359   0.019359  \n",
       "\n",
       "[3291 rows x 10 columns]"
      ]
     },
     "execution_count": 44,
     "metadata": {},
     "output_type": "execute_result"
    }
   ],
   "source": [
    "VOCAB"
   ]
  },
  {
   "cell_type": "code",
   "execution_count": 45,
   "metadata": {},
   "outputs": [],
   "source": [
    "LIB.to_csv('LIB.csv')\n",
    "TOKEN.to_csv('TOKEN.csv')\n",
    "VOCAB.to_csv('VOCAB.csv')"
   ]
  },
  {
   "cell_type": "markdown",
   "metadata": {},
   "source": [
    "------------------------------------------------------------------------------------------------------\n",
    "*K-Means Clustering*\n",
    "\n",
    "------------------------------------------------------------------------------------------------------"
   ]
  },
  {
   "cell_type": "code",
   "execution_count": 103,
   "metadata": {},
   "outputs": [],
   "source": [
    "L0 = TFIDF.astype('bool').astype('int')\n",
    "L1 = TFIDF.apply(lambda x: x / x.sum(), 1)\n",
    "L2 = TFIDF.apply(lambda x: x / norm(x), 1)"
   ]
  },
  {
   "cell_type": "code",
   "execution_count": 104,
   "metadata": {},
   "outputs": [],
   "source": [
    "DOC = pd.DataFrame({'poem_id': list(range(0,154)), 'title': list(range(0,154))})\n",
    "DOC.index.name = 'doc_id'"
   ]
  },
  {
   "cell_type": "code",
   "execution_count": 105,
   "metadata": {},
   "outputs": [],
   "source": [
    "DOC2 = pd.DataFrame({'poem_id': list(range(1,155)), 'title': list(range(1,155))})"
   ]
  },
  {
   "cell_type": "code",
   "execution_count": 130,
   "metadata": {},
   "outputs": [],
   "source": [
    "n_clusters = 4\n",
    "DOC2['y_raw'] = KMeans(n_clusters).fit_predict(TFIDF)\n",
    "DOC2['y_L0'] = KMeans(n_clusters).fit_predict(L0)\n",
    "DOC2['y_L1'] = KMeans(n_clusters).fit_predict(L1)\n",
    "DOC2['y_L2'] = KMeans(n_clusters).fit_predict(L2)"
   ]
  },
  {
   "cell_type": "code",
   "execution_count": 129,
   "metadata": {},
   "outputs": [
    {
     "data": {
      "text/html": [
       "<style  type=\"text/css\" >\n",
       "#T_fe4bbf5e_2fc8_11ee_8ea0_3cfdfe75c0f0row0_col0,#T_fe4bbf5e_2fc8_11ee_8ea0_3cfdfe75c0f0row0_col1,#T_fe4bbf5e_2fc8_11ee_8ea0_3cfdfe75c0f0row0_col2,#T_fe4bbf5e_2fc8_11ee_8ea0_3cfdfe75c0f0row1_col2,#T_fe4bbf5e_2fc8_11ee_8ea0_3cfdfe75c0f0row2_col2,#T_fe4bbf5e_2fc8_11ee_8ea0_3cfdfe75c0f0row3_col2,#T_fe4bbf5e_2fc8_11ee_8ea0_3cfdfe75c0f0row4_col2,#T_fe4bbf5e_2fc8_11ee_8ea0_3cfdfe75c0f0row4_col3,#T_fe4bbf5e_2fc8_11ee_8ea0_3cfdfe75c0f0row4_col5,#T_fe4bbf5e_2fc8_11ee_8ea0_3cfdfe75c0f0row5_col2,#T_fe4bbf5e_2fc8_11ee_8ea0_3cfdfe75c0f0row6_col2,#T_fe4bbf5e_2fc8_11ee_8ea0_3cfdfe75c0f0row6_col3,#T_fe4bbf5e_2fc8_11ee_8ea0_3cfdfe75c0f0row7_col2,#T_fe4bbf5e_2fc8_11ee_8ea0_3cfdfe75c0f0row7_col5,#T_fe4bbf5e_2fc8_11ee_8ea0_3cfdfe75c0f0row8_col2,#T_fe4bbf5e_2fc8_11ee_8ea0_3cfdfe75c0f0row9_col2,#T_fe4bbf5e_2fc8_11ee_8ea0_3cfdfe75c0f0row10_col2,#T_fe4bbf5e_2fc8_11ee_8ea0_3cfdfe75c0f0row11_col2,#T_fe4bbf5e_2fc8_11ee_8ea0_3cfdfe75c0f0row11_col3,#T_fe4bbf5e_2fc8_11ee_8ea0_3cfdfe75c0f0row12_col5,#T_fe4bbf5e_2fc8_11ee_8ea0_3cfdfe75c0f0row13_col2,#T_fe4bbf5e_2fc8_11ee_8ea0_3cfdfe75c0f0row14_col2,#T_fe4bbf5e_2fc8_11ee_8ea0_3cfdfe75c0f0row14_col3,#T_fe4bbf5e_2fc8_11ee_8ea0_3cfdfe75c0f0row14_col5,#T_fe4bbf5e_2fc8_11ee_8ea0_3cfdfe75c0f0row15_col5,#T_fe4bbf5e_2fc8_11ee_8ea0_3cfdfe75c0f0row16_col5,#T_fe4bbf5e_2fc8_11ee_8ea0_3cfdfe75c0f0row17_col2,#T_fe4bbf5e_2fc8_11ee_8ea0_3cfdfe75c0f0row18_col2,#T_fe4bbf5e_2fc8_11ee_8ea0_3cfdfe75c0f0row19_col2,#T_fe4bbf5e_2fc8_11ee_8ea0_3cfdfe75c0f0row20_col2,#T_fe4bbf5e_2fc8_11ee_8ea0_3cfdfe75c0f0row20_col3,#T_fe4bbf5e_2fc8_11ee_8ea0_3cfdfe75c0f0row21_col2,#T_fe4bbf5e_2fc8_11ee_8ea0_3cfdfe75c0f0row22_col2,#T_fe4bbf5e_2fc8_11ee_8ea0_3cfdfe75c0f0row23_col2,#T_fe4bbf5e_2fc8_11ee_8ea0_3cfdfe75c0f0row23_col5,#T_fe4bbf5e_2fc8_11ee_8ea0_3cfdfe75c0f0row24_col2,#T_fe4bbf5e_2fc8_11ee_8ea0_3cfdfe75c0f0row24_col3,#T_fe4bbf5e_2fc8_11ee_8ea0_3cfdfe75c0f0row25_col2,#T_fe4bbf5e_2fc8_11ee_8ea0_3cfdfe75c0f0row26_col2,#T_fe4bbf5e_2fc8_11ee_8ea0_3cfdfe75c0f0row26_col3,#T_fe4bbf5e_2fc8_11ee_8ea0_3cfdfe75c0f0row27_col2,#T_fe4bbf5e_2fc8_11ee_8ea0_3cfdfe75c0f0row27_col3,#T_fe4bbf5e_2fc8_11ee_8ea0_3cfdfe75c0f0row28_col2,#T_fe4bbf5e_2fc8_11ee_8ea0_3cfdfe75c0f0row28_col3,#T_fe4bbf5e_2fc8_11ee_8ea0_3cfdfe75c0f0row29_col2,#T_fe4bbf5e_2fc8_11ee_8ea0_3cfdfe75c0f0row29_col3,#T_fe4bbf5e_2fc8_11ee_8ea0_3cfdfe75c0f0row30_col2,#T_fe4bbf5e_2fc8_11ee_8ea0_3cfdfe75c0f0row30_col3,#T_fe4bbf5e_2fc8_11ee_8ea0_3cfdfe75c0f0row31_col2,#T_fe4bbf5e_2fc8_11ee_8ea0_3cfdfe75c0f0row32_col2,#T_fe4bbf5e_2fc8_11ee_8ea0_3cfdfe75c0f0row32_col3,#T_fe4bbf5e_2fc8_11ee_8ea0_3cfdfe75c0f0row32_col4,#T_fe4bbf5e_2fc8_11ee_8ea0_3cfdfe75c0f0row32_col5,#T_fe4bbf5e_2fc8_11ee_8ea0_3cfdfe75c0f0row33_col2,#T_fe4bbf5e_2fc8_11ee_8ea0_3cfdfe75c0f0row33_col3,#T_fe4bbf5e_2fc8_11ee_8ea0_3cfdfe75c0f0row34_col2,#T_fe4bbf5e_2fc8_11ee_8ea0_3cfdfe75c0f0row34_col3,#T_fe4bbf5e_2fc8_11ee_8ea0_3cfdfe75c0f0row35_col2,#T_fe4bbf5e_2fc8_11ee_8ea0_3cfdfe75c0f0row35_col3,#T_fe4bbf5e_2fc8_11ee_8ea0_3cfdfe75c0f0row36_col2,#T_fe4bbf5e_2fc8_11ee_8ea0_3cfdfe75c0f0row37_col2,#T_fe4bbf5e_2fc8_11ee_8ea0_3cfdfe75c0f0row38_col2,#T_fe4bbf5e_2fc8_11ee_8ea0_3cfdfe75c0f0row39_col2,#T_fe4bbf5e_2fc8_11ee_8ea0_3cfdfe75c0f0row40_col2,#T_fe4bbf5e_2fc8_11ee_8ea0_3cfdfe75c0f0row41_col2,#T_fe4bbf5e_2fc8_11ee_8ea0_3cfdfe75c0f0row42_col2,#T_fe4bbf5e_2fc8_11ee_8ea0_3cfdfe75c0f0row42_col5,#T_fe4bbf5e_2fc8_11ee_8ea0_3cfdfe75c0f0row43_col2,#T_fe4bbf5e_2fc8_11ee_8ea0_3cfdfe75c0f0row43_col3,#T_fe4bbf5e_2fc8_11ee_8ea0_3cfdfe75c0f0row44_col2,#T_fe4bbf5e_2fc8_11ee_8ea0_3cfdfe75c0f0row44_col3,#T_fe4bbf5e_2fc8_11ee_8ea0_3cfdfe75c0f0row45_col2,#T_fe4bbf5e_2fc8_11ee_8ea0_3cfdfe75c0f0row46_col2,#T_fe4bbf5e_2fc8_11ee_8ea0_3cfdfe75c0f0row47_col2,#T_fe4bbf5e_2fc8_11ee_8ea0_3cfdfe75c0f0row47_col3,#T_fe4bbf5e_2fc8_11ee_8ea0_3cfdfe75c0f0row48_col2,#T_fe4bbf5e_2fc8_11ee_8ea0_3cfdfe75c0f0row49_col2,#T_fe4bbf5e_2fc8_11ee_8ea0_3cfdfe75c0f0row49_col3,#T_fe4bbf5e_2fc8_11ee_8ea0_3cfdfe75c0f0row50_col2,#T_fe4bbf5e_2fc8_11ee_8ea0_3cfdfe75c0f0row51_col2,#T_fe4bbf5e_2fc8_11ee_8ea0_3cfdfe75c0f0row51_col5,#T_fe4bbf5e_2fc8_11ee_8ea0_3cfdfe75c0f0row52_col3,#T_fe4bbf5e_2fc8_11ee_8ea0_3cfdfe75c0f0row52_col5,#T_fe4bbf5e_2fc8_11ee_8ea0_3cfdfe75c0f0row53_col2,#T_fe4bbf5e_2fc8_11ee_8ea0_3cfdfe75c0f0row54_col2,#T_fe4bbf5e_2fc8_11ee_8ea0_3cfdfe75c0f0row54_col3,#T_fe4bbf5e_2fc8_11ee_8ea0_3cfdfe75c0f0row54_col5,#T_fe4bbf5e_2fc8_11ee_8ea0_3cfdfe75c0f0row55_col2,#T_fe4bbf5e_2fc8_11ee_8ea0_3cfdfe75c0f0row56_col5,#T_fe4bbf5e_2fc8_11ee_8ea0_3cfdfe75c0f0row57_col3,#T_fe4bbf5e_2fc8_11ee_8ea0_3cfdfe75c0f0row57_col5,#T_fe4bbf5e_2fc8_11ee_8ea0_3cfdfe75c0f0row58_col2,#T_fe4bbf5e_2fc8_11ee_8ea0_3cfdfe75c0f0row58_col4,#T_fe4bbf5e_2fc8_11ee_8ea0_3cfdfe75c0f0row58_col5,#T_fe4bbf5e_2fc8_11ee_8ea0_3cfdfe75c0f0row59_col2,#T_fe4bbf5e_2fc8_11ee_8ea0_3cfdfe75c0f0row59_col3,#T_fe4bbf5e_2fc8_11ee_8ea0_3cfdfe75c0f0row60_col2,#T_fe4bbf5e_2fc8_11ee_8ea0_3cfdfe75c0f0row61_col2,#T_fe4bbf5e_2fc8_11ee_8ea0_3cfdfe75c0f0row62_col2,#T_fe4bbf5e_2fc8_11ee_8ea0_3cfdfe75c0f0row62_col3,#T_fe4bbf5e_2fc8_11ee_8ea0_3cfdfe75c0f0row62_col5,#T_fe4bbf5e_2fc8_11ee_8ea0_3cfdfe75c0f0row63_col2,#T_fe4bbf5e_2fc8_11ee_8ea0_3cfdfe75c0f0row63_col3,#T_fe4bbf5e_2fc8_11ee_8ea0_3cfdfe75c0f0row63_col4,#T_fe4bbf5e_2fc8_11ee_8ea0_3cfdfe75c0f0row64_col2,#T_fe4bbf5e_2fc8_11ee_8ea0_3cfdfe75c0f0row65_col2,#T_fe4bbf5e_2fc8_11ee_8ea0_3cfdfe75c0f0row65_col3,#T_fe4bbf5e_2fc8_11ee_8ea0_3cfdfe75c0f0row66_col2,#T_fe4bbf5e_2fc8_11ee_8ea0_3cfdfe75c0f0row66_col4,#T_fe4bbf5e_2fc8_11ee_8ea0_3cfdfe75c0f0row66_col5,#T_fe4bbf5e_2fc8_11ee_8ea0_3cfdfe75c0f0row67_col2,#T_fe4bbf5e_2fc8_11ee_8ea0_3cfdfe75c0f0row67_col4,#T_fe4bbf5e_2fc8_11ee_8ea0_3cfdfe75c0f0row67_col5,#T_fe4bbf5e_2fc8_11ee_8ea0_3cfdfe75c0f0row68_col2,#T_fe4bbf5e_2fc8_11ee_8ea0_3cfdfe75c0f0row69_col2,#T_fe4bbf5e_2fc8_11ee_8ea0_3cfdfe75c0f0row70_col5,#T_fe4bbf5e_2fc8_11ee_8ea0_3cfdfe75c0f0row71_col5,#T_fe4bbf5e_2fc8_11ee_8ea0_3cfdfe75c0f0row72_col2,#T_fe4bbf5e_2fc8_11ee_8ea0_3cfdfe75c0f0row72_col4,#T_fe4bbf5e_2fc8_11ee_8ea0_3cfdfe75c0f0row73_col2,#T_fe4bbf5e_2fc8_11ee_8ea0_3cfdfe75c0f0row74_col2,#T_fe4bbf5e_2fc8_11ee_8ea0_3cfdfe75c0f0row74_col3,#T_fe4bbf5e_2fc8_11ee_8ea0_3cfdfe75c0f0row74_col5,#T_fe4bbf5e_2fc8_11ee_8ea0_3cfdfe75c0f0row75_col2,#T_fe4bbf5e_2fc8_11ee_8ea0_3cfdfe75c0f0row75_col5,#T_fe4bbf5e_2fc8_11ee_8ea0_3cfdfe75c0f0row76_col2,#T_fe4bbf5e_2fc8_11ee_8ea0_3cfdfe75c0f0row77_col2,#T_fe4bbf5e_2fc8_11ee_8ea0_3cfdfe75c0f0row78_col2,#T_fe4bbf5e_2fc8_11ee_8ea0_3cfdfe75c0f0row79_col5,#T_fe4bbf5e_2fc8_11ee_8ea0_3cfdfe75c0f0row80_col5,#T_fe4bbf5e_2fc8_11ee_8ea0_3cfdfe75c0f0row81_col2,#T_fe4bbf5e_2fc8_11ee_8ea0_3cfdfe75c0f0row82_col5,#T_fe4bbf5e_2fc8_11ee_8ea0_3cfdfe75c0f0row83_col5,#T_fe4bbf5e_2fc8_11ee_8ea0_3cfdfe75c0f0row84_col2,#T_fe4bbf5e_2fc8_11ee_8ea0_3cfdfe75c0f0row84_col3,#T_fe4bbf5e_2fc8_11ee_8ea0_3cfdfe75c0f0row84_col5,#T_fe4bbf5e_2fc8_11ee_8ea0_3cfdfe75c0f0row85_col3,#T_fe4bbf5e_2fc8_11ee_8ea0_3cfdfe75c0f0row86_col2,#T_fe4bbf5e_2fc8_11ee_8ea0_3cfdfe75c0f0row87_col2,#T_fe4bbf5e_2fc8_11ee_8ea0_3cfdfe75c0f0row88_col2,#T_fe4bbf5e_2fc8_11ee_8ea0_3cfdfe75c0f0row89_col2,#T_fe4bbf5e_2fc8_11ee_8ea0_3cfdfe75c0f0row89_col3,#T_fe4bbf5e_2fc8_11ee_8ea0_3cfdfe75c0f0row90_col2,#T_fe4bbf5e_2fc8_11ee_8ea0_3cfdfe75c0f0row90_col5,#T_fe4bbf5e_2fc8_11ee_8ea0_3cfdfe75c0f0row91_col2,#T_fe4bbf5e_2fc8_11ee_8ea0_3cfdfe75c0f0row92_col2,#T_fe4bbf5e_2fc8_11ee_8ea0_3cfdfe75c0f0row93_col2,#T_fe4bbf5e_2fc8_11ee_8ea0_3cfdfe75c0f0row93_col3,#T_fe4bbf5e_2fc8_11ee_8ea0_3cfdfe75c0f0row94_col2,#T_fe4bbf5e_2fc8_11ee_8ea0_3cfdfe75c0f0row95_col2,#T_fe4bbf5e_2fc8_11ee_8ea0_3cfdfe75c0f0row96_col2,#T_fe4bbf5e_2fc8_11ee_8ea0_3cfdfe75c0f0row96_col3,#T_fe4bbf5e_2fc8_11ee_8ea0_3cfdfe75c0f0row97_col2,#T_fe4bbf5e_2fc8_11ee_8ea0_3cfdfe75c0f0row97_col3,#T_fe4bbf5e_2fc8_11ee_8ea0_3cfdfe75c0f0row97_col5,#T_fe4bbf5e_2fc8_11ee_8ea0_3cfdfe75c0f0row98_col2,#T_fe4bbf5e_2fc8_11ee_8ea0_3cfdfe75c0f0row98_col3,#T_fe4bbf5e_2fc8_11ee_8ea0_3cfdfe75c0f0row99_col2,#T_fe4bbf5e_2fc8_11ee_8ea0_3cfdfe75c0f0row100_col2,#T_fe4bbf5e_2fc8_11ee_8ea0_3cfdfe75c0f0row101_col2,#T_fe4bbf5e_2fc8_11ee_8ea0_3cfdfe75c0f0row101_col3,#T_fe4bbf5e_2fc8_11ee_8ea0_3cfdfe75c0f0row101_col5,#T_fe4bbf5e_2fc8_11ee_8ea0_3cfdfe75c0f0row102_col2,#T_fe4bbf5e_2fc8_11ee_8ea0_3cfdfe75c0f0row102_col5,#T_fe4bbf5e_2fc8_11ee_8ea0_3cfdfe75c0f0row103_col3,#T_fe4bbf5e_2fc8_11ee_8ea0_3cfdfe75c0f0row103_col4,#T_fe4bbf5e_2fc8_11ee_8ea0_3cfdfe75c0f0row103_col5,#T_fe4bbf5e_2fc8_11ee_8ea0_3cfdfe75c0f0row104_col2,#T_fe4bbf5e_2fc8_11ee_8ea0_3cfdfe75c0f0row104_col5,#T_fe4bbf5e_2fc8_11ee_8ea0_3cfdfe75c0f0row105_col2,#T_fe4bbf5e_2fc8_11ee_8ea0_3cfdfe75c0f0row105_col5,#T_fe4bbf5e_2fc8_11ee_8ea0_3cfdfe75c0f0row106_col2,#T_fe4bbf5e_2fc8_11ee_8ea0_3cfdfe75c0f0row107_col2,#T_fe4bbf5e_2fc8_11ee_8ea0_3cfdfe75c0f0row108_col2,#T_fe4bbf5e_2fc8_11ee_8ea0_3cfdfe75c0f0row109_col2,#T_fe4bbf5e_2fc8_11ee_8ea0_3cfdfe75c0f0row110_col2,#T_fe4bbf5e_2fc8_11ee_8ea0_3cfdfe75c0f0row110_col3,#T_fe4bbf5e_2fc8_11ee_8ea0_3cfdfe75c0f0row111_col3,#T_fe4bbf5e_2fc8_11ee_8ea0_3cfdfe75c0f0row111_col4,#T_fe4bbf5e_2fc8_11ee_8ea0_3cfdfe75c0f0row111_col5,#T_fe4bbf5e_2fc8_11ee_8ea0_3cfdfe75c0f0row112_col2,#T_fe4bbf5e_2fc8_11ee_8ea0_3cfdfe75c0f0row112_col5,#T_fe4bbf5e_2fc8_11ee_8ea0_3cfdfe75c0f0row113_col2,#T_fe4bbf5e_2fc8_11ee_8ea0_3cfdfe75c0f0row114_col2,#T_fe4bbf5e_2fc8_11ee_8ea0_3cfdfe75c0f0row115_col2,#T_fe4bbf5e_2fc8_11ee_8ea0_3cfdfe75c0f0row116_col5,#T_fe4bbf5e_2fc8_11ee_8ea0_3cfdfe75c0f0row117_col2,#T_fe4bbf5e_2fc8_11ee_8ea0_3cfdfe75c0f0row117_col3,#T_fe4bbf5e_2fc8_11ee_8ea0_3cfdfe75c0f0row118_col2,#T_fe4bbf5e_2fc8_11ee_8ea0_3cfdfe75c0f0row118_col3,#T_fe4bbf5e_2fc8_11ee_8ea0_3cfdfe75c0f0row119_col3,#T_fe4bbf5e_2fc8_11ee_8ea0_3cfdfe75c0f0row119_col5,#T_fe4bbf5e_2fc8_11ee_8ea0_3cfdfe75c0f0row120_col2,#T_fe4bbf5e_2fc8_11ee_8ea0_3cfdfe75c0f0row121_col2,#T_fe4bbf5e_2fc8_11ee_8ea0_3cfdfe75c0f0row121_col3,#T_fe4bbf5e_2fc8_11ee_8ea0_3cfdfe75c0f0row122_col2,#T_fe4bbf5e_2fc8_11ee_8ea0_3cfdfe75c0f0row123_col2,#T_fe4bbf5e_2fc8_11ee_8ea0_3cfdfe75c0f0row123_col3,#T_fe4bbf5e_2fc8_11ee_8ea0_3cfdfe75c0f0row123_col4,#T_fe4bbf5e_2fc8_11ee_8ea0_3cfdfe75c0f0row124_col2,#T_fe4bbf5e_2fc8_11ee_8ea0_3cfdfe75c0f0row125_col2,#T_fe4bbf5e_2fc8_11ee_8ea0_3cfdfe75c0f0row126_col2,#T_fe4bbf5e_2fc8_11ee_8ea0_3cfdfe75c0f0row126_col4,#T_fe4bbf5e_2fc8_11ee_8ea0_3cfdfe75c0f0row127_col2,#T_fe4bbf5e_2fc8_11ee_8ea0_3cfdfe75c0f0row128_col2,#T_fe4bbf5e_2fc8_11ee_8ea0_3cfdfe75c0f0row128_col3,#T_fe4bbf5e_2fc8_11ee_8ea0_3cfdfe75c0f0row129_col2,#T_fe4bbf5e_2fc8_11ee_8ea0_3cfdfe75c0f0row130_col2,#T_fe4bbf5e_2fc8_11ee_8ea0_3cfdfe75c0f0row131_col2,#T_fe4bbf5e_2fc8_11ee_8ea0_3cfdfe75c0f0row132_col2,#T_fe4bbf5e_2fc8_11ee_8ea0_3cfdfe75c0f0row133_col2,#T_fe4bbf5e_2fc8_11ee_8ea0_3cfdfe75c0f0row133_col3,#T_fe4bbf5e_2fc8_11ee_8ea0_3cfdfe75c0f0row134_col2,#T_fe4bbf5e_2fc8_11ee_8ea0_3cfdfe75c0f0row135_col2,#T_fe4bbf5e_2fc8_11ee_8ea0_3cfdfe75c0f0row136_col2,#T_fe4bbf5e_2fc8_11ee_8ea0_3cfdfe75c0f0row137_col2,#T_fe4bbf5e_2fc8_11ee_8ea0_3cfdfe75c0f0row138_col2,#T_fe4bbf5e_2fc8_11ee_8ea0_3cfdfe75c0f0row139_col2,#T_fe4bbf5e_2fc8_11ee_8ea0_3cfdfe75c0f0row140_col2,#T_fe4bbf5e_2fc8_11ee_8ea0_3cfdfe75c0f0row141_col2,#T_fe4bbf5e_2fc8_11ee_8ea0_3cfdfe75c0f0row142_col2,#T_fe4bbf5e_2fc8_11ee_8ea0_3cfdfe75c0f0row142_col3,#T_fe4bbf5e_2fc8_11ee_8ea0_3cfdfe75c0f0row143_col2,#T_fe4bbf5e_2fc8_11ee_8ea0_3cfdfe75c0f0row143_col3,#T_fe4bbf5e_2fc8_11ee_8ea0_3cfdfe75c0f0row144_col2,#T_fe4bbf5e_2fc8_11ee_8ea0_3cfdfe75c0f0row144_col3,#T_fe4bbf5e_2fc8_11ee_8ea0_3cfdfe75c0f0row145_col2,#T_fe4bbf5e_2fc8_11ee_8ea0_3cfdfe75c0f0row146_col2,#T_fe4bbf5e_2fc8_11ee_8ea0_3cfdfe75c0f0row146_col3,#T_fe4bbf5e_2fc8_11ee_8ea0_3cfdfe75c0f0row147_col2,#T_fe4bbf5e_2fc8_11ee_8ea0_3cfdfe75c0f0row148_col2,#T_fe4bbf5e_2fc8_11ee_8ea0_3cfdfe75c0f0row149_col2,#T_fe4bbf5e_2fc8_11ee_8ea0_3cfdfe75c0f0row150_col2,#T_fe4bbf5e_2fc8_11ee_8ea0_3cfdfe75c0f0row151_col2,#T_fe4bbf5e_2fc8_11ee_8ea0_3cfdfe75c0f0row152_col3,#T_fe4bbf5e_2fc8_11ee_8ea0_3cfdfe75c0f0row153_col3{\n",
       "            background-color:  #440154;\n",
       "            color:  #f1f1f1;\n",
       "        }#T_fe4bbf5e_2fc8_11ee_8ea0_3cfdfe75c0f0row0_col3,#T_fe4bbf5e_2fc8_11ee_8ea0_3cfdfe75c0f0row1_col3,#T_fe4bbf5e_2fc8_11ee_8ea0_3cfdfe75c0f0row2_col3,#T_fe4bbf5e_2fc8_11ee_8ea0_3cfdfe75c0f0row7_col3,#T_fe4bbf5e_2fc8_11ee_8ea0_3cfdfe75c0f0row8_col3,#T_fe4bbf5e_2fc8_11ee_8ea0_3cfdfe75c0f0row10_col3,#T_fe4bbf5e_2fc8_11ee_8ea0_3cfdfe75c0f0row12_col3,#T_fe4bbf5e_2fc8_11ee_8ea0_3cfdfe75c0f0row12_col4,#T_fe4bbf5e_2fc8_11ee_8ea0_3cfdfe75c0f0row15_col3,#T_fe4bbf5e_2fc8_11ee_8ea0_3cfdfe75c0f0row15_col4,#T_fe4bbf5e_2fc8_11ee_8ea0_3cfdfe75c0f0row16_col3,#T_fe4bbf5e_2fc8_11ee_8ea0_3cfdfe75c0f0row23_col3,#T_fe4bbf5e_2fc8_11ee_8ea0_3cfdfe75c0f0row31_col5,#T_fe4bbf5e_2fc8_11ee_8ea0_3cfdfe75c0f0row36_col3,#T_fe4bbf5e_2fc8_11ee_8ea0_3cfdfe75c0f0row41_col3,#T_fe4bbf5e_2fc8_11ee_8ea0_3cfdfe75c0f0row42_col3,#T_fe4bbf5e_2fc8_11ee_8ea0_3cfdfe75c0f0row45_col3,#T_fe4bbf5e_2fc8_11ee_8ea0_3cfdfe75c0f0row52_col4,#T_fe4bbf5e_2fc8_11ee_8ea0_3cfdfe75c0f0row53_col3,#T_fe4bbf5e_2fc8_11ee_8ea0_3cfdfe75c0f0row55_col3,#T_fe4bbf5e_2fc8_11ee_8ea0_3cfdfe75c0f0row56_col3,#T_fe4bbf5e_2fc8_11ee_8ea0_3cfdfe75c0f0row56_col4,#T_fe4bbf5e_2fc8_11ee_8ea0_3cfdfe75c0f0row57_col4,#T_fe4bbf5e_2fc8_11ee_8ea0_3cfdfe75c0f0row58_col3,#T_fe4bbf5e_2fc8_11ee_8ea0_3cfdfe75c0f0row64_col3,#T_fe4bbf5e_2fc8_11ee_8ea0_3cfdfe75c0f0row66_col3,#T_fe4bbf5e_2fc8_11ee_8ea0_3cfdfe75c0f0row67_col3,#T_fe4bbf5e_2fc8_11ee_8ea0_3cfdfe75c0f0row68_col3,#T_fe4bbf5e_2fc8_11ee_8ea0_3cfdfe75c0f0row70_col4,#T_fe4bbf5e_2fc8_11ee_8ea0_3cfdfe75c0f0row71_col3,#T_fe4bbf5e_2fc8_11ee_8ea0_3cfdfe75c0f0row71_col4,#T_fe4bbf5e_2fc8_11ee_8ea0_3cfdfe75c0f0row72_col3,#T_fe4bbf5e_2fc8_11ee_8ea0_3cfdfe75c0f0row75_col3,#T_fe4bbf5e_2fc8_11ee_8ea0_3cfdfe75c0f0row78_col3,#T_fe4bbf5e_2fc8_11ee_8ea0_3cfdfe75c0f0row79_col3,#T_fe4bbf5e_2fc8_11ee_8ea0_3cfdfe75c0f0row79_col4,#T_fe4bbf5e_2fc8_11ee_8ea0_3cfdfe75c0f0row80_col3,#T_fe4bbf5e_2fc8_11ee_8ea0_3cfdfe75c0f0row80_col4,#T_fe4bbf5e_2fc8_11ee_8ea0_3cfdfe75c0f0row82_col4,#T_fe4bbf5e_2fc8_11ee_8ea0_3cfdfe75c0f0row83_col3,#T_fe4bbf5e_2fc8_11ee_8ea0_3cfdfe75c0f0row83_col4,#T_fe4bbf5e_2fc8_11ee_8ea0_3cfdfe75c0f0row85_col5,#T_fe4bbf5e_2fc8_11ee_8ea0_3cfdfe75c0f0row92_col3,#T_fe4bbf5e_2fc8_11ee_8ea0_3cfdfe75c0f0row94_col3,#T_fe4bbf5e_2fc8_11ee_8ea0_3cfdfe75c0f0row95_col3,#T_fe4bbf5e_2fc8_11ee_8ea0_3cfdfe75c0f0row98_col5,#T_fe4bbf5e_2fc8_11ee_8ea0_3cfdfe75c0f0row100_col3,#T_fe4bbf5e_2fc8_11ee_8ea0_3cfdfe75c0f0row102_col4,#T_fe4bbf5e_2fc8_11ee_8ea0_3cfdfe75c0f0row103_col2,#T_fe4bbf5e_2fc8_11ee_8ea0_3cfdfe75c0f0row104_col3,#T_fe4bbf5e_2fc8_11ee_8ea0_3cfdfe75c0f0row105_col3,#T_fe4bbf5e_2fc8_11ee_8ea0_3cfdfe75c0f0row106_col3,#T_fe4bbf5e_2fc8_11ee_8ea0_3cfdfe75c0f0row108_col3,#T_fe4bbf5e_2fc8_11ee_8ea0_3cfdfe75c0f0row109_col3,#T_fe4bbf5e_2fc8_11ee_8ea0_3cfdfe75c0f0row112_col3,#T_fe4bbf5e_2fc8_11ee_8ea0_3cfdfe75c0f0row113_col3,#T_fe4bbf5e_2fc8_11ee_8ea0_3cfdfe75c0f0row114_col3,#T_fe4bbf5e_2fc8_11ee_8ea0_3cfdfe75c0f0row115_col3,#T_fe4bbf5e_2fc8_11ee_8ea0_3cfdfe75c0f0row116_col4,#T_fe4bbf5e_2fc8_11ee_8ea0_3cfdfe75c0f0row117_col5,#T_fe4bbf5e_2fc8_11ee_8ea0_3cfdfe75c0f0row120_col3,#T_fe4bbf5e_2fc8_11ee_8ea0_3cfdfe75c0f0row125_col3,#T_fe4bbf5e_2fc8_11ee_8ea0_3cfdfe75c0f0row126_col3,#T_fe4bbf5e_2fc8_11ee_8ea0_3cfdfe75c0f0row128_col5,#T_fe4bbf5e_2fc8_11ee_8ea0_3cfdfe75c0f0row129_col3,#T_fe4bbf5e_2fc8_11ee_8ea0_3cfdfe75c0f0row129_col5,#T_fe4bbf5e_2fc8_11ee_8ea0_3cfdfe75c0f0row130_col3,#T_fe4bbf5e_2fc8_11ee_8ea0_3cfdfe75c0f0row136_col3,#T_fe4bbf5e_2fc8_11ee_8ea0_3cfdfe75c0f0row143_col5,#T_fe4bbf5e_2fc8_11ee_8ea0_3cfdfe75c0f0row145_col3,#T_fe4bbf5e_2fc8_11ee_8ea0_3cfdfe75c0f0row147_col3,#T_fe4bbf5e_2fc8_11ee_8ea0_3cfdfe75c0f0row149_col3,#T_fe4bbf5e_2fc8_11ee_8ea0_3cfdfe75c0f0row151_col3,#T_fe4bbf5e_2fc8_11ee_8ea0_3cfdfe75c0f0row152_col5,#T_fe4bbf5e_2fc8_11ee_8ea0_3cfdfe75c0f0row153_col0,#T_fe4bbf5e_2fc8_11ee_8ea0_3cfdfe75c0f0row153_col1,#T_fe4bbf5e_2fc8_11ee_8ea0_3cfdfe75c0f0row153_col5{\n",
       "            background-color:  #fde725;\n",
       "            color:  #000000;\n",
       "        }#T_fe4bbf5e_2fc8_11ee_8ea0_3cfdfe75c0f0row0_col4,#T_fe4bbf5e_2fc8_11ee_8ea0_3cfdfe75c0f0row1_col4,#T_fe4bbf5e_2fc8_11ee_8ea0_3cfdfe75c0f0row3_col4,#T_fe4bbf5e_2fc8_11ee_8ea0_3cfdfe75c0f0row4_col4,#T_fe4bbf5e_2fc8_11ee_8ea0_3cfdfe75c0f0row5_col4,#T_fe4bbf5e_2fc8_11ee_8ea0_3cfdfe75c0f0row6_col4,#T_fe4bbf5e_2fc8_11ee_8ea0_3cfdfe75c0f0row9_col3,#T_fe4bbf5e_2fc8_11ee_8ea0_3cfdfe75c0f0row9_col5,#T_fe4bbf5e_2fc8_11ee_8ea0_3cfdfe75c0f0row10_col5,#T_fe4bbf5e_2fc8_11ee_8ea0_3cfdfe75c0f0row11_col4,#T_fe4bbf5e_2fc8_11ee_8ea0_3cfdfe75c0f0row13_col3,#T_fe4bbf5e_2fc8_11ee_8ea0_3cfdfe75c0f0row13_col4,#T_fe4bbf5e_2fc8_11ee_8ea0_3cfdfe75c0f0row14_col4,#T_fe4bbf5e_2fc8_11ee_8ea0_3cfdfe75c0f0row16_col4,#T_fe4bbf5e_2fc8_11ee_8ea0_3cfdfe75c0f0row17_col4,#T_fe4bbf5e_2fc8_11ee_8ea0_3cfdfe75c0f0row18_col3,#T_fe4bbf5e_2fc8_11ee_8ea0_3cfdfe75c0f0row18_col4,#T_fe4bbf5e_2fc8_11ee_8ea0_3cfdfe75c0f0row19_col3,#T_fe4bbf5e_2fc8_11ee_8ea0_3cfdfe75c0f0row19_col4,#T_fe4bbf5e_2fc8_11ee_8ea0_3cfdfe75c0f0row19_col5,#T_fe4bbf5e_2fc8_11ee_8ea0_3cfdfe75c0f0row20_col4,#T_fe4bbf5e_2fc8_11ee_8ea0_3cfdfe75c0f0row21_col3,#T_fe4bbf5e_2fc8_11ee_8ea0_3cfdfe75c0f0row22_col3,#T_fe4bbf5e_2fc8_11ee_8ea0_3cfdfe75c0f0row22_col4,#T_fe4bbf5e_2fc8_11ee_8ea0_3cfdfe75c0f0row24_col4,#T_fe4bbf5e_2fc8_11ee_8ea0_3cfdfe75c0f0row24_col5,#T_fe4bbf5e_2fc8_11ee_8ea0_3cfdfe75c0f0row25_col4,#T_fe4bbf5e_2fc8_11ee_8ea0_3cfdfe75c0f0row25_col5,#T_fe4bbf5e_2fc8_11ee_8ea0_3cfdfe75c0f0row26_col4,#T_fe4bbf5e_2fc8_11ee_8ea0_3cfdfe75c0f0row27_col4,#T_fe4bbf5e_2fc8_11ee_8ea0_3cfdfe75c0f0row28_col4,#T_fe4bbf5e_2fc8_11ee_8ea0_3cfdfe75c0f0row29_col4,#T_fe4bbf5e_2fc8_11ee_8ea0_3cfdfe75c0f0row30_col4,#T_fe4bbf5e_2fc8_11ee_8ea0_3cfdfe75c0f0row30_col5,#T_fe4bbf5e_2fc8_11ee_8ea0_3cfdfe75c0f0row31_col3,#T_fe4bbf5e_2fc8_11ee_8ea0_3cfdfe75c0f0row31_col4,#T_fe4bbf5e_2fc8_11ee_8ea0_3cfdfe75c0f0row33_col4,#T_fe4bbf5e_2fc8_11ee_8ea0_3cfdfe75c0f0row34_col4,#T_fe4bbf5e_2fc8_11ee_8ea0_3cfdfe75c0f0row34_col5,#T_fe4bbf5e_2fc8_11ee_8ea0_3cfdfe75c0f0row35_col4,#T_fe4bbf5e_2fc8_11ee_8ea0_3cfdfe75c0f0row36_col4,#T_fe4bbf5e_2fc8_11ee_8ea0_3cfdfe75c0f0row37_col3,#T_fe4bbf5e_2fc8_11ee_8ea0_3cfdfe75c0f0row37_col4,#T_fe4bbf5e_2fc8_11ee_8ea0_3cfdfe75c0f0row38_col4,#T_fe4bbf5e_2fc8_11ee_8ea0_3cfdfe75c0f0row39_col3,#T_fe4bbf5e_2fc8_11ee_8ea0_3cfdfe75c0f0row39_col4,#T_fe4bbf5e_2fc8_11ee_8ea0_3cfdfe75c0f0row39_col5,#T_fe4bbf5e_2fc8_11ee_8ea0_3cfdfe75c0f0row40_col3,#T_fe4bbf5e_2fc8_11ee_8ea0_3cfdfe75c0f0row40_col4,#T_fe4bbf5e_2fc8_11ee_8ea0_3cfdfe75c0f0row42_col4,#T_fe4bbf5e_2fc8_11ee_8ea0_3cfdfe75c0f0row43_col4,#T_fe4bbf5e_2fc8_11ee_8ea0_3cfdfe75c0f0row44_col4,#T_fe4bbf5e_2fc8_11ee_8ea0_3cfdfe75c0f0row45_col4,#T_fe4bbf5e_2fc8_11ee_8ea0_3cfdfe75c0f0row46_col3,#T_fe4bbf5e_2fc8_11ee_8ea0_3cfdfe75c0f0row46_col4,#T_fe4bbf5e_2fc8_11ee_8ea0_3cfdfe75c0f0row47_col4,#T_fe4bbf5e_2fc8_11ee_8ea0_3cfdfe75c0f0row47_col5,#T_fe4bbf5e_2fc8_11ee_8ea0_3cfdfe75c0f0row48_col3,#T_fe4bbf5e_2fc8_11ee_8ea0_3cfdfe75c0f0row48_col4,#T_fe4bbf5e_2fc8_11ee_8ea0_3cfdfe75c0f0row48_col5,#T_fe4bbf5e_2fc8_11ee_8ea0_3cfdfe75c0f0row49_col4,#T_fe4bbf5e_2fc8_11ee_8ea0_3cfdfe75c0f0row49_col5,#T_fe4bbf5e_2fc8_11ee_8ea0_3cfdfe75c0f0row50_col3,#T_fe4bbf5e_2fc8_11ee_8ea0_3cfdfe75c0f0row50_col4,#T_fe4bbf5e_2fc8_11ee_8ea0_3cfdfe75c0f0row51_col4,#T_fe4bbf5e_2fc8_11ee_8ea0_3cfdfe75c0f0row53_col4,#T_fe4bbf5e_2fc8_11ee_8ea0_3cfdfe75c0f0row54_col4,#T_fe4bbf5e_2fc8_11ee_8ea0_3cfdfe75c0f0row55_col4,#T_fe4bbf5e_2fc8_11ee_8ea0_3cfdfe75c0f0row59_col4,#T_fe4bbf5e_2fc8_11ee_8ea0_3cfdfe75c0f0row60_col3,#T_fe4bbf5e_2fc8_11ee_8ea0_3cfdfe75c0f0row60_col4,#T_fe4bbf5e_2fc8_11ee_8ea0_3cfdfe75c0f0row60_col5,#T_fe4bbf5e_2fc8_11ee_8ea0_3cfdfe75c0f0row61_col4,#T_fe4bbf5e_2fc8_11ee_8ea0_3cfdfe75c0f0row61_col5,#T_fe4bbf5e_2fc8_11ee_8ea0_3cfdfe75c0f0row62_col4,#T_fe4bbf5e_2fc8_11ee_8ea0_3cfdfe75c0f0row63_col5,#T_fe4bbf5e_2fc8_11ee_8ea0_3cfdfe75c0f0row64_col4,#T_fe4bbf5e_2fc8_11ee_8ea0_3cfdfe75c0f0row65_col4,#T_fe4bbf5e_2fc8_11ee_8ea0_3cfdfe75c0f0row68_col4,#T_fe4bbf5e_2fc8_11ee_8ea0_3cfdfe75c0f0row68_col5,#T_fe4bbf5e_2fc8_11ee_8ea0_3cfdfe75c0f0row69_col4,#T_fe4bbf5e_2fc8_11ee_8ea0_3cfdfe75c0f0row70_col3,#T_fe4bbf5e_2fc8_11ee_8ea0_3cfdfe75c0f0row73_col4,#T_fe4bbf5e_2fc8_11ee_8ea0_3cfdfe75c0f0row74_col4,#T_fe4bbf5e_2fc8_11ee_8ea0_3cfdfe75c0f0row75_col4,#T_fe4bbf5e_2fc8_11ee_8ea0_3cfdfe75c0f0row77_col4,#T_fe4bbf5e_2fc8_11ee_8ea0_3cfdfe75c0f0row77_col5,#T_fe4bbf5e_2fc8_11ee_8ea0_3cfdfe75c0f0row78_col4,#T_fe4bbf5e_2fc8_11ee_8ea0_3cfdfe75c0f0row81_col4,#T_fe4bbf5e_2fc8_11ee_8ea0_3cfdfe75c0f0row81_col5,#T_fe4bbf5e_2fc8_11ee_8ea0_3cfdfe75c0f0row84_col4,#T_fe4bbf5e_2fc8_11ee_8ea0_3cfdfe75c0f0row85_col4,#T_fe4bbf5e_2fc8_11ee_8ea0_3cfdfe75c0f0row86_col4,#T_fe4bbf5e_2fc8_11ee_8ea0_3cfdfe75c0f0row87_col3,#T_fe4bbf5e_2fc8_11ee_8ea0_3cfdfe75c0f0row87_col4,#T_fe4bbf5e_2fc8_11ee_8ea0_3cfdfe75c0f0row88_col3,#T_fe4bbf5e_2fc8_11ee_8ea0_3cfdfe75c0f0row88_col4,#T_fe4bbf5e_2fc8_11ee_8ea0_3cfdfe75c0f0row89_col4,#T_fe4bbf5e_2fc8_11ee_8ea0_3cfdfe75c0f0row90_col4,#T_fe4bbf5e_2fc8_11ee_8ea0_3cfdfe75c0f0row91_col3,#T_fe4bbf5e_2fc8_11ee_8ea0_3cfdfe75c0f0row91_col4,#T_fe4bbf5e_2fc8_11ee_8ea0_3cfdfe75c0f0row91_col5,#T_fe4bbf5e_2fc8_11ee_8ea0_3cfdfe75c0f0row92_col4,#T_fe4bbf5e_2fc8_11ee_8ea0_3cfdfe75c0f0row93_col4,#T_fe4bbf5e_2fc8_11ee_8ea0_3cfdfe75c0f0row93_col5,#T_fe4bbf5e_2fc8_11ee_8ea0_3cfdfe75c0f0row94_col4,#T_fe4bbf5e_2fc8_11ee_8ea0_3cfdfe75c0f0row95_col4,#T_fe4bbf5e_2fc8_11ee_8ea0_3cfdfe75c0f0row96_col4,#T_fe4bbf5e_2fc8_11ee_8ea0_3cfdfe75c0f0row97_col4,#T_fe4bbf5e_2fc8_11ee_8ea0_3cfdfe75c0f0row98_col4,#T_fe4bbf5e_2fc8_11ee_8ea0_3cfdfe75c0f0row99_col4,#T_fe4bbf5e_2fc8_11ee_8ea0_3cfdfe75c0f0row100_col4,#T_fe4bbf5e_2fc8_11ee_8ea0_3cfdfe75c0f0row101_col4,#T_fe4bbf5e_2fc8_11ee_8ea0_3cfdfe75c0f0row102_col0,#T_fe4bbf5e_2fc8_11ee_8ea0_3cfdfe75c0f0row102_col1,#T_fe4bbf5e_2fc8_11ee_8ea0_3cfdfe75c0f0row102_col3,#T_fe4bbf5e_2fc8_11ee_8ea0_3cfdfe75c0f0row104_col4,#T_fe4bbf5e_2fc8_11ee_8ea0_3cfdfe75c0f0row105_col4,#T_fe4bbf5e_2fc8_11ee_8ea0_3cfdfe75c0f0row106_col5,#T_fe4bbf5e_2fc8_11ee_8ea0_3cfdfe75c0f0row107_col4,#T_fe4bbf5e_2fc8_11ee_8ea0_3cfdfe75c0f0row107_col5,#T_fe4bbf5e_2fc8_11ee_8ea0_3cfdfe75c0f0row108_col4,#T_fe4bbf5e_2fc8_11ee_8ea0_3cfdfe75c0f0row109_col4,#T_fe4bbf5e_2fc8_11ee_8ea0_3cfdfe75c0f0row110_col4,#T_fe4bbf5e_2fc8_11ee_8ea0_3cfdfe75c0f0row110_col5,#T_fe4bbf5e_2fc8_11ee_8ea0_3cfdfe75c0f0row112_col4,#T_fe4bbf5e_2fc8_11ee_8ea0_3cfdfe75c0f0row113_col4,#T_fe4bbf5e_2fc8_11ee_8ea0_3cfdfe75c0f0row113_col5,#T_fe4bbf5e_2fc8_11ee_8ea0_3cfdfe75c0f0row114_col4,#T_fe4bbf5e_2fc8_11ee_8ea0_3cfdfe75c0f0row115_col4,#T_fe4bbf5e_2fc8_11ee_8ea0_3cfdfe75c0f0row115_col5,#T_fe4bbf5e_2fc8_11ee_8ea0_3cfdfe75c0f0row116_col3,#T_fe4bbf5e_2fc8_11ee_8ea0_3cfdfe75c0f0row117_col4,#T_fe4bbf5e_2fc8_11ee_8ea0_3cfdfe75c0f0row118_col4,#T_fe4bbf5e_2fc8_11ee_8ea0_3cfdfe75c0f0row118_col5,#T_fe4bbf5e_2fc8_11ee_8ea0_3cfdfe75c0f0row119_col4,#T_fe4bbf5e_2fc8_11ee_8ea0_3cfdfe75c0f0row120_col4,#T_fe4bbf5e_2fc8_11ee_8ea0_3cfdfe75c0f0row120_col5,#T_fe4bbf5e_2fc8_11ee_8ea0_3cfdfe75c0f0row121_col4,#T_fe4bbf5e_2fc8_11ee_8ea0_3cfdfe75c0f0row122_col3,#T_fe4bbf5e_2fc8_11ee_8ea0_3cfdfe75c0f0row122_col4,#T_fe4bbf5e_2fc8_11ee_8ea0_3cfdfe75c0f0row123_col5,#T_fe4bbf5e_2fc8_11ee_8ea0_3cfdfe75c0f0row124_col3,#T_fe4bbf5e_2fc8_11ee_8ea0_3cfdfe75c0f0row124_col4,#T_fe4bbf5e_2fc8_11ee_8ea0_3cfdfe75c0f0row126_col5,#T_fe4bbf5e_2fc8_11ee_8ea0_3cfdfe75c0f0row127_col3,#T_fe4bbf5e_2fc8_11ee_8ea0_3cfdfe75c0f0row127_col4,#T_fe4bbf5e_2fc8_11ee_8ea0_3cfdfe75c0f0row127_col5,#T_fe4bbf5e_2fc8_11ee_8ea0_3cfdfe75c0f0row128_col4,#T_fe4bbf5e_2fc8_11ee_8ea0_3cfdfe75c0f0row131_col3,#T_fe4bbf5e_2fc8_11ee_8ea0_3cfdfe75c0f0row131_col4,#T_fe4bbf5e_2fc8_11ee_8ea0_3cfdfe75c0f0row131_col5,#T_fe4bbf5e_2fc8_11ee_8ea0_3cfdfe75c0f0row132_col3,#T_fe4bbf5e_2fc8_11ee_8ea0_3cfdfe75c0f0row132_col4,#T_fe4bbf5e_2fc8_11ee_8ea0_3cfdfe75c0f0row134_col3,#T_fe4bbf5e_2fc8_11ee_8ea0_3cfdfe75c0f0row134_col4,#T_fe4bbf5e_2fc8_11ee_8ea0_3cfdfe75c0f0row135_col3,#T_fe4bbf5e_2fc8_11ee_8ea0_3cfdfe75c0f0row135_col4,#T_fe4bbf5e_2fc8_11ee_8ea0_3cfdfe75c0f0row136_col4,#T_fe4bbf5e_2fc8_11ee_8ea0_3cfdfe75c0f0row137_col3,#T_fe4bbf5e_2fc8_11ee_8ea0_3cfdfe75c0f0row138_col3,#T_fe4bbf5e_2fc8_11ee_8ea0_3cfdfe75c0f0row138_col4,#T_fe4bbf5e_2fc8_11ee_8ea0_3cfdfe75c0f0row139_col3,#T_fe4bbf5e_2fc8_11ee_8ea0_3cfdfe75c0f0row139_col4,#T_fe4bbf5e_2fc8_11ee_8ea0_3cfdfe75c0f0row139_col5,#T_fe4bbf5e_2fc8_11ee_8ea0_3cfdfe75c0f0row140_col3,#T_fe4bbf5e_2fc8_11ee_8ea0_3cfdfe75c0f0row140_col4,#T_fe4bbf5e_2fc8_11ee_8ea0_3cfdfe75c0f0row141_col3,#T_fe4bbf5e_2fc8_11ee_8ea0_3cfdfe75c0f0row141_col4,#T_fe4bbf5e_2fc8_11ee_8ea0_3cfdfe75c0f0row141_col5,#T_fe4bbf5e_2fc8_11ee_8ea0_3cfdfe75c0f0row143_col4,#T_fe4bbf5e_2fc8_11ee_8ea0_3cfdfe75c0f0row144_col5,#T_fe4bbf5e_2fc8_11ee_8ea0_3cfdfe75c0f0row145_col4,#T_fe4bbf5e_2fc8_11ee_8ea0_3cfdfe75c0f0row145_col5,#T_fe4bbf5e_2fc8_11ee_8ea0_3cfdfe75c0f0row146_col4,#T_fe4bbf5e_2fc8_11ee_8ea0_3cfdfe75c0f0row147_col4,#T_fe4bbf5e_2fc8_11ee_8ea0_3cfdfe75c0f0row147_col5,#T_fe4bbf5e_2fc8_11ee_8ea0_3cfdfe75c0f0row148_col3,#T_fe4bbf5e_2fc8_11ee_8ea0_3cfdfe75c0f0row148_col4,#T_fe4bbf5e_2fc8_11ee_8ea0_3cfdfe75c0f0row148_col5,#T_fe4bbf5e_2fc8_11ee_8ea0_3cfdfe75c0f0row149_col4,#T_fe4bbf5e_2fc8_11ee_8ea0_3cfdfe75c0f0row149_col5,#T_fe4bbf5e_2fc8_11ee_8ea0_3cfdfe75c0f0row150_col3,#T_fe4bbf5e_2fc8_11ee_8ea0_3cfdfe75c0f0row150_col4,#T_fe4bbf5e_2fc8_11ee_8ea0_3cfdfe75c0f0row151_col4,#T_fe4bbf5e_2fc8_11ee_8ea0_3cfdfe75c0f0row152_col2,#T_fe4bbf5e_2fc8_11ee_8ea0_3cfdfe75c0f0row152_col4,#T_fe4bbf5e_2fc8_11ee_8ea0_3cfdfe75c0f0row153_col2,#T_fe4bbf5e_2fc8_11ee_8ea0_3cfdfe75c0f0row153_col4{\n",
       "            background-color:  #35b779;\n",
       "            color:  #000000;\n",
       "        }#T_fe4bbf5e_2fc8_11ee_8ea0_3cfdfe75c0f0row0_col5,#T_fe4bbf5e_2fc8_11ee_8ea0_3cfdfe75c0f0row1_col5,#T_fe4bbf5e_2fc8_11ee_8ea0_3cfdfe75c0f0row2_col4,#T_fe4bbf5e_2fc8_11ee_8ea0_3cfdfe75c0f0row2_col5,#T_fe4bbf5e_2fc8_11ee_8ea0_3cfdfe75c0f0row3_col3,#T_fe4bbf5e_2fc8_11ee_8ea0_3cfdfe75c0f0row3_col5,#T_fe4bbf5e_2fc8_11ee_8ea0_3cfdfe75c0f0row5_col3,#T_fe4bbf5e_2fc8_11ee_8ea0_3cfdfe75c0f0row5_col5,#T_fe4bbf5e_2fc8_11ee_8ea0_3cfdfe75c0f0row6_col5,#T_fe4bbf5e_2fc8_11ee_8ea0_3cfdfe75c0f0row7_col4,#T_fe4bbf5e_2fc8_11ee_8ea0_3cfdfe75c0f0row8_col4,#T_fe4bbf5e_2fc8_11ee_8ea0_3cfdfe75c0f0row8_col5,#T_fe4bbf5e_2fc8_11ee_8ea0_3cfdfe75c0f0row9_col4,#T_fe4bbf5e_2fc8_11ee_8ea0_3cfdfe75c0f0row10_col4,#T_fe4bbf5e_2fc8_11ee_8ea0_3cfdfe75c0f0row11_col5,#T_fe4bbf5e_2fc8_11ee_8ea0_3cfdfe75c0f0row12_col2,#T_fe4bbf5e_2fc8_11ee_8ea0_3cfdfe75c0f0row13_col5,#T_fe4bbf5e_2fc8_11ee_8ea0_3cfdfe75c0f0row15_col2,#T_fe4bbf5e_2fc8_11ee_8ea0_3cfdfe75c0f0row16_col2,#T_fe4bbf5e_2fc8_11ee_8ea0_3cfdfe75c0f0row17_col3,#T_fe4bbf5e_2fc8_11ee_8ea0_3cfdfe75c0f0row17_col5,#T_fe4bbf5e_2fc8_11ee_8ea0_3cfdfe75c0f0row18_col5,#T_fe4bbf5e_2fc8_11ee_8ea0_3cfdfe75c0f0row20_col5,#T_fe4bbf5e_2fc8_11ee_8ea0_3cfdfe75c0f0row21_col4,#T_fe4bbf5e_2fc8_11ee_8ea0_3cfdfe75c0f0row21_col5,#T_fe4bbf5e_2fc8_11ee_8ea0_3cfdfe75c0f0row22_col5,#T_fe4bbf5e_2fc8_11ee_8ea0_3cfdfe75c0f0row23_col4,#T_fe4bbf5e_2fc8_11ee_8ea0_3cfdfe75c0f0row25_col3,#T_fe4bbf5e_2fc8_11ee_8ea0_3cfdfe75c0f0row26_col5,#T_fe4bbf5e_2fc8_11ee_8ea0_3cfdfe75c0f0row27_col5,#T_fe4bbf5e_2fc8_11ee_8ea0_3cfdfe75c0f0row28_col5,#T_fe4bbf5e_2fc8_11ee_8ea0_3cfdfe75c0f0row29_col5,#T_fe4bbf5e_2fc8_11ee_8ea0_3cfdfe75c0f0row33_col5,#T_fe4bbf5e_2fc8_11ee_8ea0_3cfdfe75c0f0row35_col5,#T_fe4bbf5e_2fc8_11ee_8ea0_3cfdfe75c0f0row36_col5,#T_fe4bbf5e_2fc8_11ee_8ea0_3cfdfe75c0f0row37_col5,#T_fe4bbf5e_2fc8_11ee_8ea0_3cfdfe75c0f0row38_col3,#T_fe4bbf5e_2fc8_11ee_8ea0_3cfdfe75c0f0row38_col5,#T_fe4bbf5e_2fc8_11ee_8ea0_3cfdfe75c0f0row40_col5,#T_fe4bbf5e_2fc8_11ee_8ea0_3cfdfe75c0f0row41_col4,#T_fe4bbf5e_2fc8_11ee_8ea0_3cfdfe75c0f0row41_col5,#T_fe4bbf5e_2fc8_11ee_8ea0_3cfdfe75c0f0row43_col5,#T_fe4bbf5e_2fc8_11ee_8ea0_3cfdfe75c0f0row44_col5,#T_fe4bbf5e_2fc8_11ee_8ea0_3cfdfe75c0f0row45_col5,#T_fe4bbf5e_2fc8_11ee_8ea0_3cfdfe75c0f0row46_col5,#T_fe4bbf5e_2fc8_11ee_8ea0_3cfdfe75c0f0row50_col5,#T_fe4bbf5e_2fc8_11ee_8ea0_3cfdfe75c0f0row51_col0,#T_fe4bbf5e_2fc8_11ee_8ea0_3cfdfe75c0f0row51_col1,#T_fe4bbf5e_2fc8_11ee_8ea0_3cfdfe75c0f0row51_col3,#T_fe4bbf5e_2fc8_11ee_8ea0_3cfdfe75c0f0row52_col2,#T_fe4bbf5e_2fc8_11ee_8ea0_3cfdfe75c0f0row53_col5,#T_fe4bbf5e_2fc8_11ee_8ea0_3cfdfe75c0f0row55_col5,#T_fe4bbf5e_2fc8_11ee_8ea0_3cfdfe75c0f0row56_col2,#T_fe4bbf5e_2fc8_11ee_8ea0_3cfdfe75c0f0row57_col2,#T_fe4bbf5e_2fc8_11ee_8ea0_3cfdfe75c0f0row59_col5,#T_fe4bbf5e_2fc8_11ee_8ea0_3cfdfe75c0f0row61_col3,#T_fe4bbf5e_2fc8_11ee_8ea0_3cfdfe75c0f0row64_col5,#T_fe4bbf5e_2fc8_11ee_8ea0_3cfdfe75c0f0row65_col5,#T_fe4bbf5e_2fc8_11ee_8ea0_3cfdfe75c0f0row69_col3,#T_fe4bbf5e_2fc8_11ee_8ea0_3cfdfe75c0f0row69_col5,#T_fe4bbf5e_2fc8_11ee_8ea0_3cfdfe75c0f0row70_col2,#T_fe4bbf5e_2fc8_11ee_8ea0_3cfdfe75c0f0row71_col2,#T_fe4bbf5e_2fc8_11ee_8ea0_3cfdfe75c0f0row72_col5,#T_fe4bbf5e_2fc8_11ee_8ea0_3cfdfe75c0f0row73_col3,#T_fe4bbf5e_2fc8_11ee_8ea0_3cfdfe75c0f0row73_col5,#T_fe4bbf5e_2fc8_11ee_8ea0_3cfdfe75c0f0row76_col3,#T_fe4bbf5e_2fc8_11ee_8ea0_3cfdfe75c0f0row76_col4,#T_fe4bbf5e_2fc8_11ee_8ea0_3cfdfe75c0f0row76_col5,#T_fe4bbf5e_2fc8_11ee_8ea0_3cfdfe75c0f0row77_col3,#T_fe4bbf5e_2fc8_11ee_8ea0_3cfdfe75c0f0row78_col5,#T_fe4bbf5e_2fc8_11ee_8ea0_3cfdfe75c0f0row79_col2,#T_fe4bbf5e_2fc8_11ee_8ea0_3cfdfe75c0f0row80_col2,#T_fe4bbf5e_2fc8_11ee_8ea0_3cfdfe75c0f0row81_col3,#T_fe4bbf5e_2fc8_11ee_8ea0_3cfdfe75c0f0row82_col2,#T_fe4bbf5e_2fc8_11ee_8ea0_3cfdfe75c0f0row82_col3,#T_fe4bbf5e_2fc8_11ee_8ea0_3cfdfe75c0f0row83_col2,#T_fe4bbf5e_2fc8_11ee_8ea0_3cfdfe75c0f0row85_col2,#T_fe4bbf5e_2fc8_11ee_8ea0_3cfdfe75c0f0row86_col3,#T_fe4bbf5e_2fc8_11ee_8ea0_3cfdfe75c0f0row86_col5,#T_fe4bbf5e_2fc8_11ee_8ea0_3cfdfe75c0f0row87_col5,#T_fe4bbf5e_2fc8_11ee_8ea0_3cfdfe75c0f0row88_col5,#T_fe4bbf5e_2fc8_11ee_8ea0_3cfdfe75c0f0row89_col5,#T_fe4bbf5e_2fc8_11ee_8ea0_3cfdfe75c0f0row90_col3,#T_fe4bbf5e_2fc8_11ee_8ea0_3cfdfe75c0f0row92_col5,#T_fe4bbf5e_2fc8_11ee_8ea0_3cfdfe75c0f0row94_col5,#T_fe4bbf5e_2fc8_11ee_8ea0_3cfdfe75c0f0row95_col5,#T_fe4bbf5e_2fc8_11ee_8ea0_3cfdfe75c0f0row96_col5,#T_fe4bbf5e_2fc8_11ee_8ea0_3cfdfe75c0f0row99_col3,#T_fe4bbf5e_2fc8_11ee_8ea0_3cfdfe75c0f0row99_col5,#T_fe4bbf5e_2fc8_11ee_8ea0_3cfdfe75c0f0row100_col5,#T_fe4bbf5e_2fc8_11ee_8ea0_3cfdfe75c0f0row106_col4,#T_fe4bbf5e_2fc8_11ee_8ea0_3cfdfe75c0f0row107_col3,#T_fe4bbf5e_2fc8_11ee_8ea0_3cfdfe75c0f0row108_col5,#T_fe4bbf5e_2fc8_11ee_8ea0_3cfdfe75c0f0row109_col5,#T_fe4bbf5e_2fc8_11ee_8ea0_3cfdfe75c0f0row111_col2,#T_fe4bbf5e_2fc8_11ee_8ea0_3cfdfe75c0f0row114_col5,#T_fe4bbf5e_2fc8_11ee_8ea0_3cfdfe75c0f0row116_col2,#T_fe4bbf5e_2fc8_11ee_8ea0_3cfdfe75c0f0row119_col2,#T_fe4bbf5e_2fc8_11ee_8ea0_3cfdfe75c0f0row121_col5,#T_fe4bbf5e_2fc8_11ee_8ea0_3cfdfe75c0f0row122_col5,#T_fe4bbf5e_2fc8_11ee_8ea0_3cfdfe75c0f0row124_col5,#T_fe4bbf5e_2fc8_11ee_8ea0_3cfdfe75c0f0row125_col4,#T_fe4bbf5e_2fc8_11ee_8ea0_3cfdfe75c0f0row125_col5,#T_fe4bbf5e_2fc8_11ee_8ea0_3cfdfe75c0f0row129_col4,#T_fe4bbf5e_2fc8_11ee_8ea0_3cfdfe75c0f0row130_col4,#T_fe4bbf5e_2fc8_11ee_8ea0_3cfdfe75c0f0row130_col5,#T_fe4bbf5e_2fc8_11ee_8ea0_3cfdfe75c0f0row132_col5,#T_fe4bbf5e_2fc8_11ee_8ea0_3cfdfe75c0f0row133_col4,#T_fe4bbf5e_2fc8_11ee_8ea0_3cfdfe75c0f0row133_col5,#T_fe4bbf5e_2fc8_11ee_8ea0_3cfdfe75c0f0row134_col5,#T_fe4bbf5e_2fc8_11ee_8ea0_3cfdfe75c0f0row135_col5,#T_fe4bbf5e_2fc8_11ee_8ea0_3cfdfe75c0f0row136_col5,#T_fe4bbf5e_2fc8_11ee_8ea0_3cfdfe75c0f0row137_col4,#T_fe4bbf5e_2fc8_11ee_8ea0_3cfdfe75c0f0row137_col5,#T_fe4bbf5e_2fc8_11ee_8ea0_3cfdfe75c0f0row138_col5,#T_fe4bbf5e_2fc8_11ee_8ea0_3cfdfe75c0f0row140_col5,#T_fe4bbf5e_2fc8_11ee_8ea0_3cfdfe75c0f0row142_col4,#T_fe4bbf5e_2fc8_11ee_8ea0_3cfdfe75c0f0row142_col5,#T_fe4bbf5e_2fc8_11ee_8ea0_3cfdfe75c0f0row144_col4,#T_fe4bbf5e_2fc8_11ee_8ea0_3cfdfe75c0f0row146_col5,#T_fe4bbf5e_2fc8_11ee_8ea0_3cfdfe75c0f0row150_col5,#T_fe4bbf5e_2fc8_11ee_8ea0_3cfdfe75c0f0row151_col5{\n",
       "            background-color:  #31688e;\n",
       "            color:  #f1f1f1;\n",
       "        }#T_fe4bbf5e_2fc8_11ee_8ea0_3cfdfe75c0f0row1_col0,#T_fe4bbf5e_2fc8_11ee_8ea0_3cfdfe75c0f0row1_col1{\n",
       "            background-color:  #440256;\n",
       "            color:  #f1f1f1;\n",
       "        }#T_fe4bbf5e_2fc8_11ee_8ea0_3cfdfe75c0f0row2_col0,#T_fe4bbf5e_2fc8_11ee_8ea0_3cfdfe75c0f0row2_col1{\n",
       "            background-color:  #450559;\n",
       "            color:  #f1f1f1;\n",
       "        }#T_fe4bbf5e_2fc8_11ee_8ea0_3cfdfe75c0f0row3_col0,#T_fe4bbf5e_2fc8_11ee_8ea0_3cfdfe75c0f0row3_col1{\n",
       "            background-color:  #46085c;\n",
       "            color:  #f1f1f1;\n",
       "        }#T_fe4bbf5e_2fc8_11ee_8ea0_3cfdfe75c0f0row4_col0,#T_fe4bbf5e_2fc8_11ee_8ea0_3cfdfe75c0f0row4_col1{\n",
       "            background-color:  #460a5d;\n",
       "            color:  #f1f1f1;\n",
       "        }#T_fe4bbf5e_2fc8_11ee_8ea0_3cfdfe75c0f0row5_col0,#T_fe4bbf5e_2fc8_11ee_8ea0_3cfdfe75c0f0row5_col1{\n",
       "            background-color:  #470d60;\n",
       "            color:  #f1f1f1;\n",
       "        }#T_fe4bbf5e_2fc8_11ee_8ea0_3cfdfe75c0f0row6_col0,#T_fe4bbf5e_2fc8_11ee_8ea0_3cfdfe75c0f0row6_col1{\n",
       "            background-color:  #471063;\n",
       "            color:  #f1f1f1;\n",
       "        }#T_fe4bbf5e_2fc8_11ee_8ea0_3cfdfe75c0f0row7_col0,#T_fe4bbf5e_2fc8_11ee_8ea0_3cfdfe75c0f0row7_col1{\n",
       "            background-color:  #471164;\n",
       "            color:  #f1f1f1;\n",
       "        }#T_fe4bbf5e_2fc8_11ee_8ea0_3cfdfe75c0f0row8_col0,#T_fe4bbf5e_2fc8_11ee_8ea0_3cfdfe75c0f0row8_col1{\n",
       "            background-color:  #481467;\n",
       "            color:  #f1f1f1;\n",
       "        }#T_fe4bbf5e_2fc8_11ee_8ea0_3cfdfe75c0f0row9_col0,#T_fe4bbf5e_2fc8_11ee_8ea0_3cfdfe75c0f0row9_col1{\n",
       "            background-color:  #481769;\n",
       "            color:  #f1f1f1;\n",
       "        }#T_fe4bbf5e_2fc8_11ee_8ea0_3cfdfe75c0f0row10_col0,#T_fe4bbf5e_2fc8_11ee_8ea0_3cfdfe75c0f0row10_col1{\n",
       "            background-color:  #48186a;\n",
       "            color:  #f1f1f1;\n",
       "        }#T_fe4bbf5e_2fc8_11ee_8ea0_3cfdfe75c0f0row11_col0,#T_fe4bbf5e_2fc8_11ee_8ea0_3cfdfe75c0f0row11_col1{\n",
       "            background-color:  #481b6d;\n",
       "            color:  #f1f1f1;\n",
       "        }#T_fe4bbf5e_2fc8_11ee_8ea0_3cfdfe75c0f0row12_col0,#T_fe4bbf5e_2fc8_11ee_8ea0_3cfdfe75c0f0row12_col1{\n",
       "            background-color:  #481d6f;\n",
       "            color:  #f1f1f1;\n",
       "        }#T_fe4bbf5e_2fc8_11ee_8ea0_3cfdfe75c0f0row13_col0,#T_fe4bbf5e_2fc8_11ee_8ea0_3cfdfe75c0f0row13_col1{\n",
       "            background-color:  #481f70;\n",
       "            color:  #f1f1f1;\n",
       "        }#T_fe4bbf5e_2fc8_11ee_8ea0_3cfdfe75c0f0row14_col0,#T_fe4bbf5e_2fc8_11ee_8ea0_3cfdfe75c0f0row14_col1{\n",
       "            background-color:  #482173;\n",
       "            color:  #f1f1f1;\n",
       "        }#T_fe4bbf5e_2fc8_11ee_8ea0_3cfdfe75c0f0row15_col0,#T_fe4bbf5e_2fc8_11ee_8ea0_3cfdfe75c0f0row15_col1{\n",
       "            background-color:  #482475;\n",
       "            color:  #f1f1f1;\n",
       "        }#T_fe4bbf5e_2fc8_11ee_8ea0_3cfdfe75c0f0row16_col0,#T_fe4bbf5e_2fc8_11ee_8ea0_3cfdfe75c0f0row16_col1{\n",
       "            background-color:  #482576;\n",
       "            color:  #f1f1f1;\n",
       "        }#T_fe4bbf5e_2fc8_11ee_8ea0_3cfdfe75c0f0row17_col0,#T_fe4bbf5e_2fc8_11ee_8ea0_3cfdfe75c0f0row17_col1{\n",
       "            background-color:  #482878;\n",
       "            color:  #f1f1f1;\n",
       "        }#T_fe4bbf5e_2fc8_11ee_8ea0_3cfdfe75c0f0row18_col0,#T_fe4bbf5e_2fc8_11ee_8ea0_3cfdfe75c0f0row18_col1{\n",
       "            background-color:  #472a7a;\n",
       "            color:  #f1f1f1;\n",
       "        }#T_fe4bbf5e_2fc8_11ee_8ea0_3cfdfe75c0f0row19_col0,#T_fe4bbf5e_2fc8_11ee_8ea0_3cfdfe75c0f0row19_col1{\n",
       "            background-color:  #472c7a;\n",
       "            color:  #f1f1f1;\n",
       "        }#T_fe4bbf5e_2fc8_11ee_8ea0_3cfdfe75c0f0row20_col0,#T_fe4bbf5e_2fc8_11ee_8ea0_3cfdfe75c0f0row20_col1{\n",
       "            background-color:  #472e7c;\n",
       "            color:  #f1f1f1;\n",
       "        }#T_fe4bbf5e_2fc8_11ee_8ea0_3cfdfe75c0f0row21_col0,#T_fe4bbf5e_2fc8_11ee_8ea0_3cfdfe75c0f0row21_col1{\n",
       "            background-color:  #46307e;\n",
       "            color:  #f1f1f1;\n",
       "        }#T_fe4bbf5e_2fc8_11ee_8ea0_3cfdfe75c0f0row22_col0,#T_fe4bbf5e_2fc8_11ee_8ea0_3cfdfe75c0f0row22_col1{\n",
       "            background-color:  #46327e;\n",
       "            color:  #f1f1f1;\n",
       "        }#T_fe4bbf5e_2fc8_11ee_8ea0_3cfdfe75c0f0row23_col0,#T_fe4bbf5e_2fc8_11ee_8ea0_3cfdfe75c0f0row23_col1{\n",
       "            background-color:  #463480;\n",
       "            color:  #f1f1f1;\n",
       "        }#T_fe4bbf5e_2fc8_11ee_8ea0_3cfdfe75c0f0row24_col0,#T_fe4bbf5e_2fc8_11ee_8ea0_3cfdfe75c0f0row24_col1{\n",
       "            background-color:  #453781;\n",
       "            color:  #f1f1f1;\n",
       "        }#T_fe4bbf5e_2fc8_11ee_8ea0_3cfdfe75c0f0row25_col0,#T_fe4bbf5e_2fc8_11ee_8ea0_3cfdfe75c0f0row25_col1{\n",
       "            background-color:  #453882;\n",
       "            color:  #f1f1f1;\n",
       "        }#T_fe4bbf5e_2fc8_11ee_8ea0_3cfdfe75c0f0row26_col0,#T_fe4bbf5e_2fc8_11ee_8ea0_3cfdfe75c0f0row26_col1{\n",
       "            background-color:  #443a83;\n",
       "            color:  #f1f1f1;\n",
       "        }#T_fe4bbf5e_2fc8_11ee_8ea0_3cfdfe75c0f0row27_col0,#T_fe4bbf5e_2fc8_11ee_8ea0_3cfdfe75c0f0row27_col1{\n",
       "            background-color:  #433d84;\n",
       "            color:  #f1f1f1;\n",
       "        }#T_fe4bbf5e_2fc8_11ee_8ea0_3cfdfe75c0f0row28_col0,#T_fe4bbf5e_2fc8_11ee_8ea0_3cfdfe75c0f0row28_col1{\n",
       "            background-color:  #433e85;\n",
       "            color:  #f1f1f1;\n",
       "        }#T_fe4bbf5e_2fc8_11ee_8ea0_3cfdfe75c0f0row29_col0,#T_fe4bbf5e_2fc8_11ee_8ea0_3cfdfe75c0f0row29_col1{\n",
       "            background-color:  #424086;\n",
       "            color:  #f1f1f1;\n",
       "        }#T_fe4bbf5e_2fc8_11ee_8ea0_3cfdfe75c0f0row30_col0,#T_fe4bbf5e_2fc8_11ee_8ea0_3cfdfe75c0f0row30_col1{\n",
       "            background-color:  #414287;\n",
       "            color:  #f1f1f1;\n",
       "        }#T_fe4bbf5e_2fc8_11ee_8ea0_3cfdfe75c0f0row31_col0,#T_fe4bbf5e_2fc8_11ee_8ea0_3cfdfe75c0f0row31_col1{\n",
       "            background-color:  #414487;\n",
       "            color:  #f1f1f1;\n",
       "        }#T_fe4bbf5e_2fc8_11ee_8ea0_3cfdfe75c0f0row32_col0,#T_fe4bbf5e_2fc8_11ee_8ea0_3cfdfe75c0f0row32_col1{\n",
       "            background-color:  #404688;\n",
       "            color:  #f1f1f1;\n",
       "        }#T_fe4bbf5e_2fc8_11ee_8ea0_3cfdfe75c0f0row33_col0,#T_fe4bbf5e_2fc8_11ee_8ea0_3cfdfe75c0f0row33_col1{\n",
       "            background-color:  #3f4889;\n",
       "            color:  #f1f1f1;\n",
       "        }#T_fe4bbf5e_2fc8_11ee_8ea0_3cfdfe75c0f0row34_col0,#T_fe4bbf5e_2fc8_11ee_8ea0_3cfdfe75c0f0row34_col1{\n",
       "            background-color:  #3e4989;\n",
       "            color:  #f1f1f1;\n",
       "        }#T_fe4bbf5e_2fc8_11ee_8ea0_3cfdfe75c0f0row35_col0,#T_fe4bbf5e_2fc8_11ee_8ea0_3cfdfe75c0f0row35_col1{\n",
       "            background-color:  #3e4c8a;\n",
       "            color:  #f1f1f1;\n",
       "        }#T_fe4bbf5e_2fc8_11ee_8ea0_3cfdfe75c0f0row36_col0,#T_fe4bbf5e_2fc8_11ee_8ea0_3cfdfe75c0f0row36_col1{\n",
       "            background-color:  #3d4e8a;\n",
       "            color:  #f1f1f1;\n",
       "        }#T_fe4bbf5e_2fc8_11ee_8ea0_3cfdfe75c0f0row37_col0,#T_fe4bbf5e_2fc8_11ee_8ea0_3cfdfe75c0f0row37_col1{\n",
       "            background-color:  #3c4f8a;\n",
       "            color:  #f1f1f1;\n",
       "        }#T_fe4bbf5e_2fc8_11ee_8ea0_3cfdfe75c0f0row38_col0,#T_fe4bbf5e_2fc8_11ee_8ea0_3cfdfe75c0f0row38_col1{\n",
       "            background-color:  #3b518b;\n",
       "            color:  #f1f1f1;\n",
       "        }#T_fe4bbf5e_2fc8_11ee_8ea0_3cfdfe75c0f0row39_col0,#T_fe4bbf5e_2fc8_11ee_8ea0_3cfdfe75c0f0row39_col1{\n",
       "            background-color:  #3a538b;\n",
       "            color:  #f1f1f1;\n",
       "        }#T_fe4bbf5e_2fc8_11ee_8ea0_3cfdfe75c0f0row40_col0,#T_fe4bbf5e_2fc8_11ee_8ea0_3cfdfe75c0f0row40_col1{\n",
       "            background-color:  #3a548c;\n",
       "            color:  #f1f1f1;\n",
       "        }#T_fe4bbf5e_2fc8_11ee_8ea0_3cfdfe75c0f0row41_col0,#T_fe4bbf5e_2fc8_11ee_8ea0_3cfdfe75c0f0row41_col1{\n",
       "            background-color:  #39568c;\n",
       "            color:  #f1f1f1;\n",
       "        }#T_fe4bbf5e_2fc8_11ee_8ea0_3cfdfe75c0f0row42_col0,#T_fe4bbf5e_2fc8_11ee_8ea0_3cfdfe75c0f0row42_col1{\n",
       "            background-color:  #38598c;\n",
       "            color:  #f1f1f1;\n",
       "        }#T_fe4bbf5e_2fc8_11ee_8ea0_3cfdfe75c0f0row43_col0,#T_fe4bbf5e_2fc8_11ee_8ea0_3cfdfe75c0f0row43_col1{\n",
       "            background-color:  #375a8c;\n",
       "            color:  #f1f1f1;\n",
       "        }#T_fe4bbf5e_2fc8_11ee_8ea0_3cfdfe75c0f0row44_col0,#T_fe4bbf5e_2fc8_11ee_8ea0_3cfdfe75c0f0row44_col1{\n",
       "            background-color:  #365c8d;\n",
       "            color:  #f1f1f1;\n",
       "        }#T_fe4bbf5e_2fc8_11ee_8ea0_3cfdfe75c0f0row45_col0,#T_fe4bbf5e_2fc8_11ee_8ea0_3cfdfe75c0f0row45_col1{\n",
       "            background-color:  #355e8d;\n",
       "            color:  #f1f1f1;\n",
       "        }#T_fe4bbf5e_2fc8_11ee_8ea0_3cfdfe75c0f0row46_col0,#T_fe4bbf5e_2fc8_11ee_8ea0_3cfdfe75c0f0row46_col1{\n",
       "            background-color:  #355f8d;\n",
       "            color:  #f1f1f1;\n",
       "        }#T_fe4bbf5e_2fc8_11ee_8ea0_3cfdfe75c0f0row47_col0,#T_fe4bbf5e_2fc8_11ee_8ea0_3cfdfe75c0f0row47_col1{\n",
       "            background-color:  #34618d;\n",
       "            color:  #f1f1f1;\n",
       "        }#T_fe4bbf5e_2fc8_11ee_8ea0_3cfdfe75c0f0row48_col0,#T_fe4bbf5e_2fc8_11ee_8ea0_3cfdfe75c0f0row48_col1{\n",
       "            background-color:  #33638d;\n",
       "            color:  #f1f1f1;\n",
       "        }#T_fe4bbf5e_2fc8_11ee_8ea0_3cfdfe75c0f0row49_col0,#T_fe4bbf5e_2fc8_11ee_8ea0_3cfdfe75c0f0row49_col1{\n",
       "            background-color:  #32648e;\n",
       "            color:  #f1f1f1;\n",
       "        }#T_fe4bbf5e_2fc8_11ee_8ea0_3cfdfe75c0f0row50_col0,#T_fe4bbf5e_2fc8_11ee_8ea0_3cfdfe75c0f0row50_col1{\n",
       "            background-color:  #31668e;\n",
       "            color:  #f1f1f1;\n",
       "        }#T_fe4bbf5e_2fc8_11ee_8ea0_3cfdfe75c0f0row52_col0,#T_fe4bbf5e_2fc8_11ee_8ea0_3cfdfe75c0f0row52_col1{\n",
       "            background-color:  #306a8e;\n",
       "            color:  #f1f1f1;\n",
       "        }#T_fe4bbf5e_2fc8_11ee_8ea0_3cfdfe75c0f0row53_col0,#T_fe4bbf5e_2fc8_11ee_8ea0_3cfdfe75c0f0row53_col1{\n",
       "            background-color:  #2f6b8e;\n",
       "            color:  #f1f1f1;\n",
       "        }#T_fe4bbf5e_2fc8_11ee_8ea0_3cfdfe75c0f0row54_col0,#T_fe4bbf5e_2fc8_11ee_8ea0_3cfdfe75c0f0row54_col1{\n",
       "            background-color:  #2e6d8e;\n",
       "            color:  #f1f1f1;\n",
       "        }#T_fe4bbf5e_2fc8_11ee_8ea0_3cfdfe75c0f0row55_col0,#T_fe4bbf5e_2fc8_11ee_8ea0_3cfdfe75c0f0row55_col1{\n",
       "            background-color:  #2e6f8e;\n",
       "            color:  #f1f1f1;\n",
       "        }#T_fe4bbf5e_2fc8_11ee_8ea0_3cfdfe75c0f0row56_col0,#T_fe4bbf5e_2fc8_11ee_8ea0_3cfdfe75c0f0row56_col1{\n",
       "            background-color:  #2d708e;\n",
       "            color:  #f1f1f1;\n",
       "        }#T_fe4bbf5e_2fc8_11ee_8ea0_3cfdfe75c0f0row57_col0,#T_fe4bbf5e_2fc8_11ee_8ea0_3cfdfe75c0f0row57_col1{\n",
       "            background-color:  #2c718e;\n",
       "            color:  #f1f1f1;\n",
       "        }#T_fe4bbf5e_2fc8_11ee_8ea0_3cfdfe75c0f0row58_col0,#T_fe4bbf5e_2fc8_11ee_8ea0_3cfdfe75c0f0row58_col1{\n",
       "            background-color:  #2c738e;\n",
       "            color:  #f1f1f1;\n",
       "        }#T_fe4bbf5e_2fc8_11ee_8ea0_3cfdfe75c0f0row59_col0,#T_fe4bbf5e_2fc8_11ee_8ea0_3cfdfe75c0f0row59_col1{\n",
       "            background-color:  #2b748e;\n",
       "            color:  #f1f1f1;\n",
       "        }#T_fe4bbf5e_2fc8_11ee_8ea0_3cfdfe75c0f0row60_col0,#T_fe4bbf5e_2fc8_11ee_8ea0_3cfdfe75c0f0row60_col1{\n",
       "            background-color:  #2a768e;\n",
       "            color:  #f1f1f1;\n",
       "        }#T_fe4bbf5e_2fc8_11ee_8ea0_3cfdfe75c0f0row61_col0,#T_fe4bbf5e_2fc8_11ee_8ea0_3cfdfe75c0f0row61_col1{\n",
       "            background-color:  #2a788e;\n",
       "            color:  #000000;\n",
       "        }#T_fe4bbf5e_2fc8_11ee_8ea0_3cfdfe75c0f0row62_col0,#T_fe4bbf5e_2fc8_11ee_8ea0_3cfdfe75c0f0row62_col1{\n",
       "            background-color:  #29798e;\n",
       "            color:  #000000;\n",
       "        }#T_fe4bbf5e_2fc8_11ee_8ea0_3cfdfe75c0f0row63_col0,#T_fe4bbf5e_2fc8_11ee_8ea0_3cfdfe75c0f0row63_col1{\n",
       "            background-color:  #297b8e;\n",
       "            color:  #000000;\n",
       "        }#T_fe4bbf5e_2fc8_11ee_8ea0_3cfdfe75c0f0row64_col0,#T_fe4bbf5e_2fc8_11ee_8ea0_3cfdfe75c0f0row64_col1{\n",
       "            background-color:  #287d8e;\n",
       "            color:  #000000;\n",
       "        }#T_fe4bbf5e_2fc8_11ee_8ea0_3cfdfe75c0f0row65_col0,#T_fe4bbf5e_2fc8_11ee_8ea0_3cfdfe75c0f0row65_col1{\n",
       "            background-color:  #277e8e;\n",
       "            color:  #000000;\n",
       "        }#T_fe4bbf5e_2fc8_11ee_8ea0_3cfdfe75c0f0row66_col0,#T_fe4bbf5e_2fc8_11ee_8ea0_3cfdfe75c0f0row66_col1{\n",
       "            background-color:  #27808e;\n",
       "            color:  #000000;\n",
       "        }#T_fe4bbf5e_2fc8_11ee_8ea0_3cfdfe75c0f0row67_col0,#T_fe4bbf5e_2fc8_11ee_8ea0_3cfdfe75c0f0row67_col1,#T_fe4bbf5e_2fc8_11ee_8ea0_3cfdfe75c0f0row68_col0,#T_fe4bbf5e_2fc8_11ee_8ea0_3cfdfe75c0f0row68_col1{\n",
       "            background-color:  #26828e;\n",
       "            color:  #000000;\n",
       "        }#T_fe4bbf5e_2fc8_11ee_8ea0_3cfdfe75c0f0row69_col0,#T_fe4bbf5e_2fc8_11ee_8ea0_3cfdfe75c0f0row69_col1{\n",
       "            background-color:  #25848e;\n",
       "            color:  #000000;\n",
       "        }#T_fe4bbf5e_2fc8_11ee_8ea0_3cfdfe75c0f0row70_col0,#T_fe4bbf5e_2fc8_11ee_8ea0_3cfdfe75c0f0row70_col1{\n",
       "            background-color:  #24868e;\n",
       "            color:  #000000;\n",
       "        }#T_fe4bbf5e_2fc8_11ee_8ea0_3cfdfe75c0f0row71_col0,#T_fe4bbf5e_2fc8_11ee_8ea0_3cfdfe75c0f0row71_col1{\n",
       "            background-color:  #24878e;\n",
       "            color:  #000000;\n",
       "        }#T_fe4bbf5e_2fc8_11ee_8ea0_3cfdfe75c0f0row72_col0,#T_fe4bbf5e_2fc8_11ee_8ea0_3cfdfe75c0f0row72_col1{\n",
       "            background-color:  #23898e;\n",
       "            color:  #000000;\n",
       "        }#T_fe4bbf5e_2fc8_11ee_8ea0_3cfdfe75c0f0row73_col0,#T_fe4bbf5e_2fc8_11ee_8ea0_3cfdfe75c0f0row73_col1{\n",
       "            background-color:  #228b8d;\n",
       "            color:  #000000;\n",
       "        }#T_fe4bbf5e_2fc8_11ee_8ea0_3cfdfe75c0f0row74_col0,#T_fe4bbf5e_2fc8_11ee_8ea0_3cfdfe75c0f0row74_col1{\n",
       "            background-color:  #228c8d;\n",
       "            color:  #000000;\n",
       "        }#T_fe4bbf5e_2fc8_11ee_8ea0_3cfdfe75c0f0row75_col0,#T_fe4bbf5e_2fc8_11ee_8ea0_3cfdfe75c0f0row75_col1{\n",
       "            background-color:  #218e8d;\n",
       "            color:  #000000;\n",
       "        }#T_fe4bbf5e_2fc8_11ee_8ea0_3cfdfe75c0f0row76_col0,#T_fe4bbf5e_2fc8_11ee_8ea0_3cfdfe75c0f0row76_col1{\n",
       "            background-color:  #21908d;\n",
       "            color:  #000000;\n",
       "        }#T_fe4bbf5e_2fc8_11ee_8ea0_3cfdfe75c0f0row77_col0,#T_fe4bbf5e_2fc8_11ee_8ea0_3cfdfe75c0f0row77_col1{\n",
       "            background-color:  #21918c;\n",
       "            color:  #000000;\n",
       "        }#T_fe4bbf5e_2fc8_11ee_8ea0_3cfdfe75c0f0row78_col0,#T_fe4bbf5e_2fc8_11ee_8ea0_3cfdfe75c0f0row78_col1{\n",
       "            background-color:  #20928c;\n",
       "            color:  #000000;\n",
       "        }#T_fe4bbf5e_2fc8_11ee_8ea0_3cfdfe75c0f0row79_col0,#T_fe4bbf5e_2fc8_11ee_8ea0_3cfdfe75c0f0row79_col1{\n",
       "            background-color:  #1f948c;\n",
       "            color:  #000000;\n",
       "        }#T_fe4bbf5e_2fc8_11ee_8ea0_3cfdfe75c0f0row80_col0,#T_fe4bbf5e_2fc8_11ee_8ea0_3cfdfe75c0f0row80_col1{\n",
       "            background-color:  #1f958b;\n",
       "            color:  #000000;\n",
       "        }#T_fe4bbf5e_2fc8_11ee_8ea0_3cfdfe75c0f0row81_col0,#T_fe4bbf5e_2fc8_11ee_8ea0_3cfdfe75c0f0row81_col1{\n",
       "            background-color:  #1f978b;\n",
       "            color:  #000000;\n",
       "        }#T_fe4bbf5e_2fc8_11ee_8ea0_3cfdfe75c0f0row82_col0,#T_fe4bbf5e_2fc8_11ee_8ea0_3cfdfe75c0f0row82_col1{\n",
       "            background-color:  #1f998a;\n",
       "            color:  #000000;\n",
       "        }#T_fe4bbf5e_2fc8_11ee_8ea0_3cfdfe75c0f0row83_col0,#T_fe4bbf5e_2fc8_11ee_8ea0_3cfdfe75c0f0row83_col1{\n",
       "            background-color:  #1f9a8a;\n",
       "            color:  #000000;\n",
       "        }#T_fe4bbf5e_2fc8_11ee_8ea0_3cfdfe75c0f0row84_col0,#T_fe4bbf5e_2fc8_11ee_8ea0_3cfdfe75c0f0row84_col1{\n",
       "            background-color:  #1e9c89;\n",
       "            color:  #000000;\n",
       "        }#T_fe4bbf5e_2fc8_11ee_8ea0_3cfdfe75c0f0row85_col0,#T_fe4bbf5e_2fc8_11ee_8ea0_3cfdfe75c0f0row85_col1{\n",
       "            background-color:  #1f9e89;\n",
       "            color:  #000000;\n",
       "        }#T_fe4bbf5e_2fc8_11ee_8ea0_3cfdfe75c0f0row86_col0,#T_fe4bbf5e_2fc8_11ee_8ea0_3cfdfe75c0f0row86_col1{\n",
       "            background-color:  #1f9f88;\n",
       "            color:  #000000;\n",
       "        }#T_fe4bbf5e_2fc8_11ee_8ea0_3cfdfe75c0f0row87_col0,#T_fe4bbf5e_2fc8_11ee_8ea0_3cfdfe75c0f0row87_col1{\n",
       "            background-color:  #1fa188;\n",
       "            color:  #000000;\n",
       "        }#T_fe4bbf5e_2fc8_11ee_8ea0_3cfdfe75c0f0row88_col0,#T_fe4bbf5e_2fc8_11ee_8ea0_3cfdfe75c0f0row88_col1{\n",
       "            background-color:  #1fa287;\n",
       "            color:  #000000;\n",
       "        }#T_fe4bbf5e_2fc8_11ee_8ea0_3cfdfe75c0f0row89_col0,#T_fe4bbf5e_2fc8_11ee_8ea0_3cfdfe75c0f0row89_col1{\n",
       "            background-color:  #20a386;\n",
       "            color:  #000000;\n",
       "        }#T_fe4bbf5e_2fc8_11ee_8ea0_3cfdfe75c0f0row90_col0,#T_fe4bbf5e_2fc8_11ee_8ea0_3cfdfe75c0f0row90_col1{\n",
       "            background-color:  #21a585;\n",
       "            color:  #000000;\n",
       "        }#T_fe4bbf5e_2fc8_11ee_8ea0_3cfdfe75c0f0row91_col0,#T_fe4bbf5e_2fc8_11ee_8ea0_3cfdfe75c0f0row91_col1{\n",
       "            background-color:  #22a785;\n",
       "            color:  #000000;\n",
       "        }#T_fe4bbf5e_2fc8_11ee_8ea0_3cfdfe75c0f0row92_col0,#T_fe4bbf5e_2fc8_11ee_8ea0_3cfdfe75c0f0row92_col1{\n",
       "            background-color:  #22a884;\n",
       "            color:  #000000;\n",
       "        }#T_fe4bbf5e_2fc8_11ee_8ea0_3cfdfe75c0f0row93_col0,#T_fe4bbf5e_2fc8_11ee_8ea0_3cfdfe75c0f0row93_col1{\n",
       "            background-color:  #24aa83;\n",
       "            color:  #000000;\n",
       "        }#T_fe4bbf5e_2fc8_11ee_8ea0_3cfdfe75c0f0row94_col0,#T_fe4bbf5e_2fc8_11ee_8ea0_3cfdfe75c0f0row94_col1{\n",
       "            background-color:  #25ac82;\n",
       "            color:  #000000;\n",
       "        }#T_fe4bbf5e_2fc8_11ee_8ea0_3cfdfe75c0f0row95_col0,#T_fe4bbf5e_2fc8_11ee_8ea0_3cfdfe75c0f0row95_col1{\n",
       "            background-color:  #26ad81;\n",
       "            color:  #000000;\n",
       "        }#T_fe4bbf5e_2fc8_11ee_8ea0_3cfdfe75c0f0row96_col0,#T_fe4bbf5e_2fc8_11ee_8ea0_3cfdfe75c0f0row96_col1{\n",
       "            background-color:  #28ae80;\n",
       "            color:  #000000;\n",
       "        }#T_fe4bbf5e_2fc8_11ee_8ea0_3cfdfe75c0f0row97_col0,#T_fe4bbf5e_2fc8_11ee_8ea0_3cfdfe75c0f0row97_col1{\n",
       "            background-color:  #2ab07f;\n",
       "            color:  #000000;\n",
       "        }#T_fe4bbf5e_2fc8_11ee_8ea0_3cfdfe75c0f0row98_col0,#T_fe4bbf5e_2fc8_11ee_8ea0_3cfdfe75c0f0row98_col1{\n",
       "            background-color:  #2cb17e;\n",
       "            color:  #000000;\n",
       "        }#T_fe4bbf5e_2fc8_11ee_8ea0_3cfdfe75c0f0row99_col0,#T_fe4bbf5e_2fc8_11ee_8ea0_3cfdfe75c0f0row99_col1{\n",
       "            background-color:  #2eb37c;\n",
       "            color:  #000000;\n",
       "        }#T_fe4bbf5e_2fc8_11ee_8ea0_3cfdfe75c0f0row100_col0,#T_fe4bbf5e_2fc8_11ee_8ea0_3cfdfe75c0f0row100_col1{\n",
       "            background-color:  #31b57b;\n",
       "            color:  #000000;\n",
       "        }#T_fe4bbf5e_2fc8_11ee_8ea0_3cfdfe75c0f0row101_col0,#T_fe4bbf5e_2fc8_11ee_8ea0_3cfdfe75c0f0row101_col1{\n",
       "            background-color:  #32b67a;\n",
       "            color:  #000000;\n",
       "        }#T_fe4bbf5e_2fc8_11ee_8ea0_3cfdfe75c0f0row103_col0,#T_fe4bbf5e_2fc8_11ee_8ea0_3cfdfe75c0f0row103_col1{\n",
       "            background-color:  #38b977;\n",
       "            color:  #000000;\n",
       "        }#T_fe4bbf5e_2fc8_11ee_8ea0_3cfdfe75c0f0row104_col0,#T_fe4bbf5e_2fc8_11ee_8ea0_3cfdfe75c0f0row104_col1{\n",
       "            background-color:  #3bbb75;\n",
       "            color:  #000000;\n",
       "        }#T_fe4bbf5e_2fc8_11ee_8ea0_3cfdfe75c0f0row105_col0,#T_fe4bbf5e_2fc8_11ee_8ea0_3cfdfe75c0f0row105_col1{\n",
       "            background-color:  #3dbc74;\n",
       "            color:  #000000;\n",
       "        }#T_fe4bbf5e_2fc8_11ee_8ea0_3cfdfe75c0f0row106_col0,#T_fe4bbf5e_2fc8_11ee_8ea0_3cfdfe75c0f0row106_col1{\n",
       "            background-color:  #40bd72;\n",
       "            color:  #000000;\n",
       "        }#T_fe4bbf5e_2fc8_11ee_8ea0_3cfdfe75c0f0row107_col0,#T_fe4bbf5e_2fc8_11ee_8ea0_3cfdfe75c0f0row107_col1{\n",
       "            background-color:  #44bf70;\n",
       "            color:  #000000;\n",
       "        }#T_fe4bbf5e_2fc8_11ee_8ea0_3cfdfe75c0f0row108_col0,#T_fe4bbf5e_2fc8_11ee_8ea0_3cfdfe75c0f0row108_col1{\n",
       "            background-color:  #46c06f;\n",
       "            color:  #000000;\n",
       "        }#T_fe4bbf5e_2fc8_11ee_8ea0_3cfdfe75c0f0row109_col0,#T_fe4bbf5e_2fc8_11ee_8ea0_3cfdfe75c0f0row109_col1{\n",
       "            background-color:  #4ac16d;\n",
       "            color:  #000000;\n",
       "        }#T_fe4bbf5e_2fc8_11ee_8ea0_3cfdfe75c0f0row110_col0,#T_fe4bbf5e_2fc8_11ee_8ea0_3cfdfe75c0f0row110_col1{\n",
       "            background-color:  #4ec36b;\n",
       "            color:  #000000;\n",
       "        }#T_fe4bbf5e_2fc8_11ee_8ea0_3cfdfe75c0f0row111_col0,#T_fe4bbf5e_2fc8_11ee_8ea0_3cfdfe75c0f0row111_col1{\n",
       "            background-color:  #50c46a;\n",
       "            color:  #000000;\n",
       "        }#T_fe4bbf5e_2fc8_11ee_8ea0_3cfdfe75c0f0row112_col0,#T_fe4bbf5e_2fc8_11ee_8ea0_3cfdfe75c0f0row112_col1{\n",
       "            background-color:  #54c568;\n",
       "            color:  #000000;\n",
       "        }#T_fe4bbf5e_2fc8_11ee_8ea0_3cfdfe75c0f0row113_col0,#T_fe4bbf5e_2fc8_11ee_8ea0_3cfdfe75c0f0row113_col1{\n",
       "            background-color:  #58c765;\n",
       "            color:  #000000;\n",
       "        }#T_fe4bbf5e_2fc8_11ee_8ea0_3cfdfe75c0f0row114_col0,#T_fe4bbf5e_2fc8_11ee_8ea0_3cfdfe75c0f0row114_col1{\n",
       "            background-color:  #5ac864;\n",
       "            color:  #000000;\n",
       "        }#T_fe4bbf5e_2fc8_11ee_8ea0_3cfdfe75c0f0row115_col0,#T_fe4bbf5e_2fc8_11ee_8ea0_3cfdfe75c0f0row115_col1{\n",
       "            background-color:  #5ec962;\n",
       "            color:  #000000;\n",
       "        }#T_fe4bbf5e_2fc8_11ee_8ea0_3cfdfe75c0f0row116_col0,#T_fe4bbf5e_2fc8_11ee_8ea0_3cfdfe75c0f0row116_col1{\n",
       "            background-color:  #63cb5f;\n",
       "            color:  #000000;\n",
       "        }#T_fe4bbf5e_2fc8_11ee_8ea0_3cfdfe75c0f0row117_col0,#T_fe4bbf5e_2fc8_11ee_8ea0_3cfdfe75c0f0row117_col1{\n",
       "            background-color:  #65cb5e;\n",
       "            color:  #000000;\n",
       "        }#T_fe4bbf5e_2fc8_11ee_8ea0_3cfdfe75c0f0row118_col0,#T_fe4bbf5e_2fc8_11ee_8ea0_3cfdfe75c0f0row118_col1{\n",
       "            background-color:  #69cd5b;\n",
       "            color:  #000000;\n",
       "        }#T_fe4bbf5e_2fc8_11ee_8ea0_3cfdfe75c0f0row119_col0,#T_fe4bbf5e_2fc8_11ee_8ea0_3cfdfe75c0f0row119_col1{\n",
       "            background-color:  #6ece58;\n",
       "            color:  #000000;\n",
       "        }#T_fe4bbf5e_2fc8_11ee_8ea0_3cfdfe75c0f0row120_col0,#T_fe4bbf5e_2fc8_11ee_8ea0_3cfdfe75c0f0row120_col1{\n",
       "            background-color:  #70cf57;\n",
       "            color:  #000000;\n",
       "        }#T_fe4bbf5e_2fc8_11ee_8ea0_3cfdfe75c0f0row121_col0,#T_fe4bbf5e_2fc8_11ee_8ea0_3cfdfe75c0f0row121_col1{\n",
       "            background-color:  #75d054;\n",
       "            color:  #000000;\n",
       "        }#T_fe4bbf5e_2fc8_11ee_8ea0_3cfdfe75c0f0row122_col0,#T_fe4bbf5e_2fc8_11ee_8ea0_3cfdfe75c0f0row122_col1{\n",
       "            background-color:  #7ad151;\n",
       "            color:  #000000;\n",
       "        }#T_fe4bbf5e_2fc8_11ee_8ea0_3cfdfe75c0f0row123_col0,#T_fe4bbf5e_2fc8_11ee_8ea0_3cfdfe75c0f0row123_col1{\n",
       "            background-color:  #7cd250;\n",
       "            color:  #000000;\n",
       "        }#T_fe4bbf5e_2fc8_11ee_8ea0_3cfdfe75c0f0row124_col0,#T_fe4bbf5e_2fc8_11ee_8ea0_3cfdfe75c0f0row124_col1{\n",
       "            background-color:  #81d34d;\n",
       "            color:  #000000;\n",
       "        }#T_fe4bbf5e_2fc8_11ee_8ea0_3cfdfe75c0f0row125_col0,#T_fe4bbf5e_2fc8_11ee_8ea0_3cfdfe75c0f0row125_col1{\n",
       "            background-color:  #86d549;\n",
       "            color:  #000000;\n",
       "        }#T_fe4bbf5e_2fc8_11ee_8ea0_3cfdfe75c0f0row126_col0,#T_fe4bbf5e_2fc8_11ee_8ea0_3cfdfe75c0f0row126_col1{\n",
       "            background-color:  #89d548;\n",
       "            color:  #000000;\n",
       "        }#T_fe4bbf5e_2fc8_11ee_8ea0_3cfdfe75c0f0row127_col0,#T_fe4bbf5e_2fc8_11ee_8ea0_3cfdfe75c0f0row127_col1{\n",
       "            background-color:  #8ed645;\n",
       "            color:  #000000;\n",
       "        }#T_fe4bbf5e_2fc8_11ee_8ea0_3cfdfe75c0f0row128_col0,#T_fe4bbf5e_2fc8_11ee_8ea0_3cfdfe75c0f0row128_col1{\n",
       "            background-color:  #93d741;\n",
       "            color:  #000000;\n",
       "        }#T_fe4bbf5e_2fc8_11ee_8ea0_3cfdfe75c0f0row129_col0,#T_fe4bbf5e_2fc8_11ee_8ea0_3cfdfe75c0f0row129_col1{\n",
       "            background-color:  #95d840;\n",
       "            color:  #000000;\n",
       "        }#T_fe4bbf5e_2fc8_11ee_8ea0_3cfdfe75c0f0row130_col0,#T_fe4bbf5e_2fc8_11ee_8ea0_3cfdfe75c0f0row130_col1{\n",
       "            background-color:  #9bd93c;\n",
       "            color:  #000000;\n",
       "        }#T_fe4bbf5e_2fc8_11ee_8ea0_3cfdfe75c0f0row131_col0,#T_fe4bbf5e_2fc8_11ee_8ea0_3cfdfe75c0f0row131_col1{\n",
       "            background-color:  #a0da39;\n",
       "            color:  #000000;\n",
       "        }#T_fe4bbf5e_2fc8_11ee_8ea0_3cfdfe75c0f0row132_col0,#T_fe4bbf5e_2fc8_11ee_8ea0_3cfdfe75c0f0row132_col1{\n",
       "            background-color:  #a2da37;\n",
       "            color:  #000000;\n",
       "        }#T_fe4bbf5e_2fc8_11ee_8ea0_3cfdfe75c0f0row133_col0,#T_fe4bbf5e_2fc8_11ee_8ea0_3cfdfe75c0f0row133_col1{\n",
       "            background-color:  #a8db34;\n",
       "            color:  #000000;\n",
       "        }#T_fe4bbf5e_2fc8_11ee_8ea0_3cfdfe75c0f0row134_col0,#T_fe4bbf5e_2fc8_11ee_8ea0_3cfdfe75c0f0row134_col1{\n",
       "            background-color:  #addc30;\n",
       "            color:  #000000;\n",
       "        }#T_fe4bbf5e_2fc8_11ee_8ea0_3cfdfe75c0f0row135_col0,#T_fe4bbf5e_2fc8_11ee_8ea0_3cfdfe75c0f0row135_col1{\n",
       "            background-color:  #b0dd2f;\n",
       "            color:  #000000;\n",
       "        }#T_fe4bbf5e_2fc8_11ee_8ea0_3cfdfe75c0f0row136_col0,#T_fe4bbf5e_2fc8_11ee_8ea0_3cfdfe75c0f0row136_col1{\n",
       "            background-color:  #b5de2b;\n",
       "            color:  #000000;\n",
       "        }#T_fe4bbf5e_2fc8_11ee_8ea0_3cfdfe75c0f0row137_col0,#T_fe4bbf5e_2fc8_11ee_8ea0_3cfdfe75c0f0row137_col1{\n",
       "            background-color:  #bade28;\n",
       "            color:  #000000;\n",
       "        }#T_fe4bbf5e_2fc8_11ee_8ea0_3cfdfe75c0f0row138_col0,#T_fe4bbf5e_2fc8_11ee_8ea0_3cfdfe75c0f0row138_col1{\n",
       "            background-color:  #bddf26;\n",
       "            color:  #000000;\n",
       "        }#T_fe4bbf5e_2fc8_11ee_8ea0_3cfdfe75c0f0row139_col0,#T_fe4bbf5e_2fc8_11ee_8ea0_3cfdfe75c0f0row139_col1{\n",
       "            background-color:  #c2df23;\n",
       "            color:  #000000;\n",
       "        }#T_fe4bbf5e_2fc8_11ee_8ea0_3cfdfe75c0f0row140_col0,#T_fe4bbf5e_2fc8_11ee_8ea0_3cfdfe75c0f0row140_col1{\n",
       "            background-color:  #c8e020;\n",
       "            color:  #000000;\n",
       "        }#T_fe4bbf5e_2fc8_11ee_8ea0_3cfdfe75c0f0row141_col0,#T_fe4bbf5e_2fc8_11ee_8ea0_3cfdfe75c0f0row141_col1{\n",
       "            background-color:  #cae11f;\n",
       "            color:  #000000;\n",
       "        }#T_fe4bbf5e_2fc8_11ee_8ea0_3cfdfe75c0f0row142_col0,#T_fe4bbf5e_2fc8_11ee_8ea0_3cfdfe75c0f0row142_col1{\n",
       "            background-color:  #d0e11c;\n",
       "            color:  #000000;\n",
       "        }#T_fe4bbf5e_2fc8_11ee_8ea0_3cfdfe75c0f0row143_col0,#T_fe4bbf5e_2fc8_11ee_8ea0_3cfdfe75c0f0row143_col1{\n",
       "            background-color:  #d5e21a;\n",
       "            color:  #000000;\n",
       "        }#T_fe4bbf5e_2fc8_11ee_8ea0_3cfdfe75c0f0row144_col0,#T_fe4bbf5e_2fc8_11ee_8ea0_3cfdfe75c0f0row144_col1{\n",
       "            background-color:  #d8e219;\n",
       "            color:  #000000;\n",
       "        }#T_fe4bbf5e_2fc8_11ee_8ea0_3cfdfe75c0f0row145_col0,#T_fe4bbf5e_2fc8_11ee_8ea0_3cfdfe75c0f0row145_col1{\n",
       "            background-color:  #dde318;\n",
       "            color:  #000000;\n",
       "        }#T_fe4bbf5e_2fc8_11ee_8ea0_3cfdfe75c0f0row146_col0,#T_fe4bbf5e_2fc8_11ee_8ea0_3cfdfe75c0f0row146_col1{\n",
       "            background-color:  #e2e418;\n",
       "            color:  #000000;\n",
       "        }#T_fe4bbf5e_2fc8_11ee_8ea0_3cfdfe75c0f0row147_col0,#T_fe4bbf5e_2fc8_11ee_8ea0_3cfdfe75c0f0row147_col1{\n",
       "            background-color:  #e5e419;\n",
       "            color:  #000000;\n",
       "        }#T_fe4bbf5e_2fc8_11ee_8ea0_3cfdfe75c0f0row148_col0,#T_fe4bbf5e_2fc8_11ee_8ea0_3cfdfe75c0f0row148_col1{\n",
       "            background-color:  #eae51a;\n",
       "            color:  #000000;\n",
       "        }#T_fe4bbf5e_2fc8_11ee_8ea0_3cfdfe75c0f0row149_col0,#T_fe4bbf5e_2fc8_11ee_8ea0_3cfdfe75c0f0row149_col1{\n",
       "            background-color:  #efe51c;\n",
       "            color:  #000000;\n",
       "        }#T_fe4bbf5e_2fc8_11ee_8ea0_3cfdfe75c0f0row150_col0,#T_fe4bbf5e_2fc8_11ee_8ea0_3cfdfe75c0f0row150_col1{\n",
       "            background-color:  #f1e51d;\n",
       "            color:  #000000;\n",
       "        }#T_fe4bbf5e_2fc8_11ee_8ea0_3cfdfe75c0f0row151_col0,#T_fe4bbf5e_2fc8_11ee_8ea0_3cfdfe75c0f0row151_col1{\n",
       "            background-color:  #f6e620;\n",
       "            color:  #000000;\n",
       "        }#T_fe4bbf5e_2fc8_11ee_8ea0_3cfdfe75c0f0row152_col0,#T_fe4bbf5e_2fc8_11ee_8ea0_3cfdfe75c0f0row152_col1{\n",
       "            background-color:  #fbe723;\n",
       "            color:  #000000;\n",
       "        }</style><table id=\"T_fe4bbf5e_2fc8_11ee_8ea0_3cfdfe75c0f0\" ><thead>    <tr>        <th class=\"blank level0\" ></th>        <th class=\"col_heading level0 col0\" >poem_id</th>        <th class=\"col_heading level0 col1\" >title</th>        <th class=\"col_heading level0 col2\" >y_raw</th>        <th class=\"col_heading level0 col3\" >y_L0</th>        <th class=\"col_heading level0 col4\" >y_L1</th>        <th class=\"col_heading level0 col5\" >y_L2</th>    </tr></thead><tbody>\n",
       "                <tr>\n",
       "                        <th id=\"T_fe4bbf5e_2fc8_11ee_8ea0_3cfdfe75c0f0level0_row0\" class=\"row_heading level0 row0\" >0</th>\n",
       "                        <td id=\"T_fe4bbf5e_2fc8_11ee_8ea0_3cfdfe75c0f0row0_col0\" class=\"data row0 col0\" >1</td>\n",
       "                        <td id=\"T_fe4bbf5e_2fc8_11ee_8ea0_3cfdfe75c0f0row0_col1\" class=\"data row0 col1\" >1</td>\n",
       "                        <td id=\"T_fe4bbf5e_2fc8_11ee_8ea0_3cfdfe75c0f0row0_col2\" class=\"data row0 col2\" >0</td>\n",
       "                        <td id=\"T_fe4bbf5e_2fc8_11ee_8ea0_3cfdfe75c0f0row0_col3\" class=\"data row0 col3\" >3</td>\n",
       "                        <td id=\"T_fe4bbf5e_2fc8_11ee_8ea0_3cfdfe75c0f0row0_col4\" class=\"data row0 col4\" >2</td>\n",
       "                        <td id=\"T_fe4bbf5e_2fc8_11ee_8ea0_3cfdfe75c0f0row0_col5\" class=\"data row0 col5\" >1</td>\n",
       "            </tr>\n",
       "            <tr>\n",
       "                        <th id=\"T_fe4bbf5e_2fc8_11ee_8ea0_3cfdfe75c0f0level0_row1\" class=\"row_heading level0 row1\" >1</th>\n",
       "                        <td id=\"T_fe4bbf5e_2fc8_11ee_8ea0_3cfdfe75c0f0row1_col0\" class=\"data row1 col0\" >2</td>\n",
       "                        <td id=\"T_fe4bbf5e_2fc8_11ee_8ea0_3cfdfe75c0f0row1_col1\" class=\"data row1 col1\" >2</td>\n",
       "                        <td id=\"T_fe4bbf5e_2fc8_11ee_8ea0_3cfdfe75c0f0row1_col2\" class=\"data row1 col2\" >0</td>\n",
       "                        <td id=\"T_fe4bbf5e_2fc8_11ee_8ea0_3cfdfe75c0f0row1_col3\" class=\"data row1 col3\" >3</td>\n",
       "                        <td id=\"T_fe4bbf5e_2fc8_11ee_8ea0_3cfdfe75c0f0row1_col4\" class=\"data row1 col4\" >2</td>\n",
       "                        <td id=\"T_fe4bbf5e_2fc8_11ee_8ea0_3cfdfe75c0f0row1_col5\" class=\"data row1 col5\" >1</td>\n",
       "            </tr>\n",
       "            <tr>\n",
       "                        <th id=\"T_fe4bbf5e_2fc8_11ee_8ea0_3cfdfe75c0f0level0_row2\" class=\"row_heading level0 row2\" >2</th>\n",
       "                        <td id=\"T_fe4bbf5e_2fc8_11ee_8ea0_3cfdfe75c0f0row2_col0\" class=\"data row2 col0\" >3</td>\n",
       "                        <td id=\"T_fe4bbf5e_2fc8_11ee_8ea0_3cfdfe75c0f0row2_col1\" class=\"data row2 col1\" >3</td>\n",
       "                        <td id=\"T_fe4bbf5e_2fc8_11ee_8ea0_3cfdfe75c0f0row2_col2\" class=\"data row2 col2\" >0</td>\n",
       "                        <td id=\"T_fe4bbf5e_2fc8_11ee_8ea0_3cfdfe75c0f0row2_col3\" class=\"data row2 col3\" >3</td>\n",
       "                        <td id=\"T_fe4bbf5e_2fc8_11ee_8ea0_3cfdfe75c0f0row2_col4\" class=\"data row2 col4\" >1</td>\n",
       "                        <td id=\"T_fe4bbf5e_2fc8_11ee_8ea0_3cfdfe75c0f0row2_col5\" class=\"data row2 col5\" >1</td>\n",
       "            </tr>\n",
       "            <tr>\n",
       "                        <th id=\"T_fe4bbf5e_2fc8_11ee_8ea0_3cfdfe75c0f0level0_row3\" class=\"row_heading level0 row3\" >3</th>\n",
       "                        <td id=\"T_fe4bbf5e_2fc8_11ee_8ea0_3cfdfe75c0f0row3_col0\" class=\"data row3 col0\" >4</td>\n",
       "                        <td id=\"T_fe4bbf5e_2fc8_11ee_8ea0_3cfdfe75c0f0row3_col1\" class=\"data row3 col1\" >4</td>\n",
       "                        <td id=\"T_fe4bbf5e_2fc8_11ee_8ea0_3cfdfe75c0f0row3_col2\" class=\"data row3 col2\" >0</td>\n",
       "                        <td id=\"T_fe4bbf5e_2fc8_11ee_8ea0_3cfdfe75c0f0row3_col3\" class=\"data row3 col3\" >1</td>\n",
       "                        <td id=\"T_fe4bbf5e_2fc8_11ee_8ea0_3cfdfe75c0f0row3_col4\" class=\"data row3 col4\" >2</td>\n",
       "                        <td id=\"T_fe4bbf5e_2fc8_11ee_8ea0_3cfdfe75c0f0row3_col5\" class=\"data row3 col5\" >1</td>\n",
       "            </tr>\n",
       "            <tr>\n",
       "                        <th id=\"T_fe4bbf5e_2fc8_11ee_8ea0_3cfdfe75c0f0level0_row4\" class=\"row_heading level0 row4\" >4</th>\n",
       "                        <td id=\"T_fe4bbf5e_2fc8_11ee_8ea0_3cfdfe75c0f0row4_col0\" class=\"data row4 col0\" >5</td>\n",
       "                        <td id=\"T_fe4bbf5e_2fc8_11ee_8ea0_3cfdfe75c0f0row4_col1\" class=\"data row4 col1\" >5</td>\n",
       "                        <td id=\"T_fe4bbf5e_2fc8_11ee_8ea0_3cfdfe75c0f0row4_col2\" class=\"data row4 col2\" >0</td>\n",
       "                        <td id=\"T_fe4bbf5e_2fc8_11ee_8ea0_3cfdfe75c0f0row4_col3\" class=\"data row4 col3\" >0</td>\n",
       "                        <td id=\"T_fe4bbf5e_2fc8_11ee_8ea0_3cfdfe75c0f0row4_col4\" class=\"data row4 col4\" >2</td>\n",
       "                        <td id=\"T_fe4bbf5e_2fc8_11ee_8ea0_3cfdfe75c0f0row4_col5\" class=\"data row4 col5\" >0</td>\n",
       "            </tr>\n",
       "            <tr>\n",
       "                        <th id=\"T_fe4bbf5e_2fc8_11ee_8ea0_3cfdfe75c0f0level0_row5\" class=\"row_heading level0 row5\" >5</th>\n",
       "                        <td id=\"T_fe4bbf5e_2fc8_11ee_8ea0_3cfdfe75c0f0row5_col0\" class=\"data row5 col0\" >6</td>\n",
       "                        <td id=\"T_fe4bbf5e_2fc8_11ee_8ea0_3cfdfe75c0f0row5_col1\" class=\"data row5 col1\" >6</td>\n",
       "                        <td id=\"T_fe4bbf5e_2fc8_11ee_8ea0_3cfdfe75c0f0row5_col2\" class=\"data row5 col2\" >0</td>\n",
       "                        <td id=\"T_fe4bbf5e_2fc8_11ee_8ea0_3cfdfe75c0f0row5_col3\" class=\"data row5 col3\" >1</td>\n",
       "                        <td id=\"T_fe4bbf5e_2fc8_11ee_8ea0_3cfdfe75c0f0row5_col4\" class=\"data row5 col4\" >2</td>\n",
       "                        <td id=\"T_fe4bbf5e_2fc8_11ee_8ea0_3cfdfe75c0f0row5_col5\" class=\"data row5 col5\" >1</td>\n",
       "            </tr>\n",
       "            <tr>\n",
       "                        <th id=\"T_fe4bbf5e_2fc8_11ee_8ea0_3cfdfe75c0f0level0_row6\" class=\"row_heading level0 row6\" >6</th>\n",
       "                        <td id=\"T_fe4bbf5e_2fc8_11ee_8ea0_3cfdfe75c0f0row6_col0\" class=\"data row6 col0\" >7</td>\n",
       "                        <td id=\"T_fe4bbf5e_2fc8_11ee_8ea0_3cfdfe75c0f0row6_col1\" class=\"data row6 col1\" >7</td>\n",
       "                        <td id=\"T_fe4bbf5e_2fc8_11ee_8ea0_3cfdfe75c0f0row6_col2\" class=\"data row6 col2\" >0</td>\n",
       "                        <td id=\"T_fe4bbf5e_2fc8_11ee_8ea0_3cfdfe75c0f0row6_col3\" class=\"data row6 col3\" >0</td>\n",
       "                        <td id=\"T_fe4bbf5e_2fc8_11ee_8ea0_3cfdfe75c0f0row6_col4\" class=\"data row6 col4\" >2</td>\n",
       "                        <td id=\"T_fe4bbf5e_2fc8_11ee_8ea0_3cfdfe75c0f0row6_col5\" class=\"data row6 col5\" >1</td>\n",
       "            </tr>\n",
       "            <tr>\n",
       "                        <th id=\"T_fe4bbf5e_2fc8_11ee_8ea0_3cfdfe75c0f0level0_row7\" class=\"row_heading level0 row7\" >7</th>\n",
       "                        <td id=\"T_fe4bbf5e_2fc8_11ee_8ea0_3cfdfe75c0f0row7_col0\" class=\"data row7 col0\" >8</td>\n",
       "                        <td id=\"T_fe4bbf5e_2fc8_11ee_8ea0_3cfdfe75c0f0row7_col1\" class=\"data row7 col1\" >8</td>\n",
       "                        <td id=\"T_fe4bbf5e_2fc8_11ee_8ea0_3cfdfe75c0f0row7_col2\" class=\"data row7 col2\" >0</td>\n",
       "                        <td id=\"T_fe4bbf5e_2fc8_11ee_8ea0_3cfdfe75c0f0row7_col3\" class=\"data row7 col3\" >3</td>\n",
       "                        <td id=\"T_fe4bbf5e_2fc8_11ee_8ea0_3cfdfe75c0f0row7_col4\" class=\"data row7 col4\" >1</td>\n",
       "                        <td id=\"T_fe4bbf5e_2fc8_11ee_8ea0_3cfdfe75c0f0row7_col5\" class=\"data row7 col5\" >0</td>\n",
       "            </tr>\n",
       "            <tr>\n",
       "                        <th id=\"T_fe4bbf5e_2fc8_11ee_8ea0_3cfdfe75c0f0level0_row8\" class=\"row_heading level0 row8\" >8</th>\n",
       "                        <td id=\"T_fe4bbf5e_2fc8_11ee_8ea0_3cfdfe75c0f0row8_col0\" class=\"data row8 col0\" >9</td>\n",
       "                        <td id=\"T_fe4bbf5e_2fc8_11ee_8ea0_3cfdfe75c0f0row8_col1\" class=\"data row8 col1\" >9</td>\n",
       "                        <td id=\"T_fe4bbf5e_2fc8_11ee_8ea0_3cfdfe75c0f0row8_col2\" class=\"data row8 col2\" >0</td>\n",
       "                        <td id=\"T_fe4bbf5e_2fc8_11ee_8ea0_3cfdfe75c0f0row8_col3\" class=\"data row8 col3\" >3</td>\n",
       "                        <td id=\"T_fe4bbf5e_2fc8_11ee_8ea0_3cfdfe75c0f0row8_col4\" class=\"data row8 col4\" >1</td>\n",
       "                        <td id=\"T_fe4bbf5e_2fc8_11ee_8ea0_3cfdfe75c0f0row8_col5\" class=\"data row8 col5\" >1</td>\n",
       "            </tr>\n",
       "            <tr>\n",
       "                        <th id=\"T_fe4bbf5e_2fc8_11ee_8ea0_3cfdfe75c0f0level0_row9\" class=\"row_heading level0 row9\" >9</th>\n",
       "                        <td id=\"T_fe4bbf5e_2fc8_11ee_8ea0_3cfdfe75c0f0row9_col0\" class=\"data row9 col0\" >10</td>\n",
       "                        <td id=\"T_fe4bbf5e_2fc8_11ee_8ea0_3cfdfe75c0f0row9_col1\" class=\"data row9 col1\" >10</td>\n",
       "                        <td id=\"T_fe4bbf5e_2fc8_11ee_8ea0_3cfdfe75c0f0row9_col2\" class=\"data row9 col2\" >0</td>\n",
       "                        <td id=\"T_fe4bbf5e_2fc8_11ee_8ea0_3cfdfe75c0f0row9_col3\" class=\"data row9 col3\" >2</td>\n",
       "                        <td id=\"T_fe4bbf5e_2fc8_11ee_8ea0_3cfdfe75c0f0row9_col4\" class=\"data row9 col4\" >1</td>\n",
       "                        <td id=\"T_fe4bbf5e_2fc8_11ee_8ea0_3cfdfe75c0f0row9_col5\" class=\"data row9 col5\" >2</td>\n",
       "            </tr>\n",
       "            <tr>\n",
       "                        <th id=\"T_fe4bbf5e_2fc8_11ee_8ea0_3cfdfe75c0f0level0_row10\" class=\"row_heading level0 row10\" >10</th>\n",
       "                        <td id=\"T_fe4bbf5e_2fc8_11ee_8ea0_3cfdfe75c0f0row10_col0\" class=\"data row10 col0\" >11</td>\n",
       "                        <td id=\"T_fe4bbf5e_2fc8_11ee_8ea0_3cfdfe75c0f0row10_col1\" class=\"data row10 col1\" >11</td>\n",
       "                        <td id=\"T_fe4bbf5e_2fc8_11ee_8ea0_3cfdfe75c0f0row10_col2\" class=\"data row10 col2\" >0</td>\n",
       "                        <td id=\"T_fe4bbf5e_2fc8_11ee_8ea0_3cfdfe75c0f0row10_col3\" class=\"data row10 col3\" >3</td>\n",
       "                        <td id=\"T_fe4bbf5e_2fc8_11ee_8ea0_3cfdfe75c0f0row10_col4\" class=\"data row10 col4\" >1</td>\n",
       "                        <td id=\"T_fe4bbf5e_2fc8_11ee_8ea0_3cfdfe75c0f0row10_col5\" class=\"data row10 col5\" >2</td>\n",
       "            </tr>\n",
       "            <tr>\n",
       "                        <th id=\"T_fe4bbf5e_2fc8_11ee_8ea0_3cfdfe75c0f0level0_row11\" class=\"row_heading level0 row11\" >11</th>\n",
       "                        <td id=\"T_fe4bbf5e_2fc8_11ee_8ea0_3cfdfe75c0f0row11_col0\" class=\"data row11 col0\" >12</td>\n",
       "                        <td id=\"T_fe4bbf5e_2fc8_11ee_8ea0_3cfdfe75c0f0row11_col1\" class=\"data row11 col1\" >12</td>\n",
       "                        <td id=\"T_fe4bbf5e_2fc8_11ee_8ea0_3cfdfe75c0f0row11_col2\" class=\"data row11 col2\" >0</td>\n",
       "                        <td id=\"T_fe4bbf5e_2fc8_11ee_8ea0_3cfdfe75c0f0row11_col3\" class=\"data row11 col3\" >0</td>\n",
       "                        <td id=\"T_fe4bbf5e_2fc8_11ee_8ea0_3cfdfe75c0f0row11_col4\" class=\"data row11 col4\" >2</td>\n",
       "                        <td id=\"T_fe4bbf5e_2fc8_11ee_8ea0_3cfdfe75c0f0row11_col5\" class=\"data row11 col5\" >1</td>\n",
       "            </tr>\n",
       "            <tr>\n",
       "                        <th id=\"T_fe4bbf5e_2fc8_11ee_8ea0_3cfdfe75c0f0level0_row12\" class=\"row_heading level0 row12\" >12</th>\n",
       "                        <td id=\"T_fe4bbf5e_2fc8_11ee_8ea0_3cfdfe75c0f0row12_col0\" class=\"data row12 col0\" >13</td>\n",
       "                        <td id=\"T_fe4bbf5e_2fc8_11ee_8ea0_3cfdfe75c0f0row12_col1\" class=\"data row12 col1\" >13</td>\n",
       "                        <td id=\"T_fe4bbf5e_2fc8_11ee_8ea0_3cfdfe75c0f0row12_col2\" class=\"data row12 col2\" >1</td>\n",
       "                        <td id=\"T_fe4bbf5e_2fc8_11ee_8ea0_3cfdfe75c0f0row12_col3\" class=\"data row12 col3\" >3</td>\n",
       "                        <td id=\"T_fe4bbf5e_2fc8_11ee_8ea0_3cfdfe75c0f0row12_col4\" class=\"data row12 col4\" >3</td>\n",
       "                        <td id=\"T_fe4bbf5e_2fc8_11ee_8ea0_3cfdfe75c0f0row12_col5\" class=\"data row12 col5\" >0</td>\n",
       "            </tr>\n",
       "            <tr>\n",
       "                        <th id=\"T_fe4bbf5e_2fc8_11ee_8ea0_3cfdfe75c0f0level0_row13\" class=\"row_heading level0 row13\" >13</th>\n",
       "                        <td id=\"T_fe4bbf5e_2fc8_11ee_8ea0_3cfdfe75c0f0row13_col0\" class=\"data row13 col0\" >14</td>\n",
       "                        <td id=\"T_fe4bbf5e_2fc8_11ee_8ea0_3cfdfe75c0f0row13_col1\" class=\"data row13 col1\" >14</td>\n",
       "                        <td id=\"T_fe4bbf5e_2fc8_11ee_8ea0_3cfdfe75c0f0row13_col2\" class=\"data row13 col2\" >0</td>\n",
       "                        <td id=\"T_fe4bbf5e_2fc8_11ee_8ea0_3cfdfe75c0f0row13_col3\" class=\"data row13 col3\" >2</td>\n",
       "                        <td id=\"T_fe4bbf5e_2fc8_11ee_8ea0_3cfdfe75c0f0row13_col4\" class=\"data row13 col4\" >2</td>\n",
       "                        <td id=\"T_fe4bbf5e_2fc8_11ee_8ea0_3cfdfe75c0f0row13_col5\" class=\"data row13 col5\" >1</td>\n",
       "            </tr>\n",
       "            <tr>\n",
       "                        <th id=\"T_fe4bbf5e_2fc8_11ee_8ea0_3cfdfe75c0f0level0_row14\" class=\"row_heading level0 row14\" >14</th>\n",
       "                        <td id=\"T_fe4bbf5e_2fc8_11ee_8ea0_3cfdfe75c0f0row14_col0\" class=\"data row14 col0\" >15</td>\n",
       "                        <td id=\"T_fe4bbf5e_2fc8_11ee_8ea0_3cfdfe75c0f0row14_col1\" class=\"data row14 col1\" >15</td>\n",
       "                        <td id=\"T_fe4bbf5e_2fc8_11ee_8ea0_3cfdfe75c0f0row14_col2\" class=\"data row14 col2\" >0</td>\n",
       "                        <td id=\"T_fe4bbf5e_2fc8_11ee_8ea0_3cfdfe75c0f0row14_col3\" class=\"data row14 col3\" >0</td>\n",
       "                        <td id=\"T_fe4bbf5e_2fc8_11ee_8ea0_3cfdfe75c0f0row14_col4\" class=\"data row14 col4\" >2</td>\n",
       "                        <td id=\"T_fe4bbf5e_2fc8_11ee_8ea0_3cfdfe75c0f0row14_col5\" class=\"data row14 col5\" >0</td>\n",
       "            </tr>\n",
       "            <tr>\n",
       "                        <th id=\"T_fe4bbf5e_2fc8_11ee_8ea0_3cfdfe75c0f0level0_row15\" class=\"row_heading level0 row15\" >15</th>\n",
       "                        <td id=\"T_fe4bbf5e_2fc8_11ee_8ea0_3cfdfe75c0f0row15_col0\" class=\"data row15 col0\" >16</td>\n",
       "                        <td id=\"T_fe4bbf5e_2fc8_11ee_8ea0_3cfdfe75c0f0row15_col1\" class=\"data row15 col1\" >16</td>\n",
       "                        <td id=\"T_fe4bbf5e_2fc8_11ee_8ea0_3cfdfe75c0f0row15_col2\" class=\"data row15 col2\" >1</td>\n",
       "                        <td id=\"T_fe4bbf5e_2fc8_11ee_8ea0_3cfdfe75c0f0row15_col3\" class=\"data row15 col3\" >3</td>\n",
       "                        <td id=\"T_fe4bbf5e_2fc8_11ee_8ea0_3cfdfe75c0f0row15_col4\" class=\"data row15 col4\" >3</td>\n",
       "                        <td id=\"T_fe4bbf5e_2fc8_11ee_8ea0_3cfdfe75c0f0row15_col5\" class=\"data row15 col5\" >0</td>\n",
       "            </tr>\n",
       "            <tr>\n",
       "                        <th id=\"T_fe4bbf5e_2fc8_11ee_8ea0_3cfdfe75c0f0level0_row16\" class=\"row_heading level0 row16\" >16</th>\n",
       "                        <td id=\"T_fe4bbf5e_2fc8_11ee_8ea0_3cfdfe75c0f0row16_col0\" class=\"data row16 col0\" >17</td>\n",
       "                        <td id=\"T_fe4bbf5e_2fc8_11ee_8ea0_3cfdfe75c0f0row16_col1\" class=\"data row16 col1\" >17</td>\n",
       "                        <td id=\"T_fe4bbf5e_2fc8_11ee_8ea0_3cfdfe75c0f0row16_col2\" class=\"data row16 col2\" >1</td>\n",
       "                        <td id=\"T_fe4bbf5e_2fc8_11ee_8ea0_3cfdfe75c0f0row16_col3\" class=\"data row16 col3\" >3</td>\n",
       "                        <td id=\"T_fe4bbf5e_2fc8_11ee_8ea0_3cfdfe75c0f0row16_col4\" class=\"data row16 col4\" >2</td>\n",
       "                        <td id=\"T_fe4bbf5e_2fc8_11ee_8ea0_3cfdfe75c0f0row16_col5\" class=\"data row16 col5\" >0</td>\n",
       "            </tr>\n",
       "            <tr>\n",
       "                        <th id=\"T_fe4bbf5e_2fc8_11ee_8ea0_3cfdfe75c0f0level0_row17\" class=\"row_heading level0 row17\" >17</th>\n",
       "                        <td id=\"T_fe4bbf5e_2fc8_11ee_8ea0_3cfdfe75c0f0row17_col0\" class=\"data row17 col0\" >18</td>\n",
       "                        <td id=\"T_fe4bbf5e_2fc8_11ee_8ea0_3cfdfe75c0f0row17_col1\" class=\"data row17 col1\" >18</td>\n",
       "                        <td id=\"T_fe4bbf5e_2fc8_11ee_8ea0_3cfdfe75c0f0row17_col2\" class=\"data row17 col2\" >0</td>\n",
       "                        <td id=\"T_fe4bbf5e_2fc8_11ee_8ea0_3cfdfe75c0f0row17_col3\" class=\"data row17 col3\" >1</td>\n",
       "                        <td id=\"T_fe4bbf5e_2fc8_11ee_8ea0_3cfdfe75c0f0row17_col4\" class=\"data row17 col4\" >2</td>\n",
       "                        <td id=\"T_fe4bbf5e_2fc8_11ee_8ea0_3cfdfe75c0f0row17_col5\" class=\"data row17 col5\" >1</td>\n",
       "            </tr>\n",
       "            <tr>\n",
       "                        <th id=\"T_fe4bbf5e_2fc8_11ee_8ea0_3cfdfe75c0f0level0_row18\" class=\"row_heading level0 row18\" >18</th>\n",
       "                        <td id=\"T_fe4bbf5e_2fc8_11ee_8ea0_3cfdfe75c0f0row18_col0\" class=\"data row18 col0\" >19</td>\n",
       "                        <td id=\"T_fe4bbf5e_2fc8_11ee_8ea0_3cfdfe75c0f0row18_col1\" class=\"data row18 col1\" >19</td>\n",
       "                        <td id=\"T_fe4bbf5e_2fc8_11ee_8ea0_3cfdfe75c0f0row18_col2\" class=\"data row18 col2\" >0</td>\n",
       "                        <td id=\"T_fe4bbf5e_2fc8_11ee_8ea0_3cfdfe75c0f0row18_col3\" class=\"data row18 col3\" >2</td>\n",
       "                        <td id=\"T_fe4bbf5e_2fc8_11ee_8ea0_3cfdfe75c0f0row18_col4\" class=\"data row18 col4\" >2</td>\n",
       "                        <td id=\"T_fe4bbf5e_2fc8_11ee_8ea0_3cfdfe75c0f0row18_col5\" class=\"data row18 col5\" >1</td>\n",
       "            </tr>\n",
       "            <tr>\n",
       "                        <th id=\"T_fe4bbf5e_2fc8_11ee_8ea0_3cfdfe75c0f0level0_row19\" class=\"row_heading level0 row19\" >19</th>\n",
       "                        <td id=\"T_fe4bbf5e_2fc8_11ee_8ea0_3cfdfe75c0f0row19_col0\" class=\"data row19 col0\" >20</td>\n",
       "                        <td id=\"T_fe4bbf5e_2fc8_11ee_8ea0_3cfdfe75c0f0row19_col1\" class=\"data row19 col1\" >20</td>\n",
       "                        <td id=\"T_fe4bbf5e_2fc8_11ee_8ea0_3cfdfe75c0f0row19_col2\" class=\"data row19 col2\" >0</td>\n",
       "                        <td id=\"T_fe4bbf5e_2fc8_11ee_8ea0_3cfdfe75c0f0row19_col3\" class=\"data row19 col3\" >2</td>\n",
       "                        <td id=\"T_fe4bbf5e_2fc8_11ee_8ea0_3cfdfe75c0f0row19_col4\" class=\"data row19 col4\" >2</td>\n",
       "                        <td id=\"T_fe4bbf5e_2fc8_11ee_8ea0_3cfdfe75c0f0row19_col5\" class=\"data row19 col5\" >2</td>\n",
       "            </tr>\n",
       "            <tr>\n",
       "                        <th id=\"T_fe4bbf5e_2fc8_11ee_8ea0_3cfdfe75c0f0level0_row20\" class=\"row_heading level0 row20\" >20</th>\n",
       "                        <td id=\"T_fe4bbf5e_2fc8_11ee_8ea0_3cfdfe75c0f0row20_col0\" class=\"data row20 col0\" >21</td>\n",
       "                        <td id=\"T_fe4bbf5e_2fc8_11ee_8ea0_3cfdfe75c0f0row20_col1\" class=\"data row20 col1\" >21</td>\n",
       "                        <td id=\"T_fe4bbf5e_2fc8_11ee_8ea0_3cfdfe75c0f0row20_col2\" class=\"data row20 col2\" >0</td>\n",
       "                        <td id=\"T_fe4bbf5e_2fc8_11ee_8ea0_3cfdfe75c0f0row20_col3\" class=\"data row20 col3\" >0</td>\n",
       "                        <td id=\"T_fe4bbf5e_2fc8_11ee_8ea0_3cfdfe75c0f0row20_col4\" class=\"data row20 col4\" >2</td>\n",
       "                        <td id=\"T_fe4bbf5e_2fc8_11ee_8ea0_3cfdfe75c0f0row20_col5\" class=\"data row20 col5\" >1</td>\n",
       "            </tr>\n",
       "            <tr>\n",
       "                        <th id=\"T_fe4bbf5e_2fc8_11ee_8ea0_3cfdfe75c0f0level0_row21\" class=\"row_heading level0 row21\" >21</th>\n",
       "                        <td id=\"T_fe4bbf5e_2fc8_11ee_8ea0_3cfdfe75c0f0row21_col0\" class=\"data row21 col0\" >22</td>\n",
       "                        <td id=\"T_fe4bbf5e_2fc8_11ee_8ea0_3cfdfe75c0f0row21_col1\" class=\"data row21 col1\" >22</td>\n",
       "                        <td id=\"T_fe4bbf5e_2fc8_11ee_8ea0_3cfdfe75c0f0row21_col2\" class=\"data row21 col2\" >0</td>\n",
       "                        <td id=\"T_fe4bbf5e_2fc8_11ee_8ea0_3cfdfe75c0f0row21_col3\" class=\"data row21 col3\" >2</td>\n",
       "                        <td id=\"T_fe4bbf5e_2fc8_11ee_8ea0_3cfdfe75c0f0row21_col4\" class=\"data row21 col4\" >1</td>\n",
       "                        <td id=\"T_fe4bbf5e_2fc8_11ee_8ea0_3cfdfe75c0f0row21_col5\" class=\"data row21 col5\" >1</td>\n",
       "            </tr>\n",
       "            <tr>\n",
       "                        <th id=\"T_fe4bbf5e_2fc8_11ee_8ea0_3cfdfe75c0f0level0_row22\" class=\"row_heading level0 row22\" >22</th>\n",
       "                        <td id=\"T_fe4bbf5e_2fc8_11ee_8ea0_3cfdfe75c0f0row22_col0\" class=\"data row22 col0\" >23</td>\n",
       "                        <td id=\"T_fe4bbf5e_2fc8_11ee_8ea0_3cfdfe75c0f0row22_col1\" class=\"data row22 col1\" >23</td>\n",
       "                        <td id=\"T_fe4bbf5e_2fc8_11ee_8ea0_3cfdfe75c0f0row22_col2\" class=\"data row22 col2\" >0</td>\n",
       "                        <td id=\"T_fe4bbf5e_2fc8_11ee_8ea0_3cfdfe75c0f0row22_col3\" class=\"data row22 col3\" >2</td>\n",
       "                        <td id=\"T_fe4bbf5e_2fc8_11ee_8ea0_3cfdfe75c0f0row22_col4\" class=\"data row22 col4\" >2</td>\n",
       "                        <td id=\"T_fe4bbf5e_2fc8_11ee_8ea0_3cfdfe75c0f0row22_col5\" class=\"data row22 col5\" >1</td>\n",
       "            </tr>\n",
       "            <tr>\n",
       "                        <th id=\"T_fe4bbf5e_2fc8_11ee_8ea0_3cfdfe75c0f0level0_row23\" class=\"row_heading level0 row23\" >23</th>\n",
       "                        <td id=\"T_fe4bbf5e_2fc8_11ee_8ea0_3cfdfe75c0f0row23_col0\" class=\"data row23 col0\" >24</td>\n",
       "                        <td id=\"T_fe4bbf5e_2fc8_11ee_8ea0_3cfdfe75c0f0row23_col1\" class=\"data row23 col1\" >24</td>\n",
       "                        <td id=\"T_fe4bbf5e_2fc8_11ee_8ea0_3cfdfe75c0f0row23_col2\" class=\"data row23 col2\" >0</td>\n",
       "                        <td id=\"T_fe4bbf5e_2fc8_11ee_8ea0_3cfdfe75c0f0row23_col3\" class=\"data row23 col3\" >3</td>\n",
       "                        <td id=\"T_fe4bbf5e_2fc8_11ee_8ea0_3cfdfe75c0f0row23_col4\" class=\"data row23 col4\" >1</td>\n",
       "                        <td id=\"T_fe4bbf5e_2fc8_11ee_8ea0_3cfdfe75c0f0row23_col5\" class=\"data row23 col5\" >0</td>\n",
       "            </tr>\n",
       "            <tr>\n",
       "                        <th id=\"T_fe4bbf5e_2fc8_11ee_8ea0_3cfdfe75c0f0level0_row24\" class=\"row_heading level0 row24\" >24</th>\n",
       "                        <td id=\"T_fe4bbf5e_2fc8_11ee_8ea0_3cfdfe75c0f0row24_col0\" class=\"data row24 col0\" >25</td>\n",
       "                        <td id=\"T_fe4bbf5e_2fc8_11ee_8ea0_3cfdfe75c0f0row24_col1\" class=\"data row24 col1\" >25</td>\n",
       "                        <td id=\"T_fe4bbf5e_2fc8_11ee_8ea0_3cfdfe75c0f0row24_col2\" class=\"data row24 col2\" >0</td>\n",
       "                        <td id=\"T_fe4bbf5e_2fc8_11ee_8ea0_3cfdfe75c0f0row24_col3\" class=\"data row24 col3\" >0</td>\n",
       "                        <td id=\"T_fe4bbf5e_2fc8_11ee_8ea0_3cfdfe75c0f0row24_col4\" class=\"data row24 col4\" >2</td>\n",
       "                        <td id=\"T_fe4bbf5e_2fc8_11ee_8ea0_3cfdfe75c0f0row24_col5\" class=\"data row24 col5\" >2</td>\n",
       "            </tr>\n",
       "            <tr>\n",
       "                        <th id=\"T_fe4bbf5e_2fc8_11ee_8ea0_3cfdfe75c0f0level0_row25\" class=\"row_heading level0 row25\" >25</th>\n",
       "                        <td id=\"T_fe4bbf5e_2fc8_11ee_8ea0_3cfdfe75c0f0row25_col0\" class=\"data row25 col0\" >26</td>\n",
       "                        <td id=\"T_fe4bbf5e_2fc8_11ee_8ea0_3cfdfe75c0f0row25_col1\" class=\"data row25 col1\" >26</td>\n",
       "                        <td id=\"T_fe4bbf5e_2fc8_11ee_8ea0_3cfdfe75c0f0row25_col2\" class=\"data row25 col2\" >0</td>\n",
       "                        <td id=\"T_fe4bbf5e_2fc8_11ee_8ea0_3cfdfe75c0f0row25_col3\" class=\"data row25 col3\" >1</td>\n",
       "                        <td id=\"T_fe4bbf5e_2fc8_11ee_8ea0_3cfdfe75c0f0row25_col4\" class=\"data row25 col4\" >2</td>\n",
       "                        <td id=\"T_fe4bbf5e_2fc8_11ee_8ea0_3cfdfe75c0f0row25_col5\" class=\"data row25 col5\" >2</td>\n",
       "            </tr>\n",
       "            <tr>\n",
       "                        <th id=\"T_fe4bbf5e_2fc8_11ee_8ea0_3cfdfe75c0f0level0_row26\" class=\"row_heading level0 row26\" >26</th>\n",
       "                        <td id=\"T_fe4bbf5e_2fc8_11ee_8ea0_3cfdfe75c0f0row26_col0\" class=\"data row26 col0\" >27</td>\n",
       "                        <td id=\"T_fe4bbf5e_2fc8_11ee_8ea0_3cfdfe75c0f0row26_col1\" class=\"data row26 col1\" >27</td>\n",
       "                        <td id=\"T_fe4bbf5e_2fc8_11ee_8ea0_3cfdfe75c0f0row26_col2\" class=\"data row26 col2\" >0</td>\n",
       "                        <td id=\"T_fe4bbf5e_2fc8_11ee_8ea0_3cfdfe75c0f0row26_col3\" class=\"data row26 col3\" >0</td>\n",
       "                        <td id=\"T_fe4bbf5e_2fc8_11ee_8ea0_3cfdfe75c0f0row26_col4\" class=\"data row26 col4\" >2</td>\n",
       "                        <td id=\"T_fe4bbf5e_2fc8_11ee_8ea0_3cfdfe75c0f0row26_col5\" class=\"data row26 col5\" >1</td>\n",
       "            </tr>\n",
       "            <tr>\n",
       "                        <th id=\"T_fe4bbf5e_2fc8_11ee_8ea0_3cfdfe75c0f0level0_row27\" class=\"row_heading level0 row27\" >27</th>\n",
       "                        <td id=\"T_fe4bbf5e_2fc8_11ee_8ea0_3cfdfe75c0f0row27_col0\" class=\"data row27 col0\" >28</td>\n",
       "                        <td id=\"T_fe4bbf5e_2fc8_11ee_8ea0_3cfdfe75c0f0row27_col1\" class=\"data row27 col1\" >28</td>\n",
       "                        <td id=\"T_fe4bbf5e_2fc8_11ee_8ea0_3cfdfe75c0f0row27_col2\" class=\"data row27 col2\" >0</td>\n",
       "                        <td id=\"T_fe4bbf5e_2fc8_11ee_8ea0_3cfdfe75c0f0row27_col3\" class=\"data row27 col3\" >0</td>\n",
       "                        <td id=\"T_fe4bbf5e_2fc8_11ee_8ea0_3cfdfe75c0f0row27_col4\" class=\"data row27 col4\" >2</td>\n",
       "                        <td id=\"T_fe4bbf5e_2fc8_11ee_8ea0_3cfdfe75c0f0row27_col5\" class=\"data row27 col5\" >1</td>\n",
       "            </tr>\n",
       "            <tr>\n",
       "                        <th id=\"T_fe4bbf5e_2fc8_11ee_8ea0_3cfdfe75c0f0level0_row28\" class=\"row_heading level0 row28\" >28</th>\n",
       "                        <td id=\"T_fe4bbf5e_2fc8_11ee_8ea0_3cfdfe75c0f0row28_col0\" class=\"data row28 col0\" >29</td>\n",
       "                        <td id=\"T_fe4bbf5e_2fc8_11ee_8ea0_3cfdfe75c0f0row28_col1\" class=\"data row28 col1\" >29</td>\n",
       "                        <td id=\"T_fe4bbf5e_2fc8_11ee_8ea0_3cfdfe75c0f0row28_col2\" class=\"data row28 col2\" >0</td>\n",
       "                        <td id=\"T_fe4bbf5e_2fc8_11ee_8ea0_3cfdfe75c0f0row28_col3\" class=\"data row28 col3\" >0</td>\n",
       "                        <td id=\"T_fe4bbf5e_2fc8_11ee_8ea0_3cfdfe75c0f0row28_col4\" class=\"data row28 col4\" >2</td>\n",
       "                        <td id=\"T_fe4bbf5e_2fc8_11ee_8ea0_3cfdfe75c0f0row28_col5\" class=\"data row28 col5\" >1</td>\n",
       "            </tr>\n",
       "            <tr>\n",
       "                        <th id=\"T_fe4bbf5e_2fc8_11ee_8ea0_3cfdfe75c0f0level0_row29\" class=\"row_heading level0 row29\" >29</th>\n",
       "                        <td id=\"T_fe4bbf5e_2fc8_11ee_8ea0_3cfdfe75c0f0row29_col0\" class=\"data row29 col0\" >30</td>\n",
       "                        <td id=\"T_fe4bbf5e_2fc8_11ee_8ea0_3cfdfe75c0f0row29_col1\" class=\"data row29 col1\" >30</td>\n",
       "                        <td id=\"T_fe4bbf5e_2fc8_11ee_8ea0_3cfdfe75c0f0row29_col2\" class=\"data row29 col2\" >0</td>\n",
       "                        <td id=\"T_fe4bbf5e_2fc8_11ee_8ea0_3cfdfe75c0f0row29_col3\" class=\"data row29 col3\" >0</td>\n",
       "                        <td id=\"T_fe4bbf5e_2fc8_11ee_8ea0_3cfdfe75c0f0row29_col4\" class=\"data row29 col4\" >2</td>\n",
       "                        <td id=\"T_fe4bbf5e_2fc8_11ee_8ea0_3cfdfe75c0f0row29_col5\" class=\"data row29 col5\" >1</td>\n",
       "            </tr>\n",
       "            <tr>\n",
       "                        <th id=\"T_fe4bbf5e_2fc8_11ee_8ea0_3cfdfe75c0f0level0_row30\" class=\"row_heading level0 row30\" >30</th>\n",
       "                        <td id=\"T_fe4bbf5e_2fc8_11ee_8ea0_3cfdfe75c0f0row30_col0\" class=\"data row30 col0\" >31</td>\n",
       "                        <td id=\"T_fe4bbf5e_2fc8_11ee_8ea0_3cfdfe75c0f0row30_col1\" class=\"data row30 col1\" >31</td>\n",
       "                        <td id=\"T_fe4bbf5e_2fc8_11ee_8ea0_3cfdfe75c0f0row30_col2\" class=\"data row30 col2\" >0</td>\n",
       "                        <td id=\"T_fe4bbf5e_2fc8_11ee_8ea0_3cfdfe75c0f0row30_col3\" class=\"data row30 col3\" >0</td>\n",
       "                        <td id=\"T_fe4bbf5e_2fc8_11ee_8ea0_3cfdfe75c0f0row30_col4\" class=\"data row30 col4\" >2</td>\n",
       "                        <td id=\"T_fe4bbf5e_2fc8_11ee_8ea0_3cfdfe75c0f0row30_col5\" class=\"data row30 col5\" >2</td>\n",
       "            </tr>\n",
       "            <tr>\n",
       "                        <th id=\"T_fe4bbf5e_2fc8_11ee_8ea0_3cfdfe75c0f0level0_row31\" class=\"row_heading level0 row31\" >31</th>\n",
       "                        <td id=\"T_fe4bbf5e_2fc8_11ee_8ea0_3cfdfe75c0f0row31_col0\" class=\"data row31 col0\" >32</td>\n",
       "                        <td id=\"T_fe4bbf5e_2fc8_11ee_8ea0_3cfdfe75c0f0row31_col1\" class=\"data row31 col1\" >32</td>\n",
       "                        <td id=\"T_fe4bbf5e_2fc8_11ee_8ea0_3cfdfe75c0f0row31_col2\" class=\"data row31 col2\" >0</td>\n",
       "                        <td id=\"T_fe4bbf5e_2fc8_11ee_8ea0_3cfdfe75c0f0row31_col3\" class=\"data row31 col3\" >2</td>\n",
       "                        <td id=\"T_fe4bbf5e_2fc8_11ee_8ea0_3cfdfe75c0f0row31_col4\" class=\"data row31 col4\" >2</td>\n",
       "                        <td id=\"T_fe4bbf5e_2fc8_11ee_8ea0_3cfdfe75c0f0row31_col5\" class=\"data row31 col5\" >3</td>\n",
       "            </tr>\n",
       "            <tr>\n",
       "                        <th id=\"T_fe4bbf5e_2fc8_11ee_8ea0_3cfdfe75c0f0level0_row32\" class=\"row_heading level0 row32\" >32</th>\n",
       "                        <td id=\"T_fe4bbf5e_2fc8_11ee_8ea0_3cfdfe75c0f0row32_col0\" class=\"data row32 col0\" >33</td>\n",
       "                        <td id=\"T_fe4bbf5e_2fc8_11ee_8ea0_3cfdfe75c0f0row32_col1\" class=\"data row32 col1\" >33</td>\n",
       "                        <td id=\"T_fe4bbf5e_2fc8_11ee_8ea0_3cfdfe75c0f0row32_col2\" class=\"data row32 col2\" >0</td>\n",
       "                        <td id=\"T_fe4bbf5e_2fc8_11ee_8ea0_3cfdfe75c0f0row32_col3\" class=\"data row32 col3\" >0</td>\n",
       "                        <td id=\"T_fe4bbf5e_2fc8_11ee_8ea0_3cfdfe75c0f0row32_col4\" class=\"data row32 col4\" >0</td>\n",
       "                        <td id=\"T_fe4bbf5e_2fc8_11ee_8ea0_3cfdfe75c0f0row32_col5\" class=\"data row32 col5\" >0</td>\n",
       "            </tr>\n",
       "            <tr>\n",
       "                        <th id=\"T_fe4bbf5e_2fc8_11ee_8ea0_3cfdfe75c0f0level0_row33\" class=\"row_heading level0 row33\" >33</th>\n",
       "                        <td id=\"T_fe4bbf5e_2fc8_11ee_8ea0_3cfdfe75c0f0row33_col0\" class=\"data row33 col0\" >34</td>\n",
       "                        <td id=\"T_fe4bbf5e_2fc8_11ee_8ea0_3cfdfe75c0f0row33_col1\" class=\"data row33 col1\" >34</td>\n",
       "                        <td id=\"T_fe4bbf5e_2fc8_11ee_8ea0_3cfdfe75c0f0row33_col2\" class=\"data row33 col2\" >0</td>\n",
       "                        <td id=\"T_fe4bbf5e_2fc8_11ee_8ea0_3cfdfe75c0f0row33_col3\" class=\"data row33 col3\" >0</td>\n",
       "                        <td id=\"T_fe4bbf5e_2fc8_11ee_8ea0_3cfdfe75c0f0row33_col4\" class=\"data row33 col4\" >2</td>\n",
       "                        <td id=\"T_fe4bbf5e_2fc8_11ee_8ea0_3cfdfe75c0f0row33_col5\" class=\"data row33 col5\" >1</td>\n",
       "            </tr>\n",
       "            <tr>\n",
       "                        <th id=\"T_fe4bbf5e_2fc8_11ee_8ea0_3cfdfe75c0f0level0_row34\" class=\"row_heading level0 row34\" >34</th>\n",
       "                        <td id=\"T_fe4bbf5e_2fc8_11ee_8ea0_3cfdfe75c0f0row34_col0\" class=\"data row34 col0\" >35</td>\n",
       "                        <td id=\"T_fe4bbf5e_2fc8_11ee_8ea0_3cfdfe75c0f0row34_col1\" class=\"data row34 col1\" >35</td>\n",
       "                        <td id=\"T_fe4bbf5e_2fc8_11ee_8ea0_3cfdfe75c0f0row34_col2\" class=\"data row34 col2\" >0</td>\n",
       "                        <td id=\"T_fe4bbf5e_2fc8_11ee_8ea0_3cfdfe75c0f0row34_col3\" class=\"data row34 col3\" >0</td>\n",
       "                        <td id=\"T_fe4bbf5e_2fc8_11ee_8ea0_3cfdfe75c0f0row34_col4\" class=\"data row34 col4\" >2</td>\n",
       "                        <td id=\"T_fe4bbf5e_2fc8_11ee_8ea0_3cfdfe75c0f0row34_col5\" class=\"data row34 col5\" >2</td>\n",
       "            </tr>\n",
       "            <tr>\n",
       "                        <th id=\"T_fe4bbf5e_2fc8_11ee_8ea0_3cfdfe75c0f0level0_row35\" class=\"row_heading level0 row35\" >35</th>\n",
       "                        <td id=\"T_fe4bbf5e_2fc8_11ee_8ea0_3cfdfe75c0f0row35_col0\" class=\"data row35 col0\" >36</td>\n",
       "                        <td id=\"T_fe4bbf5e_2fc8_11ee_8ea0_3cfdfe75c0f0row35_col1\" class=\"data row35 col1\" >36</td>\n",
       "                        <td id=\"T_fe4bbf5e_2fc8_11ee_8ea0_3cfdfe75c0f0row35_col2\" class=\"data row35 col2\" >0</td>\n",
       "                        <td id=\"T_fe4bbf5e_2fc8_11ee_8ea0_3cfdfe75c0f0row35_col3\" class=\"data row35 col3\" >0</td>\n",
       "                        <td id=\"T_fe4bbf5e_2fc8_11ee_8ea0_3cfdfe75c0f0row35_col4\" class=\"data row35 col4\" >2</td>\n",
       "                        <td id=\"T_fe4bbf5e_2fc8_11ee_8ea0_3cfdfe75c0f0row35_col5\" class=\"data row35 col5\" >1</td>\n",
       "            </tr>\n",
       "            <tr>\n",
       "                        <th id=\"T_fe4bbf5e_2fc8_11ee_8ea0_3cfdfe75c0f0level0_row36\" class=\"row_heading level0 row36\" >36</th>\n",
       "                        <td id=\"T_fe4bbf5e_2fc8_11ee_8ea0_3cfdfe75c0f0row36_col0\" class=\"data row36 col0\" >37</td>\n",
       "                        <td id=\"T_fe4bbf5e_2fc8_11ee_8ea0_3cfdfe75c0f0row36_col1\" class=\"data row36 col1\" >37</td>\n",
       "                        <td id=\"T_fe4bbf5e_2fc8_11ee_8ea0_3cfdfe75c0f0row36_col2\" class=\"data row36 col2\" >0</td>\n",
       "                        <td id=\"T_fe4bbf5e_2fc8_11ee_8ea0_3cfdfe75c0f0row36_col3\" class=\"data row36 col3\" >3</td>\n",
       "                        <td id=\"T_fe4bbf5e_2fc8_11ee_8ea0_3cfdfe75c0f0row36_col4\" class=\"data row36 col4\" >2</td>\n",
       "                        <td id=\"T_fe4bbf5e_2fc8_11ee_8ea0_3cfdfe75c0f0row36_col5\" class=\"data row36 col5\" >1</td>\n",
       "            </tr>\n",
       "            <tr>\n",
       "                        <th id=\"T_fe4bbf5e_2fc8_11ee_8ea0_3cfdfe75c0f0level0_row37\" class=\"row_heading level0 row37\" >37</th>\n",
       "                        <td id=\"T_fe4bbf5e_2fc8_11ee_8ea0_3cfdfe75c0f0row37_col0\" class=\"data row37 col0\" >38</td>\n",
       "                        <td id=\"T_fe4bbf5e_2fc8_11ee_8ea0_3cfdfe75c0f0row37_col1\" class=\"data row37 col1\" >38</td>\n",
       "                        <td id=\"T_fe4bbf5e_2fc8_11ee_8ea0_3cfdfe75c0f0row37_col2\" class=\"data row37 col2\" >0</td>\n",
       "                        <td id=\"T_fe4bbf5e_2fc8_11ee_8ea0_3cfdfe75c0f0row37_col3\" class=\"data row37 col3\" >2</td>\n",
       "                        <td id=\"T_fe4bbf5e_2fc8_11ee_8ea0_3cfdfe75c0f0row37_col4\" class=\"data row37 col4\" >2</td>\n",
       "                        <td id=\"T_fe4bbf5e_2fc8_11ee_8ea0_3cfdfe75c0f0row37_col5\" class=\"data row37 col5\" >1</td>\n",
       "            </tr>\n",
       "            <tr>\n",
       "                        <th id=\"T_fe4bbf5e_2fc8_11ee_8ea0_3cfdfe75c0f0level0_row38\" class=\"row_heading level0 row38\" >38</th>\n",
       "                        <td id=\"T_fe4bbf5e_2fc8_11ee_8ea0_3cfdfe75c0f0row38_col0\" class=\"data row38 col0\" >39</td>\n",
       "                        <td id=\"T_fe4bbf5e_2fc8_11ee_8ea0_3cfdfe75c0f0row38_col1\" class=\"data row38 col1\" >39</td>\n",
       "                        <td id=\"T_fe4bbf5e_2fc8_11ee_8ea0_3cfdfe75c0f0row38_col2\" class=\"data row38 col2\" >0</td>\n",
       "                        <td id=\"T_fe4bbf5e_2fc8_11ee_8ea0_3cfdfe75c0f0row38_col3\" class=\"data row38 col3\" >1</td>\n",
       "                        <td id=\"T_fe4bbf5e_2fc8_11ee_8ea0_3cfdfe75c0f0row38_col4\" class=\"data row38 col4\" >2</td>\n",
       "                        <td id=\"T_fe4bbf5e_2fc8_11ee_8ea0_3cfdfe75c0f0row38_col5\" class=\"data row38 col5\" >1</td>\n",
       "            </tr>\n",
       "            <tr>\n",
       "                        <th id=\"T_fe4bbf5e_2fc8_11ee_8ea0_3cfdfe75c0f0level0_row39\" class=\"row_heading level0 row39\" >39</th>\n",
       "                        <td id=\"T_fe4bbf5e_2fc8_11ee_8ea0_3cfdfe75c0f0row39_col0\" class=\"data row39 col0\" >40</td>\n",
       "                        <td id=\"T_fe4bbf5e_2fc8_11ee_8ea0_3cfdfe75c0f0row39_col1\" class=\"data row39 col1\" >40</td>\n",
       "                        <td id=\"T_fe4bbf5e_2fc8_11ee_8ea0_3cfdfe75c0f0row39_col2\" class=\"data row39 col2\" >0</td>\n",
       "                        <td id=\"T_fe4bbf5e_2fc8_11ee_8ea0_3cfdfe75c0f0row39_col3\" class=\"data row39 col3\" >2</td>\n",
       "                        <td id=\"T_fe4bbf5e_2fc8_11ee_8ea0_3cfdfe75c0f0row39_col4\" class=\"data row39 col4\" >2</td>\n",
       "                        <td id=\"T_fe4bbf5e_2fc8_11ee_8ea0_3cfdfe75c0f0row39_col5\" class=\"data row39 col5\" >2</td>\n",
       "            </tr>\n",
       "            <tr>\n",
       "                        <th id=\"T_fe4bbf5e_2fc8_11ee_8ea0_3cfdfe75c0f0level0_row40\" class=\"row_heading level0 row40\" >40</th>\n",
       "                        <td id=\"T_fe4bbf5e_2fc8_11ee_8ea0_3cfdfe75c0f0row40_col0\" class=\"data row40 col0\" >41</td>\n",
       "                        <td id=\"T_fe4bbf5e_2fc8_11ee_8ea0_3cfdfe75c0f0row40_col1\" class=\"data row40 col1\" >41</td>\n",
       "                        <td id=\"T_fe4bbf5e_2fc8_11ee_8ea0_3cfdfe75c0f0row40_col2\" class=\"data row40 col2\" >0</td>\n",
       "                        <td id=\"T_fe4bbf5e_2fc8_11ee_8ea0_3cfdfe75c0f0row40_col3\" class=\"data row40 col3\" >2</td>\n",
       "                        <td id=\"T_fe4bbf5e_2fc8_11ee_8ea0_3cfdfe75c0f0row40_col4\" class=\"data row40 col4\" >2</td>\n",
       "                        <td id=\"T_fe4bbf5e_2fc8_11ee_8ea0_3cfdfe75c0f0row40_col5\" class=\"data row40 col5\" >1</td>\n",
       "            </tr>\n",
       "            <tr>\n",
       "                        <th id=\"T_fe4bbf5e_2fc8_11ee_8ea0_3cfdfe75c0f0level0_row41\" class=\"row_heading level0 row41\" >41</th>\n",
       "                        <td id=\"T_fe4bbf5e_2fc8_11ee_8ea0_3cfdfe75c0f0row41_col0\" class=\"data row41 col0\" >42</td>\n",
       "                        <td id=\"T_fe4bbf5e_2fc8_11ee_8ea0_3cfdfe75c0f0row41_col1\" class=\"data row41 col1\" >42</td>\n",
       "                        <td id=\"T_fe4bbf5e_2fc8_11ee_8ea0_3cfdfe75c0f0row41_col2\" class=\"data row41 col2\" >0</td>\n",
       "                        <td id=\"T_fe4bbf5e_2fc8_11ee_8ea0_3cfdfe75c0f0row41_col3\" class=\"data row41 col3\" >3</td>\n",
       "                        <td id=\"T_fe4bbf5e_2fc8_11ee_8ea0_3cfdfe75c0f0row41_col4\" class=\"data row41 col4\" >1</td>\n",
       "                        <td id=\"T_fe4bbf5e_2fc8_11ee_8ea0_3cfdfe75c0f0row41_col5\" class=\"data row41 col5\" >1</td>\n",
       "            </tr>\n",
       "            <tr>\n",
       "                        <th id=\"T_fe4bbf5e_2fc8_11ee_8ea0_3cfdfe75c0f0level0_row42\" class=\"row_heading level0 row42\" >42</th>\n",
       "                        <td id=\"T_fe4bbf5e_2fc8_11ee_8ea0_3cfdfe75c0f0row42_col0\" class=\"data row42 col0\" >43</td>\n",
       "                        <td id=\"T_fe4bbf5e_2fc8_11ee_8ea0_3cfdfe75c0f0row42_col1\" class=\"data row42 col1\" >43</td>\n",
       "                        <td id=\"T_fe4bbf5e_2fc8_11ee_8ea0_3cfdfe75c0f0row42_col2\" class=\"data row42 col2\" >0</td>\n",
       "                        <td id=\"T_fe4bbf5e_2fc8_11ee_8ea0_3cfdfe75c0f0row42_col3\" class=\"data row42 col3\" >3</td>\n",
       "                        <td id=\"T_fe4bbf5e_2fc8_11ee_8ea0_3cfdfe75c0f0row42_col4\" class=\"data row42 col4\" >2</td>\n",
       "                        <td id=\"T_fe4bbf5e_2fc8_11ee_8ea0_3cfdfe75c0f0row42_col5\" class=\"data row42 col5\" >0</td>\n",
       "            </tr>\n",
       "            <tr>\n",
       "                        <th id=\"T_fe4bbf5e_2fc8_11ee_8ea0_3cfdfe75c0f0level0_row43\" class=\"row_heading level0 row43\" >43</th>\n",
       "                        <td id=\"T_fe4bbf5e_2fc8_11ee_8ea0_3cfdfe75c0f0row43_col0\" class=\"data row43 col0\" >44</td>\n",
       "                        <td id=\"T_fe4bbf5e_2fc8_11ee_8ea0_3cfdfe75c0f0row43_col1\" class=\"data row43 col1\" >44</td>\n",
       "                        <td id=\"T_fe4bbf5e_2fc8_11ee_8ea0_3cfdfe75c0f0row43_col2\" class=\"data row43 col2\" >0</td>\n",
       "                        <td id=\"T_fe4bbf5e_2fc8_11ee_8ea0_3cfdfe75c0f0row43_col3\" class=\"data row43 col3\" >0</td>\n",
       "                        <td id=\"T_fe4bbf5e_2fc8_11ee_8ea0_3cfdfe75c0f0row43_col4\" class=\"data row43 col4\" >2</td>\n",
       "                        <td id=\"T_fe4bbf5e_2fc8_11ee_8ea0_3cfdfe75c0f0row43_col5\" class=\"data row43 col5\" >1</td>\n",
       "            </tr>\n",
       "            <tr>\n",
       "                        <th id=\"T_fe4bbf5e_2fc8_11ee_8ea0_3cfdfe75c0f0level0_row44\" class=\"row_heading level0 row44\" >44</th>\n",
       "                        <td id=\"T_fe4bbf5e_2fc8_11ee_8ea0_3cfdfe75c0f0row44_col0\" class=\"data row44 col0\" >45</td>\n",
       "                        <td id=\"T_fe4bbf5e_2fc8_11ee_8ea0_3cfdfe75c0f0row44_col1\" class=\"data row44 col1\" >45</td>\n",
       "                        <td id=\"T_fe4bbf5e_2fc8_11ee_8ea0_3cfdfe75c0f0row44_col2\" class=\"data row44 col2\" >0</td>\n",
       "                        <td id=\"T_fe4bbf5e_2fc8_11ee_8ea0_3cfdfe75c0f0row44_col3\" class=\"data row44 col3\" >0</td>\n",
       "                        <td id=\"T_fe4bbf5e_2fc8_11ee_8ea0_3cfdfe75c0f0row44_col4\" class=\"data row44 col4\" >2</td>\n",
       "                        <td id=\"T_fe4bbf5e_2fc8_11ee_8ea0_3cfdfe75c0f0row44_col5\" class=\"data row44 col5\" >1</td>\n",
       "            </tr>\n",
       "            <tr>\n",
       "                        <th id=\"T_fe4bbf5e_2fc8_11ee_8ea0_3cfdfe75c0f0level0_row45\" class=\"row_heading level0 row45\" >45</th>\n",
       "                        <td id=\"T_fe4bbf5e_2fc8_11ee_8ea0_3cfdfe75c0f0row45_col0\" class=\"data row45 col0\" >46</td>\n",
       "                        <td id=\"T_fe4bbf5e_2fc8_11ee_8ea0_3cfdfe75c0f0row45_col1\" class=\"data row45 col1\" >46</td>\n",
       "                        <td id=\"T_fe4bbf5e_2fc8_11ee_8ea0_3cfdfe75c0f0row45_col2\" class=\"data row45 col2\" >0</td>\n",
       "                        <td id=\"T_fe4bbf5e_2fc8_11ee_8ea0_3cfdfe75c0f0row45_col3\" class=\"data row45 col3\" >3</td>\n",
       "                        <td id=\"T_fe4bbf5e_2fc8_11ee_8ea0_3cfdfe75c0f0row45_col4\" class=\"data row45 col4\" >2</td>\n",
       "                        <td id=\"T_fe4bbf5e_2fc8_11ee_8ea0_3cfdfe75c0f0row45_col5\" class=\"data row45 col5\" >1</td>\n",
       "            </tr>\n",
       "            <tr>\n",
       "                        <th id=\"T_fe4bbf5e_2fc8_11ee_8ea0_3cfdfe75c0f0level0_row46\" class=\"row_heading level0 row46\" >46</th>\n",
       "                        <td id=\"T_fe4bbf5e_2fc8_11ee_8ea0_3cfdfe75c0f0row46_col0\" class=\"data row46 col0\" >47</td>\n",
       "                        <td id=\"T_fe4bbf5e_2fc8_11ee_8ea0_3cfdfe75c0f0row46_col1\" class=\"data row46 col1\" >47</td>\n",
       "                        <td id=\"T_fe4bbf5e_2fc8_11ee_8ea0_3cfdfe75c0f0row46_col2\" class=\"data row46 col2\" >0</td>\n",
       "                        <td id=\"T_fe4bbf5e_2fc8_11ee_8ea0_3cfdfe75c0f0row46_col3\" class=\"data row46 col3\" >2</td>\n",
       "                        <td id=\"T_fe4bbf5e_2fc8_11ee_8ea0_3cfdfe75c0f0row46_col4\" class=\"data row46 col4\" >2</td>\n",
       "                        <td id=\"T_fe4bbf5e_2fc8_11ee_8ea0_3cfdfe75c0f0row46_col5\" class=\"data row46 col5\" >1</td>\n",
       "            </tr>\n",
       "            <tr>\n",
       "                        <th id=\"T_fe4bbf5e_2fc8_11ee_8ea0_3cfdfe75c0f0level0_row47\" class=\"row_heading level0 row47\" >47</th>\n",
       "                        <td id=\"T_fe4bbf5e_2fc8_11ee_8ea0_3cfdfe75c0f0row47_col0\" class=\"data row47 col0\" >48</td>\n",
       "                        <td id=\"T_fe4bbf5e_2fc8_11ee_8ea0_3cfdfe75c0f0row47_col1\" class=\"data row47 col1\" >48</td>\n",
       "                        <td id=\"T_fe4bbf5e_2fc8_11ee_8ea0_3cfdfe75c0f0row47_col2\" class=\"data row47 col2\" >0</td>\n",
       "                        <td id=\"T_fe4bbf5e_2fc8_11ee_8ea0_3cfdfe75c0f0row47_col3\" class=\"data row47 col3\" >0</td>\n",
       "                        <td id=\"T_fe4bbf5e_2fc8_11ee_8ea0_3cfdfe75c0f0row47_col4\" class=\"data row47 col4\" >2</td>\n",
       "                        <td id=\"T_fe4bbf5e_2fc8_11ee_8ea0_3cfdfe75c0f0row47_col5\" class=\"data row47 col5\" >2</td>\n",
       "            </tr>\n",
       "            <tr>\n",
       "                        <th id=\"T_fe4bbf5e_2fc8_11ee_8ea0_3cfdfe75c0f0level0_row48\" class=\"row_heading level0 row48\" >48</th>\n",
       "                        <td id=\"T_fe4bbf5e_2fc8_11ee_8ea0_3cfdfe75c0f0row48_col0\" class=\"data row48 col0\" >49</td>\n",
       "                        <td id=\"T_fe4bbf5e_2fc8_11ee_8ea0_3cfdfe75c0f0row48_col1\" class=\"data row48 col1\" >49</td>\n",
       "                        <td id=\"T_fe4bbf5e_2fc8_11ee_8ea0_3cfdfe75c0f0row48_col2\" class=\"data row48 col2\" >0</td>\n",
       "                        <td id=\"T_fe4bbf5e_2fc8_11ee_8ea0_3cfdfe75c0f0row48_col3\" class=\"data row48 col3\" >2</td>\n",
       "                        <td id=\"T_fe4bbf5e_2fc8_11ee_8ea0_3cfdfe75c0f0row48_col4\" class=\"data row48 col4\" >2</td>\n",
       "                        <td id=\"T_fe4bbf5e_2fc8_11ee_8ea0_3cfdfe75c0f0row48_col5\" class=\"data row48 col5\" >2</td>\n",
       "            </tr>\n",
       "            <tr>\n",
       "                        <th id=\"T_fe4bbf5e_2fc8_11ee_8ea0_3cfdfe75c0f0level0_row49\" class=\"row_heading level0 row49\" >49</th>\n",
       "                        <td id=\"T_fe4bbf5e_2fc8_11ee_8ea0_3cfdfe75c0f0row49_col0\" class=\"data row49 col0\" >50</td>\n",
       "                        <td id=\"T_fe4bbf5e_2fc8_11ee_8ea0_3cfdfe75c0f0row49_col1\" class=\"data row49 col1\" >50</td>\n",
       "                        <td id=\"T_fe4bbf5e_2fc8_11ee_8ea0_3cfdfe75c0f0row49_col2\" class=\"data row49 col2\" >0</td>\n",
       "                        <td id=\"T_fe4bbf5e_2fc8_11ee_8ea0_3cfdfe75c0f0row49_col3\" class=\"data row49 col3\" >0</td>\n",
       "                        <td id=\"T_fe4bbf5e_2fc8_11ee_8ea0_3cfdfe75c0f0row49_col4\" class=\"data row49 col4\" >2</td>\n",
       "                        <td id=\"T_fe4bbf5e_2fc8_11ee_8ea0_3cfdfe75c0f0row49_col5\" class=\"data row49 col5\" >2</td>\n",
       "            </tr>\n",
       "            <tr>\n",
       "                        <th id=\"T_fe4bbf5e_2fc8_11ee_8ea0_3cfdfe75c0f0level0_row50\" class=\"row_heading level0 row50\" >50</th>\n",
       "                        <td id=\"T_fe4bbf5e_2fc8_11ee_8ea0_3cfdfe75c0f0row50_col0\" class=\"data row50 col0\" >51</td>\n",
       "                        <td id=\"T_fe4bbf5e_2fc8_11ee_8ea0_3cfdfe75c0f0row50_col1\" class=\"data row50 col1\" >51</td>\n",
       "                        <td id=\"T_fe4bbf5e_2fc8_11ee_8ea0_3cfdfe75c0f0row50_col2\" class=\"data row50 col2\" >0</td>\n",
       "                        <td id=\"T_fe4bbf5e_2fc8_11ee_8ea0_3cfdfe75c0f0row50_col3\" class=\"data row50 col3\" >2</td>\n",
       "                        <td id=\"T_fe4bbf5e_2fc8_11ee_8ea0_3cfdfe75c0f0row50_col4\" class=\"data row50 col4\" >2</td>\n",
       "                        <td id=\"T_fe4bbf5e_2fc8_11ee_8ea0_3cfdfe75c0f0row50_col5\" class=\"data row50 col5\" >1</td>\n",
       "            </tr>\n",
       "            <tr>\n",
       "                        <th id=\"T_fe4bbf5e_2fc8_11ee_8ea0_3cfdfe75c0f0level0_row51\" class=\"row_heading level0 row51\" >51</th>\n",
       "                        <td id=\"T_fe4bbf5e_2fc8_11ee_8ea0_3cfdfe75c0f0row51_col0\" class=\"data row51 col0\" >52</td>\n",
       "                        <td id=\"T_fe4bbf5e_2fc8_11ee_8ea0_3cfdfe75c0f0row51_col1\" class=\"data row51 col1\" >52</td>\n",
       "                        <td id=\"T_fe4bbf5e_2fc8_11ee_8ea0_3cfdfe75c0f0row51_col2\" class=\"data row51 col2\" >0</td>\n",
       "                        <td id=\"T_fe4bbf5e_2fc8_11ee_8ea0_3cfdfe75c0f0row51_col3\" class=\"data row51 col3\" >1</td>\n",
       "                        <td id=\"T_fe4bbf5e_2fc8_11ee_8ea0_3cfdfe75c0f0row51_col4\" class=\"data row51 col4\" >2</td>\n",
       "                        <td id=\"T_fe4bbf5e_2fc8_11ee_8ea0_3cfdfe75c0f0row51_col5\" class=\"data row51 col5\" >0</td>\n",
       "            </tr>\n",
       "            <tr>\n",
       "                        <th id=\"T_fe4bbf5e_2fc8_11ee_8ea0_3cfdfe75c0f0level0_row52\" class=\"row_heading level0 row52\" >52</th>\n",
       "                        <td id=\"T_fe4bbf5e_2fc8_11ee_8ea0_3cfdfe75c0f0row52_col0\" class=\"data row52 col0\" >53</td>\n",
       "                        <td id=\"T_fe4bbf5e_2fc8_11ee_8ea0_3cfdfe75c0f0row52_col1\" class=\"data row52 col1\" >53</td>\n",
       "                        <td id=\"T_fe4bbf5e_2fc8_11ee_8ea0_3cfdfe75c0f0row52_col2\" class=\"data row52 col2\" >1</td>\n",
       "                        <td id=\"T_fe4bbf5e_2fc8_11ee_8ea0_3cfdfe75c0f0row52_col3\" class=\"data row52 col3\" >0</td>\n",
       "                        <td id=\"T_fe4bbf5e_2fc8_11ee_8ea0_3cfdfe75c0f0row52_col4\" class=\"data row52 col4\" >3</td>\n",
       "                        <td id=\"T_fe4bbf5e_2fc8_11ee_8ea0_3cfdfe75c0f0row52_col5\" class=\"data row52 col5\" >0</td>\n",
       "            </tr>\n",
       "            <tr>\n",
       "                        <th id=\"T_fe4bbf5e_2fc8_11ee_8ea0_3cfdfe75c0f0level0_row53\" class=\"row_heading level0 row53\" >53</th>\n",
       "                        <td id=\"T_fe4bbf5e_2fc8_11ee_8ea0_3cfdfe75c0f0row53_col0\" class=\"data row53 col0\" >54</td>\n",
       "                        <td id=\"T_fe4bbf5e_2fc8_11ee_8ea0_3cfdfe75c0f0row53_col1\" class=\"data row53 col1\" >54</td>\n",
       "                        <td id=\"T_fe4bbf5e_2fc8_11ee_8ea0_3cfdfe75c0f0row53_col2\" class=\"data row53 col2\" >0</td>\n",
       "                        <td id=\"T_fe4bbf5e_2fc8_11ee_8ea0_3cfdfe75c0f0row53_col3\" class=\"data row53 col3\" >3</td>\n",
       "                        <td id=\"T_fe4bbf5e_2fc8_11ee_8ea0_3cfdfe75c0f0row53_col4\" class=\"data row53 col4\" >2</td>\n",
       "                        <td id=\"T_fe4bbf5e_2fc8_11ee_8ea0_3cfdfe75c0f0row53_col5\" class=\"data row53 col5\" >1</td>\n",
       "            </tr>\n",
       "            <tr>\n",
       "                        <th id=\"T_fe4bbf5e_2fc8_11ee_8ea0_3cfdfe75c0f0level0_row54\" class=\"row_heading level0 row54\" >54</th>\n",
       "                        <td id=\"T_fe4bbf5e_2fc8_11ee_8ea0_3cfdfe75c0f0row54_col0\" class=\"data row54 col0\" >55</td>\n",
       "                        <td id=\"T_fe4bbf5e_2fc8_11ee_8ea0_3cfdfe75c0f0row54_col1\" class=\"data row54 col1\" >55</td>\n",
       "                        <td id=\"T_fe4bbf5e_2fc8_11ee_8ea0_3cfdfe75c0f0row54_col2\" class=\"data row54 col2\" >0</td>\n",
       "                        <td id=\"T_fe4bbf5e_2fc8_11ee_8ea0_3cfdfe75c0f0row54_col3\" class=\"data row54 col3\" >0</td>\n",
       "                        <td id=\"T_fe4bbf5e_2fc8_11ee_8ea0_3cfdfe75c0f0row54_col4\" class=\"data row54 col4\" >2</td>\n",
       "                        <td id=\"T_fe4bbf5e_2fc8_11ee_8ea0_3cfdfe75c0f0row54_col5\" class=\"data row54 col5\" >0</td>\n",
       "            </tr>\n",
       "            <tr>\n",
       "                        <th id=\"T_fe4bbf5e_2fc8_11ee_8ea0_3cfdfe75c0f0level0_row55\" class=\"row_heading level0 row55\" >55</th>\n",
       "                        <td id=\"T_fe4bbf5e_2fc8_11ee_8ea0_3cfdfe75c0f0row55_col0\" class=\"data row55 col0\" >56</td>\n",
       "                        <td id=\"T_fe4bbf5e_2fc8_11ee_8ea0_3cfdfe75c0f0row55_col1\" class=\"data row55 col1\" >56</td>\n",
       "                        <td id=\"T_fe4bbf5e_2fc8_11ee_8ea0_3cfdfe75c0f0row55_col2\" class=\"data row55 col2\" >0</td>\n",
       "                        <td id=\"T_fe4bbf5e_2fc8_11ee_8ea0_3cfdfe75c0f0row55_col3\" class=\"data row55 col3\" >3</td>\n",
       "                        <td id=\"T_fe4bbf5e_2fc8_11ee_8ea0_3cfdfe75c0f0row55_col4\" class=\"data row55 col4\" >2</td>\n",
       "                        <td id=\"T_fe4bbf5e_2fc8_11ee_8ea0_3cfdfe75c0f0row55_col5\" class=\"data row55 col5\" >1</td>\n",
       "            </tr>\n",
       "            <tr>\n",
       "                        <th id=\"T_fe4bbf5e_2fc8_11ee_8ea0_3cfdfe75c0f0level0_row56\" class=\"row_heading level0 row56\" >56</th>\n",
       "                        <td id=\"T_fe4bbf5e_2fc8_11ee_8ea0_3cfdfe75c0f0row56_col0\" class=\"data row56 col0\" >57</td>\n",
       "                        <td id=\"T_fe4bbf5e_2fc8_11ee_8ea0_3cfdfe75c0f0row56_col1\" class=\"data row56 col1\" >57</td>\n",
       "                        <td id=\"T_fe4bbf5e_2fc8_11ee_8ea0_3cfdfe75c0f0row56_col2\" class=\"data row56 col2\" >1</td>\n",
       "                        <td id=\"T_fe4bbf5e_2fc8_11ee_8ea0_3cfdfe75c0f0row56_col3\" class=\"data row56 col3\" >3</td>\n",
       "                        <td id=\"T_fe4bbf5e_2fc8_11ee_8ea0_3cfdfe75c0f0row56_col4\" class=\"data row56 col4\" >3</td>\n",
       "                        <td id=\"T_fe4bbf5e_2fc8_11ee_8ea0_3cfdfe75c0f0row56_col5\" class=\"data row56 col5\" >0</td>\n",
       "            </tr>\n",
       "            <tr>\n",
       "                        <th id=\"T_fe4bbf5e_2fc8_11ee_8ea0_3cfdfe75c0f0level0_row57\" class=\"row_heading level0 row57\" >57</th>\n",
       "                        <td id=\"T_fe4bbf5e_2fc8_11ee_8ea0_3cfdfe75c0f0row57_col0\" class=\"data row57 col0\" >58</td>\n",
       "                        <td id=\"T_fe4bbf5e_2fc8_11ee_8ea0_3cfdfe75c0f0row57_col1\" class=\"data row57 col1\" >58</td>\n",
       "                        <td id=\"T_fe4bbf5e_2fc8_11ee_8ea0_3cfdfe75c0f0row57_col2\" class=\"data row57 col2\" >1</td>\n",
       "                        <td id=\"T_fe4bbf5e_2fc8_11ee_8ea0_3cfdfe75c0f0row57_col3\" class=\"data row57 col3\" >0</td>\n",
       "                        <td id=\"T_fe4bbf5e_2fc8_11ee_8ea0_3cfdfe75c0f0row57_col4\" class=\"data row57 col4\" >3</td>\n",
       "                        <td id=\"T_fe4bbf5e_2fc8_11ee_8ea0_3cfdfe75c0f0row57_col5\" class=\"data row57 col5\" >0</td>\n",
       "            </tr>\n",
       "            <tr>\n",
       "                        <th id=\"T_fe4bbf5e_2fc8_11ee_8ea0_3cfdfe75c0f0level0_row58\" class=\"row_heading level0 row58\" >58</th>\n",
       "                        <td id=\"T_fe4bbf5e_2fc8_11ee_8ea0_3cfdfe75c0f0row58_col0\" class=\"data row58 col0\" >59</td>\n",
       "                        <td id=\"T_fe4bbf5e_2fc8_11ee_8ea0_3cfdfe75c0f0row58_col1\" class=\"data row58 col1\" >59</td>\n",
       "                        <td id=\"T_fe4bbf5e_2fc8_11ee_8ea0_3cfdfe75c0f0row58_col2\" class=\"data row58 col2\" >0</td>\n",
       "                        <td id=\"T_fe4bbf5e_2fc8_11ee_8ea0_3cfdfe75c0f0row58_col3\" class=\"data row58 col3\" >3</td>\n",
       "                        <td id=\"T_fe4bbf5e_2fc8_11ee_8ea0_3cfdfe75c0f0row58_col4\" class=\"data row58 col4\" >0</td>\n",
       "                        <td id=\"T_fe4bbf5e_2fc8_11ee_8ea0_3cfdfe75c0f0row58_col5\" class=\"data row58 col5\" >0</td>\n",
       "            </tr>\n",
       "            <tr>\n",
       "                        <th id=\"T_fe4bbf5e_2fc8_11ee_8ea0_3cfdfe75c0f0level0_row59\" class=\"row_heading level0 row59\" >59</th>\n",
       "                        <td id=\"T_fe4bbf5e_2fc8_11ee_8ea0_3cfdfe75c0f0row59_col0\" class=\"data row59 col0\" >60</td>\n",
       "                        <td id=\"T_fe4bbf5e_2fc8_11ee_8ea0_3cfdfe75c0f0row59_col1\" class=\"data row59 col1\" >60</td>\n",
       "                        <td id=\"T_fe4bbf5e_2fc8_11ee_8ea0_3cfdfe75c0f0row59_col2\" class=\"data row59 col2\" >0</td>\n",
       "                        <td id=\"T_fe4bbf5e_2fc8_11ee_8ea0_3cfdfe75c0f0row59_col3\" class=\"data row59 col3\" >0</td>\n",
       "                        <td id=\"T_fe4bbf5e_2fc8_11ee_8ea0_3cfdfe75c0f0row59_col4\" class=\"data row59 col4\" >2</td>\n",
       "                        <td id=\"T_fe4bbf5e_2fc8_11ee_8ea0_3cfdfe75c0f0row59_col5\" class=\"data row59 col5\" >1</td>\n",
       "            </tr>\n",
       "            <tr>\n",
       "                        <th id=\"T_fe4bbf5e_2fc8_11ee_8ea0_3cfdfe75c0f0level0_row60\" class=\"row_heading level0 row60\" >60</th>\n",
       "                        <td id=\"T_fe4bbf5e_2fc8_11ee_8ea0_3cfdfe75c0f0row60_col0\" class=\"data row60 col0\" >61</td>\n",
       "                        <td id=\"T_fe4bbf5e_2fc8_11ee_8ea0_3cfdfe75c0f0row60_col1\" class=\"data row60 col1\" >61</td>\n",
       "                        <td id=\"T_fe4bbf5e_2fc8_11ee_8ea0_3cfdfe75c0f0row60_col2\" class=\"data row60 col2\" >0</td>\n",
       "                        <td id=\"T_fe4bbf5e_2fc8_11ee_8ea0_3cfdfe75c0f0row60_col3\" class=\"data row60 col3\" >2</td>\n",
       "                        <td id=\"T_fe4bbf5e_2fc8_11ee_8ea0_3cfdfe75c0f0row60_col4\" class=\"data row60 col4\" >2</td>\n",
       "                        <td id=\"T_fe4bbf5e_2fc8_11ee_8ea0_3cfdfe75c0f0row60_col5\" class=\"data row60 col5\" >2</td>\n",
       "            </tr>\n",
       "            <tr>\n",
       "                        <th id=\"T_fe4bbf5e_2fc8_11ee_8ea0_3cfdfe75c0f0level0_row61\" class=\"row_heading level0 row61\" >61</th>\n",
       "                        <td id=\"T_fe4bbf5e_2fc8_11ee_8ea0_3cfdfe75c0f0row61_col0\" class=\"data row61 col0\" >62</td>\n",
       "                        <td id=\"T_fe4bbf5e_2fc8_11ee_8ea0_3cfdfe75c0f0row61_col1\" class=\"data row61 col1\" >62</td>\n",
       "                        <td id=\"T_fe4bbf5e_2fc8_11ee_8ea0_3cfdfe75c0f0row61_col2\" class=\"data row61 col2\" >0</td>\n",
       "                        <td id=\"T_fe4bbf5e_2fc8_11ee_8ea0_3cfdfe75c0f0row61_col3\" class=\"data row61 col3\" >1</td>\n",
       "                        <td id=\"T_fe4bbf5e_2fc8_11ee_8ea0_3cfdfe75c0f0row61_col4\" class=\"data row61 col4\" >2</td>\n",
       "                        <td id=\"T_fe4bbf5e_2fc8_11ee_8ea0_3cfdfe75c0f0row61_col5\" class=\"data row61 col5\" >2</td>\n",
       "            </tr>\n",
       "            <tr>\n",
       "                        <th id=\"T_fe4bbf5e_2fc8_11ee_8ea0_3cfdfe75c0f0level0_row62\" class=\"row_heading level0 row62\" >62</th>\n",
       "                        <td id=\"T_fe4bbf5e_2fc8_11ee_8ea0_3cfdfe75c0f0row62_col0\" class=\"data row62 col0\" >63</td>\n",
       "                        <td id=\"T_fe4bbf5e_2fc8_11ee_8ea0_3cfdfe75c0f0row62_col1\" class=\"data row62 col1\" >63</td>\n",
       "                        <td id=\"T_fe4bbf5e_2fc8_11ee_8ea0_3cfdfe75c0f0row62_col2\" class=\"data row62 col2\" >0</td>\n",
       "                        <td id=\"T_fe4bbf5e_2fc8_11ee_8ea0_3cfdfe75c0f0row62_col3\" class=\"data row62 col3\" >0</td>\n",
       "                        <td id=\"T_fe4bbf5e_2fc8_11ee_8ea0_3cfdfe75c0f0row62_col4\" class=\"data row62 col4\" >2</td>\n",
       "                        <td id=\"T_fe4bbf5e_2fc8_11ee_8ea0_3cfdfe75c0f0row62_col5\" class=\"data row62 col5\" >0</td>\n",
       "            </tr>\n",
       "            <tr>\n",
       "                        <th id=\"T_fe4bbf5e_2fc8_11ee_8ea0_3cfdfe75c0f0level0_row63\" class=\"row_heading level0 row63\" >63</th>\n",
       "                        <td id=\"T_fe4bbf5e_2fc8_11ee_8ea0_3cfdfe75c0f0row63_col0\" class=\"data row63 col0\" >64</td>\n",
       "                        <td id=\"T_fe4bbf5e_2fc8_11ee_8ea0_3cfdfe75c0f0row63_col1\" class=\"data row63 col1\" >64</td>\n",
       "                        <td id=\"T_fe4bbf5e_2fc8_11ee_8ea0_3cfdfe75c0f0row63_col2\" class=\"data row63 col2\" >0</td>\n",
       "                        <td id=\"T_fe4bbf5e_2fc8_11ee_8ea0_3cfdfe75c0f0row63_col3\" class=\"data row63 col3\" >0</td>\n",
       "                        <td id=\"T_fe4bbf5e_2fc8_11ee_8ea0_3cfdfe75c0f0row63_col4\" class=\"data row63 col4\" >0</td>\n",
       "                        <td id=\"T_fe4bbf5e_2fc8_11ee_8ea0_3cfdfe75c0f0row63_col5\" class=\"data row63 col5\" >2</td>\n",
       "            </tr>\n",
       "            <tr>\n",
       "                        <th id=\"T_fe4bbf5e_2fc8_11ee_8ea0_3cfdfe75c0f0level0_row64\" class=\"row_heading level0 row64\" >64</th>\n",
       "                        <td id=\"T_fe4bbf5e_2fc8_11ee_8ea0_3cfdfe75c0f0row64_col0\" class=\"data row64 col0\" >65</td>\n",
       "                        <td id=\"T_fe4bbf5e_2fc8_11ee_8ea0_3cfdfe75c0f0row64_col1\" class=\"data row64 col1\" >65</td>\n",
       "                        <td id=\"T_fe4bbf5e_2fc8_11ee_8ea0_3cfdfe75c0f0row64_col2\" class=\"data row64 col2\" >0</td>\n",
       "                        <td id=\"T_fe4bbf5e_2fc8_11ee_8ea0_3cfdfe75c0f0row64_col3\" class=\"data row64 col3\" >3</td>\n",
       "                        <td id=\"T_fe4bbf5e_2fc8_11ee_8ea0_3cfdfe75c0f0row64_col4\" class=\"data row64 col4\" >2</td>\n",
       "                        <td id=\"T_fe4bbf5e_2fc8_11ee_8ea0_3cfdfe75c0f0row64_col5\" class=\"data row64 col5\" >1</td>\n",
       "            </tr>\n",
       "            <tr>\n",
       "                        <th id=\"T_fe4bbf5e_2fc8_11ee_8ea0_3cfdfe75c0f0level0_row65\" class=\"row_heading level0 row65\" >65</th>\n",
       "                        <td id=\"T_fe4bbf5e_2fc8_11ee_8ea0_3cfdfe75c0f0row65_col0\" class=\"data row65 col0\" >66</td>\n",
       "                        <td id=\"T_fe4bbf5e_2fc8_11ee_8ea0_3cfdfe75c0f0row65_col1\" class=\"data row65 col1\" >66</td>\n",
       "                        <td id=\"T_fe4bbf5e_2fc8_11ee_8ea0_3cfdfe75c0f0row65_col2\" class=\"data row65 col2\" >0</td>\n",
       "                        <td id=\"T_fe4bbf5e_2fc8_11ee_8ea0_3cfdfe75c0f0row65_col3\" class=\"data row65 col3\" >0</td>\n",
       "                        <td id=\"T_fe4bbf5e_2fc8_11ee_8ea0_3cfdfe75c0f0row65_col4\" class=\"data row65 col4\" >2</td>\n",
       "                        <td id=\"T_fe4bbf5e_2fc8_11ee_8ea0_3cfdfe75c0f0row65_col5\" class=\"data row65 col5\" >1</td>\n",
       "            </tr>\n",
       "            <tr>\n",
       "                        <th id=\"T_fe4bbf5e_2fc8_11ee_8ea0_3cfdfe75c0f0level0_row66\" class=\"row_heading level0 row66\" >66</th>\n",
       "                        <td id=\"T_fe4bbf5e_2fc8_11ee_8ea0_3cfdfe75c0f0row66_col0\" class=\"data row66 col0\" >67</td>\n",
       "                        <td id=\"T_fe4bbf5e_2fc8_11ee_8ea0_3cfdfe75c0f0row66_col1\" class=\"data row66 col1\" >67</td>\n",
       "                        <td id=\"T_fe4bbf5e_2fc8_11ee_8ea0_3cfdfe75c0f0row66_col2\" class=\"data row66 col2\" >0</td>\n",
       "                        <td id=\"T_fe4bbf5e_2fc8_11ee_8ea0_3cfdfe75c0f0row66_col3\" class=\"data row66 col3\" >3</td>\n",
       "                        <td id=\"T_fe4bbf5e_2fc8_11ee_8ea0_3cfdfe75c0f0row66_col4\" class=\"data row66 col4\" >0</td>\n",
       "                        <td id=\"T_fe4bbf5e_2fc8_11ee_8ea0_3cfdfe75c0f0row66_col5\" class=\"data row66 col5\" >0</td>\n",
       "            </tr>\n",
       "            <tr>\n",
       "                        <th id=\"T_fe4bbf5e_2fc8_11ee_8ea0_3cfdfe75c0f0level0_row67\" class=\"row_heading level0 row67\" >67</th>\n",
       "                        <td id=\"T_fe4bbf5e_2fc8_11ee_8ea0_3cfdfe75c0f0row67_col0\" class=\"data row67 col0\" >68</td>\n",
       "                        <td id=\"T_fe4bbf5e_2fc8_11ee_8ea0_3cfdfe75c0f0row67_col1\" class=\"data row67 col1\" >68</td>\n",
       "                        <td id=\"T_fe4bbf5e_2fc8_11ee_8ea0_3cfdfe75c0f0row67_col2\" class=\"data row67 col2\" >0</td>\n",
       "                        <td id=\"T_fe4bbf5e_2fc8_11ee_8ea0_3cfdfe75c0f0row67_col3\" class=\"data row67 col3\" >3</td>\n",
       "                        <td id=\"T_fe4bbf5e_2fc8_11ee_8ea0_3cfdfe75c0f0row67_col4\" class=\"data row67 col4\" >0</td>\n",
       "                        <td id=\"T_fe4bbf5e_2fc8_11ee_8ea0_3cfdfe75c0f0row67_col5\" class=\"data row67 col5\" >0</td>\n",
       "            </tr>\n",
       "            <tr>\n",
       "                        <th id=\"T_fe4bbf5e_2fc8_11ee_8ea0_3cfdfe75c0f0level0_row68\" class=\"row_heading level0 row68\" >68</th>\n",
       "                        <td id=\"T_fe4bbf5e_2fc8_11ee_8ea0_3cfdfe75c0f0row68_col0\" class=\"data row68 col0\" >69</td>\n",
       "                        <td id=\"T_fe4bbf5e_2fc8_11ee_8ea0_3cfdfe75c0f0row68_col1\" class=\"data row68 col1\" >69</td>\n",
       "                        <td id=\"T_fe4bbf5e_2fc8_11ee_8ea0_3cfdfe75c0f0row68_col2\" class=\"data row68 col2\" >0</td>\n",
       "                        <td id=\"T_fe4bbf5e_2fc8_11ee_8ea0_3cfdfe75c0f0row68_col3\" class=\"data row68 col3\" >3</td>\n",
       "                        <td id=\"T_fe4bbf5e_2fc8_11ee_8ea0_3cfdfe75c0f0row68_col4\" class=\"data row68 col4\" >2</td>\n",
       "                        <td id=\"T_fe4bbf5e_2fc8_11ee_8ea0_3cfdfe75c0f0row68_col5\" class=\"data row68 col5\" >2</td>\n",
       "            </tr>\n",
       "            <tr>\n",
       "                        <th id=\"T_fe4bbf5e_2fc8_11ee_8ea0_3cfdfe75c0f0level0_row69\" class=\"row_heading level0 row69\" >69</th>\n",
       "                        <td id=\"T_fe4bbf5e_2fc8_11ee_8ea0_3cfdfe75c0f0row69_col0\" class=\"data row69 col0\" >70</td>\n",
       "                        <td id=\"T_fe4bbf5e_2fc8_11ee_8ea0_3cfdfe75c0f0row69_col1\" class=\"data row69 col1\" >70</td>\n",
       "                        <td id=\"T_fe4bbf5e_2fc8_11ee_8ea0_3cfdfe75c0f0row69_col2\" class=\"data row69 col2\" >0</td>\n",
       "                        <td id=\"T_fe4bbf5e_2fc8_11ee_8ea0_3cfdfe75c0f0row69_col3\" class=\"data row69 col3\" >1</td>\n",
       "                        <td id=\"T_fe4bbf5e_2fc8_11ee_8ea0_3cfdfe75c0f0row69_col4\" class=\"data row69 col4\" >2</td>\n",
       "                        <td id=\"T_fe4bbf5e_2fc8_11ee_8ea0_3cfdfe75c0f0row69_col5\" class=\"data row69 col5\" >1</td>\n",
       "            </tr>\n",
       "            <tr>\n",
       "                        <th id=\"T_fe4bbf5e_2fc8_11ee_8ea0_3cfdfe75c0f0level0_row70\" class=\"row_heading level0 row70\" >70</th>\n",
       "                        <td id=\"T_fe4bbf5e_2fc8_11ee_8ea0_3cfdfe75c0f0row70_col0\" class=\"data row70 col0\" >71</td>\n",
       "                        <td id=\"T_fe4bbf5e_2fc8_11ee_8ea0_3cfdfe75c0f0row70_col1\" class=\"data row70 col1\" >71</td>\n",
       "                        <td id=\"T_fe4bbf5e_2fc8_11ee_8ea0_3cfdfe75c0f0row70_col2\" class=\"data row70 col2\" >1</td>\n",
       "                        <td id=\"T_fe4bbf5e_2fc8_11ee_8ea0_3cfdfe75c0f0row70_col3\" class=\"data row70 col3\" >2</td>\n",
       "                        <td id=\"T_fe4bbf5e_2fc8_11ee_8ea0_3cfdfe75c0f0row70_col4\" class=\"data row70 col4\" >3</td>\n",
       "                        <td id=\"T_fe4bbf5e_2fc8_11ee_8ea0_3cfdfe75c0f0row70_col5\" class=\"data row70 col5\" >0</td>\n",
       "            </tr>\n",
       "            <tr>\n",
       "                        <th id=\"T_fe4bbf5e_2fc8_11ee_8ea0_3cfdfe75c0f0level0_row71\" class=\"row_heading level0 row71\" >71</th>\n",
       "                        <td id=\"T_fe4bbf5e_2fc8_11ee_8ea0_3cfdfe75c0f0row71_col0\" class=\"data row71 col0\" >72</td>\n",
       "                        <td id=\"T_fe4bbf5e_2fc8_11ee_8ea0_3cfdfe75c0f0row71_col1\" class=\"data row71 col1\" >72</td>\n",
       "                        <td id=\"T_fe4bbf5e_2fc8_11ee_8ea0_3cfdfe75c0f0row71_col2\" class=\"data row71 col2\" >1</td>\n",
       "                        <td id=\"T_fe4bbf5e_2fc8_11ee_8ea0_3cfdfe75c0f0row71_col3\" class=\"data row71 col3\" >3</td>\n",
       "                        <td id=\"T_fe4bbf5e_2fc8_11ee_8ea0_3cfdfe75c0f0row71_col4\" class=\"data row71 col4\" >3</td>\n",
       "                        <td id=\"T_fe4bbf5e_2fc8_11ee_8ea0_3cfdfe75c0f0row71_col5\" class=\"data row71 col5\" >0</td>\n",
       "            </tr>\n",
       "            <tr>\n",
       "                        <th id=\"T_fe4bbf5e_2fc8_11ee_8ea0_3cfdfe75c0f0level0_row72\" class=\"row_heading level0 row72\" >72</th>\n",
       "                        <td id=\"T_fe4bbf5e_2fc8_11ee_8ea0_3cfdfe75c0f0row72_col0\" class=\"data row72 col0\" >73</td>\n",
       "                        <td id=\"T_fe4bbf5e_2fc8_11ee_8ea0_3cfdfe75c0f0row72_col1\" class=\"data row72 col1\" >73</td>\n",
       "                        <td id=\"T_fe4bbf5e_2fc8_11ee_8ea0_3cfdfe75c0f0row72_col2\" class=\"data row72 col2\" >0</td>\n",
       "                        <td id=\"T_fe4bbf5e_2fc8_11ee_8ea0_3cfdfe75c0f0row72_col3\" class=\"data row72 col3\" >3</td>\n",
       "                        <td id=\"T_fe4bbf5e_2fc8_11ee_8ea0_3cfdfe75c0f0row72_col4\" class=\"data row72 col4\" >0</td>\n",
       "                        <td id=\"T_fe4bbf5e_2fc8_11ee_8ea0_3cfdfe75c0f0row72_col5\" class=\"data row72 col5\" >1</td>\n",
       "            </tr>\n",
       "            <tr>\n",
       "                        <th id=\"T_fe4bbf5e_2fc8_11ee_8ea0_3cfdfe75c0f0level0_row73\" class=\"row_heading level0 row73\" >73</th>\n",
       "                        <td id=\"T_fe4bbf5e_2fc8_11ee_8ea0_3cfdfe75c0f0row73_col0\" class=\"data row73 col0\" >74</td>\n",
       "                        <td id=\"T_fe4bbf5e_2fc8_11ee_8ea0_3cfdfe75c0f0row73_col1\" class=\"data row73 col1\" >74</td>\n",
       "                        <td id=\"T_fe4bbf5e_2fc8_11ee_8ea0_3cfdfe75c0f0row73_col2\" class=\"data row73 col2\" >0</td>\n",
       "                        <td id=\"T_fe4bbf5e_2fc8_11ee_8ea0_3cfdfe75c0f0row73_col3\" class=\"data row73 col3\" >1</td>\n",
       "                        <td id=\"T_fe4bbf5e_2fc8_11ee_8ea0_3cfdfe75c0f0row73_col4\" class=\"data row73 col4\" >2</td>\n",
       "                        <td id=\"T_fe4bbf5e_2fc8_11ee_8ea0_3cfdfe75c0f0row73_col5\" class=\"data row73 col5\" >1</td>\n",
       "            </tr>\n",
       "            <tr>\n",
       "                        <th id=\"T_fe4bbf5e_2fc8_11ee_8ea0_3cfdfe75c0f0level0_row74\" class=\"row_heading level0 row74\" >74</th>\n",
       "                        <td id=\"T_fe4bbf5e_2fc8_11ee_8ea0_3cfdfe75c0f0row74_col0\" class=\"data row74 col0\" >75</td>\n",
       "                        <td id=\"T_fe4bbf5e_2fc8_11ee_8ea0_3cfdfe75c0f0row74_col1\" class=\"data row74 col1\" >75</td>\n",
       "                        <td id=\"T_fe4bbf5e_2fc8_11ee_8ea0_3cfdfe75c0f0row74_col2\" class=\"data row74 col2\" >0</td>\n",
       "                        <td id=\"T_fe4bbf5e_2fc8_11ee_8ea0_3cfdfe75c0f0row74_col3\" class=\"data row74 col3\" >0</td>\n",
       "                        <td id=\"T_fe4bbf5e_2fc8_11ee_8ea0_3cfdfe75c0f0row74_col4\" class=\"data row74 col4\" >2</td>\n",
       "                        <td id=\"T_fe4bbf5e_2fc8_11ee_8ea0_3cfdfe75c0f0row74_col5\" class=\"data row74 col5\" >0</td>\n",
       "            </tr>\n",
       "            <tr>\n",
       "                        <th id=\"T_fe4bbf5e_2fc8_11ee_8ea0_3cfdfe75c0f0level0_row75\" class=\"row_heading level0 row75\" >75</th>\n",
       "                        <td id=\"T_fe4bbf5e_2fc8_11ee_8ea0_3cfdfe75c0f0row75_col0\" class=\"data row75 col0\" >76</td>\n",
       "                        <td id=\"T_fe4bbf5e_2fc8_11ee_8ea0_3cfdfe75c0f0row75_col1\" class=\"data row75 col1\" >76</td>\n",
       "                        <td id=\"T_fe4bbf5e_2fc8_11ee_8ea0_3cfdfe75c0f0row75_col2\" class=\"data row75 col2\" >0</td>\n",
       "                        <td id=\"T_fe4bbf5e_2fc8_11ee_8ea0_3cfdfe75c0f0row75_col3\" class=\"data row75 col3\" >3</td>\n",
       "                        <td id=\"T_fe4bbf5e_2fc8_11ee_8ea0_3cfdfe75c0f0row75_col4\" class=\"data row75 col4\" >2</td>\n",
       "                        <td id=\"T_fe4bbf5e_2fc8_11ee_8ea0_3cfdfe75c0f0row75_col5\" class=\"data row75 col5\" >0</td>\n",
       "            </tr>\n",
       "            <tr>\n",
       "                        <th id=\"T_fe4bbf5e_2fc8_11ee_8ea0_3cfdfe75c0f0level0_row76\" class=\"row_heading level0 row76\" >76</th>\n",
       "                        <td id=\"T_fe4bbf5e_2fc8_11ee_8ea0_3cfdfe75c0f0row76_col0\" class=\"data row76 col0\" >77</td>\n",
       "                        <td id=\"T_fe4bbf5e_2fc8_11ee_8ea0_3cfdfe75c0f0row76_col1\" class=\"data row76 col1\" >77</td>\n",
       "                        <td id=\"T_fe4bbf5e_2fc8_11ee_8ea0_3cfdfe75c0f0row76_col2\" class=\"data row76 col2\" >0</td>\n",
       "                        <td id=\"T_fe4bbf5e_2fc8_11ee_8ea0_3cfdfe75c0f0row76_col3\" class=\"data row76 col3\" >1</td>\n",
       "                        <td id=\"T_fe4bbf5e_2fc8_11ee_8ea0_3cfdfe75c0f0row76_col4\" class=\"data row76 col4\" >1</td>\n",
       "                        <td id=\"T_fe4bbf5e_2fc8_11ee_8ea0_3cfdfe75c0f0row76_col5\" class=\"data row76 col5\" >1</td>\n",
       "            </tr>\n",
       "            <tr>\n",
       "                        <th id=\"T_fe4bbf5e_2fc8_11ee_8ea0_3cfdfe75c0f0level0_row77\" class=\"row_heading level0 row77\" >77</th>\n",
       "                        <td id=\"T_fe4bbf5e_2fc8_11ee_8ea0_3cfdfe75c0f0row77_col0\" class=\"data row77 col0\" >78</td>\n",
       "                        <td id=\"T_fe4bbf5e_2fc8_11ee_8ea0_3cfdfe75c0f0row77_col1\" class=\"data row77 col1\" >78</td>\n",
       "                        <td id=\"T_fe4bbf5e_2fc8_11ee_8ea0_3cfdfe75c0f0row77_col2\" class=\"data row77 col2\" >0</td>\n",
       "                        <td id=\"T_fe4bbf5e_2fc8_11ee_8ea0_3cfdfe75c0f0row77_col3\" class=\"data row77 col3\" >1</td>\n",
       "                        <td id=\"T_fe4bbf5e_2fc8_11ee_8ea0_3cfdfe75c0f0row77_col4\" class=\"data row77 col4\" >2</td>\n",
       "                        <td id=\"T_fe4bbf5e_2fc8_11ee_8ea0_3cfdfe75c0f0row77_col5\" class=\"data row77 col5\" >2</td>\n",
       "            </tr>\n",
       "            <tr>\n",
       "                        <th id=\"T_fe4bbf5e_2fc8_11ee_8ea0_3cfdfe75c0f0level0_row78\" class=\"row_heading level0 row78\" >78</th>\n",
       "                        <td id=\"T_fe4bbf5e_2fc8_11ee_8ea0_3cfdfe75c0f0row78_col0\" class=\"data row78 col0\" >79</td>\n",
       "                        <td id=\"T_fe4bbf5e_2fc8_11ee_8ea0_3cfdfe75c0f0row78_col1\" class=\"data row78 col1\" >79</td>\n",
       "                        <td id=\"T_fe4bbf5e_2fc8_11ee_8ea0_3cfdfe75c0f0row78_col2\" class=\"data row78 col2\" >0</td>\n",
       "                        <td id=\"T_fe4bbf5e_2fc8_11ee_8ea0_3cfdfe75c0f0row78_col3\" class=\"data row78 col3\" >3</td>\n",
       "                        <td id=\"T_fe4bbf5e_2fc8_11ee_8ea0_3cfdfe75c0f0row78_col4\" class=\"data row78 col4\" >2</td>\n",
       "                        <td id=\"T_fe4bbf5e_2fc8_11ee_8ea0_3cfdfe75c0f0row78_col5\" class=\"data row78 col5\" >1</td>\n",
       "            </tr>\n",
       "            <tr>\n",
       "                        <th id=\"T_fe4bbf5e_2fc8_11ee_8ea0_3cfdfe75c0f0level0_row79\" class=\"row_heading level0 row79\" >79</th>\n",
       "                        <td id=\"T_fe4bbf5e_2fc8_11ee_8ea0_3cfdfe75c0f0row79_col0\" class=\"data row79 col0\" >80</td>\n",
       "                        <td id=\"T_fe4bbf5e_2fc8_11ee_8ea0_3cfdfe75c0f0row79_col1\" class=\"data row79 col1\" >80</td>\n",
       "                        <td id=\"T_fe4bbf5e_2fc8_11ee_8ea0_3cfdfe75c0f0row79_col2\" class=\"data row79 col2\" >1</td>\n",
       "                        <td id=\"T_fe4bbf5e_2fc8_11ee_8ea0_3cfdfe75c0f0row79_col3\" class=\"data row79 col3\" >3</td>\n",
       "                        <td id=\"T_fe4bbf5e_2fc8_11ee_8ea0_3cfdfe75c0f0row79_col4\" class=\"data row79 col4\" >3</td>\n",
       "                        <td id=\"T_fe4bbf5e_2fc8_11ee_8ea0_3cfdfe75c0f0row79_col5\" class=\"data row79 col5\" >0</td>\n",
       "            </tr>\n",
       "            <tr>\n",
       "                        <th id=\"T_fe4bbf5e_2fc8_11ee_8ea0_3cfdfe75c0f0level0_row80\" class=\"row_heading level0 row80\" >80</th>\n",
       "                        <td id=\"T_fe4bbf5e_2fc8_11ee_8ea0_3cfdfe75c0f0row80_col0\" class=\"data row80 col0\" >81</td>\n",
       "                        <td id=\"T_fe4bbf5e_2fc8_11ee_8ea0_3cfdfe75c0f0row80_col1\" class=\"data row80 col1\" >81</td>\n",
       "                        <td id=\"T_fe4bbf5e_2fc8_11ee_8ea0_3cfdfe75c0f0row80_col2\" class=\"data row80 col2\" >1</td>\n",
       "                        <td id=\"T_fe4bbf5e_2fc8_11ee_8ea0_3cfdfe75c0f0row80_col3\" class=\"data row80 col3\" >3</td>\n",
       "                        <td id=\"T_fe4bbf5e_2fc8_11ee_8ea0_3cfdfe75c0f0row80_col4\" class=\"data row80 col4\" >3</td>\n",
       "                        <td id=\"T_fe4bbf5e_2fc8_11ee_8ea0_3cfdfe75c0f0row80_col5\" class=\"data row80 col5\" >0</td>\n",
       "            </tr>\n",
       "            <tr>\n",
       "                        <th id=\"T_fe4bbf5e_2fc8_11ee_8ea0_3cfdfe75c0f0level0_row81\" class=\"row_heading level0 row81\" >81</th>\n",
       "                        <td id=\"T_fe4bbf5e_2fc8_11ee_8ea0_3cfdfe75c0f0row81_col0\" class=\"data row81 col0\" >82</td>\n",
       "                        <td id=\"T_fe4bbf5e_2fc8_11ee_8ea0_3cfdfe75c0f0row81_col1\" class=\"data row81 col1\" >82</td>\n",
       "                        <td id=\"T_fe4bbf5e_2fc8_11ee_8ea0_3cfdfe75c0f0row81_col2\" class=\"data row81 col2\" >0</td>\n",
       "                        <td id=\"T_fe4bbf5e_2fc8_11ee_8ea0_3cfdfe75c0f0row81_col3\" class=\"data row81 col3\" >1</td>\n",
       "                        <td id=\"T_fe4bbf5e_2fc8_11ee_8ea0_3cfdfe75c0f0row81_col4\" class=\"data row81 col4\" >2</td>\n",
       "                        <td id=\"T_fe4bbf5e_2fc8_11ee_8ea0_3cfdfe75c0f0row81_col5\" class=\"data row81 col5\" >2</td>\n",
       "            </tr>\n",
       "            <tr>\n",
       "                        <th id=\"T_fe4bbf5e_2fc8_11ee_8ea0_3cfdfe75c0f0level0_row82\" class=\"row_heading level0 row82\" >82</th>\n",
       "                        <td id=\"T_fe4bbf5e_2fc8_11ee_8ea0_3cfdfe75c0f0row82_col0\" class=\"data row82 col0\" >83</td>\n",
       "                        <td id=\"T_fe4bbf5e_2fc8_11ee_8ea0_3cfdfe75c0f0row82_col1\" class=\"data row82 col1\" >83</td>\n",
       "                        <td id=\"T_fe4bbf5e_2fc8_11ee_8ea0_3cfdfe75c0f0row82_col2\" class=\"data row82 col2\" >1</td>\n",
       "                        <td id=\"T_fe4bbf5e_2fc8_11ee_8ea0_3cfdfe75c0f0row82_col3\" class=\"data row82 col3\" >1</td>\n",
       "                        <td id=\"T_fe4bbf5e_2fc8_11ee_8ea0_3cfdfe75c0f0row82_col4\" class=\"data row82 col4\" >3</td>\n",
       "                        <td id=\"T_fe4bbf5e_2fc8_11ee_8ea0_3cfdfe75c0f0row82_col5\" class=\"data row82 col5\" >0</td>\n",
       "            </tr>\n",
       "            <tr>\n",
       "                        <th id=\"T_fe4bbf5e_2fc8_11ee_8ea0_3cfdfe75c0f0level0_row83\" class=\"row_heading level0 row83\" >83</th>\n",
       "                        <td id=\"T_fe4bbf5e_2fc8_11ee_8ea0_3cfdfe75c0f0row83_col0\" class=\"data row83 col0\" >84</td>\n",
       "                        <td id=\"T_fe4bbf5e_2fc8_11ee_8ea0_3cfdfe75c0f0row83_col1\" class=\"data row83 col1\" >84</td>\n",
       "                        <td id=\"T_fe4bbf5e_2fc8_11ee_8ea0_3cfdfe75c0f0row83_col2\" class=\"data row83 col2\" >1</td>\n",
       "                        <td id=\"T_fe4bbf5e_2fc8_11ee_8ea0_3cfdfe75c0f0row83_col3\" class=\"data row83 col3\" >3</td>\n",
       "                        <td id=\"T_fe4bbf5e_2fc8_11ee_8ea0_3cfdfe75c0f0row83_col4\" class=\"data row83 col4\" >3</td>\n",
       "                        <td id=\"T_fe4bbf5e_2fc8_11ee_8ea0_3cfdfe75c0f0row83_col5\" class=\"data row83 col5\" >0</td>\n",
       "            </tr>\n",
       "            <tr>\n",
       "                        <th id=\"T_fe4bbf5e_2fc8_11ee_8ea0_3cfdfe75c0f0level0_row84\" class=\"row_heading level0 row84\" >84</th>\n",
       "                        <td id=\"T_fe4bbf5e_2fc8_11ee_8ea0_3cfdfe75c0f0row84_col0\" class=\"data row84 col0\" >85</td>\n",
       "                        <td id=\"T_fe4bbf5e_2fc8_11ee_8ea0_3cfdfe75c0f0row84_col1\" class=\"data row84 col1\" >85</td>\n",
       "                        <td id=\"T_fe4bbf5e_2fc8_11ee_8ea0_3cfdfe75c0f0row84_col2\" class=\"data row84 col2\" >0</td>\n",
       "                        <td id=\"T_fe4bbf5e_2fc8_11ee_8ea0_3cfdfe75c0f0row84_col3\" class=\"data row84 col3\" >0</td>\n",
       "                        <td id=\"T_fe4bbf5e_2fc8_11ee_8ea0_3cfdfe75c0f0row84_col4\" class=\"data row84 col4\" >2</td>\n",
       "                        <td id=\"T_fe4bbf5e_2fc8_11ee_8ea0_3cfdfe75c0f0row84_col5\" class=\"data row84 col5\" >0</td>\n",
       "            </tr>\n",
       "            <tr>\n",
       "                        <th id=\"T_fe4bbf5e_2fc8_11ee_8ea0_3cfdfe75c0f0level0_row85\" class=\"row_heading level0 row85\" >85</th>\n",
       "                        <td id=\"T_fe4bbf5e_2fc8_11ee_8ea0_3cfdfe75c0f0row85_col0\" class=\"data row85 col0\" >86</td>\n",
       "                        <td id=\"T_fe4bbf5e_2fc8_11ee_8ea0_3cfdfe75c0f0row85_col1\" class=\"data row85 col1\" >86</td>\n",
       "                        <td id=\"T_fe4bbf5e_2fc8_11ee_8ea0_3cfdfe75c0f0row85_col2\" class=\"data row85 col2\" >1</td>\n",
       "                        <td id=\"T_fe4bbf5e_2fc8_11ee_8ea0_3cfdfe75c0f0row85_col3\" class=\"data row85 col3\" >0</td>\n",
       "                        <td id=\"T_fe4bbf5e_2fc8_11ee_8ea0_3cfdfe75c0f0row85_col4\" class=\"data row85 col4\" >2</td>\n",
       "                        <td id=\"T_fe4bbf5e_2fc8_11ee_8ea0_3cfdfe75c0f0row85_col5\" class=\"data row85 col5\" >3</td>\n",
       "            </tr>\n",
       "            <tr>\n",
       "                        <th id=\"T_fe4bbf5e_2fc8_11ee_8ea0_3cfdfe75c0f0level0_row86\" class=\"row_heading level0 row86\" >86</th>\n",
       "                        <td id=\"T_fe4bbf5e_2fc8_11ee_8ea0_3cfdfe75c0f0row86_col0\" class=\"data row86 col0\" >87</td>\n",
       "                        <td id=\"T_fe4bbf5e_2fc8_11ee_8ea0_3cfdfe75c0f0row86_col1\" class=\"data row86 col1\" >87</td>\n",
       "                        <td id=\"T_fe4bbf5e_2fc8_11ee_8ea0_3cfdfe75c0f0row86_col2\" class=\"data row86 col2\" >0</td>\n",
       "                        <td id=\"T_fe4bbf5e_2fc8_11ee_8ea0_3cfdfe75c0f0row86_col3\" class=\"data row86 col3\" >1</td>\n",
       "                        <td id=\"T_fe4bbf5e_2fc8_11ee_8ea0_3cfdfe75c0f0row86_col4\" class=\"data row86 col4\" >2</td>\n",
       "                        <td id=\"T_fe4bbf5e_2fc8_11ee_8ea0_3cfdfe75c0f0row86_col5\" class=\"data row86 col5\" >1</td>\n",
       "            </tr>\n",
       "            <tr>\n",
       "                        <th id=\"T_fe4bbf5e_2fc8_11ee_8ea0_3cfdfe75c0f0level0_row87\" class=\"row_heading level0 row87\" >87</th>\n",
       "                        <td id=\"T_fe4bbf5e_2fc8_11ee_8ea0_3cfdfe75c0f0row87_col0\" class=\"data row87 col0\" >88</td>\n",
       "                        <td id=\"T_fe4bbf5e_2fc8_11ee_8ea0_3cfdfe75c0f0row87_col1\" class=\"data row87 col1\" >88</td>\n",
       "                        <td id=\"T_fe4bbf5e_2fc8_11ee_8ea0_3cfdfe75c0f0row87_col2\" class=\"data row87 col2\" >0</td>\n",
       "                        <td id=\"T_fe4bbf5e_2fc8_11ee_8ea0_3cfdfe75c0f0row87_col3\" class=\"data row87 col3\" >2</td>\n",
       "                        <td id=\"T_fe4bbf5e_2fc8_11ee_8ea0_3cfdfe75c0f0row87_col4\" class=\"data row87 col4\" >2</td>\n",
       "                        <td id=\"T_fe4bbf5e_2fc8_11ee_8ea0_3cfdfe75c0f0row87_col5\" class=\"data row87 col5\" >1</td>\n",
       "            </tr>\n",
       "            <tr>\n",
       "                        <th id=\"T_fe4bbf5e_2fc8_11ee_8ea0_3cfdfe75c0f0level0_row88\" class=\"row_heading level0 row88\" >88</th>\n",
       "                        <td id=\"T_fe4bbf5e_2fc8_11ee_8ea0_3cfdfe75c0f0row88_col0\" class=\"data row88 col0\" >89</td>\n",
       "                        <td id=\"T_fe4bbf5e_2fc8_11ee_8ea0_3cfdfe75c0f0row88_col1\" class=\"data row88 col1\" >89</td>\n",
       "                        <td id=\"T_fe4bbf5e_2fc8_11ee_8ea0_3cfdfe75c0f0row88_col2\" class=\"data row88 col2\" >0</td>\n",
       "                        <td id=\"T_fe4bbf5e_2fc8_11ee_8ea0_3cfdfe75c0f0row88_col3\" class=\"data row88 col3\" >2</td>\n",
       "                        <td id=\"T_fe4bbf5e_2fc8_11ee_8ea0_3cfdfe75c0f0row88_col4\" class=\"data row88 col4\" >2</td>\n",
       "                        <td id=\"T_fe4bbf5e_2fc8_11ee_8ea0_3cfdfe75c0f0row88_col5\" class=\"data row88 col5\" >1</td>\n",
       "            </tr>\n",
       "            <tr>\n",
       "                        <th id=\"T_fe4bbf5e_2fc8_11ee_8ea0_3cfdfe75c0f0level0_row89\" class=\"row_heading level0 row89\" >89</th>\n",
       "                        <td id=\"T_fe4bbf5e_2fc8_11ee_8ea0_3cfdfe75c0f0row89_col0\" class=\"data row89 col0\" >90</td>\n",
       "                        <td id=\"T_fe4bbf5e_2fc8_11ee_8ea0_3cfdfe75c0f0row89_col1\" class=\"data row89 col1\" >90</td>\n",
       "                        <td id=\"T_fe4bbf5e_2fc8_11ee_8ea0_3cfdfe75c0f0row89_col2\" class=\"data row89 col2\" >0</td>\n",
       "                        <td id=\"T_fe4bbf5e_2fc8_11ee_8ea0_3cfdfe75c0f0row89_col3\" class=\"data row89 col3\" >0</td>\n",
       "                        <td id=\"T_fe4bbf5e_2fc8_11ee_8ea0_3cfdfe75c0f0row89_col4\" class=\"data row89 col4\" >2</td>\n",
       "                        <td id=\"T_fe4bbf5e_2fc8_11ee_8ea0_3cfdfe75c0f0row89_col5\" class=\"data row89 col5\" >1</td>\n",
       "            </tr>\n",
       "            <tr>\n",
       "                        <th id=\"T_fe4bbf5e_2fc8_11ee_8ea0_3cfdfe75c0f0level0_row90\" class=\"row_heading level0 row90\" >90</th>\n",
       "                        <td id=\"T_fe4bbf5e_2fc8_11ee_8ea0_3cfdfe75c0f0row90_col0\" class=\"data row90 col0\" >91</td>\n",
       "                        <td id=\"T_fe4bbf5e_2fc8_11ee_8ea0_3cfdfe75c0f0row90_col1\" class=\"data row90 col1\" >91</td>\n",
       "                        <td id=\"T_fe4bbf5e_2fc8_11ee_8ea0_3cfdfe75c0f0row90_col2\" class=\"data row90 col2\" >0</td>\n",
       "                        <td id=\"T_fe4bbf5e_2fc8_11ee_8ea0_3cfdfe75c0f0row90_col3\" class=\"data row90 col3\" >1</td>\n",
       "                        <td id=\"T_fe4bbf5e_2fc8_11ee_8ea0_3cfdfe75c0f0row90_col4\" class=\"data row90 col4\" >2</td>\n",
       "                        <td id=\"T_fe4bbf5e_2fc8_11ee_8ea0_3cfdfe75c0f0row90_col5\" class=\"data row90 col5\" >0</td>\n",
       "            </tr>\n",
       "            <tr>\n",
       "                        <th id=\"T_fe4bbf5e_2fc8_11ee_8ea0_3cfdfe75c0f0level0_row91\" class=\"row_heading level0 row91\" >91</th>\n",
       "                        <td id=\"T_fe4bbf5e_2fc8_11ee_8ea0_3cfdfe75c0f0row91_col0\" class=\"data row91 col0\" >92</td>\n",
       "                        <td id=\"T_fe4bbf5e_2fc8_11ee_8ea0_3cfdfe75c0f0row91_col1\" class=\"data row91 col1\" >92</td>\n",
       "                        <td id=\"T_fe4bbf5e_2fc8_11ee_8ea0_3cfdfe75c0f0row91_col2\" class=\"data row91 col2\" >0</td>\n",
       "                        <td id=\"T_fe4bbf5e_2fc8_11ee_8ea0_3cfdfe75c0f0row91_col3\" class=\"data row91 col3\" >2</td>\n",
       "                        <td id=\"T_fe4bbf5e_2fc8_11ee_8ea0_3cfdfe75c0f0row91_col4\" class=\"data row91 col4\" >2</td>\n",
       "                        <td id=\"T_fe4bbf5e_2fc8_11ee_8ea0_3cfdfe75c0f0row91_col5\" class=\"data row91 col5\" >2</td>\n",
       "            </tr>\n",
       "            <tr>\n",
       "                        <th id=\"T_fe4bbf5e_2fc8_11ee_8ea0_3cfdfe75c0f0level0_row92\" class=\"row_heading level0 row92\" >92</th>\n",
       "                        <td id=\"T_fe4bbf5e_2fc8_11ee_8ea0_3cfdfe75c0f0row92_col0\" class=\"data row92 col0\" >93</td>\n",
       "                        <td id=\"T_fe4bbf5e_2fc8_11ee_8ea0_3cfdfe75c0f0row92_col1\" class=\"data row92 col1\" >93</td>\n",
       "                        <td id=\"T_fe4bbf5e_2fc8_11ee_8ea0_3cfdfe75c0f0row92_col2\" class=\"data row92 col2\" >0</td>\n",
       "                        <td id=\"T_fe4bbf5e_2fc8_11ee_8ea0_3cfdfe75c0f0row92_col3\" class=\"data row92 col3\" >3</td>\n",
       "                        <td id=\"T_fe4bbf5e_2fc8_11ee_8ea0_3cfdfe75c0f0row92_col4\" class=\"data row92 col4\" >2</td>\n",
       "                        <td id=\"T_fe4bbf5e_2fc8_11ee_8ea0_3cfdfe75c0f0row92_col5\" class=\"data row92 col5\" >1</td>\n",
       "            </tr>\n",
       "            <tr>\n",
       "                        <th id=\"T_fe4bbf5e_2fc8_11ee_8ea0_3cfdfe75c0f0level0_row93\" class=\"row_heading level0 row93\" >93</th>\n",
       "                        <td id=\"T_fe4bbf5e_2fc8_11ee_8ea0_3cfdfe75c0f0row93_col0\" class=\"data row93 col0\" >94</td>\n",
       "                        <td id=\"T_fe4bbf5e_2fc8_11ee_8ea0_3cfdfe75c0f0row93_col1\" class=\"data row93 col1\" >94</td>\n",
       "                        <td id=\"T_fe4bbf5e_2fc8_11ee_8ea0_3cfdfe75c0f0row93_col2\" class=\"data row93 col2\" >0</td>\n",
       "                        <td id=\"T_fe4bbf5e_2fc8_11ee_8ea0_3cfdfe75c0f0row93_col3\" class=\"data row93 col3\" >0</td>\n",
       "                        <td id=\"T_fe4bbf5e_2fc8_11ee_8ea0_3cfdfe75c0f0row93_col4\" class=\"data row93 col4\" >2</td>\n",
       "                        <td id=\"T_fe4bbf5e_2fc8_11ee_8ea0_3cfdfe75c0f0row93_col5\" class=\"data row93 col5\" >2</td>\n",
       "            </tr>\n",
       "            <tr>\n",
       "                        <th id=\"T_fe4bbf5e_2fc8_11ee_8ea0_3cfdfe75c0f0level0_row94\" class=\"row_heading level0 row94\" >94</th>\n",
       "                        <td id=\"T_fe4bbf5e_2fc8_11ee_8ea0_3cfdfe75c0f0row94_col0\" class=\"data row94 col0\" >95</td>\n",
       "                        <td id=\"T_fe4bbf5e_2fc8_11ee_8ea0_3cfdfe75c0f0row94_col1\" class=\"data row94 col1\" >95</td>\n",
       "                        <td id=\"T_fe4bbf5e_2fc8_11ee_8ea0_3cfdfe75c0f0row94_col2\" class=\"data row94 col2\" >0</td>\n",
       "                        <td id=\"T_fe4bbf5e_2fc8_11ee_8ea0_3cfdfe75c0f0row94_col3\" class=\"data row94 col3\" >3</td>\n",
       "                        <td id=\"T_fe4bbf5e_2fc8_11ee_8ea0_3cfdfe75c0f0row94_col4\" class=\"data row94 col4\" >2</td>\n",
       "                        <td id=\"T_fe4bbf5e_2fc8_11ee_8ea0_3cfdfe75c0f0row94_col5\" class=\"data row94 col5\" >1</td>\n",
       "            </tr>\n",
       "            <tr>\n",
       "                        <th id=\"T_fe4bbf5e_2fc8_11ee_8ea0_3cfdfe75c0f0level0_row95\" class=\"row_heading level0 row95\" >95</th>\n",
       "                        <td id=\"T_fe4bbf5e_2fc8_11ee_8ea0_3cfdfe75c0f0row95_col0\" class=\"data row95 col0\" >96</td>\n",
       "                        <td id=\"T_fe4bbf5e_2fc8_11ee_8ea0_3cfdfe75c0f0row95_col1\" class=\"data row95 col1\" >96</td>\n",
       "                        <td id=\"T_fe4bbf5e_2fc8_11ee_8ea0_3cfdfe75c0f0row95_col2\" class=\"data row95 col2\" >0</td>\n",
       "                        <td id=\"T_fe4bbf5e_2fc8_11ee_8ea0_3cfdfe75c0f0row95_col3\" class=\"data row95 col3\" >3</td>\n",
       "                        <td id=\"T_fe4bbf5e_2fc8_11ee_8ea0_3cfdfe75c0f0row95_col4\" class=\"data row95 col4\" >2</td>\n",
       "                        <td id=\"T_fe4bbf5e_2fc8_11ee_8ea0_3cfdfe75c0f0row95_col5\" class=\"data row95 col5\" >1</td>\n",
       "            </tr>\n",
       "            <tr>\n",
       "                        <th id=\"T_fe4bbf5e_2fc8_11ee_8ea0_3cfdfe75c0f0level0_row96\" class=\"row_heading level0 row96\" >96</th>\n",
       "                        <td id=\"T_fe4bbf5e_2fc8_11ee_8ea0_3cfdfe75c0f0row96_col0\" class=\"data row96 col0\" >97</td>\n",
       "                        <td id=\"T_fe4bbf5e_2fc8_11ee_8ea0_3cfdfe75c0f0row96_col1\" class=\"data row96 col1\" >97</td>\n",
       "                        <td id=\"T_fe4bbf5e_2fc8_11ee_8ea0_3cfdfe75c0f0row96_col2\" class=\"data row96 col2\" >0</td>\n",
       "                        <td id=\"T_fe4bbf5e_2fc8_11ee_8ea0_3cfdfe75c0f0row96_col3\" class=\"data row96 col3\" >0</td>\n",
       "                        <td id=\"T_fe4bbf5e_2fc8_11ee_8ea0_3cfdfe75c0f0row96_col4\" class=\"data row96 col4\" >2</td>\n",
       "                        <td id=\"T_fe4bbf5e_2fc8_11ee_8ea0_3cfdfe75c0f0row96_col5\" class=\"data row96 col5\" >1</td>\n",
       "            </tr>\n",
       "            <tr>\n",
       "                        <th id=\"T_fe4bbf5e_2fc8_11ee_8ea0_3cfdfe75c0f0level0_row97\" class=\"row_heading level0 row97\" >97</th>\n",
       "                        <td id=\"T_fe4bbf5e_2fc8_11ee_8ea0_3cfdfe75c0f0row97_col0\" class=\"data row97 col0\" >98</td>\n",
       "                        <td id=\"T_fe4bbf5e_2fc8_11ee_8ea0_3cfdfe75c0f0row97_col1\" class=\"data row97 col1\" >98</td>\n",
       "                        <td id=\"T_fe4bbf5e_2fc8_11ee_8ea0_3cfdfe75c0f0row97_col2\" class=\"data row97 col2\" >0</td>\n",
       "                        <td id=\"T_fe4bbf5e_2fc8_11ee_8ea0_3cfdfe75c0f0row97_col3\" class=\"data row97 col3\" >0</td>\n",
       "                        <td id=\"T_fe4bbf5e_2fc8_11ee_8ea0_3cfdfe75c0f0row97_col4\" class=\"data row97 col4\" >2</td>\n",
       "                        <td id=\"T_fe4bbf5e_2fc8_11ee_8ea0_3cfdfe75c0f0row97_col5\" class=\"data row97 col5\" >0</td>\n",
       "            </tr>\n",
       "            <tr>\n",
       "                        <th id=\"T_fe4bbf5e_2fc8_11ee_8ea0_3cfdfe75c0f0level0_row98\" class=\"row_heading level0 row98\" >98</th>\n",
       "                        <td id=\"T_fe4bbf5e_2fc8_11ee_8ea0_3cfdfe75c0f0row98_col0\" class=\"data row98 col0\" >99</td>\n",
       "                        <td id=\"T_fe4bbf5e_2fc8_11ee_8ea0_3cfdfe75c0f0row98_col1\" class=\"data row98 col1\" >99</td>\n",
       "                        <td id=\"T_fe4bbf5e_2fc8_11ee_8ea0_3cfdfe75c0f0row98_col2\" class=\"data row98 col2\" >0</td>\n",
       "                        <td id=\"T_fe4bbf5e_2fc8_11ee_8ea0_3cfdfe75c0f0row98_col3\" class=\"data row98 col3\" >0</td>\n",
       "                        <td id=\"T_fe4bbf5e_2fc8_11ee_8ea0_3cfdfe75c0f0row98_col4\" class=\"data row98 col4\" >2</td>\n",
       "                        <td id=\"T_fe4bbf5e_2fc8_11ee_8ea0_3cfdfe75c0f0row98_col5\" class=\"data row98 col5\" >3</td>\n",
       "            </tr>\n",
       "            <tr>\n",
       "                        <th id=\"T_fe4bbf5e_2fc8_11ee_8ea0_3cfdfe75c0f0level0_row99\" class=\"row_heading level0 row99\" >99</th>\n",
       "                        <td id=\"T_fe4bbf5e_2fc8_11ee_8ea0_3cfdfe75c0f0row99_col0\" class=\"data row99 col0\" >100</td>\n",
       "                        <td id=\"T_fe4bbf5e_2fc8_11ee_8ea0_3cfdfe75c0f0row99_col1\" class=\"data row99 col1\" >100</td>\n",
       "                        <td id=\"T_fe4bbf5e_2fc8_11ee_8ea0_3cfdfe75c0f0row99_col2\" class=\"data row99 col2\" >0</td>\n",
       "                        <td id=\"T_fe4bbf5e_2fc8_11ee_8ea0_3cfdfe75c0f0row99_col3\" class=\"data row99 col3\" >1</td>\n",
       "                        <td id=\"T_fe4bbf5e_2fc8_11ee_8ea0_3cfdfe75c0f0row99_col4\" class=\"data row99 col4\" >2</td>\n",
       "                        <td id=\"T_fe4bbf5e_2fc8_11ee_8ea0_3cfdfe75c0f0row99_col5\" class=\"data row99 col5\" >1</td>\n",
       "            </tr>\n",
       "            <tr>\n",
       "                        <th id=\"T_fe4bbf5e_2fc8_11ee_8ea0_3cfdfe75c0f0level0_row100\" class=\"row_heading level0 row100\" >100</th>\n",
       "                        <td id=\"T_fe4bbf5e_2fc8_11ee_8ea0_3cfdfe75c0f0row100_col0\" class=\"data row100 col0\" >101</td>\n",
       "                        <td id=\"T_fe4bbf5e_2fc8_11ee_8ea0_3cfdfe75c0f0row100_col1\" class=\"data row100 col1\" >101</td>\n",
       "                        <td id=\"T_fe4bbf5e_2fc8_11ee_8ea0_3cfdfe75c0f0row100_col2\" class=\"data row100 col2\" >0</td>\n",
       "                        <td id=\"T_fe4bbf5e_2fc8_11ee_8ea0_3cfdfe75c0f0row100_col3\" class=\"data row100 col3\" >3</td>\n",
       "                        <td id=\"T_fe4bbf5e_2fc8_11ee_8ea0_3cfdfe75c0f0row100_col4\" class=\"data row100 col4\" >2</td>\n",
       "                        <td id=\"T_fe4bbf5e_2fc8_11ee_8ea0_3cfdfe75c0f0row100_col5\" class=\"data row100 col5\" >1</td>\n",
       "            </tr>\n",
       "            <tr>\n",
       "                        <th id=\"T_fe4bbf5e_2fc8_11ee_8ea0_3cfdfe75c0f0level0_row101\" class=\"row_heading level0 row101\" >101</th>\n",
       "                        <td id=\"T_fe4bbf5e_2fc8_11ee_8ea0_3cfdfe75c0f0row101_col0\" class=\"data row101 col0\" >102</td>\n",
       "                        <td id=\"T_fe4bbf5e_2fc8_11ee_8ea0_3cfdfe75c0f0row101_col1\" class=\"data row101 col1\" >102</td>\n",
       "                        <td id=\"T_fe4bbf5e_2fc8_11ee_8ea0_3cfdfe75c0f0row101_col2\" class=\"data row101 col2\" >0</td>\n",
       "                        <td id=\"T_fe4bbf5e_2fc8_11ee_8ea0_3cfdfe75c0f0row101_col3\" class=\"data row101 col3\" >0</td>\n",
       "                        <td id=\"T_fe4bbf5e_2fc8_11ee_8ea0_3cfdfe75c0f0row101_col4\" class=\"data row101 col4\" >2</td>\n",
       "                        <td id=\"T_fe4bbf5e_2fc8_11ee_8ea0_3cfdfe75c0f0row101_col5\" class=\"data row101 col5\" >0</td>\n",
       "            </tr>\n",
       "            <tr>\n",
       "                        <th id=\"T_fe4bbf5e_2fc8_11ee_8ea0_3cfdfe75c0f0level0_row102\" class=\"row_heading level0 row102\" >102</th>\n",
       "                        <td id=\"T_fe4bbf5e_2fc8_11ee_8ea0_3cfdfe75c0f0row102_col0\" class=\"data row102 col0\" >103</td>\n",
       "                        <td id=\"T_fe4bbf5e_2fc8_11ee_8ea0_3cfdfe75c0f0row102_col1\" class=\"data row102 col1\" >103</td>\n",
       "                        <td id=\"T_fe4bbf5e_2fc8_11ee_8ea0_3cfdfe75c0f0row102_col2\" class=\"data row102 col2\" >0</td>\n",
       "                        <td id=\"T_fe4bbf5e_2fc8_11ee_8ea0_3cfdfe75c0f0row102_col3\" class=\"data row102 col3\" >2</td>\n",
       "                        <td id=\"T_fe4bbf5e_2fc8_11ee_8ea0_3cfdfe75c0f0row102_col4\" class=\"data row102 col4\" >3</td>\n",
       "                        <td id=\"T_fe4bbf5e_2fc8_11ee_8ea0_3cfdfe75c0f0row102_col5\" class=\"data row102 col5\" >0</td>\n",
       "            </tr>\n",
       "            <tr>\n",
       "                        <th id=\"T_fe4bbf5e_2fc8_11ee_8ea0_3cfdfe75c0f0level0_row103\" class=\"row_heading level0 row103\" >103</th>\n",
       "                        <td id=\"T_fe4bbf5e_2fc8_11ee_8ea0_3cfdfe75c0f0row103_col0\" class=\"data row103 col0\" >104</td>\n",
       "                        <td id=\"T_fe4bbf5e_2fc8_11ee_8ea0_3cfdfe75c0f0row103_col1\" class=\"data row103 col1\" >104</td>\n",
       "                        <td id=\"T_fe4bbf5e_2fc8_11ee_8ea0_3cfdfe75c0f0row103_col2\" class=\"data row103 col2\" >3</td>\n",
       "                        <td id=\"T_fe4bbf5e_2fc8_11ee_8ea0_3cfdfe75c0f0row103_col3\" class=\"data row103 col3\" >0</td>\n",
       "                        <td id=\"T_fe4bbf5e_2fc8_11ee_8ea0_3cfdfe75c0f0row103_col4\" class=\"data row103 col4\" >0</td>\n",
       "                        <td id=\"T_fe4bbf5e_2fc8_11ee_8ea0_3cfdfe75c0f0row103_col5\" class=\"data row103 col5\" >0</td>\n",
       "            </tr>\n",
       "            <tr>\n",
       "                        <th id=\"T_fe4bbf5e_2fc8_11ee_8ea0_3cfdfe75c0f0level0_row104\" class=\"row_heading level0 row104\" >104</th>\n",
       "                        <td id=\"T_fe4bbf5e_2fc8_11ee_8ea0_3cfdfe75c0f0row104_col0\" class=\"data row104 col0\" >105</td>\n",
       "                        <td id=\"T_fe4bbf5e_2fc8_11ee_8ea0_3cfdfe75c0f0row104_col1\" class=\"data row104 col1\" >105</td>\n",
       "                        <td id=\"T_fe4bbf5e_2fc8_11ee_8ea0_3cfdfe75c0f0row104_col2\" class=\"data row104 col2\" >0</td>\n",
       "                        <td id=\"T_fe4bbf5e_2fc8_11ee_8ea0_3cfdfe75c0f0row104_col3\" class=\"data row104 col3\" >3</td>\n",
       "                        <td id=\"T_fe4bbf5e_2fc8_11ee_8ea0_3cfdfe75c0f0row104_col4\" class=\"data row104 col4\" >2</td>\n",
       "                        <td id=\"T_fe4bbf5e_2fc8_11ee_8ea0_3cfdfe75c0f0row104_col5\" class=\"data row104 col5\" >0</td>\n",
       "            </tr>\n",
       "            <tr>\n",
       "                        <th id=\"T_fe4bbf5e_2fc8_11ee_8ea0_3cfdfe75c0f0level0_row105\" class=\"row_heading level0 row105\" >105</th>\n",
       "                        <td id=\"T_fe4bbf5e_2fc8_11ee_8ea0_3cfdfe75c0f0row105_col0\" class=\"data row105 col0\" >106</td>\n",
       "                        <td id=\"T_fe4bbf5e_2fc8_11ee_8ea0_3cfdfe75c0f0row105_col1\" class=\"data row105 col1\" >106</td>\n",
       "                        <td id=\"T_fe4bbf5e_2fc8_11ee_8ea0_3cfdfe75c0f0row105_col2\" class=\"data row105 col2\" >0</td>\n",
       "                        <td id=\"T_fe4bbf5e_2fc8_11ee_8ea0_3cfdfe75c0f0row105_col3\" class=\"data row105 col3\" >3</td>\n",
       "                        <td id=\"T_fe4bbf5e_2fc8_11ee_8ea0_3cfdfe75c0f0row105_col4\" class=\"data row105 col4\" >2</td>\n",
       "                        <td id=\"T_fe4bbf5e_2fc8_11ee_8ea0_3cfdfe75c0f0row105_col5\" class=\"data row105 col5\" >0</td>\n",
       "            </tr>\n",
       "            <tr>\n",
       "                        <th id=\"T_fe4bbf5e_2fc8_11ee_8ea0_3cfdfe75c0f0level0_row106\" class=\"row_heading level0 row106\" >106</th>\n",
       "                        <td id=\"T_fe4bbf5e_2fc8_11ee_8ea0_3cfdfe75c0f0row106_col0\" class=\"data row106 col0\" >107</td>\n",
       "                        <td id=\"T_fe4bbf5e_2fc8_11ee_8ea0_3cfdfe75c0f0row106_col1\" class=\"data row106 col1\" >107</td>\n",
       "                        <td id=\"T_fe4bbf5e_2fc8_11ee_8ea0_3cfdfe75c0f0row106_col2\" class=\"data row106 col2\" >0</td>\n",
       "                        <td id=\"T_fe4bbf5e_2fc8_11ee_8ea0_3cfdfe75c0f0row106_col3\" class=\"data row106 col3\" >3</td>\n",
       "                        <td id=\"T_fe4bbf5e_2fc8_11ee_8ea0_3cfdfe75c0f0row106_col4\" class=\"data row106 col4\" >1</td>\n",
       "                        <td id=\"T_fe4bbf5e_2fc8_11ee_8ea0_3cfdfe75c0f0row106_col5\" class=\"data row106 col5\" >2</td>\n",
       "            </tr>\n",
       "            <tr>\n",
       "                        <th id=\"T_fe4bbf5e_2fc8_11ee_8ea0_3cfdfe75c0f0level0_row107\" class=\"row_heading level0 row107\" >107</th>\n",
       "                        <td id=\"T_fe4bbf5e_2fc8_11ee_8ea0_3cfdfe75c0f0row107_col0\" class=\"data row107 col0\" >108</td>\n",
       "                        <td id=\"T_fe4bbf5e_2fc8_11ee_8ea0_3cfdfe75c0f0row107_col1\" class=\"data row107 col1\" >108</td>\n",
       "                        <td id=\"T_fe4bbf5e_2fc8_11ee_8ea0_3cfdfe75c0f0row107_col2\" class=\"data row107 col2\" >0</td>\n",
       "                        <td id=\"T_fe4bbf5e_2fc8_11ee_8ea0_3cfdfe75c0f0row107_col3\" class=\"data row107 col3\" >1</td>\n",
       "                        <td id=\"T_fe4bbf5e_2fc8_11ee_8ea0_3cfdfe75c0f0row107_col4\" class=\"data row107 col4\" >2</td>\n",
       "                        <td id=\"T_fe4bbf5e_2fc8_11ee_8ea0_3cfdfe75c0f0row107_col5\" class=\"data row107 col5\" >2</td>\n",
       "            </tr>\n",
       "            <tr>\n",
       "                        <th id=\"T_fe4bbf5e_2fc8_11ee_8ea0_3cfdfe75c0f0level0_row108\" class=\"row_heading level0 row108\" >108</th>\n",
       "                        <td id=\"T_fe4bbf5e_2fc8_11ee_8ea0_3cfdfe75c0f0row108_col0\" class=\"data row108 col0\" >109</td>\n",
       "                        <td id=\"T_fe4bbf5e_2fc8_11ee_8ea0_3cfdfe75c0f0row108_col1\" class=\"data row108 col1\" >109</td>\n",
       "                        <td id=\"T_fe4bbf5e_2fc8_11ee_8ea0_3cfdfe75c0f0row108_col2\" class=\"data row108 col2\" >0</td>\n",
       "                        <td id=\"T_fe4bbf5e_2fc8_11ee_8ea0_3cfdfe75c0f0row108_col3\" class=\"data row108 col3\" >3</td>\n",
       "                        <td id=\"T_fe4bbf5e_2fc8_11ee_8ea0_3cfdfe75c0f0row108_col4\" class=\"data row108 col4\" >2</td>\n",
       "                        <td id=\"T_fe4bbf5e_2fc8_11ee_8ea0_3cfdfe75c0f0row108_col5\" class=\"data row108 col5\" >1</td>\n",
       "            </tr>\n",
       "            <tr>\n",
       "                        <th id=\"T_fe4bbf5e_2fc8_11ee_8ea0_3cfdfe75c0f0level0_row109\" class=\"row_heading level0 row109\" >109</th>\n",
       "                        <td id=\"T_fe4bbf5e_2fc8_11ee_8ea0_3cfdfe75c0f0row109_col0\" class=\"data row109 col0\" >110</td>\n",
       "                        <td id=\"T_fe4bbf5e_2fc8_11ee_8ea0_3cfdfe75c0f0row109_col1\" class=\"data row109 col1\" >110</td>\n",
       "                        <td id=\"T_fe4bbf5e_2fc8_11ee_8ea0_3cfdfe75c0f0row109_col2\" class=\"data row109 col2\" >0</td>\n",
       "                        <td id=\"T_fe4bbf5e_2fc8_11ee_8ea0_3cfdfe75c0f0row109_col3\" class=\"data row109 col3\" >3</td>\n",
       "                        <td id=\"T_fe4bbf5e_2fc8_11ee_8ea0_3cfdfe75c0f0row109_col4\" class=\"data row109 col4\" >2</td>\n",
       "                        <td id=\"T_fe4bbf5e_2fc8_11ee_8ea0_3cfdfe75c0f0row109_col5\" class=\"data row109 col5\" >1</td>\n",
       "            </tr>\n",
       "            <tr>\n",
       "                        <th id=\"T_fe4bbf5e_2fc8_11ee_8ea0_3cfdfe75c0f0level0_row110\" class=\"row_heading level0 row110\" >110</th>\n",
       "                        <td id=\"T_fe4bbf5e_2fc8_11ee_8ea0_3cfdfe75c0f0row110_col0\" class=\"data row110 col0\" >111</td>\n",
       "                        <td id=\"T_fe4bbf5e_2fc8_11ee_8ea0_3cfdfe75c0f0row110_col1\" class=\"data row110 col1\" >111</td>\n",
       "                        <td id=\"T_fe4bbf5e_2fc8_11ee_8ea0_3cfdfe75c0f0row110_col2\" class=\"data row110 col2\" >0</td>\n",
       "                        <td id=\"T_fe4bbf5e_2fc8_11ee_8ea0_3cfdfe75c0f0row110_col3\" class=\"data row110 col3\" >0</td>\n",
       "                        <td id=\"T_fe4bbf5e_2fc8_11ee_8ea0_3cfdfe75c0f0row110_col4\" class=\"data row110 col4\" >2</td>\n",
       "                        <td id=\"T_fe4bbf5e_2fc8_11ee_8ea0_3cfdfe75c0f0row110_col5\" class=\"data row110 col5\" >2</td>\n",
       "            </tr>\n",
       "            <tr>\n",
       "                        <th id=\"T_fe4bbf5e_2fc8_11ee_8ea0_3cfdfe75c0f0level0_row111\" class=\"row_heading level0 row111\" >111</th>\n",
       "                        <td id=\"T_fe4bbf5e_2fc8_11ee_8ea0_3cfdfe75c0f0row111_col0\" class=\"data row111 col0\" >112</td>\n",
       "                        <td id=\"T_fe4bbf5e_2fc8_11ee_8ea0_3cfdfe75c0f0row111_col1\" class=\"data row111 col1\" >112</td>\n",
       "                        <td id=\"T_fe4bbf5e_2fc8_11ee_8ea0_3cfdfe75c0f0row111_col2\" class=\"data row111 col2\" >1</td>\n",
       "                        <td id=\"T_fe4bbf5e_2fc8_11ee_8ea0_3cfdfe75c0f0row111_col3\" class=\"data row111 col3\" >0</td>\n",
       "                        <td id=\"T_fe4bbf5e_2fc8_11ee_8ea0_3cfdfe75c0f0row111_col4\" class=\"data row111 col4\" >0</td>\n",
       "                        <td id=\"T_fe4bbf5e_2fc8_11ee_8ea0_3cfdfe75c0f0row111_col5\" class=\"data row111 col5\" >0</td>\n",
       "            </tr>\n",
       "            <tr>\n",
       "                        <th id=\"T_fe4bbf5e_2fc8_11ee_8ea0_3cfdfe75c0f0level0_row112\" class=\"row_heading level0 row112\" >112</th>\n",
       "                        <td id=\"T_fe4bbf5e_2fc8_11ee_8ea0_3cfdfe75c0f0row112_col0\" class=\"data row112 col0\" >113</td>\n",
       "                        <td id=\"T_fe4bbf5e_2fc8_11ee_8ea0_3cfdfe75c0f0row112_col1\" class=\"data row112 col1\" >113</td>\n",
       "                        <td id=\"T_fe4bbf5e_2fc8_11ee_8ea0_3cfdfe75c0f0row112_col2\" class=\"data row112 col2\" >0</td>\n",
       "                        <td id=\"T_fe4bbf5e_2fc8_11ee_8ea0_3cfdfe75c0f0row112_col3\" class=\"data row112 col3\" >3</td>\n",
       "                        <td id=\"T_fe4bbf5e_2fc8_11ee_8ea0_3cfdfe75c0f0row112_col4\" class=\"data row112 col4\" >2</td>\n",
       "                        <td id=\"T_fe4bbf5e_2fc8_11ee_8ea0_3cfdfe75c0f0row112_col5\" class=\"data row112 col5\" >0</td>\n",
       "            </tr>\n",
       "            <tr>\n",
       "                        <th id=\"T_fe4bbf5e_2fc8_11ee_8ea0_3cfdfe75c0f0level0_row113\" class=\"row_heading level0 row113\" >113</th>\n",
       "                        <td id=\"T_fe4bbf5e_2fc8_11ee_8ea0_3cfdfe75c0f0row113_col0\" class=\"data row113 col0\" >114</td>\n",
       "                        <td id=\"T_fe4bbf5e_2fc8_11ee_8ea0_3cfdfe75c0f0row113_col1\" class=\"data row113 col1\" >114</td>\n",
       "                        <td id=\"T_fe4bbf5e_2fc8_11ee_8ea0_3cfdfe75c0f0row113_col2\" class=\"data row113 col2\" >0</td>\n",
       "                        <td id=\"T_fe4bbf5e_2fc8_11ee_8ea0_3cfdfe75c0f0row113_col3\" class=\"data row113 col3\" >3</td>\n",
       "                        <td id=\"T_fe4bbf5e_2fc8_11ee_8ea0_3cfdfe75c0f0row113_col4\" class=\"data row113 col4\" >2</td>\n",
       "                        <td id=\"T_fe4bbf5e_2fc8_11ee_8ea0_3cfdfe75c0f0row113_col5\" class=\"data row113 col5\" >2</td>\n",
       "            </tr>\n",
       "            <tr>\n",
       "                        <th id=\"T_fe4bbf5e_2fc8_11ee_8ea0_3cfdfe75c0f0level0_row114\" class=\"row_heading level0 row114\" >114</th>\n",
       "                        <td id=\"T_fe4bbf5e_2fc8_11ee_8ea0_3cfdfe75c0f0row114_col0\" class=\"data row114 col0\" >115</td>\n",
       "                        <td id=\"T_fe4bbf5e_2fc8_11ee_8ea0_3cfdfe75c0f0row114_col1\" class=\"data row114 col1\" >115</td>\n",
       "                        <td id=\"T_fe4bbf5e_2fc8_11ee_8ea0_3cfdfe75c0f0row114_col2\" class=\"data row114 col2\" >0</td>\n",
       "                        <td id=\"T_fe4bbf5e_2fc8_11ee_8ea0_3cfdfe75c0f0row114_col3\" class=\"data row114 col3\" >3</td>\n",
       "                        <td id=\"T_fe4bbf5e_2fc8_11ee_8ea0_3cfdfe75c0f0row114_col4\" class=\"data row114 col4\" >2</td>\n",
       "                        <td id=\"T_fe4bbf5e_2fc8_11ee_8ea0_3cfdfe75c0f0row114_col5\" class=\"data row114 col5\" >1</td>\n",
       "            </tr>\n",
       "            <tr>\n",
       "                        <th id=\"T_fe4bbf5e_2fc8_11ee_8ea0_3cfdfe75c0f0level0_row115\" class=\"row_heading level0 row115\" >115</th>\n",
       "                        <td id=\"T_fe4bbf5e_2fc8_11ee_8ea0_3cfdfe75c0f0row115_col0\" class=\"data row115 col0\" >116</td>\n",
       "                        <td id=\"T_fe4bbf5e_2fc8_11ee_8ea0_3cfdfe75c0f0row115_col1\" class=\"data row115 col1\" >116</td>\n",
       "                        <td id=\"T_fe4bbf5e_2fc8_11ee_8ea0_3cfdfe75c0f0row115_col2\" class=\"data row115 col2\" >0</td>\n",
       "                        <td id=\"T_fe4bbf5e_2fc8_11ee_8ea0_3cfdfe75c0f0row115_col3\" class=\"data row115 col3\" >3</td>\n",
       "                        <td id=\"T_fe4bbf5e_2fc8_11ee_8ea0_3cfdfe75c0f0row115_col4\" class=\"data row115 col4\" >2</td>\n",
       "                        <td id=\"T_fe4bbf5e_2fc8_11ee_8ea0_3cfdfe75c0f0row115_col5\" class=\"data row115 col5\" >2</td>\n",
       "            </tr>\n",
       "            <tr>\n",
       "                        <th id=\"T_fe4bbf5e_2fc8_11ee_8ea0_3cfdfe75c0f0level0_row116\" class=\"row_heading level0 row116\" >116</th>\n",
       "                        <td id=\"T_fe4bbf5e_2fc8_11ee_8ea0_3cfdfe75c0f0row116_col0\" class=\"data row116 col0\" >117</td>\n",
       "                        <td id=\"T_fe4bbf5e_2fc8_11ee_8ea0_3cfdfe75c0f0row116_col1\" class=\"data row116 col1\" >117</td>\n",
       "                        <td id=\"T_fe4bbf5e_2fc8_11ee_8ea0_3cfdfe75c0f0row116_col2\" class=\"data row116 col2\" >1</td>\n",
       "                        <td id=\"T_fe4bbf5e_2fc8_11ee_8ea0_3cfdfe75c0f0row116_col3\" class=\"data row116 col3\" >2</td>\n",
       "                        <td id=\"T_fe4bbf5e_2fc8_11ee_8ea0_3cfdfe75c0f0row116_col4\" class=\"data row116 col4\" >3</td>\n",
       "                        <td id=\"T_fe4bbf5e_2fc8_11ee_8ea0_3cfdfe75c0f0row116_col5\" class=\"data row116 col5\" >0</td>\n",
       "            </tr>\n",
       "            <tr>\n",
       "                        <th id=\"T_fe4bbf5e_2fc8_11ee_8ea0_3cfdfe75c0f0level0_row117\" class=\"row_heading level0 row117\" >117</th>\n",
       "                        <td id=\"T_fe4bbf5e_2fc8_11ee_8ea0_3cfdfe75c0f0row117_col0\" class=\"data row117 col0\" >118</td>\n",
       "                        <td id=\"T_fe4bbf5e_2fc8_11ee_8ea0_3cfdfe75c0f0row117_col1\" class=\"data row117 col1\" >118</td>\n",
       "                        <td id=\"T_fe4bbf5e_2fc8_11ee_8ea0_3cfdfe75c0f0row117_col2\" class=\"data row117 col2\" >0</td>\n",
       "                        <td id=\"T_fe4bbf5e_2fc8_11ee_8ea0_3cfdfe75c0f0row117_col3\" class=\"data row117 col3\" >0</td>\n",
       "                        <td id=\"T_fe4bbf5e_2fc8_11ee_8ea0_3cfdfe75c0f0row117_col4\" class=\"data row117 col4\" >2</td>\n",
       "                        <td id=\"T_fe4bbf5e_2fc8_11ee_8ea0_3cfdfe75c0f0row117_col5\" class=\"data row117 col5\" >3</td>\n",
       "            </tr>\n",
       "            <tr>\n",
       "                        <th id=\"T_fe4bbf5e_2fc8_11ee_8ea0_3cfdfe75c0f0level0_row118\" class=\"row_heading level0 row118\" >118</th>\n",
       "                        <td id=\"T_fe4bbf5e_2fc8_11ee_8ea0_3cfdfe75c0f0row118_col0\" class=\"data row118 col0\" >119</td>\n",
       "                        <td id=\"T_fe4bbf5e_2fc8_11ee_8ea0_3cfdfe75c0f0row118_col1\" class=\"data row118 col1\" >119</td>\n",
       "                        <td id=\"T_fe4bbf5e_2fc8_11ee_8ea0_3cfdfe75c0f0row118_col2\" class=\"data row118 col2\" >0</td>\n",
       "                        <td id=\"T_fe4bbf5e_2fc8_11ee_8ea0_3cfdfe75c0f0row118_col3\" class=\"data row118 col3\" >0</td>\n",
       "                        <td id=\"T_fe4bbf5e_2fc8_11ee_8ea0_3cfdfe75c0f0row118_col4\" class=\"data row118 col4\" >2</td>\n",
       "                        <td id=\"T_fe4bbf5e_2fc8_11ee_8ea0_3cfdfe75c0f0row118_col5\" class=\"data row118 col5\" >2</td>\n",
       "            </tr>\n",
       "            <tr>\n",
       "                        <th id=\"T_fe4bbf5e_2fc8_11ee_8ea0_3cfdfe75c0f0level0_row119\" class=\"row_heading level0 row119\" >119</th>\n",
       "                        <td id=\"T_fe4bbf5e_2fc8_11ee_8ea0_3cfdfe75c0f0row119_col0\" class=\"data row119 col0\" >120</td>\n",
       "                        <td id=\"T_fe4bbf5e_2fc8_11ee_8ea0_3cfdfe75c0f0row119_col1\" class=\"data row119 col1\" >120</td>\n",
       "                        <td id=\"T_fe4bbf5e_2fc8_11ee_8ea0_3cfdfe75c0f0row119_col2\" class=\"data row119 col2\" >1</td>\n",
       "                        <td id=\"T_fe4bbf5e_2fc8_11ee_8ea0_3cfdfe75c0f0row119_col3\" class=\"data row119 col3\" >0</td>\n",
       "                        <td id=\"T_fe4bbf5e_2fc8_11ee_8ea0_3cfdfe75c0f0row119_col4\" class=\"data row119 col4\" >2</td>\n",
       "                        <td id=\"T_fe4bbf5e_2fc8_11ee_8ea0_3cfdfe75c0f0row119_col5\" class=\"data row119 col5\" >0</td>\n",
       "            </tr>\n",
       "            <tr>\n",
       "                        <th id=\"T_fe4bbf5e_2fc8_11ee_8ea0_3cfdfe75c0f0level0_row120\" class=\"row_heading level0 row120\" >120</th>\n",
       "                        <td id=\"T_fe4bbf5e_2fc8_11ee_8ea0_3cfdfe75c0f0row120_col0\" class=\"data row120 col0\" >121</td>\n",
       "                        <td id=\"T_fe4bbf5e_2fc8_11ee_8ea0_3cfdfe75c0f0row120_col1\" class=\"data row120 col1\" >121</td>\n",
       "                        <td id=\"T_fe4bbf5e_2fc8_11ee_8ea0_3cfdfe75c0f0row120_col2\" class=\"data row120 col2\" >0</td>\n",
       "                        <td id=\"T_fe4bbf5e_2fc8_11ee_8ea0_3cfdfe75c0f0row120_col3\" class=\"data row120 col3\" >3</td>\n",
       "                        <td id=\"T_fe4bbf5e_2fc8_11ee_8ea0_3cfdfe75c0f0row120_col4\" class=\"data row120 col4\" >2</td>\n",
       "                        <td id=\"T_fe4bbf5e_2fc8_11ee_8ea0_3cfdfe75c0f0row120_col5\" class=\"data row120 col5\" >2</td>\n",
       "            </tr>\n",
       "            <tr>\n",
       "                        <th id=\"T_fe4bbf5e_2fc8_11ee_8ea0_3cfdfe75c0f0level0_row121\" class=\"row_heading level0 row121\" >121</th>\n",
       "                        <td id=\"T_fe4bbf5e_2fc8_11ee_8ea0_3cfdfe75c0f0row121_col0\" class=\"data row121 col0\" >122</td>\n",
       "                        <td id=\"T_fe4bbf5e_2fc8_11ee_8ea0_3cfdfe75c0f0row121_col1\" class=\"data row121 col1\" >122</td>\n",
       "                        <td id=\"T_fe4bbf5e_2fc8_11ee_8ea0_3cfdfe75c0f0row121_col2\" class=\"data row121 col2\" >0</td>\n",
       "                        <td id=\"T_fe4bbf5e_2fc8_11ee_8ea0_3cfdfe75c0f0row121_col3\" class=\"data row121 col3\" >0</td>\n",
       "                        <td id=\"T_fe4bbf5e_2fc8_11ee_8ea0_3cfdfe75c0f0row121_col4\" class=\"data row121 col4\" >2</td>\n",
       "                        <td id=\"T_fe4bbf5e_2fc8_11ee_8ea0_3cfdfe75c0f0row121_col5\" class=\"data row121 col5\" >1</td>\n",
       "            </tr>\n",
       "            <tr>\n",
       "                        <th id=\"T_fe4bbf5e_2fc8_11ee_8ea0_3cfdfe75c0f0level0_row122\" class=\"row_heading level0 row122\" >122</th>\n",
       "                        <td id=\"T_fe4bbf5e_2fc8_11ee_8ea0_3cfdfe75c0f0row122_col0\" class=\"data row122 col0\" >123</td>\n",
       "                        <td id=\"T_fe4bbf5e_2fc8_11ee_8ea0_3cfdfe75c0f0row122_col1\" class=\"data row122 col1\" >123</td>\n",
       "                        <td id=\"T_fe4bbf5e_2fc8_11ee_8ea0_3cfdfe75c0f0row122_col2\" class=\"data row122 col2\" >0</td>\n",
       "                        <td id=\"T_fe4bbf5e_2fc8_11ee_8ea0_3cfdfe75c0f0row122_col3\" class=\"data row122 col3\" >2</td>\n",
       "                        <td id=\"T_fe4bbf5e_2fc8_11ee_8ea0_3cfdfe75c0f0row122_col4\" class=\"data row122 col4\" >2</td>\n",
       "                        <td id=\"T_fe4bbf5e_2fc8_11ee_8ea0_3cfdfe75c0f0row122_col5\" class=\"data row122 col5\" >1</td>\n",
       "            </tr>\n",
       "            <tr>\n",
       "                        <th id=\"T_fe4bbf5e_2fc8_11ee_8ea0_3cfdfe75c0f0level0_row123\" class=\"row_heading level0 row123\" >123</th>\n",
       "                        <td id=\"T_fe4bbf5e_2fc8_11ee_8ea0_3cfdfe75c0f0row123_col0\" class=\"data row123 col0\" >124</td>\n",
       "                        <td id=\"T_fe4bbf5e_2fc8_11ee_8ea0_3cfdfe75c0f0row123_col1\" class=\"data row123 col1\" >124</td>\n",
       "                        <td id=\"T_fe4bbf5e_2fc8_11ee_8ea0_3cfdfe75c0f0row123_col2\" class=\"data row123 col2\" >0</td>\n",
       "                        <td id=\"T_fe4bbf5e_2fc8_11ee_8ea0_3cfdfe75c0f0row123_col3\" class=\"data row123 col3\" >0</td>\n",
       "                        <td id=\"T_fe4bbf5e_2fc8_11ee_8ea0_3cfdfe75c0f0row123_col4\" class=\"data row123 col4\" >0</td>\n",
       "                        <td id=\"T_fe4bbf5e_2fc8_11ee_8ea0_3cfdfe75c0f0row123_col5\" class=\"data row123 col5\" >2</td>\n",
       "            </tr>\n",
       "            <tr>\n",
       "                        <th id=\"T_fe4bbf5e_2fc8_11ee_8ea0_3cfdfe75c0f0level0_row124\" class=\"row_heading level0 row124\" >124</th>\n",
       "                        <td id=\"T_fe4bbf5e_2fc8_11ee_8ea0_3cfdfe75c0f0row124_col0\" class=\"data row124 col0\" >125</td>\n",
       "                        <td id=\"T_fe4bbf5e_2fc8_11ee_8ea0_3cfdfe75c0f0row124_col1\" class=\"data row124 col1\" >125</td>\n",
       "                        <td id=\"T_fe4bbf5e_2fc8_11ee_8ea0_3cfdfe75c0f0row124_col2\" class=\"data row124 col2\" >0</td>\n",
       "                        <td id=\"T_fe4bbf5e_2fc8_11ee_8ea0_3cfdfe75c0f0row124_col3\" class=\"data row124 col3\" >2</td>\n",
       "                        <td id=\"T_fe4bbf5e_2fc8_11ee_8ea0_3cfdfe75c0f0row124_col4\" class=\"data row124 col4\" >2</td>\n",
       "                        <td id=\"T_fe4bbf5e_2fc8_11ee_8ea0_3cfdfe75c0f0row124_col5\" class=\"data row124 col5\" >1</td>\n",
       "            </tr>\n",
       "            <tr>\n",
       "                        <th id=\"T_fe4bbf5e_2fc8_11ee_8ea0_3cfdfe75c0f0level0_row125\" class=\"row_heading level0 row125\" >125</th>\n",
       "                        <td id=\"T_fe4bbf5e_2fc8_11ee_8ea0_3cfdfe75c0f0row125_col0\" class=\"data row125 col0\" >126</td>\n",
       "                        <td id=\"T_fe4bbf5e_2fc8_11ee_8ea0_3cfdfe75c0f0row125_col1\" class=\"data row125 col1\" >126</td>\n",
       "                        <td id=\"T_fe4bbf5e_2fc8_11ee_8ea0_3cfdfe75c0f0row125_col2\" class=\"data row125 col2\" >0</td>\n",
       "                        <td id=\"T_fe4bbf5e_2fc8_11ee_8ea0_3cfdfe75c0f0row125_col3\" class=\"data row125 col3\" >3</td>\n",
       "                        <td id=\"T_fe4bbf5e_2fc8_11ee_8ea0_3cfdfe75c0f0row125_col4\" class=\"data row125 col4\" >1</td>\n",
       "                        <td id=\"T_fe4bbf5e_2fc8_11ee_8ea0_3cfdfe75c0f0row125_col5\" class=\"data row125 col5\" >1</td>\n",
       "            </tr>\n",
       "            <tr>\n",
       "                        <th id=\"T_fe4bbf5e_2fc8_11ee_8ea0_3cfdfe75c0f0level0_row126\" class=\"row_heading level0 row126\" >126</th>\n",
       "                        <td id=\"T_fe4bbf5e_2fc8_11ee_8ea0_3cfdfe75c0f0row126_col0\" class=\"data row126 col0\" >127</td>\n",
       "                        <td id=\"T_fe4bbf5e_2fc8_11ee_8ea0_3cfdfe75c0f0row126_col1\" class=\"data row126 col1\" >127</td>\n",
       "                        <td id=\"T_fe4bbf5e_2fc8_11ee_8ea0_3cfdfe75c0f0row126_col2\" class=\"data row126 col2\" >0</td>\n",
       "                        <td id=\"T_fe4bbf5e_2fc8_11ee_8ea0_3cfdfe75c0f0row126_col3\" class=\"data row126 col3\" >3</td>\n",
       "                        <td id=\"T_fe4bbf5e_2fc8_11ee_8ea0_3cfdfe75c0f0row126_col4\" class=\"data row126 col4\" >0</td>\n",
       "                        <td id=\"T_fe4bbf5e_2fc8_11ee_8ea0_3cfdfe75c0f0row126_col5\" class=\"data row126 col5\" >2</td>\n",
       "            </tr>\n",
       "            <tr>\n",
       "                        <th id=\"T_fe4bbf5e_2fc8_11ee_8ea0_3cfdfe75c0f0level0_row127\" class=\"row_heading level0 row127\" >127</th>\n",
       "                        <td id=\"T_fe4bbf5e_2fc8_11ee_8ea0_3cfdfe75c0f0row127_col0\" class=\"data row127 col0\" >128</td>\n",
       "                        <td id=\"T_fe4bbf5e_2fc8_11ee_8ea0_3cfdfe75c0f0row127_col1\" class=\"data row127 col1\" >128</td>\n",
       "                        <td id=\"T_fe4bbf5e_2fc8_11ee_8ea0_3cfdfe75c0f0row127_col2\" class=\"data row127 col2\" >0</td>\n",
       "                        <td id=\"T_fe4bbf5e_2fc8_11ee_8ea0_3cfdfe75c0f0row127_col3\" class=\"data row127 col3\" >2</td>\n",
       "                        <td id=\"T_fe4bbf5e_2fc8_11ee_8ea0_3cfdfe75c0f0row127_col4\" class=\"data row127 col4\" >2</td>\n",
       "                        <td id=\"T_fe4bbf5e_2fc8_11ee_8ea0_3cfdfe75c0f0row127_col5\" class=\"data row127 col5\" >2</td>\n",
       "            </tr>\n",
       "            <tr>\n",
       "                        <th id=\"T_fe4bbf5e_2fc8_11ee_8ea0_3cfdfe75c0f0level0_row128\" class=\"row_heading level0 row128\" >128</th>\n",
       "                        <td id=\"T_fe4bbf5e_2fc8_11ee_8ea0_3cfdfe75c0f0row128_col0\" class=\"data row128 col0\" >129</td>\n",
       "                        <td id=\"T_fe4bbf5e_2fc8_11ee_8ea0_3cfdfe75c0f0row128_col1\" class=\"data row128 col1\" >129</td>\n",
       "                        <td id=\"T_fe4bbf5e_2fc8_11ee_8ea0_3cfdfe75c0f0row128_col2\" class=\"data row128 col2\" >0</td>\n",
       "                        <td id=\"T_fe4bbf5e_2fc8_11ee_8ea0_3cfdfe75c0f0row128_col3\" class=\"data row128 col3\" >0</td>\n",
       "                        <td id=\"T_fe4bbf5e_2fc8_11ee_8ea0_3cfdfe75c0f0row128_col4\" class=\"data row128 col4\" >2</td>\n",
       "                        <td id=\"T_fe4bbf5e_2fc8_11ee_8ea0_3cfdfe75c0f0row128_col5\" class=\"data row128 col5\" >3</td>\n",
       "            </tr>\n",
       "            <tr>\n",
       "                        <th id=\"T_fe4bbf5e_2fc8_11ee_8ea0_3cfdfe75c0f0level0_row129\" class=\"row_heading level0 row129\" >129</th>\n",
       "                        <td id=\"T_fe4bbf5e_2fc8_11ee_8ea0_3cfdfe75c0f0row129_col0\" class=\"data row129 col0\" >130</td>\n",
       "                        <td id=\"T_fe4bbf5e_2fc8_11ee_8ea0_3cfdfe75c0f0row129_col1\" class=\"data row129 col1\" >130</td>\n",
       "                        <td id=\"T_fe4bbf5e_2fc8_11ee_8ea0_3cfdfe75c0f0row129_col2\" class=\"data row129 col2\" >0</td>\n",
       "                        <td id=\"T_fe4bbf5e_2fc8_11ee_8ea0_3cfdfe75c0f0row129_col3\" class=\"data row129 col3\" >3</td>\n",
       "                        <td id=\"T_fe4bbf5e_2fc8_11ee_8ea0_3cfdfe75c0f0row129_col4\" class=\"data row129 col4\" >1</td>\n",
       "                        <td id=\"T_fe4bbf5e_2fc8_11ee_8ea0_3cfdfe75c0f0row129_col5\" class=\"data row129 col5\" >3</td>\n",
       "            </tr>\n",
       "            <tr>\n",
       "                        <th id=\"T_fe4bbf5e_2fc8_11ee_8ea0_3cfdfe75c0f0level0_row130\" class=\"row_heading level0 row130\" >130</th>\n",
       "                        <td id=\"T_fe4bbf5e_2fc8_11ee_8ea0_3cfdfe75c0f0row130_col0\" class=\"data row130 col0\" >131</td>\n",
       "                        <td id=\"T_fe4bbf5e_2fc8_11ee_8ea0_3cfdfe75c0f0row130_col1\" class=\"data row130 col1\" >131</td>\n",
       "                        <td id=\"T_fe4bbf5e_2fc8_11ee_8ea0_3cfdfe75c0f0row130_col2\" class=\"data row130 col2\" >0</td>\n",
       "                        <td id=\"T_fe4bbf5e_2fc8_11ee_8ea0_3cfdfe75c0f0row130_col3\" class=\"data row130 col3\" >3</td>\n",
       "                        <td id=\"T_fe4bbf5e_2fc8_11ee_8ea0_3cfdfe75c0f0row130_col4\" class=\"data row130 col4\" >1</td>\n",
       "                        <td id=\"T_fe4bbf5e_2fc8_11ee_8ea0_3cfdfe75c0f0row130_col5\" class=\"data row130 col5\" >1</td>\n",
       "            </tr>\n",
       "            <tr>\n",
       "                        <th id=\"T_fe4bbf5e_2fc8_11ee_8ea0_3cfdfe75c0f0level0_row131\" class=\"row_heading level0 row131\" >131</th>\n",
       "                        <td id=\"T_fe4bbf5e_2fc8_11ee_8ea0_3cfdfe75c0f0row131_col0\" class=\"data row131 col0\" >132</td>\n",
       "                        <td id=\"T_fe4bbf5e_2fc8_11ee_8ea0_3cfdfe75c0f0row131_col1\" class=\"data row131 col1\" >132</td>\n",
       "                        <td id=\"T_fe4bbf5e_2fc8_11ee_8ea0_3cfdfe75c0f0row131_col2\" class=\"data row131 col2\" >0</td>\n",
       "                        <td id=\"T_fe4bbf5e_2fc8_11ee_8ea0_3cfdfe75c0f0row131_col3\" class=\"data row131 col3\" >2</td>\n",
       "                        <td id=\"T_fe4bbf5e_2fc8_11ee_8ea0_3cfdfe75c0f0row131_col4\" class=\"data row131 col4\" >2</td>\n",
       "                        <td id=\"T_fe4bbf5e_2fc8_11ee_8ea0_3cfdfe75c0f0row131_col5\" class=\"data row131 col5\" >2</td>\n",
       "            </tr>\n",
       "            <tr>\n",
       "                        <th id=\"T_fe4bbf5e_2fc8_11ee_8ea0_3cfdfe75c0f0level0_row132\" class=\"row_heading level0 row132\" >132</th>\n",
       "                        <td id=\"T_fe4bbf5e_2fc8_11ee_8ea0_3cfdfe75c0f0row132_col0\" class=\"data row132 col0\" >133</td>\n",
       "                        <td id=\"T_fe4bbf5e_2fc8_11ee_8ea0_3cfdfe75c0f0row132_col1\" class=\"data row132 col1\" >133</td>\n",
       "                        <td id=\"T_fe4bbf5e_2fc8_11ee_8ea0_3cfdfe75c0f0row132_col2\" class=\"data row132 col2\" >0</td>\n",
       "                        <td id=\"T_fe4bbf5e_2fc8_11ee_8ea0_3cfdfe75c0f0row132_col3\" class=\"data row132 col3\" >2</td>\n",
       "                        <td id=\"T_fe4bbf5e_2fc8_11ee_8ea0_3cfdfe75c0f0row132_col4\" class=\"data row132 col4\" >2</td>\n",
       "                        <td id=\"T_fe4bbf5e_2fc8_11ee_8ea0_3cfdfe75c0f0row132_col5\" class=\"data row132 col5\" >1</td>\n",
       "            </tr>\n",
       "            <tr>\n",
       "                        <th id=\"T_fe4bbf5e_2fc8_11ee_8ea0_3cfdfe75c0f0level0_row133\" class=\"row_heading level0 row133\" >133</th>\n",
       "                        <td id=\"T_fe4bbf5e_2fc8_11ee_8ea0_3cfdfe75c0f0row133_col0\" class=\"data row133 col0\" >134</td>\n",
       "                        <td id=\"T_fe4bbf5e_2fc8_11ee_8ea0_3cfdfe75c0f0row133_col1\" class=\"data row133 col1\" >134</td>\n",
       "                        <td id=\"T_fe4bbf5e_2fc8_11ee_8ea0_3cfdfe75c0f0row133_col2\" class=\"data row133 col2\" >0</td>\n",
       "                        <td id=\"T_fe4bbf5e_2fc8_11ee_8ea0_3cfdfe75c0f0row133_col3\" class=\"data row133 col3\" >0</td>\n",
       "                        <td id=\"T_fe4bbf5e_2fc8_11ee_8ea0_3cfdfe75c0f0row133_col4\" class=\"data row133 col4\" >1</td>\n",
       "                        <td id=\"T_fe4bbf5e_2fc8_11ee_8ea0_3cfdfe75c0f0row133_col5\" class=\"data row133 col5\" >1</td>\n",
       "            </tr>\n",
       "            <tr>\n",
       "                        <th id=\"T_fe4bbf5e_2fc8_11ee_8ea0_3cfdfe75c0f0level0_row134\" class=\"row_heading level0 row134\" >134</th>\n",
       "                        <td id=\"T_fe4bbf5e_2fc8_11ee_8ea0_3cfdfe75c0f0row134_col0\" class=\"data row134 col0\" >135</td>\n",
       "                        <td id=\"T_fe4bbf5e_2fc8_11ee_8ea0_3cfdfe75c0f0row134_col1\" class=\"data row134 col1\" >135</td>\n",
       "                        <td id=\"T_fe4bbf5e_2fc8_11ee_8ea0_3cfdfe75c0f0row134_col2\" class=\"data row134 col2\" >0</td>\n",
       "                        <td id=\"T_fe4bbf5e_2fc8_11ee_8ea0_3cfdfe75c0f0row134_col3\" class=\"data row134 col3\" >2</td>\n",
       "                        <td id=\"T_fe4bbf5e_2fc8_11ee_8ea0_3cfdfe75c0f0row134_col4\" class=\"data row134 col4\" >2</td>\n",
       "                        <td id=\"T_fe4bbf5e_2fc8_11ee_8ea0_3cfdfe75c0f0row134_col5\" class=\"data row134 col5\" >1</td>\n",
       "            </tr>\n",
       "            <tr>\n",
       "                        <th id=\"T_fe4bbf5e_2fc8_11ee_8ea0_3cfdfe75c0f0level0_row135\" class=\"row_heading level0 row135\" >135</th>\n",
       "                        <td id=\"T_fe4bbf5e_2fc8_11ee_8ea0_3cfdfe75c0f0row135_col0\" class=\"data row135 col0\" >136</td>\n",
       "                        <td id=\"T_fe4bbf5e_2fc8_11ee_8ea0_3cfdfe75c0f0row135_col1\" class=\"data row135 col1\" >136</td>\n",
       "                        <td id=\"T_fe4bbf5e_2fc8_11ee_8ea0_3cfdfe75c0f0row135_col2\" class=\"data row135 col2\" >0</td>\n",
       "                        <td id=\"T_fe4bbf5e_2fc8_11ee_8ea0_3cfdfe75c0f0row135_col3\" class=\"data row135 col3\" >2</td>\n",
       "                        <td id=\"T_fe4bbf5e_2fc8_11ee_8ea0_3cfdfe75c0f0row135_col4\" class=\"data row135 col4\" >2</td>\n",
       "                        <td id=\"T_fe4bbf5e_2fc8_11ee_8ea0_3cfdfe75c0f0row135_col5\" class=\"data row135 col5\" >1</td>\n",
       "            </tr>\n",
       "            <tr>\n",
       "                        <th id=\"T_fe4bbf5e_2fc8_11ee_8ea0_3cfdfe75c0f0level0_row136\" class=\"row_heading level0 row136\" >136</th>\n",
       "                        <td id=\"T_fe4bbf5e_2fc8_11ee_8ea0_3cfdfe75c0f0row136_col0\" class=\"data row136 col0\" >137</td>\n",
       "                        <td id=\"T_fe4bbf5e_2fc8_11ee_8ea0_3cfdfe75c0f0row136_col1\" class=\"data row136 col1\" >137</td>\n",
       "                        <td id=\"T_fe4bbf5e_2fc8_11ee_8ea0_3cfdfe75c0f0row136_col2\" class=\"data row136 col2\" >0</td>\n",
       "                        <td id=\"T_fe4bbf5e_2fc8_11ee_8ea0_3cfdfe75c0f0row136_col3\" class=\"data row136 col3\" >3</td>\n",
       "                        <td id=\"T_fe4bbf5e_2fc8_11ee_8ea0_3cfdfe75c0f0row136_col4\" class=\"data row136 col4\" >2</td>\n",
       "                        <td id=\"T_fe4bbf5e_2fc8_11ee_8ea0_3cfdfe75c0f0row136_col5\" class=\"data row136 col5\" >1</td>\n",
       "            </tr>\n",
       "            <tr>\n",
       "                        <th id=\"T_fe4bbf5e_2fc8_11ee_8ea0_3cfdfe75c0f0level0_row137\" class=\"row_heading level0 row137\" >137</th>\n",
       "                        <td id=\"T_fe4bbf5e_2fc8_11ee_8ea0_3cfdfe75c0f0row137_col0\" class=\"data row137 col0\" >138</td>\n",
       "                        <td id=\"T_fe4bbf5e_2fc8_11ee_8ea0_3cfdfe75c0f0row137_col1\" class=\"data row137 col1\" >138</td>\n",
       "                        <td id=\"T_fe4bbf5e_2fc8_11ee_8ea0_3cfdfe75c0f0row137_col2\" class=\"data row137 col2\" >0</td>\n",
       "                        <td id=\"T_fe4bbf5e_2fc8_11ee_8ea0_3cfdfe75c0f0row137_col3\" class=\"data row137 col3\" >2</td>\n",
       "                        <td id=\"T_fe4bbf5e_2fc8_11ee_8ea0_3cfdfe75c0f0row137_col4\" class=\"data row137 col4\" >1</td>\n",
       "                        <td id=\"T_fe4bbf5e_2fc8_11ee_8ea0_3cfdfe75c0f0row137_col5\" class=\"data row137 col5\" >1</td>\n",
       "            </tr>\n",
       "            <tr>\n",
       "                        <th id=\"T_fe4bbf5e_2fc8_11ee_8ea0_3cfdfe75c0f0level0_row138\" class=\"row_heading level0 row138\" >138</th>\n",
       "                        <td id=\"T_fe4bbf5e_2fc8_11ee_8ea0_3cfdfe75c0f0row138_col0\" class=\"data row138 col0\" >139</td>\n",
       "                        <td id=\"T_fe4bbf5e_2fc8_11ee_8ea0_3cfdfe75c0f0row138_col1\" class=\"data row138 col1\" >139</td>\n",
       "                        <td id=\"T_fe4bbf5e_2fc8_11ee_8ea0_3cfdfe75c0f0row138_col2\" class=\"data row138 col2\" >0</td>\n",
       "                        <td id=\"T_fe4bbf5e_2fc8_11ee_8ea0_3cfdfe75c0f0row138_col3\" class=\"data row138 col3\" >2</td>\n",
       "                        <td id=\"T_fe4bbf5e_2fc8_11ee_8ea0_3cfdfe75c0f0row138_col4\" class=\"data row138 col4\" >2</td>\n",
       "                        <td id=\"T_fe4bbf5e_2fc8_11ee_8ea0_3cfdfe75c0f0row138_col5\" class=\"data row138 col5\" >1</td>\n",
       "            </tr>\n",
       "            <tr>\n",
       "                        <th id=\"T_fe4bbf5e_2fc8_11ee_8ea0_3cfdfe75c0f0level0_row139\" class=\"row_heading level0 row139\" >139</th>\n",
       "                        <td id=\"T_fe4bbf5e_2fc8_11ee_8ea0_3cfdfe75c0f0row139_col0\" class=\"data row139 col0\" >140</td>\n",
       "                        <td id=\"T_fe4bbf5e_2fc8_11ee_8ea0_3cfdfe75c0f0row139_col1\" class=\"data row139 col1\" >140</td>\n",
       "                        <td id=\"T_fe4bbf5e_2fc8_11ee_8ea0_3cfdfe75c0f0row139_col2\" class=\"data row139 col2\" >0</td>\n",
       "                        <td id=\"T_fe4bbf5e_2fc8_11ee_8ea0_3cfdfe75c0f0row139_col3\" class=\"data row139 col3\" >2</td>\n",
       "                        <td id=\"T_fe4bbf5e_2fc8_11ee_8ea0_3cfdfe75c0f0row139_col4\" class=\"data row139 col4\" >2</td>\n",
       "                        <td id=\"T_fe4bbf5e_2fc8_11ee_8ea0_3cfdfe75c0f0row139_col5\" class=\"data row139 col5\" >2</td>\n",
       "            </tr>\n",
       "            <tr>\n",
       "                        <th id=\"T_fe4bbf5e_2fc8_11ee_8ea0_3cfdfe75c0f0level0_row140\" class=\"row_heading level0 row140\" >140</th>\n",
       "                        <td id=\"T_fe4bbf5e_2fc8_11ee_8ea0_3cfdfe75c0f0row140_col0\" class=\"data row140 col0\" >141</td>\n",
       "                        <td id=\"T_fe4bbf5e_2fc8_11ee_8ea0_3cfdfe75c0f0row140_col1\" class=\"data row140 col1\" >141</td>\n",
       "                        <td id=\"T_fe4bbf5e_2fc8_11ee_8ea0_3cfdfe75c0f0row140_col2\" class=\"data row140 col2\" >0</td>\n",
       "                        <td id=\"T_fe4bbf5e_2fc8_11ee_8ea0_3cfdfe75c0f0row140_col3\" class=\"data row140 col3\" >2</td>\n",
       "                        <td id=\"T_fe4bbf5e_2fc8_11ee_8ea0_3cfdfe75c0f0row140_col4\" class=\"data row140 col4\" >2</td>\n",
       "                        <td id=\"T_fe4bbf5e_2fc8_11ee_8ea0_3cfdfe75c0f0row140_col5\" class=\"data row140 col5\" >1</td>\n",
       "            </tr>\n",
       "            <tr>\n",
       "                        <th id=\"T_fe4bbf5e_2fc8_11ee_8ea0_3cfdfe75c0f0level0_row141\" class=\"row_heading level0 row141\" >141</th>\n",
       "                        <td id=\"T_fe4bbf5e_2fc8_11ee_8ea0_3cfdfe75c0f0row141_col0\" class=\"data row141 col0\" >142</td>\n",
       "                        <td id=\"T_fe4bbf5e_2fc8_11ee_8ea0_3cfdfe75c0f0row141_col1\" class=\"data row141 col1\" >142</td>\n",
       "                        <td id=\"T_fe4bbf5e_2fc8_11ee_8ea0_3cfdfe75c0f0row141_col2\" class=\"data row141 col2\" >0</td>\n",
       "                        <td id=\"T_fe4bbf5e_2fc8_11ee_8ea0_3cfdfe75c0f0row141_col3\" class=\"data row141 col3\" >2</td>\n",
       "                        <td id=\"T_fe4bbf5e_2fc8_11ee_8ea0_3cfdfe75c0f0row141_col4\" class=\"data row141 col4\" >2</td>\n",
       "                        <td id=\"T_fe4bbf5e_2fc8_11ee_8ea0_3cfdfe75c0f0row141_col5\" class=\"data row141 col5\" >2</td>\n",
       "            </tr>\n",
       "            <tr>\n",
       "                        <th id=\"T_fe4bbf5e_2fc8_11ee_8ea0_3cfdfe75c0f0level0_row142\" class=\"row_heading level0 row142\" >142</th>\n",
       "                        <td id=\"T_fe4bbf5e_2fc8_11ee_8ea0_3cfdfe75c0f0row142_col0\" class=\"data row142 col0\" >143</td>\n",
       "                        <td id=\"T_fe4bbf5e_2fc8_11ee_8ea0_3cfdfe75c0f0row142_col1\" class=\"data row142 col1\" >143</td>\n",
       "                        <td id=\"T_fe4bbf5e_2fc8_11ee_8ea0_3cfdfe75c0f0row142_col2\" class=\"data row142 col2\" >0</td>\n",
       "                        <td id=\"T_fe4bbf5e_2fc8_11ee_8ea0_3cfdfe75c0f0row142_col3\" class=\"data row142 col3\" >0</td>\n",
       "                        <td id=\"T_fe4bbf5e_2fc8_11ee_8ea0_3cfdfe75c0f0row142_col4\" class=\"data row142 col4\" >1</td>\n",
       "                        <td id=\"T_fe4bbf5e_2fc8_11ee_8ea0_3cfdfe75c0f0row142_col5\" class=\"data row142 col5\" >1</td>\n",
       "            </tr>\n",
       "            <tr>\n",
       "                        <th id=\"T_fe4bbf5e_2fc8_11ee_8ea0_3cfdfe75c0f0level0_row143\" class=\"row_heading level0 row143\" >143</th>\n",
       "                        <td id=\"T_fe4bbf5e_2fc8_11ee_8ea0_3cfdfe75c0f0row143_col0\" class=\"data row143 col0\" >144</td>\n",
       "                        <td id=\"T_fe4bbf5e_2fc8_11ee_8ea0_3cfdfe75c0f0row143_col1\" class=\"data row143 col1\" >144</td>\n",
       "                        <td id=\"T_fe4bbf5e_2fc8_11ee_8ea0_3cfdfe75c0f0row143_col2\" class=\"data row143 col2\" >0</td>\n",
       "                        <td id=\"T_fe4bbf5e_2fc8_11ee_8ea0_3cfdfe75c0f0row143_col3\" class=\"data row143 col3\" >0</td>\n",
       "                        <td id=\"T_fe4bbf5e_2fc8_11ee_8ea0_3cfdfe75c0f0row143_col4\" class=\"data row143 col4\" >2</td>\n",
       "                        <td id=\"T_fe4bbf5e_2fc8_11ee_8ea0_3cfdfe75c0f0row143_col5\" class=\"data row143 col5\" >3</td>\n",
       "            </tr>\n",
       "            <tr>\n",
       "                        <th id=\"T_fe4bbf5e_2fc8_11ee_8ea0_3cfdfe75c0f0level0_row144\" class=\"row_heading level0 row144\" >144</th>\n",
       "                        <td id=\"T_fe4bbf5e_2fc8_11ee_8ea0_3cfdfe75c0f0row144_col0\" class=\"data row144 col0\" >145</td>\n",
       "                        <td id=\"T_fe4bbf5e_2fc8_11ee_8ea0_3cfdfe75c0f0row144_col1\" class=\"data row144 col1\" >145</td>\n",
       "                        <td id=\"T_fe4bbf5e_2fc8_11ee_8ea0_3cfdfe75c0f0row144_col2\" class=\"data row144 col2\" >0</td>\n",
       "                        <td id=\"T_fe4bbf5e_2fc8_11ee_8ea0_3cfdfe75c0f0row144_col3\" class=\"data row144 col3\" >0</td>\n",
       "                        <td id=\"T_fe4bbf5e_2fc8_11ee_8ea0_3cfdfe75c0f0row144_col4\" class=\"data row144 col4\" >1</td>\n",
       "                        <td id=\"T_fe4bbf5e_2fc8_11ee_8ea0_3cfdfe75c0f0row144_col5\" class=\"data row144 col5\" >2</td>\n",
       "            </tr>\n",
       "            <tr>\n",
       "                        <th id=\"T_fe4bbf5e_2fc8_11ee_8ea0_3cfdfe75c0f0level0_row145\" class=\"row_heading level0 row145\" >145</th>\n",
       "                        <td id=\"T_fe4bbf5e_2fc8_11ee_8ea0_3cfdfe75c0f0row145_col0\" class=\"data row145 col0\" >146</td>\n",
       "                        <td id=\"T_fe4bbf5e_2fc8_11ee_8ea0_3cfdfe75c0f0row145_col1\" class=\"data row145 col1\" >146</td>\n",
       "                        <td id=\"T_fe4bbf5e_2fc8_11ee_8ea0_3cfdfe75c0f0row145_col2\" class=\"data row145 col2\" >0</td>\n",
       "                        <td id=\"T_fe4bbf5e_2fc8_11ee_8ea0_3cfdfe75c0f0row145_col3\" class=\"data row145 col3\" >3</td>\n",
       "                        <td id=\"T_fe4bbf5e_2fc8_11ee_8ea0_3cfdfe75c0f0row145_col4\" class=\"data row145 col4\" >2</td>\n",
       "                        <td id=\"T_fe4bbf5e_2fc8_11ee_8ea0_3cfdfe75c0f0row145_col5\" class=\"data row145 col5\" >2</td>\n",
       "            </tr>\n",
       "            <tr>\n",
       "                        <th id=\"T_fe4bbf5e_2fc8_11ee_8ea0_3cfdfe75c0f0level0_row146\" class=\"row_heading level0 row146\" >146</th>\n",
       "                        <td id=\"T_fe4bbf5e_2fc8_11ee_8ea0_3cfdfe75c0f0row146_col0\" class=\"data row146 col0\" >147</td>\n",
       "                        <td id=\"T_fe4bbf5e_2fc8_11ee_8ea0_3cfdfe75c0f0row146_col1\" class=\"data row146 col1\" >147</td>\n",
       "                        <td id=\"T_fe4bbf5e_2fc8_11ee_8ea0_3cfdfe75c0f0row146_col2\" class=\"data row146 col2\" >0</td>\n",
       "                        <td id=\"T_fe4bbf5e_2fc8_11ee_8ea0_3cfdfe75c0f0row146_col3\" class=\"data row146 col3\" >0</td>\n",
       "                        <td id=\"T_fe4bbf5e_2fc8_11ee_8ea0_3cfdfe75c0f0row146_col4\" class=\"data row146 col4\" >2</td>\n",
       "                        <td id=\"T_fe4bbf5e_2fc8_11ee_8ea0_3cfdfe75c0f0row146_col5\" class=\"data row146 col5\" >1</td>\n",
       "            </tr>\n",
       "            <tr>\n",
       "                        <th id=\"T_fe4bbf5e_2fc8_11ee_8ea0_3cfdfe75c0f0level0_row147\" class=\"row_heading level0 row147\" >147</th>\n",
       "                        <td id=\"T_fe4bbf5e_2fc8_11ee_8ea0_3cfdfe75c0f0row147_col0\" class=\"data row147 col0\" >148</td>\n",
       "                        <td id=\"T_fe4bbf5e_2fc8_11ee_8ea0_3cfdfe75c0f0row147_col1\" class=\"data row147 col1\" >148</td>\n",
       "                        <td id=\"T_fe4bbf5e_2fc8_11ee_8ea0_3cfdfe75c0f0row147_col2\" class=\"data row147 col2\" >0</td>\n",
       "                        <td id=\"T_fe4bbf5e_2fc8_11ee_8ea0_3cfdfe75c0f0row147_col3\" class=\"data row147 col3\" >3</td>\n",
       "                        <td id=\"T_fe4bbf5e_2fc8_11ee_8ea0_3cfdfe75c0f0row147_col4\" class=\"data row147 col4\" >2</td>\n",
       "                        <td id=\"T_fe4bbf5e_2fc8_11ee_8ea0_3cfdfe75c0f0row147_col5\" class=\"data row147 col5\" >2</td>\n",
       "            </tr>\n",
       "            <tr>\n",
       "                        <th id=\"T_fe4bbf5e_2fc8_11ee_8ea0_3cfdfe75c0f0level0_row148\" class=\"row_heading level0 row148\" >148</th>\n",
       "                        <td id=\"T_fe4bbf5e_2fc8_11ee_8ea0_3cfdfe75c0f0row148_col0\" class=\"data row148 col0\" >149</td>\n",
       "                        <td id=\"T_fe4bbf5e_2fc8_11ee_8ea0_3cfdfe75c0f0row148_col1\" class=\"data row148 col1\" >149</td>\n",
       "                        <td id=\"T_fe4bbf5e_2fc8_11ee_8ea0_3cfdfe75c0f0row148_col2\" class=\"data row148 col2\" >0</td>\n",
       "                        <td id=\"T_fe4bbf5e_2fc8_11ee_8ea0_3cfdfe75c0f0row148_col3\" class=\"data row148 col3\" >2</td>\n",
       "                        <td id=\"T_fe4bbf5e_2fc8_11ee_8ea0_3cfdfe75c0f0row148_col4\" class=\"data row148 col4\" >2</td>\n",
       "                        <td id=\"T_fe4bbf5e_2fc8_11ee_8ea0_3cfdfe75c0f0row148_col5\" class=\"data row148 col5\" >2</td>\n",
       "            </tr>\n",
       "            <tr>\n",
       "                        <th id=\"T_fe4bbf5e_2fc8_11ee_8ea0_3cfdfe75c0f0level0_row149\" class=\"row_heading level0 row149\" >149</th>\n",
       "                        <td id=\"T_fe4bbf5e_2fc8_11ee_8ea0_3cfdfe75c0f0row149_col0\" class=\"data row149 col0\" >150</td>\n",
       "                        <td id=\"T_fe4bbf5e_2fc8_11ee_8ea0_3cfdfe75c0f0row149_col1\" class=\"data row149 col1\" >150</td>\n",
       "                        <td id=\"T_fe4bbf5e_2fc8_11ee_8ea0_3cfdfe75c0f0row149_col2\" class=\"data row149 col2\" >0</td>\n",
       "                        <td id=\"T_fe4bbf5e_2fc8_11ee_8ea0_3cfdfe75c0f0row149_col3\" class=\"data row149 col3\" >3</td>\n",
       "                        <td id=\"T_fe4bbf5e_2fc8_11ee_8ea0_3cfdfe75c0f0row149_col4\" class=\"data row149 col4\" >2</td>\n",
       "                        <td id=\"T_fe4bbf5e_2fc8_11ee_8ea0_3cfdfe75c0f0row149_col5\" class=\"data row149 col5\" >2</td>\n",
       "            </tr>\n",
       "            <tr>\n",
       "                        <th id=\"T_fe4bbf5e_2fc8_11ee_8ea0_3cfdfe75c0f0level0_row150\" class=\"row_heading level0 row150\" >150</th>\n",
       "                        <td id=\"T_fe4bbf5e_2fc8_11ee_8ea0_3cfdfe75c0f0row150_col0\" class=\"data row150 col0\" >151</td>\n",
       "                        <td id=\"T_fe4bbf5e_2fc8_11ee_8ea0_3cfdfe75c0f0row150_col1\" class=\"data row150 col1\" >151</td>\n",
       "                        <td id=\"T_fe4bbf5e_2fc8_11ee_8ea0_3cfdfe75c0f0row150_col2\" class=\"data row150 col2\" >0</td>\n",
       "                        <td id=\"T_fe4bbf5e_2fc8_11ee_8ea0_3cfdfe75c0f0row150_col3\" class=\"data row150 col3\" >2</td>\n",
       "                        <td id=\"T_fe4bbf5e_2fc8_11ee_8ea0_3cfdfe75c0f0row150_col4\" class=\"data row150 col4\" >2</td>\n",
       "                        <td id=\"T_fe4bbf5e_2fc8_11ee_8ea0_3cfdfe75c0f0row150_col5\" class=\"data row150 col5\" >1</td>\n",
       "            </tr>\n",
       "            <tr>\n",
       "                        <th id=\"T_fe4bbf5e_2fc8_11ee_8ea0_3cfdfe75c0f0level0_row151\" class=\"row_heading level0 row151\" >151</th>\n",
       "                        <td id=\"T_fe4bbf5e_2fc8_11ee_8ea0_3cfdfe75c0f0row151_col0\" class=\"data row151 col0\" >152</td>\n",
       "                        <td id=\"T_fe4bbf5e_2fc8_11ee_8ea0_3cfdfe75c0f0row151_col1\" class=\"data row151 col1\" >152</td>\n",
       "                        <td id=\"T_fe4bbf5e_2fc8_11ee_8ea0_3cfdfe75c0f0row151_col2\" class=\"data row151 col2\" >0</td>\n",
       "                        <td id=\"T_fe4bbf5e_2fc8_11ee_8ea0_3cfdfe75c0f0row151_col3\" class=\"data row151 col3\" >3</td>\n",
       "                        <td id=\"T_fe4bbf5e_2fc8_11ee_8ea0_3cfdfe75c0f0row151_col4\" class=\"data row151 col4\" >2</td>\n",
       "                        <td id=\"T_fe4bbf5e_2fc8_11ee_8ea0_3cfdfe75c0f0row151_col5\" class=\"data row151 col5\" >1</td>\n",
       "            </tr>\n",
       "            <tr>\n",
       "                        <th id=\"T_fe4bbf5e_2fc8_11ee_8ea0_3cfdfe75c0f0level0_row152\" class=\"row_heading level0 row152\" >152</th>\n",
       "                        <td id=\"T_fe4bbf5e_2fc8_11ee_8ea0_3cfdfe75c0f0row152_col0\" class=\"data row152 col0\" >153</td>\n",
       "                        <td id=\"T_fe4bbf5e_2fc8_11ee_8ea0_3cfdfe75c0f0row152_col1\" class=\"data row152 col1\" >153</td>\n",
       "                        <td id=\"T_fe4bbf5e_2fc8_11ee_8ea0_3cfdfe75c0f0row152_col2\" class=\"data row152 col2\" >2</td>\n",
       "                        <td id=\"T_fe4bbf5e_2fc8_11ee_8ea0_3cfdfe75c0f0row152_col3\" class=\"data row152 col3\" >0</td>\n",
       "                        <td id=\"T_fe4bbf5e_2fc8_11ee_8ea0_3cfdfe75c0f0row152_col4\" class=\"data row152 col4\" >2</td>\n",
       "                        <td id=\"T_fe4bbf5e_2fc8_11ee_8ea0_3cfdfe75c0f0row152_col5\" class=\"data row152 col5\" >3</td>\n",
       "            </tr>\n",
       "            <tr>\n",
       "                        <th id=\"T_fe4bbf5e_2fc8_11ee_8ea0_3cfdfe75c0f0level0_row153\" class=\"row_heading level0 row153\" >153</th>\n",
       "                        <td id=\"T_fe4bbf5e_2fc8_11ee_8ea0_3cfdfe75c0f0row153_col0\" class=\"data row153 col0\" >154</td>\n",
       "                        <td id=\"T_fe4bbf5e_2fc8_11ee_8ea0_3cfdfe75c0f0row153_col1\" class=\"data row153 col1\" >154</td>\n",
       "                        <td id=\"T_fe4bbf5e_2fc8_11ee_8ea0_3cfdfe75c0f0row153_col2\" class=\"data row153 col2\" >2</td>\n",
       "                        <td id=\"T_fe4bbf5e_2fc8_11ee_8ea0_3cfdfe75c0f0row153_col3\" class=\"data row153 col3\" >0</td>\n",
       "                        <td id=\"T_fe4bbf5e_2fc8_11ee_8ea0_3cfdfe75c0f0row153_col4\" class=\"data row153 col4\" >2</td>\n",
       "                        <td id=\"T_fe4bbf5e_2fc8_11ee_8ea0_3cfdfe75c0f0row153_col5\" class=\"data row153 col5\" >3</td>\n",
       "            </tr>\n",
       "    </tbody></table>"
      ],
      "text/plain": [
       "<pandas.io.formats.style.Styler at 0x7f8e40bf2760>"
      ]
     },
     "execution_count": 129,
     "metadata": {},
     "output_type": "execute_result"
    }
   ],
   "source": [
    "DOC2.sort_values('title').style.background_gradient(cmap='viridis')"
   ]
  },
  {
   "cell_type": "code",
   "execution_count": 131,
   "metadata": {},
   "outputs": [],
   "source": [
    "PAIRS = pd.DataFrame(index=pd.MultiIndex.from_product([DOC.index.tolist(), DOC.index.tolist()])).reset_index()\n",
    "PAIRS = PAIRS[PAIRS.level_0 < PAIRS.level_1].set_index(['level_0','level_1'])\n",
    "PAIRS.index.names = ['doc_a', 'doc_b']"
   ]
  },
  {
   "cell_type": "code",
   "execution_count": 132,
   "metadata": {},
   "outputs": [],
   "source": [
    "PAIRS['euclidean'] = pdist(TFIDF, 'euclidean')"
   ]
  },
  {
   "cell_type": "code",
   "execution_count": 143,
   "metadata": {},
   "outputs": [],
   "source": [
    "def hca(sims, linkage_method='ward', color_thresh=.3, figsize=(10, 30)):\n",
    "    tree = sch.linkage(sims, method=linkage_method)\n",
    "    labels = DOC.title.values\n",
    "    plt.figure()\n",
    "    fig, axes = plt.subplots(figsize=figsize)\n",
    "    dendrogram = sch.dendrogram(tree,\n",
    "                                labels=labels,\n",
    "                                orientation=\"left\",\n",
    "                                count_sort=True,\n",
    "                                distance_sort=True,\n",
    "                                above_threshold_color='.75',\n",
    "                                color_threshold=color_thresh\n",
    "                               )\n",
    "    plt.tick_params(axis='both', which='major', labelsize=14)"
   ]
  },
  {
   "cell_type": "code",
   "execution_count": 144,
   "metadata": {},
   "outputs": [
    {
     "data": {
      "text/plain": [
       "<Figure size 432x288 with 0 Axes>"
      ]
     },
     "metadata": {},
     "output_type": "display_data"
    },
    {
     "data": {
      "image/png": "[encoded data removed]",
      "text/plain": [
       "<Figure size 720x2160 with 1 Axes>"
      ]
     },
     "metadata": {},
     "output_type": "display_data"
    }
   ],
   "source": [
    "hca(PAIRS.euclidean, color_thresh=1)"
   ]
  },
  {
   "cell_type": "markdown",
   "metadata": {},
   "source": [
    "------------------------------------------------------------------------------------------------------\n",
    "*Principal Component Analysis*\n",
    "\n",
    "------------------------------------------------------------------------------------------------------"
   ]
  },
  {
   "cell_type": "code",
   "execution_count": 85,
   "metadata": {},
   "outputs": [],
   "source": [
    "TFIDF_2 = TFIDF.apply(lambda x: x / norm(x), 1)\n",
    "TFIDF_2 = TFIDF_2 - TFIDF_2.mean()\n",
    "COV = TFIDF_2.cov()"
   ]
  },
  {
   "cell_type": "code",
   "execution_count": 86,
   "metadata": {},
   "outputs": [],
   "source": [
    "eig_vals, eig_vecs = eig(COV)\n",
    "TERM_IDX = COV.index"
   ]
  },
  {
   "cell_type": "code",
   "execution_count": 145,
   "metadata": {},
   "outputs": [],
   "source": [
    "EIG_VEC = pd.DataFrame(eig_vecs, index=TERM_IDX, columns=TERM_IDX)"
   ]
  },
  {
   "cell_type": "code",
   "execution_count": 146,
   "metadata": {},
   "outputs": [],
   "source": [
    "EIG_VAL = pd.DataFrame(eig_vals, index=TERM_IDX, columns=['eig_val'])\n",
    "EIG_VAL.index.name = 'term_id'"
   ]
  },
  {
   "cell_type": "code",
   "execution_count": 147,
   "metadata": {},
   "outputs": [],
   "source": [
    "EIG_PAIRS = EIG_VAL.join(EIG_VEC.T)"
   ]
  },
  {
   "cell_type": "code",
   "execution_count": 148,
   "metadata": {},
   "outputs": [],
   "source": [
    "EIG_PAIRS['exp_var'] = np.round((EIG_PAIRS.eig_val / EIG_PAIRS.eig_val.sum()) * 100, 2)"
   ]
  },
  {
   "cell_type": "code",
   "execution_count": 149,
   "metadata": {},
   "outputs": [
    {
     "data": {
      "text/plain": [
       "<AxesSubplot:xlabel='term_id'>"
      ]
     },
     "execution_count": 149,
     "metadata": {},
     "output_type": "execute_result"
    },
    {
     "data": {
      "image/png": "[encoded data removed]",
      "text/plain": [
       "<Figure size 432x288 with 1 Axes>"
      ]
     },
     "metadata": {},
     "output_type": "display_data"
    }
   ],
   "source": [
    "EIG_PAIRS.exp_var.sort_values(ascending=False).head().plot.bar(rot=45)"
   ]
  },
  {
   "cell_type": "code",
   "execution_count": 150,
   "metadata": {},
   "outputs": [
    {
     "data": {
      "text/plain": [
       "term_id\n",
       "3290      zealous\n",
       "3289       youths\n",
       "3288     youthful\n",
       "3287        youth\n",
       "3286    yourselfs\n",
       "Name: term_str, dtype: object"
      ]
     },
     "execution_count": 150,
     "metadata": {},
     "output_type": "execute_result"
    }
   ],
   "source": [
    "VOCAB.loc[[3290, 3289, 3288, 3287, 3286]]['term_str']"
   ]
  },
  {
   "cell_type": "code",
   "execution_count": 151,
   "metadata": {},
   "outputs": [],
   "source": [
    "TOPS = EIG_PAIRS.sort_values('exp_var', ascending=False).head(10).reset_index(drop=True)\n",
    "TOPS.index.name = 'comp_id'\n",
    "TOPS.index = [\"PC{}\".format(i) for i in TOPS.index.tolist()]"
   ]
  },
  {
   "cell_type": "code",
   "execution_count": 152,
   "metadata": {},
   "outputs": [],
   "source": [
    "LOADINGS = TOPS[TERM_IDX].T\n",
    "LOADINGS.index.name = 'term_id'\n",
    "LOADINGS['term_str'] = LOADINGS.apply(lambda x: VOCAB.loc[int(x.name)].term_str, 1)"
   ]
  },
  {
   "cell_type": "code",
   "execution_count": 153,
   "metadata": {},
   "outputs": [],
   "source": [
    "lb0_pos = LOADINGS.sort_values('PC0', ascending=True).head(10).term_str.str.cat(sep=' ')\n",
    "lb0_neg = LOADINGS.sort_values('PC0', ascending=False).head(10).term_str.str.cat(sep=' ')\n",
    "lb1_pos = LOADINGS.sort_values('PC1', ascending=True).head(10).term_str.str.cat(sep=' ')\n",
    "lb1_neg = LOADINGS.sort_values('PC1', ascending=False).head(10).term_str.str.cat(sep=' ')"
   ]
  },
  {
   "cell_type": "code",
   "execution_count": 154,
   "metadata": {},
   "outputs": [
    {
     "name": "stdout",
     "output_type": "stream",
     "text": [
      "PC0+ thy thou thee her heart she thine art dost thyself\n",
      "PC0- you your yourself should nor world yours were life shall\n",
      "PC1+ heart eyes mine eye they thy see hearts what doth\n",
      "PC1- her she mistress loss both sake red fickle will back\n"
     ]
    }
   ],
   "source": [
    "print('PC0+', lb0_pos)\n",
    "print('PC0-', lb0_neg)\n",
    "print('PC1+', lb1_pos)\n",
    "print('PC1-', lb1_neg)"
   ]
  },
  {
   "cell_type": "code",
   "execution_count": 165,
   "metadata": {},
   "outputs": [],
   "source": [
    "DCM = DTCM.dot(TOPS[TERM_IDX].T)"
   ]
  },
  {
   "cell_type": "code",
   "execution_count": 172,
   "metadata": {},
   "outputs": [],
   "source": [
    "def vis_pcs(M, a, b, prefix='PC'):\n",
    "    fig = px.scatter(M, prefix + str(a), prefix + str(b),\n",
    "                    title=\"Sonnets by PC Exposure\")\n",
    "    fig.show()"
   ]
  },
  {
   "cell_type": "code",
   "execution_count": 173,
   "metadata": {},
   "outputs": [
    {
     "data": {
      "application/vnd.plotly.v1+json": {
       "config": {
        "plotlyServerURL": "https://plot.ly"
       },
       "data": [
        {
         "hovertemplate": "PC0=%{x}<br>PC1=%{y}<extra></extra>",
         "legendgroup": "",
         "marker": {
          "color": "#636efa",
          "symbol": "circle"
         },
         "mode": "markers",
         "name": "",
         "orientation": "v",
         "showlegend": false,
         "type": "scatter",
         "x": [
          -1.35263576134322,
          -1.5549562124107807,
          -2.404214024105195,
          -2.413312425893722,
          0.47210529665595846,
          -2.0216370168206197,
          -0.5737674777684019,
          -1.3630471518892069,
          -0.9384043313572954,
          -2.3068270985244266,
          -1.796581746046706,
          -0.32897606087864634,
          8.676615212479813,
          -0.3877425075165052,
          3.205086321744922,
          6.289562941897676,
          4.324999298390871,
          -0.4178690574106382,
          -1.3263702725175581,
          -1.8077127856641362,
          -0.2764778067774064,
          -2.349394854936128,
          -0.24750618568950822,
          -0.37976858963027627,
          0.17372300449522868,
          -1.3674261204014038,
          -1.2558040491796758,
          -0.8036616190656987,
          -0.7617450282327127,
          -0.07667953440500505,
          -1.2368249538496356,
          -0.20497018730938554,
          -0.16169049016032855,
          -1.057510625381681,
          -1.6012994410081562,
          -1.474842081617653,
          -0.2196116060735531,
          -1.135979860729238,
          -1.0548582278585414,
          -2.6053159208976258,
          -2.976770555478431,
          -2.8381004876979756,
          -1.2272527350878986,
          -0.1783369231775672,
          -0.6308926785041492,
          -2.2188224595393384,
          -1.8903247771136584,
          -1.5140155682706506,
          -1.0643489785867546,
          -0.5539773060505044,
          -0.5567356970816585,
          1.8364566155199324,
          7.335871707780759,
          1.2562316173253851,
          4.182878602899351,
          -0.8296191489664607,
          7.675384097031355,
          9.050692161121903,
          1.5725161970970598,
          -0.007906276154606075,
          -2.4216013610845932,
          -1.0319795860461314,
          0.41977062910707935,
          0.04242778850221823,
          1.0890088000817746,
          -0.31228416482925025,
          0.16460202775832372,
          0.3230730783327391,
          -1.7559172088486303,
          -1.7815707067093345,
          6.018067397715099,
          5.462682626700334,
          -0.6223662768874936,
          -0.6713434756349013,
          3.1731976635905665,
          1.136424215844967,
          -3.0083373068118293,
          -1.3296744304059658,
          -1.727294485542463,
          4.063821347010439,
          5.3797140350168124,
          -1.197780056493806,
          6.232868387413653,
          6.606612435845123,
          1.889328028669992,
          1.458587801633036,
          -2.2040316794551624,
          -1.962021533829976,
          -1.6342762815529388,
          -0.8313429781632535,
          -0.23273925133874815,
          -1.4967200066506587,
          -2.188890740476584,
          -0.2591060608164023,
          -1.3484204372192765,
          -1.9814231856310465,
          -0.0036391725165723712,
          3.8142927734846674,
          -1.0160129524528208,
          -1.5323250106549662,
          -1.5298235390668737,
          0.1814133795920877,
          3.5536508938683142,
          4.216640561778222,
          -0.21950746071965296,
          2.0717743953589407,
          -0.25990630840365947,
          -0.43951187732634944,
          -1.3472921109227654,
          -0.7361921567956534,
          1.0010103928904042,
          3.293198545125371,
          1.8933755612462035,
          1.519279360151157,
          1.1848539289584095,
          -0.1314836090449429,
          3.716225653670747,
          1.1845378588285047,
          -0.3079285219836587,
          3.934239977273964,
          -0.17048946440397625,
          -0.9210573249776228,
          -1.3838018915384693,
          0.3604801653292107,
          -1.056010488197018,
          -2.4376046697039273,
          -0.34264584006275844,
          -1.255097438793318,
          0.050970685718643535,
          -1.1417750465347338,
          -2.712796714581345,
          -1.7139384046933352,
          -2.553688619295356,
          -2.2941034635041273,
          -1.9301330234638838,
          -2.272900196054922,
          -1.5319299648382665,
          -1.5847864329951016,
          -2.4263040161331735,
          -0.9166481679141689,
          -1.284774275520007,
          -3.0174345329365124,
          -2.4091124965950312,
          -0.4212795557268081,
          -0.30363171640114217,
          -1.4006930999153777,
          -0.6159685213518235,
          -0.8504016495193804,
          -2.508159453019085,
          -1.881990196354757,
          -1.6474922032898185,
          -2.1568288028944305,
          0.035511612364564786,
          -0.3503796056466672
         ],
         "xaxis": "x",
         "y": [
          -1.52399806653617,
          -2.5112487669084538,
          0.37186409762043743,
          -0.8425833464490311,
          -0.9347064173135263,
          -1.0908806239797273,
          -0.37875539033544214,
          0.03463091387476357,
          -0.39068855913298095,
          -0.9833005142009164,
          1.8572739325197434,
          -0.6456174780928414,
          -0.33763758605269056,
          -0.9224488463525007,
          -0.4186617455763359,
          -0.4550478339392853,
          -0.18923386743924658,
          -0.8905015720481113,
          0.9628406676322789,
          0.02894763130538737,
          -0.8628425258364901,
          -1.6356798291605097,
          -1.3550943325979043,
          -4.299451750730727,
          -0.9924811550648492,
          -1.5109915220252066,
          -0.8250432074120955,
          -0.8205275200368392,
          -0.708032368164983,
          -0.1700711467488819,
          -2.091336553952891,
          -0.6183981078267404,
          -0.21083156200655562,
          -0.6790967286143349,
          -0.9284806294021445,
          -0.7618626142443897,
          -2.085977159022136,
          -1.4690763649995648,
          -2.5536981895742095,
          -1.2530093099424529,
          -0.39452196664485006,
          4.448271377893045,
          -3.860887700787891,
          -0.23563453229463133,
          -0.030565906808289404,
          -5.338706085539627,
          -4.6515867330339145,
          -0.6320833191851931,
          -1.352614527989106,
          -0.5237337204655045,
          -0.30109711707345743,
          -0.04013416142024703,
          -0.6602584903658791,
          -1.1502342625482078,
          -0.8345934384605639,
          -1.5516403989507384,
          -0.30244610033373776,
          -0.36637267981169497,
          -1.5410383460080401,
          -0.4233562824816089,
          -2.024120104823188,
          -3.2032887918114725,
          -0.20675171472575818,
          0.22621685735113448,
          -0.4579321052547225,
          -0.3133830813227966,
          1.2152995799876507,
          -0.5526177612740453,
          -3.8130219897605744,
          -1.335556732292717,
          -0.917214947105277,
          -1.188132274839582,
          -0.9926505538073496,
          -1.2090339382442845,
          -0.6414285050693254,
          -0.8758677616484798,
          -1.5772359775390352,
          -1.0822786740462638,
          -1.5525334049979065,
          -0.48069781326516275,
          -1.1632571854857257,
          -1.0187361710080252,
          -0.5338924420562795,
          -0.6483123569098982,
          -0.28213207721815,
          -0.37806846452428317,
          -1.6567682526723366,
          -2.0911323276544493,
          -0.5759127737323101,
          -0.3150308510812898,
          -0.6607484565729608,
          -1.772699012927762,
          -2.3096386268918825,
          -1.267832525250983,
          -2.252320498584536,
          -1.0503314083387167,
          -0.6394863996918183,
          -0.4835729697686863,
          0.5483839339847555,
          -0.5044507543161656,
          -0.8344293825403335,
          1.6804567704101343,
          -0.21969228199927732,
          -0.294039790901942,
          -0.3509052929421386,
          -1.9638645707860343,
          -0.35051798071415496,
          -1.1218485101085192,
          -1.4988189812890678,
          -2.350586769023305,
          0.05984469582464513,
          -0.8650102112394567,
          -2.8922398728948324,
          -2.7058172152851916,
          -0.42121199586968666,
          -0.5008372012139112,
          -0.7009743557610714,
          0.1548919718868778,
          -1.4694166318014017,
          -0.4272360331047045,
          -2.0768411523224257,
          -1.288741460225248,
          -1.3594206855190731,
          -0.3024811669884252,
          -1.1147430969633143,
          3.932932745681388,
          -0.6609063548455203,
          -0.9624148636752832,
          0.4388650662424408,
          3.705316184648266,
          -1.7225954305748212,
          -2.8954106319275286,
          -2.6841003627680857,
          -0.28235366268188483,
          0.6849080805488181,
          -0.6346685900786322,
          -4.906798858505075,
          4.391496954331395,
          -1.6843528445251363,
          -1.0710717730543002,
          -2.0469384730689915,
          -2.5697009655428933,
          3.9532925310103693,
          0.8275826533494437,
          2.9138838187128178,
          -0.9146013115401335,
          -0.23458623621049815,
          -3.660921214746233,
          -2.272036688068779,
          -1.9296953262047774,
          -0.7019563911920277,
          -2.115070354130593,
          0.6657517781750031,
          1.2177766167981336
         ],
         "yaxis": "y"
        }
       ],
       "layout": {
        "autosize": true,
        "legend": {
         "tracegroupgap": 0
        },
        "template": {
         "data": {
          "bar": [
           {
            "error_x": {
             "color": "#2a3f5f"
            },
            "error_y": {
             "color": "#2a3f5f"
            },
            "marker": {
             "line": {
              "color": "#E5ECF6",
              "width": 0.5
             },
             "pattern": {
              "fillmode": "overlay",
              "size": 10,
              "solidity": 0.2
             }
            },
            "type": "bar"
           }
          ],
          "barpolar": [
           {
            "marker": {
             "line": {
              "color": "#E5ECF6",
              "width": 0.5
             },
             "pattern": {
              "fillmode": "overlay",
              "size": 10,
              "solidity": 0.2
             }
            },
            "type": "barpolar"
           }
          ],
          "carpet": [
           {
            "aaxis": {
             "endlinecolor": "#2a3f5f",
             "gridcolor": "white",
             "linecolor": "white",
             "minorgridcolor": "white",
             "startlinecolor": "#2a3f5f"
            },
            "baxis": {
             "endlinecolor": "#2a3f5f",
             "gridcolor": "white",
             "linecolor": "white",
             "minorgridcolor": "white",
             "startlinecolor": "#2a3f5f"
            },
            "type": "carpet"
           }
          ],
          "choropleth": [
           {
            "colorbar": {
             "outlinewidth": 0,
             "ticks": ""
            },
            "type": "choropleth"
           }
          ],
          "contour": [
           {
            "colorbar": {
             "outlinewidth": 0,
             "ticks": ""
            },
            "colorscale": [
             [
              0,
              "#0d0887"
             ],
             [
              0.1111111111111111,
              "#46039f"
             ],
             [
              0.2222222222222222,
              "#7201a8"
             ],
             [
              0.3333333333333333,
              "#9c179e"
             ],
             [
              0.4444444444444444,
              "#bd3786"
             ],
             [
              0.5555555555555556,
              "#d8576b"
             ],
             [
              0.6666666666666666,
              "#ed7953"
             ],
             [
              0.7777777777777778,
              "#fb9f3a"
             ],
             [
              0.8888888888888888,
              "#fdca26"
             ],
             [
              1,
              "#f0f921"
             ]
            ],
            "type": "contour"
           }
          ],
          "contourcarpet": [
           {
            "colorbar": {
             "outlinewidth": 0,
             "ticks": ""
            },
            "type": "contourcarpet"
           }
          ],
          "heatmap": [
           {
            "colorbar": {
             "outlinewidth": 0,
             "ticks": ""
            },
            "colorscale": [
             [
              0,
              "#0d0887"
             ],
             [
              0.1111111111111111,
              "#46039f"
             ],
             [
              0.2222222222222222,
              "#7201a8"
             ],
             [
              0.3333333333333333,
              "#9c179e"
             ],
             [
              0.4444444444444444,
              "#bd3786"
             ],
             [
              0.5555555555555556,
              "#d8576b"
             ],
             [
              0.6666666666666666,
              "#ed7953"
             ],
             [
              0.7777777777777778,
              "#fb9f3a"
             ],
             [
              0.8888888888888888,
              "#fdca26"
             ],
             [
              1,
              "#f0f921"
             ]
            ],
            "type": "heatmap"
           }
          ],
          "heatmapgl": [
           {
            "colorbar": {
             "outlinewidth": 0,
             "ticks": ""
            },
            "colorscale": [
             [
              0,
              "#0d0887"
             ],
             [
              0.1111111111111111,
              "#46039f"
             ],
             [
              0.2222222222222222,
              "#7201a8"
             ],
             [
              0.3333333333333333,
              "#9c179e"
             ],
             [
              0.4444444444444444,
              "#bd3786"
             ],
             [
              0.5555555555555556,
              "#d8576b"
             ],
             [
              0.6666666666666666,
              "#ed7953"
             ],
             [
              0.7777777777777778,
              "#fb9f3a"
             ],
             [
              0.8888888888888888,
              "#fdca26"
             ],
             [
              1,
              "#f0f921"
             ]
            ],
            "type": "heatmapgl"
           }
          ],
          "histogram": [
           {
            "marker": {
             "pattern": {
              "fillmode": "overlay",
              "size": 10,
              "solidity": 0.2
             }
            },
            "type": "histogram"
           }
          ],
          "histogram2d": [
           {
            "colorbar": {
             "outlinewidth": 0,
             "ticks": ""
            },
            "colorscale": [
             [
              0,
              "#0d0887"
             ],
             [
              0.1111111111111111,
              "#46039f"
             ],
             [
              0.2222222222222222,
              "#7201a8"
             ],
             [
              0.3333333333333333,
              "#9c179e"
             ],
             [
              0.4444444444444444,
              "#bd3786"
             ],
             [
              0.5555555555555556,
              "#d8576b"
             ],
             [
              0.6666666666666666,
              "#ed7953"
             ],
             [
              0.7777777777777778,
              "#fb9f3a"
             ],
             [
              0.8888888888888888,
              "#fdca26"
             ],
             [
              1,
              "#f0f921"
             ]
            ],
            "type": "histogram2d"
           }
          ],
          "histogram2dcontour": [
           {
            "colorbar": {
             "outlinewidth": 0,
             "ticks": ""
            },
            "colorscale": [
             [
              0,
              "#0d0887"
             ],
             [
              0.1111111111111111,
              "#46039f"
             ],
             [
              0.2222222222222222,
              "#7201a8"
             ],
             [
              0.3333333333333333,
              "#9c179e"
             ],
             [
              0.4444444444444444,
              "#bd3786"
             ],
             [
              0.5555555555555556,
              "#d8576b"
             ],
             [
              0.6666666666666666,
              "#ed7953"
             ],
             [
              0.7777777777777778,
              "#fb9f3a"
             ],
             [
              0.8888888888888888,
              "#fdca26"
             ],
             [
              1,
              "#f0f921"
             ]
            ],
            "type": "histogram2dcontour"
           }
          ],
          "mesh3d": [
           {
            "colorbar": {
             "outlinewidth": 0,
             "ticks": ""
            },
            "type": "mesh3d"
           }
          ],
          "parcoords": [
           {
            "line": {
             "colorbar": {
              "outlinewidth": 0,
              "ticks": ""
             }
            },
            "type": "parcoords"
           }
          ],
          "pie": [
           {
            "automargin": true,
            "type": "pie"
           }
          ],
          "scatter": [
           {
            "marker": {
             "colorbar": {
              "outlinewidth": 0,
              "ticks": ""
             }
            },
            "type": "scatter"
           }
          ],
          "scatter3d": [
           {
            "line": {
             "colorbar": {
              "outlinewidth": 0,
              "ticks": ""
             }
            },
            "marker": {
             "colorbar": {
              "outlinewidth": 0,
              "ticks": ""
             }
            },
            "type": "scatter3d"
           }
          ],
          "scattercarpet": [
           {
            "marker": {
             "colorbar": {
              "outlinewidth": 0,
              "ticks": ""
             }
            },
            "type": "scattercarpet"
           }
          ],
          "scattergeo": [
           {
            "marker": {
             "colorbar": {
              "outlinewidth": 0,
              "ticks": ""
             }
            },
            "type": "scattergeo"
           }
          ],
          "scattergl": [
           {
            "marker": {
             "colorbar": {
              "outlinewidth": 0,
              "ticks": ""
             }
            },
            "type": "scattergl"
           }
          ],
          "scattermapbox": [
           {
            "marker": {
             "colorbar": {
              "outlinewidth": 0,
              "ticks": ""
             }
            },
            "type": "scattermapbox"
           }
          ],
          "scatterpolar": [
           {
            "marker": {
             "colorbar": {
              "outlinewidth": 0,
              "ticks": ""
             }
            },
            "type": "scatterpolar"
           }
          ],
          "scatterpolargl": [
           {
            "marker": {
             "colorbar": {
              "outlinewidth": 0,
              "ticks": ""
             }
            },
            "type": "scatterpolargl"
           }
          ],
          "scatterternary": [
           {
            "marker": {
             "colorbar": {
              "outlinewidth": 0,
              "ticks": ""
             }
            },
            "type": "scatterternary"
           }
          ],
          "surface": [
           {
            "colorbar": {
             "outlinewidth": 0,
             "ticks": ""
            },
            "colorscale": [
             [
              0,
              "#0d0887"
             ],
             [
              0.1111111111111111,
              "#46039f"
             ],
             [
              0.2222222222222222,
              "#7201a8"
             ],
             [
              0.3333333333333333,
              "#9c179e"
             ],
             [
              0.4444444444444444,
              "#bd3786"
             ],
             [
              0.5555555555555556,
              "#d8576b"
             ],
             [
              0.6666666666666666,
              "#ed7953"
             ],
             [
              0.7777777777777778,
              "#fb9f3a"
             ],
             [
              0.8888888888888888,
              "#fdca26"
             ],
             [
              1,
              "#f0f921"
             ]
            ],
            "type": "surface"
           }
          ],
          "table": [
           {
            "cells": {
             "fill": {
              "color": "#EBF0F8"
             },
             "line": {
              "color": "white"
             }
            },
            "header": {
             "fill": {
              "color": "#C8D4E3"
             },
             "line": {
              "color": "white"
             }
            },
            "type": "table"
           }
          ]
         },
         "layout": {
          "annotationdefaults": {
           "arrowcolor": "#2a3f5f",
           "arrowhead": 0,
           "arrowwidth": 1
          },
          "autotypenumbers": "strict",
          "coloraxis": {
           "colorbar": {
            "outlinewidth": 0,
            "ticks": ""
           }
          },
          "colorscale": {
           "diverging": [
            [
             0,
             "#8e0152"
            ],
            [
             0.1,
             "#c51b7d"
            ],
            [
             0.2,
             "#de77ae"
            ],
            [
             0.3,
             "#f1b6da"
            ],
            [
             0.4,
             "#fde0ef"
            ],
            [
             0.5,
             "#f7f7f7"
            ],
            [
             0.6,
             "#e6f5d0"
            ],
            [
             0.7,
             "#b8e186"
            ],
            [
             0.8,
             "#7fbc41"
            ],
            [
             0.9,
             "#4d9221"
            ],
            [
             1,
             "#276419"
            ]
           ],
           "sequential": [
            [
             0,
             "#0d0887"
            ],
            [
             0.1111111111111111,
             "#46039f"
            ],
            [
             0.2222222222222222,
             "#7201a8"
            ],
            [
             0.3333333333333333,
             "#9c179e"
            ],
            [
             0.4444444444444444,
             "#bd3786"
            ],
            [
             0.5555555555555556,
             "#d8576b"
            ],
            [
             0.6666666666666666,
             "#ed7953"
            ],
            [
             0.7777777777777778,
             "#fb9f3a"
            ],
            [
             0.8888888888888888,
             "#fdca26"
            ],
            [
             1,
             "#f0f921"
            ]
           ],
           "sequentialminus": [
            [
             0,
             "#0d0887"
            ],
            [
             0.1111111111111111,
             "#46039f"
            ],
            [
             0.2222222222222222,
             "#7201a8"
            ],
            [
             0.3333333333333333,
             "#9c179e"
            ],
            [
             0.4444444444444444,
             "#bd3786"
            ],
            [
             0.5555555555555556,
             "#d8576b"
            ],
            [
             0.6666666666666666,
             "#ed7953"
            ],
            [
             0.7777777777777778,
             "#fb9f3a"
            ],
            [
             0.8888888888888888,
             "#fdca26"
            ],
            [
             1,
             "#f0f921"
            ]
           ]
          },
          "colorway": [
           "#636efa",
           "#EF553B",
           "#00cc96",
           "#ab63fa",
           "#FFA15A",
           "#19d3f3",
           "#FF6692",
           "#B6E880",
           "#FF97FF",
           "#FECB52"
          ],
          "font": {
           "color": "#2a3f5f"
          },
          "geo": {
           "bgcolor": "white",
           "lakecolor": "white",
           "landcolor": "#E5ECF6",
           "showlakes": true,
           "showland": true,
           "subunitcolor": "white"
          },
          "hoverlabel": {
           "align": "left"
          },
          "hovermode": "closest",
          "mapbox": {
           "style": "light"
          },
          "paper_bgcolor": "white",
          "plot_bgcolor": "#E5ECF6",
          "polar": {
           "angularaxis": {
            "gridcolor": "white",
            "linecolor": "white",
            "ticks": ""
           },
           "bgcolor": "#E5ECF6",
           "radialaxis": {
            "gridcolor": "white",
            "linecolor": "white",
            "ticks": ""
           }
          },
          "scene": {
           "xaxis": {
            "backgroundcolor": "#E5ECF6",
            "gridcolor": "white",
            "gridwidth": 2,
            "linecolor": "white",
            "showbackground": true,
            "ticks": "",
            "zerolinecolor": "white"
           },
           "yaxis": {
            "backgroundcolor": "#E5ECF6",
            "gridcolor": "white",
            "gridwidth": 2,
            "linecolor": "white",
            "showbackground": true,
            "ticks": "",
            "zerolinecolor": "white"
           },
           "zaxis": {
            "backgroundcolor": "#E5ECF6",
            "gridcolor": "white",
            "gridwidth": 2,
            "linecolor": "white",
            "showbackground": true,
            "ticks": "",
            "zerolinecolor": "white"
           }
          },
          "shapedefaults": {
           "line": {
            "color": "#2a3f5f"
           }
          },
          "ternary": {
           "aaxis": {
            "gridcolor": "white",
            "linecolor": "white",
            "ticks": ""
           },
           "baxis": {
            "gridcolor": "white",
            "linecolor": "white",
            "ticks": ""
           },
           "bgcolor": "#E5ECF6",
           "caxis": {
            "gridcolor": "white",
            "linecolor": "white",
            "ticks": ""
           }
          },
          "title": {
           "x": 0.05
          },
          "xaxis": {
           "automargin": true,
           "gridcolor": "white",
           "linecolor": "white",
           "ticks": "",
           "title": {
            "standoff": 15
           },
           "zerolinecolor": "white",
           "zerolinewidth": 2
          },
          "yaxis": {
           "automargin": true,
           "gridcolor": "white",
           "linecolor": "white",
           "ticks": "",
           "title": {
            "standoff": 15
           },
           "zerolinecolor": "white",
           "zerolinewidth": 2
          }
         }
        },
        "title": {
         "text": "Sonnets by PC Exposure"
        },
        "xaxis": {
         "anchor": "y",
         "autorange": true,
         "domain": [
          0,
          1
         ],
         "range": [
          -3.7360644783573527,
          9.769322106542743
         ],
         "title": {
          "text": "PC0"
         },
         "type": "linear"
        },
        "yaxis": {
         "anchor": "x",
         "autorange": true,
         "domain": [
          0,
          1
         ],
         "range": [
          -6.055586600377052,
          5.16515189273047
         ],
         "title": {
          "text": "PC1"
         },
         "type": "linear"
        }
       }
      },
      "image/png": "[encoded data removed]",
      "text/html": [
       "<div>                            <div id=\"0c9fa7d7-cb11-4084-8f94-206de53b8331\" class=\"plotly-graph-div\" style=\"height:525px; width:100%;\"></div>            <script type=\"text/javascript\">                require([\"plotly\"], function(Plotly) {                    window.PLOTLYENV=window.PLOTLYENV || {};                                    if (document.getElementById(\"0c9fa7d7-cb11-4084-8f94-206de53b8331\")) {                    Plotly.newPlot(                        \"0c9fa7d7-cb11-4084-8f94-206de53b8331\",                        [{\"hovertemplate\":\"PC0=%{x}<br>PC1=%{y}<extra></extra>\",\"legendgroup\":\"\",\"marker\":{\"color\":\"#636efa\",\"symbol\":\"circle\"},\"mode\":\"markers\",\"name\":\"\",\"orientation\":\"v\",\"showlegend\":false,\"x\":[-1.35263576134322,-1.5549562124107807,-2.404214024105195,-2.413312425893722,0.47210529665595846,-2.0216370168206197,-0.5737674777684019,-1.3630471518892069,-0.9384043313572954,-2.3068270985244266,-1.796581746046706,-0.32897606087864634,8.676615212479813,-0.3877425075165052,3.205086321744922,6.289562941897676,4.324999298390871,-0.4178690574106382,-1.3263702725175581,-1.8077127856641362,-0.2764778067774064,-2.349394854936128,-0.24750618568950822,-0.37976858963027627,0.17372300449522868,-1.3674261204014038,-1.2558040491796758,-0.8036616190656987,-0.7617450282327127,-0.07667953440500505,-1.2368249538496356,-0.20497018730938554,-0.16169049016032855,-1.057510625381681,-1.6012994410081562,-1.474842081617653,-0.2196116060735531,-1.135979860729238,-1.0548582278585414,-2.6053159208976258,-2.976770555478431,-2.8381004876979756,-1.2272527350878986,-0.1783369231775672,-0.6308926785041492,-2.2188224595393384,-1.8903247771136584,-1.5140155682706506,-1.0643489785867546,-0.5539773060505044,-0.5567356970816585,1.8364566155199324,7.335871707780759,1.2562316173253851,4.182878602899351,-0.8296191489664607,7.675384097031355,9.050692161121903,1.5725161970970598,-0.007906276154606075,-2.4216013610845932,-1.0319795860461314,0.41977062910707935,0.04242778850221823,1.0890088000817746,-0.31228416482925025,0.16460202775832372,0.3230730783327391,-1.7559172088486303,-1.7815707067093345,6.018067397715099,5.462682626700334,-0.6223662768874936,-0.6713434756349013,3.1731976635905665,1.136424215844967,-3.0083373068118293,-1.3296744304059658,-1.727294485542463,4.063821347010439,5.3797140350168124,-1.197780056493806,6.232868387413653,6.606612435845123,1.889328028669992,1.458587801633036,-2.2040316794551624,-1.962021533829976,-1.6342762815529388,-0.8313429781632535,-0.23273925133874815,-1.4967200066506587,-2.188890740476584,-0.2591060608164023,-1.3484204372192765,-1.9814231856310465,-0.0036391725165723712,3.8142927734846674,-1.0160129524528208,-1.5323250106549662,-1.5298235390668737,0.1814133795920877,3.5536508938683142,4.216640561778222,-0.21950746071965296,2.0717743953589407,-0.25990630840365947,-0.43951187732634944,-1.3472921109227654,-0.7361921567956534,1.0010103928904042,3.293198545125371,1.8933755612462035,1.519279360151157,1.1848539289584095,-0.1314836090449429,3.716225653670747,1.1845378588285047,-0.3079285219836587,3.934239977273964,-0.17048946440397625,-0.9210573249776228,-1.3838018915384693,0.3604801653292107,-1.056010488197018,-2.4376046697039273,-0.34264584006275844,-1.255097438793318,0.050970685718643535,-1.1417750465347338,-2.712796714581345,-1.7139384046933352,-2.553688619295356,-2.2941034635041273,-1.9301330234638838,-2.272900196054922,-1.5319299648382665,-1.5847864329951016,-2.4263040161331735,-0.9166481679141689,-1.284774275520007,-3.0174345329365124,-2.4091124965950312,-0.4212795557268081,-0.30363171640114217,-1.4006930999153777,-0.6159685213518235,-0.8504016495193804,-2.508159453019085,-1.881990196354757,-1.6474922032898185,-2.1568288028944305,0.035511612364564786,-0.3503796056466672],\"xaxis\":\"x\",\"y\":[-1.52399806653617,-2.5112487669084538,0.37186409762043743,-0.8425833464490311,-0.9347064173135263,-1.0908806239797273,-0.37875539033544214,0.03463091387476357,-0.39068855913298095,-0.9833005142009164,1.8572739325197434,-0.6456174780928414,-0.33763758605269056,-0.9224488463525007,-0.4186617455763359,-0.4550478339392853,-0.18923386743924658,-0.8905015720481113,0.9628406676322789,0.02894763130538737,-0.8628425258364901,-1.6356798291605097,-1.3550943325979043,-4.299451750730727,-0.9924811550648492,-1.5109915220252066,-0.8250432074120955,-0.8205275200368392,-0.708032368164983,-0.1700711467488819,-2.091336553952891,-0.6183981078267404,-0.21083156200655562,-0.6790967286143349,-0.9284806294021445,-0.7618626142443897,-2.085977159022136,-1.4690763649995648,-2.5536981895742095,-1.2530093099424529,-0.39452196664485006,4.448271377893045,-3.860887700787891,-0.23563453229463133,-0.030565906808289404,-5.338706085539627,-4.6515867330339145,-0.6320833191851931,-1.352614527989106,-0.5237337204655045,-0.30109711707345743,-0.04013416142024703,-0.6602584903658791,-1.1502342625482078,-0.8345934384605639,-1.5516403989507384,-0.30244610033373776,-0.36637267981169497,-1.5410383460080401,-0.4233562824816089,-2.024120104823188,-3.2032887918114725,-0.20675171472575818,0.22621685735113448,-0.4579321052547225,-0.3133830813227966,1.2152995799876507,-0.5526177612740453,-3.8130219897605744,-1.335556732292717,-0.917214947105277,-1.188132274839582,-0.9926505538073496,-1.2090339382442845,-0.6414285050693254,-0.8758677616484798,-1.5772359775390352,-1.0822786740462638,-1.5525334049979065,-0.48069781326516275,-1.1632571854857257,-1.0187361710080252,-0.5338924420562795,-0.6483123569098982,-0.28213207721815,-0.37806846452428317,-1.6567682526723366,-2.0911323276544493,-0.5759127737323101,-0.3150308510812898,-0.6607484565729608,-1.772699012927762,-2.3096386268918825,-1.267832525250983,-2.252320498584536,-1.0503314083387167,-0.6394863996918183,-0.4835729697686863,0.5483839339847555,-0.5044507543161656,-0.8344293825403335,1.6804567704101343,-0.21969228199927732,-0.294039790901942,-0.3509052929421386,-1.9638645707860343,-0.35051798071415496,-1.1218485101085192,-1.4988189812890678,-2.350586769023305,0.05984469582464513,-0.8650102112394567,-2.8922398728948324,-2.7058172152851916,-0.42121199586968666,-0.5008372012139112,-0.7009743557610714,0.1548919718868778,-1.4694166318014017,-0.4272360331047045,-2.0768411523224257,-1.288741460225248,-1.3594206855190731,-0.3024811669884252,-1.1147430969633143,3.932932745681388,-0.6609063548455203,-0.9624148636752832,0.4388650662424408,3.705316184648266,-1.7225954305748212,-2.8954106319275286,-2.6841003627680857,-0.28235366268188483,0.6849080805488181,-0.6346685900786322,-4.906798858505075,4.391496954331395,-1.6843528445251363,-1.0710717730543002,-2.0469384730689915,-2.5697009655428933,3.9532925310103693,0.8275826533494437,2.9138838187128178,-0.9146013115401335,-0.23458623621049815,-3.660921214746233,-2.272036688068779,-1.9296953262047774,-0.7019563911920277,-2.115070354130593,0.6657517781750031,1.2177766167981336],\"yaxis\":\"y\",\"type\":\"scatter\"}],                        {\"template\":{\"data\":{\"bar\":[{\"error_x\":{\"color\":\"#2a3f5f\"},\"error_y\":{\"color\":\"#2a3f5f\"},\"marker\":{\"line\":{\"color\":\"#E5ECF6\",\"width\":0.5},\"pattern\":{\"fillmode\":\"overlay\",\"size\":10,\"solidity\":0.2}},\"type\":\"bar\"}],\"barpolar\":[{\"marker\":{\"line\":{\"color\":\"#E5ECF6\",\"width\":0.5},\"pattern\":{\"fillmode\":\"overlay\",\"size\":10,\"solidity\":0.2}},\"type\":\"barpolar\"}],\"carpet\":[{\"aaxis\":{\"endlinecolor\":\"#2a3f5f\",\"gridcolor\":\"white\",\"linecolor\":\"white\",\"minorgridcolor\":\"white\",\"startlinecolor\":\"#2a3f5f\"},\"baxis\":{\"endlinecolor\":\"#2a3f5f\",\"gridcolor\":\"white\",\"linecolor\":\"white\",\"minorgridcolor\":\"white\",\"startlinecolor\":\"#2a3f5f\"},\"type\":\"carpet\"}],\"choropleth\":[{\"colorbar\":{\"outlinewidth\":0,\"ticks\":\"\"},\"type\":\"choropleth\"}],\"contour\":[{\"colorbar\":{\"outlinewidth\":0,\"ticks\":\"\"},\"colorscale\":[[0.0,\"#0d0887\"],[0.1111111111111111,\"#46039f\"],[0.2222222222222222,\"#7201a8\"],[0.3333333333333333,\"#9c179e\"],[0.4444444444444444,\"#bd3786\"],[0.5555555555555556,\"#d8576b\"],[0.6666666666666666,\"#ed7953\"],[0.7777777777777778,\"#fb9f3a\"],[0.8888888888888888,\"#fdca26\"],[1.0,\"#f0f921\"]],\"type\":\"contour\"}],\"contourcarpet\":[{\"colorbar\":{\"outlinewidth\":0,\"ticks\":\"\"},\"type\":\"contourcarpet\"}],\"heatmap\":[{\"colorbar\":{\"outlinewidth\":0,\"ticks\":\"\"},\"colorscale\":[[0.0,\"#0d0887\"],[0.1111111111111111,\"#46039f\"],[0.2222222222222222,\"#7201a8\"],[0.3333333333333333,\"#9c179e\"],[0.4444444444444444,\"#bd3786\"],[0.5555555555555556,\"#d8576b\"],[0.6666666666666666,\"#ed7953\"],[0.7777777777777778,\"#fb9f3a\"],[0.8888888888888888,\"#fdca26\"],[1.0,\"#f0f921\"]],\"type\":\"heatmap\"}],\"heatmapgl\":[{\"colorbar\":{\"outlinewidth\":0,\"ticks\":\"\"},\"colorscale\":[[0.0,\"#0d0887\"],[0.1111111111111111,\"#46039f\"],[0.2222222222222222,\"#7201a8\"],[0.3333333333333333,\"#9c179e\"],[0.4444444444444444,\"#bd3786\"],[0.5555555555555556,\"#d8576b\"],[0.6666666666666666,\"#ed7953\"],[0.7777777777777778,\"#fb9f3a\"],[0.8888888888888888,\"#fdca26\"],[1.0,\"#f0f921\"]],\"type\":\"heatmapgl\"}],\"histogram\":[{\"marker\":{\"pattern\":{\"fillmode\":\"overlay\",\"size\":10,\"solidity\":0.2}},\"type\":\"histogram\"}],\"histogram2d\":[{\"colorbar\":{\"outlinewidth\":0,\"ticks\":\"\"},\"colorscale\":[[0.0,\"#0d0887\"],[0.1111111111111111,\"#46039f\"],[0.2222222222222222,\"#7201a8\"],[0.3333333333333333,\"#9c179e\"],[0.4444444444444444,\"#bd3786\"],[0.5555555555555556,\"#d8576b\"],[0.6666666666666666,\"#ed7953\"],[0.7777777777777778,\"#fb9f3a\"],[0.8888888888888888,\"#fdca26\"],[1.0,\"#f0f921\"]],\"type\":\"histogram2d\"}],\"histogram2dcontour\":[{\"colorbar\":{\"outlinewidth\":0,\"ticks\":\"\"},\"colorscale\":[[0.0,\"#0d0887\"],[0.1111111111111111,\"#46039f\"],[0.2222222222222222,\"#7201a8\"],[0.3333333333333333,\"#9c179e\"],[0.4444444444444444,\"#bd3786\"],[0.5555555555555556,\"#d8576b\"],[0.6666666666666666,\"#ed7953\"],[0.7777777777777778,\"#fb9f3a\"],[0.8888888888888888,\"#fdca26\"],[1.0,\"#f0f921\"]],\"type\":\"histogram2dcontour\"}],\"mesh3d\":[{\"colorbar\":{\"outlinewidth\":0,\"ticks\":\"\"},\"type\":\"mesh3d\"}],\"parcoords\":[{\"line\":{\"colorbar\":{\"outlinewidth\":0,\"ticks\":\"\"}},\"type\":\"parcoords\"}],\"pie\":[{\"automargin\":true,\"type\":\"pie\"}],\"scatter\":[{\"marker\":{\"colorbar\":{\"outlinewidth\":0,\"ticks\":\"\"}},\"type\":\"scatter\"}],\"scatter3d\":[{\"line\":{\"colorbar\":{\"outlinewidth\":0,\"ticks\":\"\"}},\"marker\":{\"colorbar\":{\"outlinewidth\":0,\"ticks\":\"\"}},\"type\":\"scatter3d\"}],\"scattercarpet\":[{\"marker\":{\"colorbar\":{\"outlinewidth\":0,\"ticks\":\"\"}},\"type\":\"scattercarpet\"}],\"scattergeo\":[{\"marker\":{\"colorbar\":{\"outlinewidth\":0,\"ticks\":\"\"}},\"type\":\"scattergeo\"}],\"scattergl\":[{\"marker\":{\"colorbar\":{\"outlinewidth\":0,\"ticks\":\"\"}},\"type\":\"scattergl\"}],\"scattermapbox\":[{\"marker\":{\"colorbar\":{\"outlinewidth\":0,\"ticks\":\"\"}},\"type\":\"scattermapbox\"}],\"scatterpolar\":[{\"marker\":{\"colorbar\":{\"outlinewidth\":0,\"ticks\":\"\"}},\"type\":\"scatterpolar\"}],\"scatterpolargl\":[{\"marker\":{\"colorbar\":{\"outlinewidth\":0,\"ticks\":\"\"}},\"type\":\"scatterpolargl\"}],\"scatterternary\":[{\"marker\":{\"colorbar\":{\"outlinewidth\":0,\"ticks\":\"\"}},\"type\":\"scatterternary\"}],\"surface\":[{\"colorbar\":{\"outlinewidth\":0,\"ticks\":\"\"},\"colorscale\":[[0.0,\"#0d0887\"],[0.1111111111111111,\"#46039f\"],[0.2222222222222222,\"#7201a8\"],[0.3333333333333333,\"#9c179e\"],[0.4444444444444444,\"#bd3786\"],[0.5555555555555556,\"#d8576b\"],[0.6666666666666666,\"#ed7953\"],[0.7777777777777778,\"#fb9f3a\"],[0.8888888888888888,\"#fdca26\"],[1.0,\"#f0f921\"]],\"type\":\"surface\"}],\"table\":[{\"cells\":{\"fill\":{\"color\":\"#EBF0F8\"},\"line\":{\"color\":\"white\"}},\"header\":{\"fill\":{\"color\":\"#C8D4E3\"},\"line\":{\"color\":\"white\"}},\"type\":\"table\"}]},\"layout\":{\"annotationdefaults\":{\"arrowcolor\":\"#2a3f5f\",\"arrowhead\":0,\"arrowwidth\":1},\"autotypenumbers\":\"strict\",\"coloraxis\":{\"colorbar\":{\"outlinewidth\":0,\"ticks\":\"\"}},\"colorscale\":{\"diverging\":[[0,\"#8e0152\"],[0.1,\"#c51b7d\"],[0.2,\"#de77ae\"],[0.3,\"#f1b6da\"],[0.4,\"#fde0ef\"],[0.5,\"#f7f7f7\"],[0.6,\"#e6f5d0\"],[0.7,\"#b8e186\"],[0.8,\"#7fbc41\"],[0.9,\"#4d9221\"],[1,\"#276419\"]],\"sequential\":[[0.0,\"#0d0887\"],[0.1111111111111111,\"#46039f\"],[0.2222222222222222,\"#7201a8\"],[0.3333333333333333,\"#9c179e\"],[0.4444444444444444,\"#bd3786\"],[0.5555555555555556,\"#d8576b\"],[0.6666666666666666,\"#ed7953\"],[0.7777777777777778,\"#fb9f3a\"],[0.8888888888888888,\"#fdca26\"],[1.0,\"#f0f921\"]],\"sequentialminus\":[[0.0,\"#0d0887\"],[0.1111111111111111,\"#46039f\"],[0.2222222222222222,\"#7201a8\"],[0.3333333333333333,\"#9c179e\"],[0.4444444444444444,\"#bd3786\"],[0.5555555555555556,\"#d8576b\"],[0.6666666666666666,\"#ed7953\"],[0.7777777777777778,\"#fb9f3a\"],[0.8888888888888888,\"#fdca26\"],[1.0,\"#f0f921\"]]},\"colorway\":[\"#636efa\",\"#EF553B\",\"#00cc96\",\"#ab63fa\",\"#FFA15A\",\"#19d3f3\",\"#FF6692\",\"#B6E880\",\"#FF97FF\",\"#FECB52\"],\"font\":{\"color\":\"#2a3f5f\"},\"geo\":{\"bgcolor\":\"white\",\"lakecolor\":\"white\",\"landcolor\":\"#E5ECF6\",\"showlakes\":true,\"showland\":true,\"subunitcolor\":\"white\"},\"hoverlabel\":{\"align\":\"left\"},\"hovermode\":\"closest\",\"mapbox\":{\"style\":\"light\"},\"paper_bgcolor\":\"white\",\"plot_bgcolor\":\"#E5ECF6\",\"polar\":{\"angularaxis\":{\"gridcolor\":\"white\",\"linecolor\":\"white\",\"ticks\":\"\"},\"bgcolor\":\"#E5ECF6\",\"radialaxis\":{\"gridcolor\":\"white\",\"linecolor\":\"white\",\"ticks\":\"\"}},\"scene\":{\"xaxis\":{\"backgroundcolor\":\"#E5ECF6\",\"gridcolor\":\"white\",\"gridwidth\":2,\"linecolor\":\"white\",\"showbackground\":true,\"ticks\":\"\",\"zerolinecolor\":\"white\"},\"yaxis\":{\"backgroundcolor\":\"#E5ECF6\",\"gridcolor\":\"white\",\"gridwidth\":2,\"linecolor\":\"white\",\"showbackground\":true,\"ticks\":\"\",\"zerolinecolor\":\"white\"},\"zaxis\":{\"backgroundcolor\":\"#E5ECF6\",\"gridcolor\":\"white\",\"gridwidth\":2,\"linecolor\":\"white\",\"showbackground\":true,\"ticks\":\"\",\"zerolinecolor\":\"white\"}},\"shapedefaults\":{\"line\":{\"color\":\"#2a3f5f\"}},\"ternary\":{\"aaxis\":{\"gridcolor\":\"white\",\"linecolor\":\"white\",\"ticks\":\"\"},\"baxis\":{\"gridcolor\":\"white\",\"linecolor\":\"white\",\"ticks\":\"\"},\"bgcolor\":\"#E5ECF6\",\"caxis\":{\"gridcolor\":\"white\",\"linecolor\":\"white\",\"ticks\":\"\"}},\"title\":{\"x\":0.05},\"xaxis\":{\"automargin\":true,\"gridcolor\":\"white\",\"linecolor\":\"white\",\"ticks\":\"\",\"title\":{\"standoff\":15},\"zerolinecolor\":\"white\",\"zerolinewidth\":2},\"yaxis\":{\"automargin\":true,\"gridcolor\":\"white\",\"linecolor\":\"white\",\"ticks\":\"\",\"title\":{\"standoff\":15},\"zerolinecolor\":\"white\",\"zerolinewidth\":2}}},\"xaxis\":{\"anchor\":\"y\",\"domain\":[0.0,1.0],\"title\":{\"text\":\"PC0\"}},\"yaxis\":{\"anchor\":\"x\",\"domain\":[0.0,1.0],\"title\":{\"text\":\"PC1\"}},\"legend\":{\"tracegroupgap\":0},\"title\":{\"text\":\"Sonnets by PC Exposure\"}},                        {\"responsive\": true}                    ).then(function(){\n",
       "                            \n",
       "var gd = document.getElementById('0c9fa7d7-cb11-4084-8f94-206de53b8331');\n",
       "var x = new MutationObserver(function (mutations, observer) {{\n",
       "        var display = window.getComputedStyle(gd).display;\n",
       "        if (!display || display === 'none') {{\n",
       "            console.log([gd, 'removed!']);\n",
       "            Plotly.purge(gd);\n",
       "            observer.disconnect();\n",
       "        }}\n",
       "}});\n",
       "\n",
       "// Listen for the removal of the full notebook cells\n",
       "var notebookContainer = gd.closest('#notebook-container');\n",
       "if (notebookContainer) {{\n",
       "    x.observe(notebookContainer, {childList: true});\n",
       "}}\n",
       "\n",
       "// Listen for the clearing of the current output cell\n",
       "var outputEl = gd.closest('.output');\n",
       "if (outputEl) {{\n",
       "    x.observe(outputEl, {childList: true});\n",
       "}}\n",
       "\n",
       "                        })                };                });            </script>        </div>"
      ]
     },
     "metadata": {},
     "output_type": "display_data"
    }
   ],
   "source": [
    "vis_pcs(DCM, 0, 1)"
   ]
  },
  {
   "cell_type": "markdown",
   "metadata": {},
   "source": [
    "------------------------------------------------------------------------------------------------------\n",
    "*Latent Dirichlet Allocation*\n",
    "\n",
    "------------------------------------------------------------------------------------------------------"
   ]
  },
  {
   "cell_type": "code",
   "execution_count": 79,
   "metadata": {},
   "outputs": [],
   "source": [
    "def init_model():\n",
    "    \n",
    "    global n_topics, n_docs, n_words, TOKEN, BOW, TOPIC, THETA, PHI, topic_names\n",
    "\n",
    "    TOPIC = pd.DataFrame(index=range(n_topics))\n",
    "    TOPIC.index.name = 'topic_id'\n",
    "    topic_names = TOPIC.index.tolist()\n",
    "    \n",
    "    BOW['topic_id'] = TOPIC.sample(BOW.shape[0], replace=True).index\n",
    "    \n",
    "    THETA = BOW.groupby(['topic_id', 'poem_num']).n.sum()\\\n",
    "        .unstack().fillna(0).astype('int')\n",
    "\n",
    "    PHI = BOW.groupby(['term_id', 'topic_id']).n.sum()\\\n",
    "        .unstack().fillna(0).astype('int')        \n",
    "\n",
    "    n_docs = THETA.shape[1]\n",
    "    n_words = PHI.shape[0]"
   ]
  },
  {
   "cell_type": "code",
   "execution_count": 80,
   "metadata": {},
   "outputs": [],
   "source": [
    "def gibbs_sample(d, w):\n",
    "    \n",
    "    global n_topics, n_docs, n_words, BOW, PHI, THETA, alpha, beta, topic_names\n",
    "    \n",
    "    z1 = BOW.at[(d, w), 'topic_id']\n",
    "    n = BOW.at[(d, w), 'n']\n",
    "    \n",
    "    PHI.at[w, z1] -= n\n",
    "    THETA.at[z1, d] -= n\n",
    "\n",
    "    weights = np.zeros(n_topics)\n",
    "    for t in topic_names:\n",
    "        \n",
    "        P = (PHI.at[w, t] + alpha) / (PHI[t].sum() + n_words * alpha)\n",
    "        T = (THETA.at[t, d] + beta) / (THETA[d].sum() + n_topics * beta)\n",
    "        weights[t] = P * T\n",
    "            \n",
    "    pwgt = weights / weights.sum()\n",
    "    z2 = np.random.choice(topic_names, p=pwgt)\n",
    "     \n",
    "    PHI.at[w, z2] += n\n",
    "    THETA.at[z2, d] += n\n",
    "        \n",
    "    BOW.at[(d , w), 'topic_id'] = z2"
   ]
  },
  {
   "cell_type": "code",
   "execution_count": 88,
   "metadata": {},
   "outputs": [],
   "source": [
    "def show_results():\n",
    "    \n",
    "    global VOCAB, TOPIC, THETA, PHI, topic_names, docs\n",
    "        \n",
    "    P = PHI[topic_names] / PHI[topic_names].sum()\n",
    "    \n",
    "    P['term_str'] = VOCAB.term_str \n",
    "    for t in topic_names:\n",
    "        top_terms = P.sort_values(t, ascending=False).head(10)[[t, 'term_str']]\n",
    "        print('-' * 80)\n",
    "        print(top_terms)\n",
    "    \n",
    "    print('-' * 80)"
   ]
  },
  {
   "cell_type": "code",
   "execution_count": 91,
   "metadata": {},
   "outputs": [],
   "source": [
    "n_topics = 3\n",
    "n_iters = 1000\n",
    "alpha = 0.01\n",
    "beta = 0.1"
   ]
  },
  {
   "cell_type": "code",
   "execution_count": 92,
   "metadata": {},
   "outputs": [
    {
     "name": "stderr",
     "output_type": "stream",
     "text": [
      "100%|██████████| 1000/1000 [1:49:36<00:00,  6.58s/it]\n"
     ]
    }
   ],
   "source": [
    "init_model()\n",
    "for i in tqdm(range(n_iters)):\n",
    "    BOW.apply(lambda x: gibbs_sample(x.name[0], x.name[1]), 1) "
   ]
  },
  {
   "cell_type": "code",
   "execution_count": 93,
   "metadata": {},
   "outputs": [
    {
     "name": "stdout",
     "output_type": "stream",
     "text": [
      "--------------------------------------------------------------------------------\n",
      "topic_id         0 term_str\n",
      "term_id                    \n",
      "2873      0.089030      thy\n",
      "2852      0.078359     thou\n",
      "255       0.074692      and\n",
      "2821      0.054018     thee\n",
      "1529      0.046349       in\n",
      "2580      0.024675       so\n",
      "291       0.017006      art\n",
      "231       0.016339      all\n",
      "154       0.015005        a\n",
      "2840      0.014672    thine\n",
      "--------------------------------------------------------------------------------\n",
      "topic_id         1 term_str\n",
      "term_id                    \n",
      "255       0.058642      and\n",
      "1529      0.040344       in\n",
      "154       0.026235        a\n",
      "3280      0.024691      you\n",
      "1457      0.021825      his\n",
      "3283      0.019621     your\n",
      "1986      0.017416       or\n",
      "231       0.015653      all\n",
      "2580      0.015653       so\n",
      "2823      0.013889    their\n",
      "--------------------------------------------------------------------------------\n",
      "topic_id         2 term_str\n",
      "term_id                    \n",
      "2820      0.041992      the\n",
      "2889      0.040234       to\n",
      "1889      0.038281       my\n",
      "1963      0.036133       of\n",
      "1499      0.033594        i\n",
      "2818      0.031445     that\n",
      "3202      0.017676     with\n",
      "1192      0.016699      for\n",
      "1573      0.016406       is\n",
      "1741      0.016309     love\n",
      "--------------------------------------------------------------------------------\n"
     ]
    }
   ],
   "source": [
    "show_results()"
   ]
  },
  {
   "cell_type": "markdown",
   "metadata": {},
   "source": [
    "------------------------------------------------------------------------------------------------------\n",
    "*Sentiment Analysis*\n",
    "\n",
    "------------------------------------------------------------------------------------------------------"
   ]
  },
  {
   "cell_type": "code",
   "execution_count": 54,
   "metadata": {},
   "outputs": [],
   "source": [
    "salex = pd.read_csv('salex_nrc.csv').set_index('term_str')\n",
    "salex.columns = [col.replace('nrc_','') for col in salex.columns]\n",
    "salex['polarity'] = salex.positive - salex.negative"
   ]
  },
  {
   "cell_type": "code",
   "execution_count": 55,
   "metadata": {},
   "outputs": [],
   "source": [
    "emo_cols = \"anger anticipation disgust fear joy sadness surprise trust polarity\".split()"
   ]
  },
  {
   "cell_type": "code",
   "execution_count": 56,
   "metadata": {},
   "outputs": [],
   "source": [
    "TOKENS2 = TOKEN.join(salex, on='term_str', how='left')\n",
    "TOKENS2[emo_cols] = TOKENS2[emo_cols].fillna(0)"
   ]
  },
  {
   "cell_type": "code",
   "execution_count": 57,
   "metadata": {},
   "outputs": [
    {
     "data": {
      "text/html": [
       "<div>\n",
       "<style scoped>\n",
       "    .dataframe tbody tr th:only-of-type {\n",
       "        vertical-align: middle;\n",
       "    }\n",
       "\n",
       "    .dataframe tbody tr th {\n",
       "        vertical-align: top;\n",
       "    }\n",
       "\n",
       "    .dataframe thead th {\n",
       "        text-align: right;\n",
       "    }\n",
       "</style>\n",
       "<table border=\"1\" class=\"dataframe\">\n",
       "  <thead>\n",
       "    <tr style=\"text-align: right;\">\n",
       "      <th></th>\n",
       "      <th></th>\n",
       "      <th></th>\n",
       "      <th>anger</th>\n",
       "      <th>anticipation</th>\n",
       "      <th>disgust</th>\n",
       "      <th>fear</th>\n",
       "      <th>joy</th>\n",
       "      <th>negative</th>\n",
       "      <th>positive</th>\n",
       "      <th>sadness</th>\n",
       "      <th>surprise</th>\n",
       "      <th>trust</th>\n",
       "      <th>polarity</th>\n",
       "    </tr>\n",
       "    <tr>\n",
       "      <th>poem_num</th>\n",
       "      <th>line_num</th>\n",
       "      <th>token_num</th>\n",
       "      <th></th>\n",
       "      <th></th>\n",
       "      <th></th>\n",
       "      <th></th>\n",
       "      <th></th>\n",
       "      <th></th>\n",
       "      <th></th>\n",
       "      <th></th>\n",
       "      <th></th>\n",
       "      <th></th>\n",
       "      <th></th>\n",
       "    </tr>\n",
       "  </thead>\n",
       "  <tbody>\n",
       "    <tr>\n",
       "      <th>18</th>\n",
       "      <th>398</th>\n",
       "      <th>1963</th>\n",
       "      <td>0.0</td>\n",
       "      <td>0.0</td>\n",
       "      <td>0.0</td>\n",
       "      <td>0.0</td>\n",
       "      <td>0.0</td>\n",
       "      <td>NaN</td>\n",
       "      <td>NaN</td>\n",
       "      <td>0.0</td>\n",
       "      <td>0.0</td>\n",
       "      <td>0.0</td>\n",
       "      <td>0.0</td>\n",
       "    </tr>\n",
       "    <tr>\n",
       "      <th>57</th>\n",
       "      <th>1107</th>\n",
       "      <th>6572</th>\n",
       "      <td>0.0</td>\n",
       "      <td>0.0</td>\n",
       "      <td>0.0</td>\n",
       "      <td>0.0</td>\n",
       "      <td>0.0</td>\n",
       "      <td>NaN</td>\n",
       "      <td>NaN</td>\n",
       "      <td>0.0</td>\n",
       "      <td>0.0</td>\n",
       "      <td>0.0</td>\n",
       "      <td>0.0</td>\n",
       "    </tr>\n",
       "    <tr>\n",
       "      <th>1</th>\n",
       "      <th>86</th>\n",
       "      <th>5</th>\n",
       "      <td>0.0</td>\n",
       "      <td>0.0</td>\n",
       "      <td>0.0</td>\n",
       "      <td>0.0</td>\n",
       "      <td>0.0</td>\n",
       "      <td>NaN</td>\n",
       "      <td>NaN</td>\n",
       "      <td>0.0</td>\n",
       "      <td>0.0</td>\n",
       "      <td>0.0</td>\n",
       "      <td>0.0</td>\n",
       "    </tr>\n",
       "    <tr>\n",
       "      <th>108</th>\n",
       "      <th>2015</th>\n",
       "      <th>12345</th>\n",
       "      <td>0.0</td>\n",
       "      <td>0.0</td>\n",
       "      <td>0.0</td>\n",
       "      <td>0.0</td>\n",
       "      <td>0.0</td>\n",
       "      <td>NaN</td>\n",
       "      <td>NaN</td>\n",
       "      <td>0.0</td>\n",
       "      <td>0.0</td>\n",
       "      <td>0.0</td>\n",
       "      <td>0.0</td>\n",
       "    </tr>\n",
       "    <tr>\n",
       "      <th>12</th>\n",
       "      <th>292</th>\n",
       "      <th>1296</th>\n",
       "      <td>0.0</td>\n",
       "      <td>0.0</td>\n",
       "      <td>0.0</td>\n",
       "      <td>0.0</td>\n",
       "      <td>0.0</td>\n",
       "      <td>NaN</td>\n",
       "      <td>NaN</td>\n",
       "      <td>0.0</td>\n",
       "      <td>0.0</td>\n",
       "      <td>0.0</td>\n",
       "      <td>0.0</td>\n",
       "    </tr>\n",
       "    <tr>\n",
       "      <th>1</th>\n",
       "      <th>89</th>\n",
       "      <th>26</th>\n",
       "      <td>1.0</td>\n",
       "      <td>0.0</td>\n",
       "      <td>0.0</td>\n",
       "      <td>1.0</td>\n",
       "      <td>0.0</td>\n",
       "      <td>0.0</td>\n",
       "      <td>0.0</td>\n",
       "      <td>0.0</td>\n",
       "      <td>0.0</td>\n",
       "      <td>0.0</td>\n",
       "      <td>0.0</td>\n",
       "    </tr>\n",
       "    <tr>\n",
       "      <th>56</th>\n",
       "      <th>1081</th>\n",
       "      <th>6386</th>\n",
       "      <td>0.0</td>\n",
       "      <td>0.0</td>\n",
       "      <td>0.0</td>\n",
       "      <td>0.0</td>\n",
       "      <td>0.0</td>\n",
       "      <td>NaN</td>\n",
       "      <td>NaN</td>\n",
       "      <td>0.0</td>\n",
       "      <td>0.0</td>\n",
       "      <td>0.0</td>\n",
       "      <td>0.0</td>\n",
       "    </tr>\n",
       "    <tr>\n",
       "      <th>132</th>\n",
       "      <th>2448</th>\n",
       "      <th>15099</th>\n",
       "      <td>0.0</td>\n",
       "      <td>0.0</td>\n",
       "      <td>0.0</td>\n",
       "      <td>0.0</td>\n",
       "      <td>0.0</td>\n",
       "      <td>NaN</td>\n",
       "      <td>NaN</td>\n",
       "      <td>0.0</td>\n",
       "      <td>0.0</td>\n",
       "      <td>0.0</td>\n",
       "      <td>0.0</td>\n",
       "    </tr>\n",
       "    <tr>\n",
       "      <th>14</th>\n",
       "      <th>333</th>\n",
       "      <th>1564</th>\n",
       "      <td>0.0</td>\n",
       "      <td>0.0</td>\n",
       "      <td>0.0</td>\n",
       "      <td>0.0</td>\n",
       "      <td>0.0</td>\n",
       "      <td>NaN</td>\n",
       "      <td>NaN</td>\n",
       "      <td>0.0</td>\n",
       "      <td>0.0</td>\n",
       "      <td>0.0</td>\n",
       "      <td>0.0</td>\n",
       "    </tr>\n",
       "    <tr>\n",
       "      <th>61</th>\n",
       "      <th>1164</th>\n",
       "      <th>6911</th>\n",
       "      <td>0.0</td>\n",
       "      <td>0.0</td>\n",
       "      <td>0.0</td>\n",
       "      <td>0.0</td>\n",
       "      <td>0.0</td>\n",
       "      <td>NaN</td>\n",
       "      <td>NaN</td>\n",
       "      <td>0.0</td>\n",
       "      <td>0.0</td>\n",
       "      <td>0.0</td>\n",
       "      <td>0.0</td>\n",
       "    </tr>\n",
       "  </tbody>\n",
       "</table>\n",
       "</div>"
      ],
      "text/plain": [
       "                             anger  anticipation  disgust  fear  joy  \\\n",
       "poem_num line_num token_num                                            \n",
       "18       398      1963         0.0           0.0      0.0   0.0  0.0   \n",
       "57       1107     6572         0.0           0.0      0.0   0.0  0.0   \n",
       "1        86       5            0.0           0.0      0.0   0.0  0.0   \n",
       "108      2015     12345        0.0           0.0      0.0   0.0  0.0   \n",
       "12       292      1296         0.0           0.0      0.0   0.0  0.0   \n",
       "1        89       26           1.0           0.0      0.0   1.0  0.0   \n",
       "56       1081     6386         0.0           0.0      0.0   0.0  0.0   \n",
       "132      2448     15099        0.0           0.0      0.0   0.0  0.0   \n",
       "14       333      1564         0.0           0.0      0.0   0.0  0.0   \n",
       "61       1164     6911         0.0           0.0      0.0   0.0  0.0   \n",
       "\n",
       "                             negative  positive  sadness  surprise  trust  \\\n",
       "poem_num line_num token_num                                                 \n",
       "18       398      1963            NaN       NaN      0.0       0.0    0.0   \n",
       "57       1107     6572            NaN       NaN      0.0       0.0    0.0   \n",
       "1        86       5               NaN       NaN      0.0       0.0    0.0   \n",
       "108      2015     12345           NaN       NaN      0.0       0.0    0.0   \n",
       "12       292      1296            NaN       NaN      0.0       0.0    0.0   \n",
       "1        89       26              0.0       0.0      0.0       0.0    0.0   \n",
       "56       1081     6386            NaN       NaN      0.0       0.0    0.0   \n",
       "132      2448     15099           NaN       NaN      0.0       0.0    0.0   \n",
       "14       333      1564            NaN       NaN      0.0       0.0    0.0   \n",
       "61       1164     6911            NaN       NaN      0.0       0.0    0.0   \n",
       "\n",
       "                             polarity  \n",
       "poem_num line_num token_num            \n",
       "18       398      1963            0.0  \n",
       "57       1107     6572            0.0  \n",
       "1        86       5               0.0  \n",
       "108      2015     12345           0.0  \n",
       "12       292      1296            0.0  \n",
       "1        89       26              0.0  \n",
       "56       1081     6386            0.0  \n",
       "132      2448     15099           0.0  \n",
       "14       333      1564            0.0  \n",
       "61       1164     6911            0.0  "
      ]
     },
     "execution_count": 57,
     "metadata": {},
     "output_type": "execute_result"
    }
   ],
   "source": [
    "TOKENS2[salex.columns].sample(10)"
   ]
  },
  {
   "cell_type": "code",
   "execution_count": 73,
   "metadata": {},
   "outputs": [
    {
     "data": {
      "text/plain": [
       "Text(0.5, 1.0, 'Sonnets 1-77')"
      ]
     },
     "execution_count": 73,
     "metadata": {},
     "output_type": "execute_result"
    },
    {
     "data": {
      "image/png": "[encoded data removed]",
      "text/plain": [
       "<Figure size 432x288 with 1 Axes>"
      ]
     },
     "metadata": {},
     "output_type": "display_data"
    }
   ],
   "source": [
    "GROUP1 = TOKENS2.loc[1:77].copy()\n",
    "GROUP1[emo_cols].mean().sort_values().plot.barh().set_title('Sonnets 1-77')"
   ]
  },
  {
   "cell_type": "code",
   "execution_count": 74,
   "metadata": {},
   "outputs": [
    {
     "data": {
      "text/plain": [
       "Text(0.5, 1.0, 'Sonnets 87-126')"
      ]
     },
     "execution_count": 74,
     "metadata": {},
     "output_type": "execute_result"
    },
    {
     "data": {
      "image/png": "[encoded data removed]",
      "text/plain": [
       "<Figure size 432x288 with 1 Axes>"
      ]
     },
     "metadata": {},
     "output_type": "display_data"
    }
   ],
   "source": [
    "GROUP1_b = TOKENS2.loc[87:126].copy()\n",
    "GROUP1_b[emo_cols].mean().sort_values().plot.barh().set_title('Sonnets 87-126')"
   ]
  },
  {
   "cell_type": "code",
   "execution_count": 64,
   "metadata": {},
   "outputs": [
    {
     "data": {
      "text/plain": [
       "Text(0.5, 1.0, 'Sonnets 78-86')"
      ]
     },
     "execution_count": 64,
     "metadata": {},
     "output_type": "execute_result"
    },
    {
     "data": {
      "image/png": "[encoded data removed]",
      "text/plain": [
       "<Figure size 432x288 with 1 Axes>"
      ]
     },
     "metadata": {},
     "output_type": "display_data"
    }
   ],
   "source": [
    "GROUP2 = TOKENS2.loc[78:86].copy()\n",
    "GROUP2[emo_cols].mean().sort_values().plot.barh().set_title('Sonnets 78-86')"
   ]
  },
  {
   "cell_type": "code",
   "execution_count": 66,
   "metadata": {},
   "outputs": [
    {
     "data": {
      "text/plain": [
       "Text(0.5, 1.0, 'Sonnets 127-152')"
      ]
     },
     "execution_count": 66,
     "metadata": {},
     "output_type": "execute_result"
    },
    {
     "data": {
      "image/png": "[encoded data removed]",
      "text/plain": [
       "<Figure size 432x288 with 1 Axes>"
      ]
     },
     "metadata": {},
     "output_type": "display_data"
    }
   ],
   "source": [
    "GROUP3 = TOKENS2.loc[127:152].copy()\n",
    "GROUP3[emo_cols].mean().sort_values().plot.barh().set_title('Sonnets 127-152')"
   ]
  },
  {
   "cell_type": "code",
   "execution_count": 67,
   "metadata": {},
   "outputs": [
    {
     "data": {
      "text/plain": [
       "Text(0.5, 1.0, 'Sonnets 153-154')"
      ]
     },
     "execution_count": 67,
     "metadata": {},
     "output_type": "execute_result"
    },
    {
     "data": {
      "image/png": "[encoded data removed]",
      "text/plain": [
       "<Figure size 432x288 with 1 Axes>"
      ]
     },
     "metadata": {},
     "output_type": "display_data"
    }
   ],
   "source": [
    "GROUP4 = TOKENS2.loc[153:154].copy()\n",
    "GROUP4[emo_cols].mean().sort_values().plot.barh().set_title('Sonnets 153-154')"
   ]
  },
  {
   "cell_type": "markdown",
   "metadata": {},
   "source": [
    "------------------------------------------------------------------------------------------------------\n",
    "*Vector Embedding*\n",
    "\n",
    "------------------------------------------------------------------------------------------------------"
   ]
  },
  {
   "cell_type": "code",
   "execution_count": 177,
   "metadata": {},
   "outputs": [],
   "source": [
    "corpus = TOKEN[~TOKEN.pos.str.match('NNPS?')]\\\n",
    "    .groupby('poem_num')\\\n",
    "    .term_str.apply(lambda  x:  x.tolist())\\\n",
    "    .reset_index()['term_str'].tolist()"
   ]
  },
  {
   "cell_type": "code",
   "execution_count": 213,
   "metadata": {},
   "outputs": [],
   "source": [
    "emb = word2vec.Word2Vec(corpus, vector_size=2, window=5, min_count=200, workers=4)"
   ]
  },
  {
   "cell_type": "code",
   "execution_count": 208,
   "metadata": {},
   "outputs": [],
   "source": [
    "coords = pd.DataFrame(index=range(len(emb.wv.index_to_key)))\n",
    "coords['label'] = [w for w in emb.wv.index_to_key]\n",
    "coords['vector'] = coords['label'].apply(lambda x: emb.wv.get_vector(x))"
   ]
  },
  {
   "cell_type": "code",
   "execution_count": 220,
   "metadata": {},
   "outputs": [],
   "source": [
    "coords[['X','Y']] = pd.DataFrame(coords.vector.tolist())"
   ]
  },
  {
   "cell_type": "code",
   "execution_count": 227,
   "metadata": {},
   "outputs": [
    {
     "data": {
      "application/vnd.plotly.v1+json": {
       "config": {
        "plotlyServerURL": "https://plot.ly"
       },
       "data": [
        {
         "hovertemplate": "X=%{x}<br>Y=%{y}<br>label=%{text}<extra></extra>",
         "legendgroup": "",
         "marker": {
          "color": "#636efa",
          "symbol": "circle"
         },
         "mode": "text",
         "name": "",
         "orientation": "v",
         "showlegend": false,
         "text": [
          "and",
          "the",
          "to",
          "of",
          "my",
          "i",
          "in",
          "that",
          "thy",
          "thou"
         ],
         "type": "scatter",
         "x": [
          -1.565928339958191,
          -1.4447295665740967,
          -1.6307183504104614,
          -1.4180153608322144,
          -1.4551923274993896,
          -1.1907316446304321,
          -1.624164342880249,
          -1.4748952388763428,
          -1.265794277191162,
          -1.3800034523010254
         ],
         "xaxis": "x",
         "y": [
          -0.34497007727622986,
          0.13742506504058838,
          -0.5807833671569824,
          0.14581972360610962,
          -0.4383746087551117,
          -0.34949377179145813,
          0.0564303882420063,
          -0.31365281343460083,
          -0.261239618062973,
          -0.6827036142349243
         ],
         "yaxis": "y"
        }
       ],
       "layout": {
        "height": 500,
        "legend": {
         "tracegroupgap": 0
        },
        "template": {
         "data": {
          "bar": [
           {
            "error_x": {
             "color": "#2a3f5f"
            },
            "error_y": {
             "color": "#2a3f5f"
            },
            "marker": {
             "line": {
              "color": "#E5ECF6",
              "width": 0.5
             },
             "pattern": {
              "fillmode": "overlay",
              "size": 10,
              "solidity": 0.2
             }
            },
            "type": "bar"
           }
          ],
          "barpolar": [
           {
            "marker": {
             "line": {
              "color": "#E5ECF6",
              "width": 0.5
             },
             "pattern": {
              "fillmode": "overlay",
              "size": 10,
              "solidity": 0.2
             }
            },
            "type": "barpolar"
           }
          ],
          "carpet": [
           {
            "aaxis": {
             "endlinecolor": "#2a3f5f",
             "gridcolor": "white",
             "linecolor": "white",
             "minorgridcolor": "white",
             "startlinecolor": "#2a3f5f"
            },
            "baxis": {
             "endlinecolor": "#2a3f5f",
             "gridcolor": "white",
             "linecolor": "white",
             "minorgridcolor": "white",
             "startlinecolor": "#2a3f5f"
            },
            "type": "carpet"
           }
          ],
          "choropleth": [
           {
            "colorbar": {
             "outlinewidth": 0,
             "ticks": ""
            },
            "type": "choropleth"
           }
          ],
          "contour": [
           {
            "colorbar": {
             "outlinewidth": 0,
             "ticks": ""
            },
            "colorscale": [
             [
              0,
              "#0d0887"
             ],
             [
              0.1111111111111111,
              "#46039f"
             ],
             [
              0.2222222222222222,
              "#7201a8"
             ],
             [
              0.3333333333333333,
              "#9c179e"
             ],
             [
              0.4444444444444444,
              "#bd3786"
             ],
             [
              0.5555555555555556,
              "#d8576b"
             ],
             [
              0.6666666666666666,
              "#ed7953"
             ],
             [
              0.7777777777777778,
              "#fb9f3a"
             ],
             [
              0.8888888888888888,
              "#fdca26"
             ],
             [
              1,
              "#f0f921"
             ]
            ],
            "type": "contour"
           }
          ],
          "contourcarpet": [
           {
            "colorbar": {
             "outlinewidth": 0,
             "ticks": ""
            },
            "type": "contourcarpet"
           }
          ],
          "heatmap": [
           {
            "colorbar": {
             "outlinewidth": 0,
             "ticks": ""
            },
            "colorscale": [
             [
              0,
              "#0d0887"
             ],
             [
              0.1111111111111111,
              "#46039f"
             ],
             [
              0.2222222222222222,
              "#7201a8"
             ],
             [
              0.3333333333333333,
              "#9c179e"
             ],
             [
              0.4444444444444444,
              "#bd3786"
             ],
             [
              0.5555555555555556,
              "#d8576b"
             ],
             [
              0.6666666666666666,
              "#ed7953"
             ],
             [
              0.7777777777777778,
              "#fb9f3a"
             ],
             [
              0.8888888888888888,
              "#fdca26"
             ],
             [
              1,
              "#f0f921"
             ]
            ],
            "type": "heatmap"
           }
          ],
          "heatmapgl": [
           {
            "colorbar": {
             "outlinewidth": 0,
             "ticks": ""
            },
            "colorscale": [
             [
              0,
              "#0d0887"
             ],
             [
              0.1111111111111111,
              "#46039f"
             ],
             [
              0.2222222222222222,
              "#7201a8"
             ],
             [
              0.3333333333333333,
              "#9c179e"
             ],
             [
              0.4444444444444444,
              "#bd3786"
             ],
             [
              0.5555555555555556,
              "#d8576b"
             ],
             [
              0.6666666666666666,
              "#ed7953"
             ],
             [
              0.7777777777777778,
              "#fb9f3a"
             ],
             [
              0.8888888888888888,
              "#fdca26"
             ],
             [
              1,
              "#f0f921"
             ]
            ],
            "type": "heatmapgl"
           }
          ],
          "histogram": [
           {
            "marker": {
             "pattern": {
              "fillmode": "overlay",
              "size": 10,
              "solidity": 0.2
             }
            },
            "type": "histogram"
           }
          ],
          "histogram2d": [
           {
            "colorbar": {
             "outlinewidth": 0,
             "ticks": ""
            },
            "colorscale": [
             [
              0,
              "#0d0887"
             ],
             [
              0.1111111111111111,
              "#46039f"
             ],
             [
              0.2222222222222222,
              "#7201a8"
             ],
             [
              0.3333333333333333,
              "#9c179e"
             ],
             [
              0.4444444444444444,
              "#bd3786"
             ],
             [
              0.5555555555555556,
              "#d8576b"
             ],
             [
              0.6666666666666666,
              "#ed7953"
             ],
             [
              0.7777777777777778,
              "#fb9f3a"
             ],
             [
              0.8888888888888888,
              "#fdca26"
             ],
             [
              1,
              "#f0f921"
             ]
            ],
            "type": "histogram2d"
           }
          ],
          "histogram2dcontour": [
           {
            "colorbar": {
             "outlinewidth": 0,
             "ticks": ""
            },
            "colorscale": [
             [
              0,
              "#0d0887"
             ],
             [
              0.1111111111111111,
              "#46039f"
             ],
             [
              0.2222222222222222,
              "#7201a8"
             ],
             [
              0.3333333333333333,
              "#9c179e"
             ],
             [
              0.4444444444444444,
              "#bd3786"
             ],
             [
              0.5555555555555556,
              "#d8576b"
             ],
             [
              0.6666666666666666,
              "#ed7953"
             ],
             [
              0.7777777777777778,
              "#fb9f3a"
             ],
             [
              0.8888888888888888,
              "#fdca26"
             ],
             [
              1,
              "#f0f921"
             ]
            ],
            "type": "histogram2dcontour"
           }
          ],
          "mesh3d": [
           {
            "colorbar": {
             "outlinewidth": 0,
             "ticks": ""
            },
            "type": "mesh3d"
           }
          ],
          "parcoords": [
           {
            "line": {
             "colorbar": {
              "outlinewidth": 0,
              "ticks": ""
             }
            },
            "type": "parcoords"
           }
          ],
          "pie": [
           {
            "automargin": true,
            "type": "pie"
           }
          ],
          "scatter": [
           {
            "marker": {
             "colorbar": {
              "outlinewidth": 0,
              "ticks": ""
             }
            },
            "type": "scatter"
           }
          ],
          "scatter3d": [
           {
            "line": {
             "colorbar": {
              "outlinewidth": 0,
              "ticks": ""
             }
            },
            "marker": {
             "colorbar": {
              "outlinewidth": 0,
              "ticks": ""
             }
            },
            "type": "scatter3d"
           }
          ],
          "scattercarpet": [
           {
            "marker": {
             "colorbar": {
              "outlinewidth": 0,
              "ticks": ""
             }
            },
            "type": "scattercarpet"
           }
          ],
          "scattergeo": [
           {
            "marker": {
             "colorbar": {
              "outlinewidth": 0,
              "ticks": ""
             }
            },
            "type": "scattergeo"
           }
          ],
          "scattergl": [
           {
            "marker": {
             "colorbar": {
              "outlinewidth": 0,
              "ticks": ""
             }
            },
            "type": "scattergl"
           }
          ],
          "scattermapbox": [
           {
            "marker": {
             "colorbar": {
              "outlinewidth": 0,
              "ticks": ""
             }
            },
            "type": "scattermapbox"
           }
          ],
          "scatterpolar": [
           {
            "marker": {
             "colorbar": {
              "outlinewidth": 0,
              "ticks": ""
             }
            },
            "type": "scatterpolar"
           }
          ],
          "scatterpolargl": [
           {
            "marker": {
             "colorbar": {
              "outlinewidth": 0,
              "ticks": ""
             }
            },
            "type": "scatterpolargl"
           }
          ],
          "scatterternary": [
           {
            "marker": {
             "colorbar": {
              "outlinewidth": 0,
              "ticks": ""
             }
            },
            "type": "scatterternary"
           }
          ],
          "surface": [
           {
            "colorbar": {
             "outlinewidth": 0,
             "ticks": ""
            },
            "colorscale": [
             [
              0,
              "#0d0887"
             ],
             [
              0.1111111111111111,
              "#46039f"
             ],
             [
              0.2222222222222222,
              "#7201a8"
             ],
             [
              0.3333333333333333,
              "#9c179e"
             ],
             [
              0.4444444444444444,
              "#bd3786"
             ],
             [
              0.5555555555555556,
              "#d8576b"
             ],
             [
              0.6666666666666666,
              "#ed7953"
             ],
             [
              0.7777777777777778,
              "#fb9f3a"
             ],
             [
              0.8888888888888888,
              "#fdca26"
             ],
             [
              1,
              "#f0f921"
             ]
            ],
            "type": "surface"
           }
          ],
          "table": [
           {
            "cells": {
             "fill": {
              "color": "#EBF0F8"
             },
             "line": {
              "color": "white"
             }
            },
            "header": {
             "fill": {
              "color": "#C8D4E3"
             },
             "line": {
              "color": "white"
             }
            },
            "type": "table"
           }
          ]
         },
         "layout": {
          "annotationdefaults": {
           "arrowcolor": "#2a3f5f",
           "arrowhead": 0,
           "arrowwidth": 1
          },
          "autotypenumbers": "strict",
          "coloraxis": {
           "colorbar": {
            "outlinewidth": 0,
            "ticks": ""
           }
          },
          "colorscale": {
           "diverging": [
            [
             0,
             "#8e0152"
            ],
            [
             0.1,
             "#c51b7d"
            ],
            [
             0.2,
             "#de77ae"
            ],
            [
             0.3,
             "#f1b6da"
            ],
            [
             0.4,
             "#fde0ef"
            ],
            [
             0.5,
             "#f7f7f7"
            ],
            [
             0.6,
             "#e6f5d0"
            ],
            [
             0.7,
             "#b8e186"
            ],
            [
             0.8,
             "#7fbc41"
            ],
            [
             0.9,
             "#4d9221"
            ],
            [
             1,
             "#276419"
            ]
           ],
           "sequential": [
            [
             0,
             "#0d0887"
            ],
            [
             0.1111111111111111,
             "#46039f"
            ],
            [
             0.2222222222222222,
             "#7201a8"
            ],
            [
             0.3333333333333333,
             "#9c179e"
            ],
            [
             0.4444444444444444,
             "#bd3786"
            ],
            [
             0.5555555555555556,
             "#d8576b"
            ],
            [
             0.6666666666666666,
             "#ed7953"
            ],
            [
             0.7777777777777778,
             "#fb9f3a"
            ],
            [
             0.8888888888888888,
             "#fdca26"
            ],
            [
             1,
             "#f0f921"
            ]
           ],
           "sequentialminus": [
            [
             0,
             "#0d0887"
            ],
            [
             0.1111111111111111,
             "#46039f"
            ],
            [
             0.2222222222222222,
             "#7201a8"
            ],
            [
             0.3333333333333333,
             "#9c179e"
            ],
            [
             0.4444444444444444,
             "#bd3786"
            ],
            [
             0.5555555555555556,
             "#d8576b"
            ],
            [
             0.6666666666666666,
             "#ed7953"
            ],
            [
             0.7777777777777778,
             "#fb9f3a"
            ],
            [
             0.8888888888888888,
             "#fdca26"
            ],
            [
             1,
             "#f0f921"
            ]
           ]
          },
          "colorway": [
           "#636efa",
           "#EF553B",
           "#00cc96",
           "#ab63fa",
           "#FFA15A",
           "#19d3f3",
           "#FF6692",
           "#B6E880",
           "#FF97FF",
           "#FECB52"
          ],
          "font": {
           "color": "#2a3f5f"
          },
          "geo": {
           "bgcolor": "white",
           "lakecolor": "white",
           "landcolor": "#E5ECF6",
           "showlakes": true,
           "showland": true,
           "subunitcolor": "white"
          },
          "hoverlabel": {
           "align": "left"
          },
          "hovermode": "closest",
          "mapbox": {
           "style": "light"
          },
          "paper_bgcolor": "white",
          "plot_bgcolor": "#E5ECF6",
          "polar": {
           "angularaxis": {
            "gridcolor": "white",
            "linecolor": "white",
            "ticks": ""
           },
           "bgcolor": "#E5ECF6",
           "radialaxis": {
            "gridcolor": "white",
            "linecolor": "white",
            "ticks": ""
           }
          },
          "scene": {
           "xaxis": {
            "backgroundcolor": "#E5ECF6",
            "gridcolor": "white",
            "gridwidth": 2,
            "linecolor": "white",
            "showbackground": true,
            "ticks": "",
            "zerolinecolor": "white"
           },
           "yaxis": {
            "backgroundcolor": "#E5ECF6",
            "gridcolor": "white",
            "gridwidth": 2,
            "linecolor": "white",
            "showbackground": true,
            "ticks": "",
            "zerolinecolor": "white"
           },
           "zaxis": {
            "backgroundcolor": "#E5ECF6",
            "gridcolor": "white",
            "gridwidth": 2,
            "linecolor": "white",
            "showbackground": true,
            "ticks": "",
            "zerolinecolor": "white"
           }
          },
          "shapedefaults": {
           "line": {
            "color": "#2a3f5f"
           }
          },
          "ternary": {
           "aaxis": {
            "gridcolor": "white",
            "linecolor": "white",
            "ticks": ""
           },
           "baxis": {
            "gridcolor": "white",
            "linecolor": "white",
            "ticks": ""
           },
           "bgcolor": "#E5ECF6",
           "caxis": {
            "gridcolor": "white",
            "linecolor": "white",
            "ticks": ""
           }
          },
          "title": {
           "x": 0.05
          },
          "xaxis": {
           "automargin": true,
           "gridcolor": "white",
           "linecolor": "white",
           "ticks": "",
           "title": {
            "standoff": 15
           },
           "zerolinecolor": "white",
           "zerolinewidth": 2
          },
          "yaxis": {
           "automargin": true,
           "gridcolor": "white",
           "linecolor": "white",
           "ticks": "",
           "title": {
            "standoff": 15
           },
           "zerolinecolor": "white",
           "zerolinewidth": 2
          }
         }
        },
        "title": {
         "text": "Embeddings of Top 10 Words"
        },
        "width": 500,
        "xaxis": {
         "anchor": "y",
         "autorange": true,
         "domain": [
          0,
          1
         ],
         "range": [
          -1.6551620562871296,
          -1.166287938753764
         ],
         "title": {
          "text": "X"
         },
         "type": "linear"
        },
        "yaxis": {
         "anchor": "x",
         "autorange": true,
         "domain": [
          0,
          1
         ],
         "range": [
          -0.7287326885594262,
          0.1918487979306115
         ],
         "title": {
          "text": "Y"
         },
         "type": "linear"
        }
       }
      },
      "image/png": "[encoded data removed]",
      "text/html": [
       "<div>                            <div id=\"c1427c0e-65c8-48c8-be46-39bda7f3bb3e\" class=\"plotly-graph-div\" style=\"height:500px; width:500px;\"></div>            <script type=\"text/javascript\">                require([\"plotly\"], function(Plotly) {                    window.PLOTLYENV=window.PLOTLYENV || {};                                    if (document.getElementById(\"c1427c0e-65c8-48c8-be46-39bda7f3bb3e\")) {                    Plotly.newPlot(                        \"c1427c0e-65c8-48c8-be46-39bda7f3bb3e\",                        [{\"hovertemplate\":\"X=%{x}<br>Y=%{y}<br>label=%{text}<extra></extra>\",\"legendgroup\":\"\",\"marker\":{\"color\":\"#636efa\",\"symbol\":\"circle\"},\"mode\":\"text\",\"name\":\"\",\"orientation\":\"v\",\"showlegend\":false,\"text\":[\"and\",\"the\",\"to\",\"of\",\"my\",\"i\",\"in\",\"that\",\"thy\",\"thou\"],\"x\":[-1.565928339958191,-1.4447295665740967,-1.6307183504104614,-1.4180153608322144,-1.4551923274993896,-1.1907316446304321,-1.624164342880249,-1.4748952388763428,-1.265794277191162,-1.3800034523010254],\"xaxis\":\"x\",\"y\":[-0.34497007727622986,0.13742506504058838,-0.5807833671569824,0.14581972360610962,-0.4383746087551117,-0.34949377179145813,0.0564303882420063,-0.31365281343460083,-0.261239618062973,-0.6827036142349243],\"yaxis\":\"y\",\"type\":\"scatter\"}],                        {\"template\":{\"data\":{\"bar\":[{\"error_x\":{\"color\":\"#2a3f5f\"},\"error_y\":{\"color\":\"#2a3f5f\"},\"marker\":{\"line\":{\"color\":\"#E5ECF6\",\"width\":0.5},\"pattern\":{\"fillmode\":\"overlay\",\"size\":10,\"solidity\":0.2}},\"type\":\"bar\"}],\"barpolar\":[{\"marker\":{\"line\":{\"color\":\"#E5ECF6\",\"width\":0.5},\"pattern\":{\"fillmode\":\"overlay\",\"size\":10,\"solidity\":0.2}},\"type\":\"barpolar\"}],\"carpet\":[{\"aaxis\":{\"endlinecolor\":\"#2a3f5f\",\"gridcolor\":\"white\",\"linecolor\":\"white\",\"minorgridcolor\":\"white\",\"startlinecolor\":\"#2a3f5f\"},\"baxis\":{\"endlinecolor\":\"#2a3f5f\",\"gridcolor\":\"white\",\"linecolor\":\"white\",\"minorgridcolor\":\"white\",\"startlinecolor\":\"#2a3f5f\"},\"type\":\"carpet\"}],\"choropleth\":[{\"colorbar\":{\"outlinewidth\":0,\"ticks\":\"\"},\"type\":\"choropleth\"}],\"contour\":[{\"colorbar\":{\"outlinewidth\":0,\"ticks\":\"\"},\"colorscale\":[[0.0,\"#0d0887\"],[0.1111111111111111,\"#46039f\"],[0.2222222222222222,\"#7201a8\"],[0.3333333333333333,\"#9c179e\"],[0.4444444444444444,\"#bd3786\"],[0.5555555555555556,\"#d8576b\"],[0.6666666666666666,\"#ed7953\"],[0.7777777777777778,\"#fb9f3a\"],[0.8888888888888888,\"#fdca26\"],[1.0,\"#f0f921\"]],\"type\":\"contour\"}],\"contourcarpet\":[{\"colorbar\":{\"outlinewidth\":0,\"ticks\":\"\"},\"type\":\"contourcarpet\"}],\"heatmap\":[{\"colorbar\":{\"outlinewidth\":0,\"ticks\":\"\"},\"colorscale\":[[0.0,\"#0d0887\"],[0.1111111111111111,\"#46039f\"],[0.2222222222222222,\"#7201a8\"],[0.3333333333333333,\"#9c179e\"],[0.4444444444444444,\"#bd3786\"],[0.5555555555555556,\"#d8576b\"],[0.6666666666666666,\"#ed7953\"],[0.7777777777777778,\"#fb9f3a\"],[0.8888888888888888,\"#fdca26\"],[1.0,\"#f0f921\"]],\"type\":\"heatmap\"}],\"heatmapgl\":[{\"colorbar\":{\"outlinewidth\":0,\"ticks\":\"\"},\"colorscale\":[[0.0,\"#0d0887\"],[0.1111111111111111,\"#46039f\"],[0.2222222222222222,\"#7201a8\"],[0.3333333333333333,\"#9c179e\"],[0.4444444444444444,\"#bd3786\"],[0.5555555555555556,\"#d8576b\"],[0.6666666666666666,\"#ed7953\"],[0.7777777777777778,\"#fb9f3a\"],[0.8888888888888888,\"#fdca26\"],[1.0,\"#f0f921\"]],\"type\":\"heatmapgl\"}],\"histogram\":[{\"marker\":{\"pattern\":{\"fillmode\":\"overlay\",\"size\":10,\"solidity\":0.2}},\"type\":\"histogram\"}],\"histogram2d\":[{\"colorbar\":{\"outlinewidth\":0,\"ticks\":\"\"},\"colorscale\":[[0.0,\"#0d0887\"],[0.1111111111111111,\"#46039f\"],[0.2222222222222222,\"#7201a8\"],[0.3333333333333333,\"#9c179e\"],[0.4444444444444444,\"#bd3786\"],[0.5555555555555556,\"#d8576b\"],[0.6666666666666666,\"#ed7953\"],[0.7777777777777778,\"#fb9f3a\"],[0.8888888888888888,\"#fdca26\"],[1.0,\"#f0f921\"]],\"type\":\"histogram2d\"}],\"histogram2dcontour\":[{\"colorbar\":{\"outlinewidth\":0,\"ticks\":\"\"},\"colorscale\":[[0.0,\"#0d0887\"],[0.1111111111111111,\"#46039f\"],[0.2222222222222222,\"#7201a8\"],[0.3333333333333333,\"#9c179e\"],[0.4444444444444444,\"#bd3786\"],[0.5555555555555556,\"#d8576b\"],[0.6666666666666666,\"#ed7953\"],[0.7777777777777778,\"#fb9f3a\"],[0.8888888888888888,\"#fdca26\"],[1.0,\"#f0f921\"]],\"type\":\"histogram2dcontour\"}],\"mesh3d\":[{\"colorbar\":{\"outlinewidth\":0,\"ticks\":\"\"},\"type\":\"mesh3d\"}],\"parcoords\":[{\"line\":{\"colorbar\":{\"outlinewidth\":0,\"ticks\":\"\"}},\"type\":\"parcoords\"}],\"pie\":[{\"automargin\":true,\"type\":\"pie\"}],\"scatter\":[{\"marker\":{\"colorbar\":{\"outlinewidth\":0,\"ticks\":\"\"}},\"type\":\"scatter\"}],\"scatter3d\":[{\"line\":{\"colorbar\":{\"outlinewidth\":0,\"ticks\":\"\"}},\"marker\":{\"colorbar\":{\"outlinewidth\":0,\"ticks\":\"\"}},\"type\":\"scatter3d\"}],\"scattercarpet\":[{\"marker\":{\"colorbar\":{\"outlinewidth\":0,\"ticks\":\"\"}},\"type\":\"scattercarpet\"}],\"scattergeo\":[{\"marker\":{\"colorbar\":{\"outlinewidth\":0,\"ticks\":\"\"}},\"type\":\"scattergeo\"}],\"scattergl\":[{\"marker\":{\"colorbar\":{\"outlinewidth\":0,\"ticks\":\"\"}},\"type\":\"scattergl\"}],\"scattermapbox\":[{\"marker\":{\"colorbar\":{\"outlinewidth\":0,\"ticks\":\"\"}},\"type\":\"scattermapbox\"}],\"scatterpolar\":[{\"marker\":{\"colorbar\":{\"outlinewidth\":0,\"ticks\":\"\"}},\"type\":\"scatterpolar\"}],\"scatterpolargl\":[{\"marker\":{\"colorbar\":{\"outlinewidth\":0,\"ticks\":\"\"}},\"type\":\"scatterpolargl\"}],\"scatterternary\":[{\"marker\":{\"colorbar\":{\"outlinewidth\":0,\"ticks\":\"\"}},\"type\":\"scatterternary\"}],\"surface\":[{\"colorbar\":{\"outlinewidth\":0,\"ticks\":\"\"},\"colorscale\":[[0.0,\"#0d0887\"],[0.1111111111111111,\"#46039f\"],[0.2222222222222222,\"#7201a8\"],[0.3333333333333333,\"#9c179e\"],[0.4444444444444444,\"#bd3786\"],[0.5555555555555556,\"#d8576b\"],[0.6666666666666666,\"#ed7953\"],[0.7777777777777778,\"#fb9f3a\"],[0.8888888888888888,\"#fdca26\"],[1.0,\"#f0f921\"]],\"type\":\"surface\"}],\"table\":[{\"cells\":{\"fill\":{\"color\":\"#EBF0F8\"},\"line\":{\"color\":\"white\"}},\"header\":{\"fill\":{\"color\":\"#C8D4E3\"},\"line\":{\"color\":\"white\"}},\"type\":\"table\"}]},\"layout\":{\"annotationdefaults\":{\"arrowcolor\":\"#2a3f5f\",\"arrowhead\":0,\"arrowwidth\":1},\"autotypenumbers\":\"strict\",\"coloraxis\":{\"colorbar\":{\"outlinewidth\":0,\"ticks\":\"\"}},\"colorscale\":{\"diverging\":[[0,\"#8e0152\"],[0.1,\"#c51b7d\"],[0.2,\"#de77ae\"],[0.3,\"#f1b6da\"],[0.4,\"#fde0ef\"],[0.5,\"#f7f7f7\"],[0.6,\"#e6f5d0\"],[0.7,\"#b8e186\"],[0.8,\"#7fbc41\"],[0.9,\"#4d9221\"],[1,\"#276419\"]],\"sequential\":[[0.0,\"#0d0887\"],[0.1111111111111111,\"#46039f\"],[0.2222222222222222,\"#7201a8\"],[0.3333333333333333,\"#9c179e\"],[0.4444444444444444,\"#bd3786\"],[0.5555555555555556,\"#d8576b\"],[0.6666666666666666,\"#ed7953\"],[0.7777777777777778,\"#fb9f3a\"],[0.8888888888888888,\"#fdca26\"],[1.0,\"#f0f921\"]],\"sequentialminus\":[[0.0,\"#0d0887\"],[0.1111111111111111,\"#46039f\"],[0.2222222222222222,\"#7201a8\"],[0.3333333333333333,\"#9c179e\"],[0.4444444444444444,\"#bd3786\"],[0.5555555555555556,\"#d8576b\"],[0.6666666666666666,\"#ed7953\"],[0.7777777777777778,\"#fb9f3a\"],[0.8888888888888888,\"#fdca26\"],[1.0,\"#f0f921\"]]},\"colorway\":[\"#636efa\",\"#EF553B\",\"#00cc96\",\"#ab63fa\",\"#FFA15A\",\"#19d3f3\",\"#FF6692\",\"#B6E880\",\"#FF97FF\",\"#FECB52\"],\"font\":{\"color\":\"#2a3f5f\"},\"geo\":{\"bgcolor\":\"white\",\"lakecolor\":\"white\",\"landcolor\":\"#E5ECF6\",\"showlakes\":true,\"showland\":true,\"subunitcolor\":\"white\"},\"hoverlabel\":{\"align\":\"left\"},\"hovermode\":\"closest\",\"mapbox\":{\"style\":\"light\"},\"paper_bgcolor\":\"white\",\"plot_bgcolor\":\"#E5ECF6\",\"polar\":{\"angularaxis\":{\"gridcolor\":\"white\",\"linecolor\":\"white\",\"ticks\":\"\"},\"bgcolor\":\"#E5ECF6\",\"radialaxis\":{\"gridcolor\":\"white\",\"linecolor\":\"white\",\"ticks\":\"\"}},\"scene\":{\"xaxis\":{\"backgroundcolor\":\"#E5ECF6\",\"gridcolor\":\"white\",\"gridwidth\":2,\"linecolor\":\"white\",\"showbackground\":true,\"ticks\":\"\",\"zerolinecolor\":\"white\"},\"yaxis\":{\"backgroundcolor\":\"#E5ECF6\",\"gridcolor\":\"white\",\"gridwidth\":2,\"linecolor\":\"white\",\"showbackground\":true,\"ticks\":\"\",\"zerolinecolor\":\"white\"},\"zaxis\":{\"backgroundcolor\":\"#E5ECF6\",\"gridcolor\":\"white\",\"gridwidth\":2,\"linecolor\":\"white\",\"showbackground\":true,\"ticks\":\"\",\"zerolinecolor\":\"white\"}},\"shapedefaults\":{\"line\":{\"color\":\"#2a3f5f\"}},\"ternary\":{\"aaxis\":{\"gridcolor\":\"white\",\"linecolor\":\"white\",\"ticks\":\"\"},\"baxis\":{\"gridcolor\":\"white\",\"linecolor\":\"white\",\"ticks\":\"\"},\"bgcolor\":\"#E5ECF6\",\"caxis\":{\"gridcolor\":\"white\",\"linecolor\":\"white\",\"ticks\":\"\"}},\"title\":{\"x\":0.05},\"xaxis\":{\"automargin\":true,\"gridcolor\":\"white\",\"linecolor\":\"white\",\"ticks\":\"\",\"title\":{\"standoff\":15},\"zerolinecolor\":\"white\",\"zerolinewidth\":2},\"yaxis\":{\"automargin\":true,\"gridcolor\":\"white\",\"linecolor\":\"white\",\"ticks\":\"\",\"title\":{\"standoff\":15},\"zerolinecolor\":\"white\",\"zerolinewidth\":2}}},\"xaxis\":{\"anchor\":\"y\",\"domain\":[0.0,1.0],\"title\":{\"text\":\"X\"}},\"yaxis\":{\"anchor\":\"x\",\"domain\":[0.0,1.0],\"title\":{\"text\":\"Y\"}},\"legend\":{\"tracegroupgap\":0},\"title\":{\"text\":\"Embeddings of Top 10 Words\"},\"height\":500,\"width\":500},                        {\"responsive\": true}                    ).then(function(){\n",
       "                            \n",
       "var gd = document.getElementById('c1427c0e-65c8-48c8-be46-39bda7f3bb3e');\n",
       "var x = new MutationObserver(function (mutations, observer) {{\n",
       "        var display = window.getComputedStyle(gd).display;\n",
       "        if (!display || display === 'none') {{\n",
       "            console.log([gd, 'removed!']);\n",
       "            Plotly.purge(gd);\n",
       "            observer.disconnect();\n",
       "        }}\n",
       "}});\n",
       "\n",
       "// Listen for the removal of the full notebook cells\n",
       "var notebookContainer = gd.closest('#notebook-container');\n",
       "if (notebookContainer) {{\n",
       "    x.observe(notebookContainer, {childList: true});\n",
       "}}\n",
       "\n",
       "// Listen for the clearing of the current output cell\n",
       "var outputEl = gd.closest('.output');\n",
       "if (outputEl) {{\n",
       "    x.observe(outputEl, {childList: true});\n",
       "}}\n",
       "\n",
       "                        })                };                });            </script>        </div>"
      ]
     },
     "metadata": {},
     "output_type": "display_data"
    }
   ],
   "source": [
    "px.scatter(coords, 'X', 'Y', text='label', title = \"Embeddings of Top 10 Words\",\n",
    "           height=500, width=500).update_traces(mode='text')"
   ]
  }
 ],
 "metadata": {
  "kernelspec": {
   "display_name": "Python 3",
   "language": "python",
   "name": "python3"
  },
  "language_info": {
   "codemirror_mode": {
    "name": "ipython",
    "version": 3
   },
   "file_extension": ".py",
   "mimetype": "text/x-python",
   "name": "python",
   "nbconvert_exporter": "python",
   "pygments_lexer": "ipython3",
   "version": "3.8.8"
  }
 },
 "nbformat": 4,
 "nbformat_minor": 4
}
